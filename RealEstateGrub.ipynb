{
 "cells": [
  {
   "cell_type": "markdown",
   "metadata": {},
   "source": [
    "## About dataset\n",
    "\n",
    "### Long-term rent (per-month payments) appartments in Lviv\n",
    "\n",
    "Dataset was generated from web-site https://dom.ria.com/uk\n",
    "for Lviv, UA (real estate rent, timeframe - 1 month)\n"
   ]
  },
  {
   "cell_type": "markdown",
   "metadata": {},
   "source": [
    "## Content\n",
    "\n",
    "* Data mining\n",
    "* Data cleaning\n",
    "* Aggregations and Visualization\n",
    "* Uncovering insights\n",
    "* Take away"
   ]
  },
  {
   "cell_type": "markdown",
   "metadata": {},
   "source": [
    "### Data mining"
   ]
  },
  {
   "cell_type": "code",
   "execution_count": 392,
   "metadata": {},
   "outputs": [
    {
     "name": "stdout",
     "output_type": "stream",
     "text": [
      "Requirement already satisfied: folium in c:\\programdata\\anaconda3\\lib\\site-packages (0.11.0)\n",
      "Requirement already satisfied: jinja2>=2.9 in c:\\programdata\\anaconda3\\lib\\site-packages (from folium) (2.11.1)\n",
      "Requirement already satisfied: requests in c:\\programdata\\anaconda3\\lib\\site-packages (from folium) (2.22.0)\n",
      "Requirement already satisfied: numpy in c:\\programdata\\anaconda3\\lib\\site-packages (from folium) (1.18.1)\n",
      "Requirement already satisfied: branca>=0.3.0 in c:\\programdata\\anaconda3\\lib\\site-packages (from folium) (0.4.1)\n",
      "Requirement already satisfied: MarkupSafe>=0.23 in c:\\programdata\\anaconda3\\lib\\site-packages (from jinja2>=2.9->folium) (1.1.1)\n",
      "Requirement already satisfied: chardet<3.1.0,>=3.0.2 in c:\\programdata\\anaconda3\\lib\\site-packages (from requests->folium) (3.0.4)\n",
      "Requirement already satisfied: certifi>=2017.4.17 in c:\\programdata\\anaconda3\\lib\\site-packages (from requests->folium) (2019.11.28)\n",
      "Requirement already satisfied: urllib3!=1.25.0,!=1.25.1,<1.26,>=1.21.1 in c:\\programdata\\anaconda3\\lib\\site-packages (from requests->folium) (1.25.8)\n",
      "Requirement already satisfied: idna<2.9,>=2.5 in c:\\programdata\\anaconda3\\lib\\site-packages (from requests->folium) (2.8)\n"
     ]
    }
   ],
   "source": [
    "!pip install folium"
   ]
  },
  {
   "cell_type": "code",
   "execution_count": 393,
   "metadata": {},
   "outputs": [
    {
     "name": "stdout",
     "output_type": "stream",
     "text": [
      "0.11.0\n"
     ]
    }
   ],
   "source": [
    "print(folium.__version__)"
   ]
  },
  {
   "cell_type": "code",
   "execution_count": 394,
   "metadata": {},
   "outputs": [],
   "source": [
    "import json\n",
    "import numpy as np\n",
    "import pandas as pd\n",
    "import folium\n",
    "import matplotlib.pyplot as plt"
   ]
  },
  {
   "cell_type": "markdown",
   "metadata": {},
   "source": [
    "let's read dataset from the file. <br>\n",
    "to generate dataset please use this PostMan collection <br>\n",
    "https://www.getpostman.com/collections/8b0e3866ebb35327537c"
   ]
  },
  {
   "cell_type": "code",
   "execution_count": 553,
   "metadata": {},
   "outputs": [],
   "source": [
    "with open(\"dataset_new.json\",\"r\", errors='ignore') as json_file:\n",
    "    data = json.load(json_file)"
   ]
  },
  {
   "cell_type": "markdown",
   "metadata": {},
   "source": [
    "let's check if data exists in json file "
   ]
  },
  {
   "cell_type": "code",
   "execution_count": 554,
   "metadata": {},
   "outputs": [
    {
     "data": {
      "text/plain": [
       "1000"
      ]
     },
     "execution_count": 554,
     "metadata": {},
     "output_type": "execute_result"
    }
   ],
   "source": [
    "len(data[\"items\"])"
   ]
  },
  {
   "cell_type": "markdown",
   "metadata": {},
   "source": [
    "Ok, now we are going to defune csv structure and load data from json"
   ]
  },
  {
   "cell_type": "code",
   "execution_count": 555,
   "metadata": {},
   "outputs": [
    {
     "name": "stdout",
     "output_type": "stream",
     "text": [
      "done..\n"
     ]
    }
   ],
   "source": [
    "f = open(\"dump.csv\", \"w\")\n",
    "\n",
    "f.write(\n",
    "    \"rangeFactorNew\" + \",\" +\n",
    "    \"total_square_meters\" + \",\" +\n",
    "    \"rooms_count\" + \",\" +\n",
    "    \"floors_count\" + \",\" +\n",
    "    \"floor\" + \",\" +\n",
    "    \"price\" + \",\" +\n",
    "    \"price_item\" + \",\" +\n",
    "    \"district_id\" + \",\" +\n",
    "    \"is_commercial\" + \",\" +\n",
    "    \"agency_id\" + \",\" +\n",
    "    \"deleted_by\" + \",\" +\n",
    "    \"delete_reason\" + \",\" +\n",
    "    \"longitude\" + \",\" +\n",
    "    \"latitude\" + \",\" +\n",
    "    \"price_usd\" + \",\" +\n",
    "    \"price_eur\" + \",\" +\n",
    "    \"price_uah\" + \"\\n\"\n",
    ")\n",
    "\n",
    "for item in data[\"items\"]:\n",
    "\n",
    "    f.write(\n",
    "        str(item.get(\"rangeFactorNew\", \"\")) + \",\" +\n",
    "        str(item.get(\"total_square_meters\", \"\")) + \",\" +\n",
    "        str(item.get(\"rooms_count\", \"\")) + \",\" +\n",
    "        str(item.get(\"floors_count\", \"\")) + \",\" +\n",
    "        str(item.get(\"floor\", \"\")) + \",\" +\n",
    "        str(item.get(\"price\", \"\")) + \",\" +\n",
    "        str(item.get(\"price_item\", \"\")) + \",\" +\n",
    "        str(item.get(\"district_id\", \"\")) + \",\" +\n",
    "        str(item.get(\"is_commercial\", \"\")) + \",\" +\n",
    "        str(item.get(\"agency_id\", \"\")) + \",\" +\n",
    "        str(item.get(\"deleted_by\", \"\")) + \",\" +\n",
    "        str(item.get(\"delete_reason\", \"\")) + \",\" +\n",
    "        str(item.get(\"longitude\", \"\")) + \",\" +\n",
    "        str(item.get(\"latitude\", \"\")) + \",\" +\n",
    "        str(item.get(\"priceArr\", \"\").get(\"1\", \"\")) + \",\" +\n",
    "        str(item.get(\"priceArr\", \"\").get(\"2\", \"\")) + \",\" +\n",
    "        str(item.get(\"priceArr\", \"\").get(\"3\", \"\")) + \"\\n\"\n",
    "    )\n",
    "    \n",
    "f.close()\n",
    "\n",
    "print(\"done..\")"
   ]
  },
  {
   "cell_type": "markdown",
   "metadata": {},
   "source": [
    "### Data cleaning"
   ]
  },
  {
   "cell_type": "code",
   "execution_count": 556,
   "metadata": {},
   "outputs": [
    {
     "data": {
      "text/html": [
       "<div>\n",
       "<style scoped>\n",
       "    .dataframe tbody tr th:only-of-type {\n",
       "        vertical-align: middle;\n",
       "    }\n",
       "\n",
       "    .dataframe tbody tr th {\n",
       "        vertical-align: top;\n",
       "    }\n",
       "\n",
       "    .dataframe thead th {\n",
       "        text-align: right;\n",
       "    }\n",
       "</style>\n",
       "<table border=\"1\" class=\"dataframe\">\n",
       "  <thead>\n",
       "    <tr style=\"text-align: right;\">\n",
       "      <th></th>\n",
       "      <th>rangeFactorNew</th>\n",
       "      <th>total_square_meters</th>\n",
       "      <th>rooms_count</th>\n",
       "      <th>floors_count</th>\n",
       "      <th>floor</th>\n",
       "      <th>price</th>\n",
       "      <th>price_item</th>\n",
       "      <th>district_id</th>\n",
       "      <th>is_commercial</th>\n",
       "      <th>agency_id</th>\n",
       "      <th>deleted_by</th>\n",
       "      <th>delete_reason</th>\n",
       "      <th>longitude</th>\n",
       "      <th>latitude</th>\n",
       "      <th>price_usd</th>\n",
       "      <th>price_eur</th>\n",
       "      <th>price_uah</th>\n",
       "    </tr>\n",
       "  </thead>\n",
       "  <tbody>\n",
       "    <tr>\n",
       "      <th>0</th>\n",
       "      <td>11594031457</td>\n",
       "      <td>34.0</td>\n",
       "      <td>1</td>\n",
       "      <td>2</td>\n",
       "      <td>2</td>\n",
       "      <td>3900</td>\n",
       "      <td>115.0</td>\n",
       "      <td>15090</td>\n",
       "      <td>0</td>\n",
       "      <td>NaN</td>\n",
       "      <td>NaN</td>\n",
       "      <td>NaN</td>\n",
       "      <td>24.026230</td>\n",
       "      <td>49.816677</td>\n",
       "      <td>143</td>\n",
       "      <td>127</td>\n",
       "      <td>3 900</td>\n",
       "    </tr>\n",
       "    <tr>\n",
       "      <th>1</th>\n",
       "      <td>11593653704</td>\n",
       "      <td>50.0</td>\n",
       "      <td>1</td>\n",
       "      <td>10</td>\n",
       "      <td>6</td>\n",
       "      <td>450</td>\n",
       "      <td>9.0</td>\n",
       "      <td>15090</td>\n",
       "      <td>1</td>\n",
       "      <td>23844.0</td>\n",
       "      <td>NaN</td>\n",
       "      <td>NaN</td>\n",
       "      <td>24.050093</td>\n",
       "      <td>49.818576</td>\n",
       "      <td>450</td>\n",
       "      <td>400</td>\n",
       "      <td>12 262</td>\n",
       "    </tr>\n",
       "    <tr>\n",
       "      <th>2</th>\n",
       "      <td>11593653701</td>\n",
       "      <td>65.0</td>\n",
       "      <td>2</td>\n",
       "      <td>10</td>\n",
       "      <td>6</td>\n",
       "      <td>550</td>\n",
       "      <td>8.0</td>\n",
       "      <td>15090</td>\n",
       "      <td>1</td>\n",
       "      <td>23844.0</td>\n",
       "      <td>NaN</td>\n",
       "      <td>NaN</td>\n",
       "      <td>24.050093</td>\n",
       "      <td>49.818576</td>\n",
       "      <td>550</td>\n",
       "      <td>489</td>\n",
       "      <td>14 986</td>\n",
       "    </tr>\n",
       "    <tr>\n",
       "      <th>3</th>\n",
       "      <td>11593481867</td>\n",
       "      <td>50.0</td>\n",
       "      <td>1</td>\n",
       "      <td>3</td>\n",
       "      <td>2</td>\n",
       "      <td>400</td>\n",
       "      <td>8.0</td>\n",
       "      <td>15089</td>\n",
       "      <td>1</td>\n",
       "      <td>23844.0</td>\n",
       "      <td>NaN</td>\n",
       "      <td>NaN</td>\n",
       "      <td>24.056087</td>\n",
       "      <td>49.838916</td>\n",
       "      <td>400</td>\n",
       "      <td>355</td>\n",
       "      <td>10 899</td>\n",
       "    </tr>\n",
       "    <tr>\n",
       "      <th>4</th>\n",
       "      <td>2101594293941</td>\n",
       "      <td>60.0</td>\n",
       "      <td>2</td>\n",
       "      <td>4</td>\n",
       "      <td>3</td>\n",
       "      <td>8000</td>\n",
       "      <td>133.0</td>\n",
       "      <td>15088</td>\n",
       "      <td>0</td>\n",
       "      <td>NaN</td>\n",
       "      <td>cron</td>\n",
       "      <td>1.0</td>\n",
       "      <td>24.004730</td>\n",
       "      <td>49.838692</td>\n",
       "      <td>294</td>\n",
       "      <td>261</td>\n",
       "      <td>8 000</td>\n",
       "    </tr>\n",
       "  </tbody>\n",
       "</table>\n",
       "</div>"
      ],
      "text/plain": [
       "   rangeFactorNew  total_square_meters  rooms_count  floors_count  floor  \\\n",
       "0     11594031457                 34.0            1             2      2   \n",
       "1     11593653704                 50.0            1            10      6   \n",
       "2     11593653701                 65.0            2            10      6   \n",
       "3     11593481867                 50.0            1             3      2   \n",
       "4   2101594293941                 60.0            2             4      3   \n",
       "\n",
       "   price  price_item  district_id  is_commercial  agency_id deleted_by  \\\n",
       "0   3900       115.0        15090              0        NaN        NaN   \n",
       "1    450         9.0        15090              1    23844.0        NaN   \n",
       "2    550         8.0        15090              1    23844.0        NaN   \n",
       "3    400         8.0        15089              1    23844.0        NaN   \n",
       "4   8000       133.0        15088              0        NaN       cron   \n",
       "\n",
       "   delete_reason  longitude   latitude price_usd price_eur price_uah  \n",
       "0            NaN  24.026230  49.816677       143       127     3 900  \n",
       "1            NaN  24.050093  49.818576       450       400    12 262  \n",
       "2            NaN  24.050093  49.818576       550       489    14 986  \n",
       "3            NaN  24.056087  49.838916       400       355    10 899  \n",
       "4            1.0  24.004730  49.838692       294       261     8 000  "
      ]
     },
     "execution_count": 556,
     "metadata": {},
     "output_type": "execute_result"
    }
   ],
   "source": [
    "df = pd.read_csv(\"dump.csv\")\n",
    "df.head()"
   ]
  },
  {
   "cell_type": "code",
   "execution_count": 557,
   "metadata": {},
   "outputs": [
    {
     "data": {
      "text/plain": [
       "999"
      ]
     },
     "execution_count": 557,
     "metadata": {},
     "output_type": "execute_result"
    }
   ],
   "source": [
    "# df.query('rooms_count == 2').sort_values(by='total_square_meters', ascending=False).head(10)\n",
    "# df.query('total_square_meters == 3142.0')\n",
    "df = df.drop(df[df.total_square_meters == 3142.0].index)\n",
    "df['rangeFactorNew'].count()"
   ]
  },
  {
   "cell_type": "markdown",
   "metadata": {},
   "source": [
    "Some data cleaning and polishing"
   ]
  },
  {
   "cell_type": "code",
   "execution_count": 582,
   "metadata": {},
   "outputs": [
    {
     "data": {
      "text/html": [
       "<div>\n",
       "<style scoped>\n",
       "    .dataframe tbody tr th:only-of-type {\n",
       "        vertical-align: middle;\n",
       "    }\n",
       "\n",
       "    .dataframe tbody tr th {\n",
       "        vertical-align: top;\n",
       "    }\n",
       "\n",
       "    .dataframe thead th {\n",
       "        text-align: right;\n",
       "    }\n",
       "</style>\n",
       "<table border=\"1\" class=\"dataframe\">\n",
       "  <thead>\n",
       "    <tr style=\"text-align: right;\">\n",
       "      <th></th>\n",
       "      <th>rangeFactorNew</th>\n",
       "      <th>total_square_meters</th>\n",
       "      <th>rooms_count</th>\n",
       "      <th>floors_count</th>\n",
       "      <th>floor</th>\n",
       "      <th>district_id</th>\n",
       "      <th>is_commercial</th>\n",
       "      <th>agency_id</th>\n",
       "      <th>longitude</th>\n",
       "      <th>latitude</th>\n",
       "      <th>price_usd</th>\n",
       "      <th>price_eur</th>\n",
       "      <th>price_uah</th>\n",
       "      <th>deleted</th>\n",
       "    </tr>\n",
       "  </thead>\n",
       "  <tbody>\n",
       "    <tr>\n",
       "      <th>0</th>\n",
       "      <td>11594031457</td>\n",
       "      <td>34.0</td>\n",
       "      <td>1</td>\n",
       "      <td>2</td>\n",
       "      <td>2</td>\n",
       "      <td>15090</td>\n",
       "      <td>0</td>\n",
       "      <td>NaN</td>\n",
       "      <td>24.026230</td>\n",
       "      <td>49.816677</td>\n",
       "      <td>143.0</td>\n",
       "      <td>127.0</td>\n",
       "      <td>3900.0</td>\n",
       "      <td>False</td>\n",
       "    </tr>\n",
       "    <tr>\n",
       "      <th>1</th>\n",
       "      <td>11593653704</td>\n",
       "      <td>50.0</td>\n",
       "      <td>1</td>\n",
       "      <td>10</td>\n",
       "      <td>6</td>\n",
       "      <td>15090</td>\n",
       "      <td>1</td>\n",
       "      <td>23844.0</td>\n",
       "      <td>24.050093</td>\n",
       "      <td>49.818576</td>\n",
       "      <td>450.0</td>\n",
       "      <td>400.0</td>\n",
       "      <td>12262.0</td>\n",
       "      <td>False</td>\n",
       "    </tr>\n",
       "    <tr>\n",
       "      <th>2</th>\n",
       "      <td>11593653701</td>\n",
       "      <td>65.0</td>\n",
       "      <td>2</td>\n",
       "      <td>10</td>\n",
       "      <td>6</td>\n",
       "      <td>15090</td>\n",
       "      <td>1</td>\n",
       "      <td>23844.0</td>\n",
       "      <td>24.050093</td>\n",
       "      <td>49.818576</td>\n",
       "      <td>550.0</td>\n",
       "      <td>489.0</td>\n",
       "      <td>14986.0</td>\n",
       "      <td>False</td>\n",
       "    </tr>\n",
       "    <tr>\n",
       "      <th>3</th>\n",
       "      <td>11593481867</td>\n",
       "      <td>50.0</td>\n",
       "      <td>1</td>\n",
       "      <td>3</td>\n",
       "      <td>2</td>\n",
       "      <td>15089</td>\n",
       "      <td>1</td>\n",
       "      <td>23844.0</td>\n",
       "      <td>24.056087</td>\n",
       "      <td>49.838916</td>\n",
       "      <td>400.0</td>\n",
       "      <td>355.0</td>\n",
       "      <td>10899.0</td>\n",
       "      <td>False</td>\n",
       "    </tr>\n",
       "    <tr>\n",
       "      <th>4</th>\n",
       "      <td>2101594293941</td>\n",
       "      <td>60.0</td>\n",
       "      <td>2</td>\n",
       "      <td>4</td>\n",
       "      <td>3</td>\n",
       "      <td>15088</td>\n",
       "      <td>0</td>\n",
       "      <td>NaN</td>\n",
       "      <td>24.004730</td>\n",
       "      <td>49.838692</td>\n",
       "      <td>294.0</td>\n",
       "      <td>261.0</td>\n",
       "      <td>8000.0</td>\n",
       "      <td>True</td>\n",
       "    </tr>\n",
       "  </tbody>\n",
       "</table>\n",
       "</div>"
      ],
      "text/plain": [
       "   rangeFactorNew  total_square_meters  rooms_count  floors_count  floor  \\\n",
       "0     11594031457                 34.0            1             2      2   \n",
       "1     11593653704                 50.0            1            10      6   \n",
       "2     11593653701                 65.0            2            10      6   \n",
       "3     11593481867                 50.0            1             3      2   \n",
       "4   2101594293941                 60.0            2             4      3   \n",
       "\n",
       "   district_id  is_commercial  agency_id  longitude   latitude  price_usd  \\\n",
       "0        15090              0        NaN  24.026230  49.816677      143.0   \n",
       "1        15090              1    23844.0  24.050093  49.818576      450.0   \n",
       "2        15090              1    23844.0  24.050093  49.818576      550.0   \n",
       "3        15089              1    23844.0  24.056087  49.838916      400.0   \n",
       "4        15088              0        NaN  24.004730  49.838692      294.0   \n",
       "\n",
       "   price_eur  price_uah  deleted  \n",
       "0      127.0     3900.0    False  \n",
       "1      400.0    12262.0    False  \n",
       "2      489.0    14986.0    False  \n",
       "3      355.0    10899.0    False  \n",
       "4      261.0     8000.0     True  "
      ]
     },
     "execution_count": 582,
     "metadata": {},
     "output_type": "execute_result"
    }
   ],
   "source": [
    "df[\"price_usd\"] = df[\"price_usd\"].astype(str).str.replace(\" \",\"\")\n",
    "df[\"price_eur\"] = df[\"price_eur\"].astype(str).str.replace(\" \",\"\")\n",
    "df[\"price_uah\"] = df[\"price_uah\"].astype(str).str.replace(\" \",\"\")\n",
    "\n",
    "df[\"price_usd\"] = pd.to_numeric(df[\"price_usd\"], errors='ignore')\n",
    "df[\"price_eur\"] = pd.to_numeric(df[\"price_eur\"], errors='ignore')\n",
    "df[\"price_uah\"] = pd.to_numeric(df[\"price_uah\"], errors='ignore')\n",
    "\n",
    "df[\"price_usd\"] = df[\"price_usd\"].astype(float)\n",
    "df[\"price_eur\"] = df[\"price_eur\"].astype(float)\n",
    "df[\"price_uah\"] = df[\"price_uah\"].astype(float)\n",
    "\n",
    "df.head()"
   ]
  },
  {
   "cell_type": "markdown",
   "metadata": {},
   "source": [
    "do some more diligence"
   ]
  },
  {
   "cell_type": "code",
   "execution_count": 559,
   "metadata": {},
   "outputs": [
    {
     "data": {
      "text/plain": [
       "array([nan, 'cron', 'admin', 'user'], dtype=object)"
      ]
     },
     "execution_count": 559,
     "metadata": {},
     "output_type": "execute_result"
    }
   ],
   "source": [
    "df['deleted_by'].unique()"
   ]
  },
  {
   "cell_type": "code",
   "execution_count": 560,
   "metadata": {},
   "outputs": [
    {
     "data": {
      "text/html": [
       "<div>\n",
       "<style scoped>\n",
       "    .dataframe tbody tr th:only-of-type {\n",
       "        vertical-align: middle;\n",
       "    }\n",
       "\n",
       "    .dataframe tbody tr th {\n",
       "        vertical-align: top;\n",
       "    }\n",
       "\n",
       "    .dataframe thead th {\n",
       "        text-align: right;\n",
       "    }\n",
       "</style>\n",
       "<table border=\"1\" class=\"dataframe\">\n",
       "  <thead>\n",
       "    <tr style=\"text-align: right;\">\n",
       "      <th></th>\n",
       "      <th>rangeFactorNew</th>\n",
       "      <th>total_square_meters</th>\n",
       "      <th>rooms_count</th>\n",
       "      <th>floors_count</th>\n",
       "      <th>floor</th>\n",
       "      <th>price</th>\n",
       "      <th>price_item</th>\n",
       "      <th>district_id</th>\n",
       "      <th>is_commercial</th>\n",
       "      <th>agency_id</th>\n",
       "      <th>deleted_by</th>\n",
       "      <th>delete_reason</th>\n",
       "      <th>longitude</th>\n",
       "      <th>latitude</th>\n",
       "      <th>price_usd</th>\n",
       "      <th>price_eur</th>\n",
       "      <th>price_uah</th>\n",
       "      <th>deleted</th>\n",
       "    </tr>\n",
       "  </thead>\n",
       "  <tbody>\n",
       "    <tr>\n",
       "      <th>0</th>\n",
       "      <td>11594031457</td>\n",
       "      <td>34.0</td>\n",
       "      <td>1</td>\n",
       "      <td>2</td>\n",
       "      <td>2</td>\n",
       "      <td>3900</td>\n",
       "      <td>115.0</td>\n",
       "      <td>15090</td>\n",
       "      <td>0</td>\n",
       "      <td>NaN</td>\n",
       "      <td>NaN</td>\n",
       "      <td>NaN</td>\n",
       "      <td>24.026230</td>\n",
       "      <td>49.816677</td>\n",
       "      <td>143</td>\n",
       "      <td>127</td>\n",
       "      <td>3900</td>\n",
       "      <td>False</td>\n",
       "    </tr>\n",
       "    <tr>\n",
       "      <th>1</th>\n",
       "      <td>11593653704</td>\n",
       "      <td>50.0</td>\n",
       "      <td>1</td>\n",
       "      <td>10</td>\n",
       "      <td>6</td>\n",
       "      <td>450</td>\n",
       "      <td>9.0</td>\n",
       "      <td>15090</td>\n",
       "      <td>1</td>\n",
       "      <td>23844.0</td>\n",
       "      <td>NaN</td>\n",
       "      <td>NaN</td>\n",
       "      <td>24.050093</td>\n",
       "      <td>49.818576</td>\n",
       "      <td>450</td>\n",
       "      <td>400</td>\n",
       "      <td>12262</td>\n",
       "      <td>False</td>\n",
       "    </tr>\n",
       "    <tr>\n",
       "      <th>2</th>\n",
       "      <td>11593653701</td>\n",
       "      <td>65.0</td>\n",
       "      <td>2</td>\n",
       "      <td>10</td>\n",
       "      <td>6</td>\n",
       "      <td>550</td>\n",
       "      <td>8.0</td>\n",
       "      <td>15090</td>\n",
       "      <td>1</td>\n",
       "      <td>23844.0</td>\n",
       "      <td>NaN</td>\n",
       "      <td>NaN</td>\n",
       "      <td>24.050093</td>\n",
       "      <td>49.818576</td>\n",
       "      <td>550</td>\n",
       "      <td>489</td>\n",
       "      <td>14986</td>\n",
       "      <td>False</td>\n",
       "    </tr>\n",
       "    <tr>\n",
       "      <th>3</th>\n",
       "      <td>11593481867</td>\n",
       "      <td>50.0</td>\n",
       "      <td>1</td>\n",
       "      <td>3</td>\n",
       "      <td>2</td>\n",
       "      <td>400</td>\n",
       "      <td>8.0</td>\n",
       "      <td>15089</td>\n",
       "      <td>1</td>\n",
       "      <td>23844.0</td>\n",
       "      <td>NaN</td>\n",
       "      <td>NaN</td>\n",
       "      <td>24.056087</td>\n",
       "      <td>49.838916</td>\n",
       "      <td>400</td>\n",
       "      <td>355</td>\n",
       "      <td>10899</td>\n",
       "      <td>False</td>\n",
       "    </tr>\n",
       "    <tr>\n",
       "      <th>4</th>\n",
       "      <td>2101594293941</td>\n",
       "      <td>60.0</td>\n",
       "      <td>2</td>\n",
       "      <td>4</td>\n",
       "      <td>3</td>\n",
       "      <td>8000</td>\n",
       "      <td>133.0</td>\n",
       "      <td>15088</td>\n",
       "      <td>0</td>\n",
       "      <td>NaN</td>\n",
       "      <td>cron</td>\n",
       "      <td>1.0</td>\n",
       "      <td>24.004730</td>\n",
       "      <td>49.838692</td>\n",
       "      <td>294</td>\n",
       "      <td>261</td>\n",
       "      <td>8000</td>\n",
       "      <td>True</td>\n",
       "    </tr>\n",
       "  </tbody>\n",
       "</table>\n",
       "</div>"
      ],
      "text/plain": [
       "   rangeFactorNew  total_square_meters  rooms_count  floors_count  floor  \\\n",
       "0     11594031457                 34.0            1             2      2   \n",
       "1     11593653704                 50.0            1            10      6   \n",
       "2     11593653701                 65.0            2            10      6   \n",
       "3     11593481867                 50.0            1             3      2   \n",
       "4   2101594293941                 60.0            2             4      3   \n",
       "\n",
       "   price  price_item  district_id  is_commercial  agency_id deleted_by  \\\n",
       "0   3900       115.0        15090              0        NaN        NaN   \n",
       "1    450         9.0        15090              1    23844.0        NaN   \n",
       "2    550         8.0        15090              1    23844.0        NaN   \n",
       "3    400         8.0        15089              1    23844.0        NaN   \n",
       "4   8000       133.0        15088              0        NaN       cron   \n",
       "\n",
       "   delete_reason  longitude   latitude price_usd price_eur price_uah  deleted  \n",
       "0            NaN  24.026230  49.816677       143       127      3900    False  \n",
       "1            NaN  24.050093  49.818576       450       400     12262    False  \n",
       "2            NaN  24.050093  49.818576       550       489     14986    False  \n",
       "3            NaN  24.056087  49.838916       400       355     10899    False  \n",
       "4            1.0  24.004730  49.838692       294       261      8000     True  "
      ]
     },
     "execution_count": 560,
     "metadata": {},
     "output_type": "execute_result"
    }
   ],
   "source": [
    "df['deleted'] = [True if s in ['nan', 'cron', 'admin', 'user'] else False for s in df['deleted_by']]\n",
    "df.head()"
   ]
  },
  {
   "cell_type": "code",
   "execution_count": 561,
   "metadata": {},
   "outputs": [
    {
     "data": {
      "text/html": [
       "<div>\n",
       "<style scoped>\n",
       "    .dataframe tbody tr th:only-of-type {\n",
       "        vertical-align: middle;\n",
       "    }\n",
       "\n",
       "    .dataframe tbody tr th {\n",
       "        vertical-align: top;\n",
       "    }\n",
       "\n",
       "    .dataframe thead th {\n",
       "        text-align: right;\n",
       "    }\n",
       "</style>\n",
       "<table border=\"1\" class=\"dataframe\">\n",
       "  <thead>\n",
       "    <tr style=\"text-align: right;\">\n",
       "      <th></th>\n",
       "      <th>rangeFactorNew</th>\n",
       "      <th>total_square_meters</th>\n",
       "      <th>rooms_count</th>\n",
       "      <th>floors_count</th>\n",
       "      <th>floor</th>\n",
       "      <th>district_id</th>\n",
       "      <th>is_commercial</th>\n",
       "      <th>agency_id</th>\n",
       "      <th>longitude</th>\n",
       "      <th>latitude</th>\n",
       "      <th>price_usd</th>\n",
       "      <th>price_eur</th>\n",
       "      <th>price_uah</th>\n",
       "      <th>deleted</th>\n",
       "    </tr>\n",
       "  </thead>\n",
       "  <tbody>\n",
       "    <tr>\n",
       "      <th>0</th>\n",
       "      <td>11594031457</td>\n",
       "      <td>34.0</td>\n",
       "      <td>1</td>\n",
       "      <td>2</td>\n",
       "      <td>2</td>\n",
       "      <td>15090</td>\n",
       "      <td>0</td>\n",
       "      <td>NaN</td>\n",
       "      <td>24.026230</td>\n",
       "      <td>49.816677</td>\n",
       "      <td>143</td>\n",
       "      <td>127</td>\n",
       "      <td>3900</td>\n",
       "      <td>False</td>\n",
       "    </tr>\n",
       "    <tr>\n",
       "      <th>1</th>\n",
       "      <td>11593653704</td>\n",
       "      <td>50.0</td>\n",
       "      <td>1</td>\n",
       "      <td>10</td>\n",
       "      <td>6</td>\n",
       "      <td>15090</td>\n",
       "      <td>1</td>\n",
       "      <td>23844.0</td>\n",
       "      <td>24.050093</td>\n",
       "      <td>49.818576</td>\n",
       "      <td>450</td>\n",
       "      <td>400</td>\n",
       "      <td>12262</td>\n",
       "      <td>False</td>\n",
       "    </tr>\n",
       "    <tr>\n",
       "      <th>2</th>\n",
       "      <td>11593653701</td>\n",
       "      <td>65.0</td>\n",
       "      <td>2</td>\n",
       "      <td>10</td>\n",
       "      <td>6</td>\n",
       "      <td>15090</td>\n",
       "      <td>1</td>\n",
       "      <td>23844.0</td>\n",
       "      <td>24.050093</td>\n",
       "      <td>49.818576</td>\n",
       "      <td>550</td>\n",
       "      <td>489</td>\n",
       "      <td>14986</td>\n",
       "      <td>False</td>\n",
       "    </tr>\n",
       "    <tr>\n",
       "      <th>3</th>\n",
       "      <td>11593481867</td>\n",
       "      <td>50.0</td>\n",
       "      <td>1</td>\n",
       "      <td>3</td>\n",
       "      <td>2</td>\n",
       "      <td>15089</td>\n",
       "      <td>1</td>\n",
       "      <td>23844.0</td>\n",
       "      <td>24.056087</td>\n",
       "      <td>49.838916</td>\n",
       "      <td>400</td>\n",
       "      <td>355</td>\n",
       "      <td>10899</td>\n",
       "      <td>False</td>\n",
       "    </tr>\n",
       "    <tr>\n",
       "      <th>4</th>\n",
       "      <td>2101594293941</td>\n",
       "      <td>60.0</td>\n",
       "      <td>2</td>\n",
       "      <td>4</td>\n",
       "      <td>3</td>\n",
       "      <td>15088</td>\n",
       "      <td>0</td>\n",
       "      <td>NaN</td>\n",
       "      <td>24.004730</td>\n",
       "      <td>49.838692</td>\n",
       "      <td>294</td>\n",
       "      <td>261</td>\n",
       "      <td>8000</td>\n",
       "      <td>True</td>\n",
       "    </tr>\n",
       "  </tbody>\n",
       "</table>\n",
       "</div>"
      ],
      "text/plain": [
       "   rangeFactorNew  total_square_meters  rooms_count  floors_count  floor  \\\n",
       "0     11594031457                 34.0            1             2      2   \n",
       "1     11593653704                 50.0            1            10      6   \n",
       "2     11593653701                 65.0            2            10      6   \n",
       "3     11593481867                 50.0            1             3      2   \n",
       "4   2101594293941                 60.0            2             4      3   \n",
       "\n",
       "   district_id  is_commercial  agency_id  longitude   latitude price_usd  \\\n",
       "0        15090              0        NaN  24.026230  49.816677       143   \n",
       "1        15090              1    23844.0  24.050093  49.818576       450   \n",
       "2        15090              1    23844.0  24.050093  49.818576       550   \n",
       "3        15089              1    23844.0  24.056087  49.838916       400   \n",
       "4        15088              0        NaN  24.004730  49.838692       294   \n",
       "\n",
       "  price_eur price_uah  deleted  \n",
       "0       127      3900    False  \n",
       "1       400     12262    False  \n",
       "2       489     14986    False  \n",
       "3       355     10899    False  \n",
       "4       261      8000     True  "
      ]
     },
     "execution_count": 561,
     "metadata": {},
     "output_type": "execute_result"
    }
   ],
   "source": [
    "df.drop(['price','price_item','deleted_by','delete_reason'], axis=1, inplace=True)\n",
    "df.head()"
   ]
  },
  {
   "cell_type": "code",
   "execution_count": 562,
   "metadata": {},
   "outputs": [
    {
     "data": {
      "text/plain": [
       "Index(['rangeFactorNew', 'total_square_meters', 'rooms_count', 'floors_count',\n",
       "       'floor', 'district_id', 'is_commercial', 'agency_id', 'longitude',\n",
       "       'latitude', 'price_usd', 'price_eur', 'price_uah', 'deleted'],\n",
       "      dtype='object')"
      ]
     },
     "execution_count": 562,
     "metadata": {},
     "output_type": "execute_result"
    }
   ],
   "source": [
    "df.columns"
   ]
  },
  {
   "cell_type": "code",
   "execution_count": 583,
   "metadata": {},
   "outputs": [
    {
     "data": {
      "text/plain": [
       "rangeFactorNew           int64\n",
       "total_square_meters    float64\n",
       "rooms_count              int64\n",
       "floors_count             int64\n",
       "floor                    int64\n",
       "district_id              int64\n",
       "is_commercial            int64\n",
       "agency_id              float64\n",
       "longitude              float64\n",
       "latitude               float64\n",
       "price_usd              float64\n",
       "price_eur              float64\n",
       "price_uah              float64\n",
       "deleted                   bool\n",
       "dtype: object"
      ]
     },
     "execution_count": 583,
     "metadata": {},
     "output_type": "execute_result"
    }
   ],
   "source": [
    "df.dtypes"
   ]
  },
  {
   "cell_type": "markdown",
   "metadata": {},
   "source": [
    "### Dataset legend\n",
    "<table>\n",
    "    <tr><td><b>rangeFactorNew</b></td><td>unique id, natural key</td></tr>\n",
    "    <tr><td><b>total_square_meters</b></td><td>entire area in srt meters</td></tr>\n",
    "    <tr><td><b>rooms_count</b></td><td>number of rooms, including kitchen and living room (not a bed rooms only)</td></tr>\n",
    "    <tr><td><b>floors_count</b></td><td>number of floors</td></tr>\n",
    "    <tr><td><b>floor</b></td><td>current floor, starting from 1st as a ground floor</td></tr>\n",
    "    <tr><td><b>district_id</b></td><td>unique district id (will be mapped later on)</td></tr>\n",
    "    <tr><td><b>is_commercial</b></td><td>does this for commertial use?</td></tr>\n",
    "    <tr><td><b>agency_id</b></td><td>uniqie agency id (will be mapped later on)</td></tr>\n",
    "    <tr><td><b>longitude</b></td><td>geo longitude</td></tr>\n",
    "    <tr><td><b>latitude</b></td><td>get latitude</td></tr>\n",
    "    <tr><td><b>price_usd</b></td><td>price in usd, per month</td></tr>\n",
    "    <tr><td><b>price_eur</b></td><td>price in eur, per month</td></tr>\n",
    "    <tr><td><b>price_uah</b></td><td>price in uah, per month</td></tr>\n",
    "    <tr><td><b>deleted</b></td><td>active or not?</td></tr>\n",
    "</table>"
   ]
  },
  {
   "cell_type": "markdown",
   "metadata": {},
   "source": [
    "Ok, our dataset is ready"
   ]
  },
  {
   "cell_type": "markdown",
   "metadata": {},
   "source": [
    "### Aggregations and Visualization"
   ]
  },
  {
   "cell_type": "markdown",
   "metadata": {},
   "source": [
    "#### Appartment Size (# of Rooms) distribution\n",
    "<hr>"
   ]
  },
  {
   "cell_type": "code",
   "execution_count": 573,
   "metadata": {},
   "outputs": [
    {
     "data": {
      "text/html": [
       "<div>\n",
       "<style scoped>\n",
       "    .dataframe tbody tr th:only-of-type {\n",
       "        vertical-align: middle;\n",
       "    }\n",
       "\n",
       "    .dataframe tbody tr th {\n",
       "        vertical-align: top;\n",
       "    }\n",
       "\n",
       "    .dataframe thead th {\n",
       "        text-align: right;\n",
       "    }\n",
       "</style>\n",
       "<table border=\"1\" class=\"dataframe\">\n",
       "  <thead>\n",
       "    <tr style=\"text-align: right;\">\n",
       "      <th></th>\n",
       "      <th>rangeFactorNew</th>\n",
       "    </tr>\n",
       "    <tr>\n",
       "      <th>rooms_count</th>\n",
       "      <th></th>\n",
       "    </tr>\n",
       "  </thead>\n",
       "  <tbody>\n",
       "    <tr>\n",
       "      <th>1</th>\n",
       "      <td>400</td>\n",
       "    </tr>\n",
       "    <tr>\n",
       "      <th>2</th>\n",
       "      <td>447</td>\n",
       "    </tr>\n",
       "    <tr>\n",
       "      <th>3</th>\n",
       "      <td>129</td>\n",
       "    </tr>\n",
       "    <tr>\n",
       "      <th>4</th>\n",
       "      <td>19</td>\n",
       "    </tr>\n",
       "    <tr>\n",
       "      <th>5</th>\n",
       "      <td>3</td>\n",
       "    </tr>\n",
       "    <tr>\n",
       "      <th>6</th>\n",
       "      <td>1</td>\n",
       "    </tr>\n",
       "  </tbody>\n",
       "</table>\n",
       "</div>"
      ],
      "text/plain": [
       "             rangeFactorNew\n",
       "rooms_count                \n",
       "1                       400\n",
       "2                       447\n",
       "3                       129\n",
       "4                        19\n",
       "5                         3\n",
       "6                         1"
      ]
     },
     "execution_count": 573,
     "metadata": {},
     "output_type": "execute_result"
    }
   ],
   "source": [
    "grouped_rooms_count = df[['rooms_count', 'rangeFactorNew']].groupby(\"rooms_count\").count()\n",
    "grouped_rooms_count"
   ]
  },
  {
   "cell_type": "code",
   "execution_count": 575,
   "metadata": {},
   "outputs": [
    {
     "data": {
      "image/png": "[encoded data removed]",
      "text/plain": [
       "<Figure size 1080x360 with 1 Axes>"
      ]
     },
     "metadata": {
      "needs_background": "light"
     },
     "output_type": "display_data"
    }
   ],
   "source": [
    "plot = grouped_rooms_count.plot.bar(y='rangeFactorNew', figsize=(15, 5))"
   ]
  },
  {
   "cell_type": "code",
   "execution_count": 585,
   "metadata": {},
   "outputs": [
    {
     "data": {
      "text/html": [
       "<div>\n",
       "<style scoped>\n",
       "    .dataframe tbody tr th:only-of-type {\n",
       "        vertical-align: middle;\n",
       "    }\n",
       "\n",
       "    .dataframe tbody tr th {\n",
       "        vertical-align: top;\n",
       "    }\n",
       "\n",
       "    .dataframe thead th {\n",
       "        text-align: right;\n",
       "    }\n",
       "</style>\n",
       "<table border=\"1\" class=\"dataframe\">\n",
       "  <thead>\n",
       "    <tr style=\"text-align: right;\">\n",
       "      <th></th>\n",
       "      <th>price_usd</th>\n",
       "    </tr>\n",
       "    <tr>\n",
       "      <th>rooms_count</th>\n",
       "      <th></th>\n",
       "    </tr>\n",
       "  </thead>\n",
       "  <tbody>\n",
       "    <tr>\n",
       "      <th>1</th>\n",
       "      <td>301.934837</td>\n",
       "    </tr>\n",
       "    <tr>\n",
       "      <th>2</th>\n",
       "      <td>347.185682</td>\n",
       "    </tr>\n",
       "    <tr>\n",
       "      <th>3</th>\n",
       "      <td>474.054264</td>\n",
       "    </tr>\n",
       "    <tr>\n",
       "      <th>4</th>\n",
       "      <td>928.368421</td>\n",
       "    </tr>\n",
       "    <tr>\n",
       "      <th>5</th>\n",
       "      <td>813.333333</td>\n",
       "    </tr>\n",
       "    <tr>\n",
       "      <th>6</th>\n",
       "      <td>1500.000000</td>\n",
       "    </tr>\n",
       "  </tbody>\n",
       "</table>\n",
       "</div>"
      ],
      "text/plain": [
       "               price_usd\n",
       "rooms_count             \n",
       "1             301.934837\n",
       "2             347.185682\n",
       "3             474.054264\n",
       "4             928.368421\n",
       "5             813.333333\n",
       "6            1500.000000"
      ]
     },
     "execution_count": 585,
     "metadata": {},
     "output_type": "execute_result"
    }
   ],
   "source": [
    "grouped_price_usd = df[['rooms_count', 'price_usd']].groupby(\"rooms_count\").mean()\n",
    "grouped_price_usd"
   ]
  },
  {
   "cell_type": "code",
   "execution_count": 587,
   "metadata": {},
   "outputs": [
    {
     "data": {
      "image/png": "[encoded data removed]",
      "text/plain": [
       "<Figure size 1080x360 with 1 Axes>"
      ]
     },
     "metadata": {
      "needs_background": "light"
     },
     "output_type": "display_data"
    }
   ],
   "source": [
    "plot = grouped_price_usd.plot.bar(y='price_usd', figsize=(15, 5))"
   ]
  },
  {
   "cell_type": "markdown",
   "metadata": {},
   "source": [
    "#### Average price per appatment size distribution\n",
    "<hr>"
   ]
  },
  {
   "cell_type": "code",
   "execution_count": 588,
   "metadata": {},
   "outputs": [
    {
     "data": {
      "text/html": [
       "<div>\n",
       "<style scoped>\n",
       "    .dataframe tbody tr th:only-of-type {\n",
       "        vertical-align: middle;\n",
       "    }\n",
       "\n",
       "    .dataframe tbody tr th {\n",
       "        vertical-align: top;\n",
       "    }\n",
       "\n",
       "    .dataframe thead th {\n",
       "        text-align: right;\n",
       "    }\n",
       "</style>\n",
       "<table border=\"1\" class=\"dataframe\">\n",
       "  <thead>\n",
       "    <tr style=\"text-align: right;\">\n",
       "      <th></th>\n",
       "      <th>usd</th>\n",
       "      <th>eur</th>\n",
       "      <th>uah</th>\n",
       "    </tr>\n",
       "    <tr>\n",
       "      <th>rooms_count</th>\n",
       "      <th></th>\n",
       "      <th></th>\n",
       "      <th></th>\n",
       "    </tr>\n",
       "  </thead>\n",
       "  <tbody>\n",
       "    <tr>\n",
       "      <th>1</th>\n",
       "      <td>301.93</td>\n",
       "      <td>268.12</td>\n",
       "      <td>8225.36</td>\n",
       "    </tr>\n",
       "    <tr>\n",
       "      <th>2</th>\n",
       "      <td>347.19</td>\n",
       "      <td>308.31</td>\n",
       "      <td>9458.47</td>\n",
       "    </tr>\n",
       "    <tr>\n",
       "      <th>3</th>\n",
       "      <td>474.05</td>\n",
       "      <td>421.04</td>\n",
       "      <td>12916.86</td>\n",
       "    </tr>\n",
       "    <tr>\n",
       "      <th>4</th>\n",
       "      <td>928.37</td>\n",
       "      <td>824.58</td>\n",
       "      <td>25295.05</td>\n",
       "    </tr>\n",
       "    <tr>\n",
       "      <th>5</th>\n",
       "      <td>813.33</td>\n",
       "      <td>722.67</td>\n",
       "      <td>22165.33</td>\n",
       "    </tr>\n",
       "    <tr>\n",
       "      <th>6</th>\n",
       "      <td>1500.00</td>\n",
       "      <td>1332.00</td>\n",
       "      <td>40872.00</td>\n",
       "    </tr>\n",
       "  </tbody>\n",
       "</table>\n",
       "</div>"
      ],
      "text/plain": [
       "                 usd      eur       uah\n",
       "rooms_count                            \n",
       "1             301.93   268.12   8225.36\n",
       "2             347.19   308.31   9458.47\n",
       "3             474.05   421.04  12916.86\n",
       "4             928.37   824.58  25295.05\n",
       "5             813.33   722.67  22165.33\n",
       "6            1500.00  1332.00  40872.00"
      ]
     },
     "execution_count": 588,
     "metadata": {},
     "output_type": "execute_result"
    }
   ],
   "source": [
    "grouped_price_usd = df[['rooms_count', 'price_usd']].groupby(\"rooms_count\").mean()\n",
    "grouped_price_usd['price_usd'] = round(grouped_price_usd['price_usd'], 2)\n",
    "\n",
    "grouped_price_eur = df[['rooms_count', 'price_eur']].groupby(\"rooms_count\").mean()\n",
    "grouped_price_eur['price_eur'] = round(grouped_price_eur['price_eur'], 2)\n",
    "\n",
    "grouped_price_uah = df[['rooms_count', 'price_uah']].groupby(\"rooms_count\").mean()\n",
    "grouped_price_uah['price_uah'] = round(grouped_price_uah['price_uah'], 2)\n",
    "\n",
    "frames = [grouped_price_usd, grouped_price_eur, grouped_price_uah]\n",
    "aggregate = pd.concat(frames, axis=1)\n",
    "\n",
    "# rename columns after concat\n",
    "aggregate.columns = ['usd', 'eur', 'uah'] \n",
    "aggregate"
   ]
  },
  {
   "cell_type": "markdown",
   "metadata": {},
   "source": [
    "#### Commertial VS Private distribution\n",
    "<hr>"
   ]
  },
  {
   "cell_type": "code",
   "execution_count": 589,
   "metadata": {},
   "outputs": [
    {
     "data": {
      "text/html": [
       "<div>\n",
       "<style scoped>\n",
       "    .dataframe tbody tr th:only-of-type {\n",
       "        vertical-align: middle;\n",
       "    }\n",
       "\n",
       "    .dataframe tbody tr th {\n",
       "        vertical-align: top;\n",
       "    }\n",
       "\n",
       "    .dataframe thead th {\n",
       "        text-align: right;\n",
       "    }\n",
       "</style>\n",
       "<table border=\"1\" class=\"dataframe\">\n",
       "  <thead>\n",
       "    <tr style=\"text-align: right;\">\n",
       "      <th></th>\n",
       "      <th>rangeFactorNew</th>\n",
       "    </tr>\n",
       "    <tr>\n",
       "      <th>is_commercial</th>\n",
       "      <th></th>\n",
       "    </tr>\n",
       "  </thead>\n",
       "  <tbody>\n",
       "    <tr>\n",
       "      <th>0</th>\n",
       "      <td>79</td>\n",
       "    </tr>\n",
       "    <tr>\n",
       "      <th>1</th>\n",
       "      <td>920</td>\n",
       "    </tr>\n",
       "  </tbody>\n",
       "</table>\n",
       "</div>"
      ],
      "text/plain": [
       "               rangeFactorNew\n",
       "is_commercial                \n",
       "0                          79\n",
       "1                         920"
      ]
     },
     "execution_count": 589,
     "metadata": {},
     "output_type": "execute_result"
    }
   ],
   "source": [
    "grouped_is_commercial = df[['is_commercial', 'rangeFactorNew']].groupby(\"is_commercial\").count()\n",
    "grouped_is_commercial"
   ]
  },
  {
   "cell_type": "code",
   "execution_count": 590,
   "metadata": {},
   "outputs": [
    {
     "data": {
      "image/png": "[encoded data removed]",
      "text/plain": [
       "<Figure size 360x360 with 1 Axes>"
      ]
     },
     "metadata": {},
     "output_type": "display_data"
    }
   ],
   "source": [
    "plot = grouped_is_commercial.plot.pie(x='is_commercial', y='rangeFactorNew', figsize=(5, 5))"
   ]
  },
  {
   "cell_type": "markdown",
   "metadata": {},
   "source": [
    "#### Agency weight distribution\n",
    "<hr> "
   ]
  },
  {
   "cell_type": "code",
   "execution_count": 591,
   "metadata": {},
   "outputs": [
    {
     "data": {
      "text/html": [
       "<div>\n",
       "<style scoped>\n",
       "    .dataframe tbody tr th:only-of-type {\n",
       "        vertical-align: middle;\n",
       "    }\n",
       "\n",
       "    .dataframe tbody tr th {\n",
       "        vertical-align: top;\n",
       "    }\n",
       "\n",
       "    .dataframe thead th {\n",
       "        text-align: right;\n",
       "    }\n",
       "</style>\n",
       "<table border=\"1\" class=\"dataframe\">\n",
       "  <thead>\n",
       "    <tr style=\"text-align: right;\">\n",
       "      <th></th>\n",
       "      <th>rangeFactorNew</th>\n",
       "    </tr>\n",
       "    <tr>\n",
       "      <th>agency_id</th>\n",
       "      <th></th>\n",
       "    </tr>\n",
       "  </thead>\n",
       "  <tbody>\n",
       "    <tr>\n",
       "      <th>27930.0</th>\n",
       "      <td>575</td>\n",
       "    </tr>\n",
       "    <tr>\n",
       "      <th>24288.0</th>\n",
       "      <td>148</td>\n",
       "    </tr>\n",
       "    <tr>\n",
       "      <th>28200.0</th>\n",
       "      <td>69</td>\n",
       "    </tr>\n",
       "    <tr>\n",
       "      <th>24021.0</th>\n",
       "      <td>34</td>\n",
       "    </tr>\n",
       "    <tr>\n",
       "      <th>29684.0</th>\n",
       "      <td>27</td>\n",
       "    </tr>\n",
       "    <tr>\n",
       "      <th>24804.0</th>\n",
       "      <td>20</td>\n",
       "    </tr>\n",
       "    <tr>\n",
       "      <th>29645.0</th>\n",
       "      <td>11</td>\n",
       "    </tr>\n",
       "    <tr>\n",
       "      <th>23844.0</th>\n",
       "      <td>7</td>\n",
       "    </tr>\n",
       "    <tr>\n",
       "      <th>23348.0</th>\n",
       "      <td>6</td>\n",
       "    </tr>\n",
       "    <tr>\n",
       "      <th>30084.0</th>\n",
       "      <td>4</td>\n",
       "    </tr>\n",
       "    <tr>\n",
       "      <th>18785.0</th>\n",
       "      <td>4</td>\n",
       "    </tr>\n",
       "    <tr>\n",
       "      <th>26457.0</th>\n",
       "      <td>3</td>\n",
       "    </tr>\n",
       "    <tr>\n",
       "      <th>23925.0</th>\n",
       "      <td>3</td>\n",
       "    </tr>\n",
       "    <tr>\n",
       "      <th>28976.0</th>\n",
       "      <td>2</td>\n",
       "    </tr>\n",
       "    <tr>\n",
       "      <th>24879.0</th>\n",
       "      <td>2</td>\n",
       "    </tr>\n",
       "    <tr>\n",
       "      <th>27978.0</th>\n",
       "      <td>1</td>\n",
       "    </tr>\n",
       "    <tr>\n",
       "      <th>25601.0</th>\n",
       "      <td>1</td>\n",
       "    </tr>\n",
       "    <tr>\n",
       "      <th>29523.0</th>\n",
       "      <td>1</td>\n",
       "    </tr>\n",
       "    <tr>\n",
       "      <th>29679.0</th>\n",
       "      <td>1</td>\n",
       "    </tr>\n",
       "    <tr>\n",
       "      <th>0.0</th>\n",
       "      <td>1</td>\n",
       "    </tr>\n",
       "  </tbody>\n",
       "</table>\n",
       "</div>"
      ],
      "text/plain": [
       "           rangeFactorNew\n",
       "agency_id                \n",
       "27930.0               575\n",
       "24288.0               148\n",
       "28200.0                69\n",
       "24021.0                34\n",
       "29684.0                27\n",
       "24804.0                20\n",
       "29645.0                11\n",
       "23844.0                 7\n",
       "23348.0                 6\n",
       "30084.0                 4\n",
       "18785.0                 4\n",
       "26457.0                 3\n",
       "23925.0                 3\n",
       "28976.0                 2\n",
       "24879.0                 2\n",
       "27978.0                 1\n",
       "25601.0                 1\n",
       "29523.0                 1\n",
       "29679.0                 1\n",
       "0.0                     1"
      ]
     },
     "execution_count": 591,
     "metadata": {},
     "output_type": "execute_result"
    }
   ],
   "source": [
    "grouped_agency_id = df[['agency_id', 'rangeFactorNew']].groupby(\"agency_id\").count()\n",
    "grouped_agency_id.sort_values(by='rangeFactorNew', ascending=False)"
   ]
  },
  {
   "cell_type": "code",
   "execution_count": 592,
   "metadata": {},
   "outputs": [
    {
     "data": {
      "image/png": "[encoded data removed]",
      "text/plain": [
       "<Figure size 360x360 with 1 Axes>"
      ]
     },
     "metadata": {},
     "output_type": "display_data"
    }
   ],
   "source": [
    "plot = grouped_agency_id.plot.pie(x='agency_id', y='rangeFactorNew', figsize=(5, 5))"
   ]
  },
  {
   "cell_type": "markdown",
   "metadata": {},
   "source": [
    "Ok, it's clear that 2/3 of agency data belongs to single agency. Kinda monopholy"
   ]
  },
  {
   "cell_type": "markdown",
   "metadata": {},
   "source": [
    "#### Visualise Min/Avg/Max square meters distribution\n",
    "<hr>"
   ]
  },
  {
   "cell_type": "code",
   "execution_count": 593,
   "metadata": {},
   "outputs": [],
   "source": [
    "aggregate = pd.DataFrame(columns=['rooms_count', 'total_square_meters_min', 'total_square_meters_avg', 'total_square_meters_max'])"
   ]
  },
  {
   "cell_type": "code",
   "execution_count": 594,
   "metadata": {},
   "outputs": [],
   "source": [
    "temp = df[['rooms_count', 'total_square_meters']]\n",
    "total_square_meters_min = temp.groupby(\"rooms_count\").min()\n",
    "total_square_meters_avg = temp.groupby(\"rooms_count\").mean()\n",
    "total_square_meters_max = temp.groupby(\"rooms_count\").max()\n",
    "\n",
    "total_square_meters_avg['total_square_meters'] = round(total_square_meters_avg['total_square_meters'], 1)"
   ]
  },
  {
   "cell_type": "code",
   "execution_count": 595,
   "metadata": {},
   "outputs": [
    {
     "data": {
      "text/html": [
       "<div>\n",
       "<style scoped>\n",
       "    .dataframe tbody tr th:only-of-type {\n",
       "        vertical-align: middle;\n",
       "    }\n",
       "\n",
       "    .dataframe tbody tr th {\n",
       "        vertical-align: top;\n",
       "    }\n",
       "\n",
       "    .dataframe thead th {\n",
       "        text-align: right;\n",
       "    }\n",
       "</style>\n",
       "<table border=\"1\" class=\"dataframe\">\n",
       "  <thead>\n",
       "    <tr style=\"text-align: right;\">\n",
       "      <th></th>\n",
       "      <th>min</th>\n",
       "      <th>avg</th>\n",
       "      <th>max</th>\n",
       "    </tr>\n",
       "    <tr>\n",
       "      <th>rooms_count</th>\n",
       "      <th></th>\n",
       "      <th></th>\n",
       "      <th></th>\n",
       "    </tr>\n",
       "  </thead>\n",
       "  <tbody>\n",
       "    <tr>\n",
       "      <th>1</th>\n",
       "      <td>21.0</td>\n",
       "      <td>40.0</td>\n",
       "      <td>150.0</td>\n",
       "    </tr>\n",
       "    <tr>\n",
       "      <th>2</th>\n",
       "      <td>34.0</td>\n",
       "      <td>56.9</td>\n",
       "      <td>125.0</td>\n",
       "    </tr>\n",
       "    <tr>\n",
       "      <th>3</th>\n",
       "      <td>50.0</td>\n",
       "      <td>80.5</td>\n",
       "      <td>154.0</td>\n",
       "    </tr>\n",
       "    <tr>\n",
       "      <th>4</th>\n",
       "      <td>71.0</td>\n",
       "      <td>113.3</td>\n",
       "      <td>187.0</td>\n",
       "    </tr>\n",
       "    <tr>\n",
       "      <th>5</th>\n",
       "      <td>130.0</td>\n",
       "      <td>163.0</td>\n",
       "      <td>200.0</td>\n",
       "    </tr>\n",
       "    <tr>\n",
       "      <th>6</th>\n",
       "      <td>170.0</td>\n",
       "      <td>170.0</td>\n",
       "      <td>170.0</td>\n",
       "    </tr>\n",
       "  </tbody>\n",
       "</table>\n",
       "</div>"
      ],
      "text/plain": [
       "               min    avg    max\n",
       "rooms_count                     \n",
       "1             21.0   40.0  150.0\n",
       "2             34.0   56.9  125.0\n",
       "3             50.0   80.5  154.0\n",
       "4             71.0  113.3  187.0\n",
       "5            130.0  163.0  200.0\n",
       "6            170.0  170.0  170.0"
      ]
     },
     "execution_count": 595,
     "metadata": {},
     "output_type": "execute_result"
    }
   ],
   "source": [
    "frames = [total_square_meters_min, total_square_meters_avg, total_square_meters_max]\n",
    "aggregate = pd.concat(frames, axis=1)\n",
    "\n",
    "# rename columns after concat\n",
    "aggregate.columns = ['min', 'avg', 'max'] \n",
    "aggregate"
   ]
  },
  {
   "cell_type": "code",
   "execution_count": 596,
   "metadata": {},
   "outputs": [
    {
     "data": {
      "image/png": "[encoded data removed]",
      "text/plain": [
       "<Figure size 1080x432 with 1 Axes>"
      ]
     },
     "metadata": {
      "needs_background": "light"
     },
     "output_type": "display_data"
    }
   ],
   "source": [
    "aggregate.plot(kind='bar', figsize=(15, 6))\n",
    "\n",
    "plt.xlabel('# of rooms') \n",
    "plt.ylabel('Min/Avg/Max sqrt meters')\n",
    "plt.title('Size distribution per # of rooms in appartments')\n",
    "\n",
    "plt.show()"
   ]
  },
  {
   "cell_type": "markdown",
   "metadata": {},
   "source": [
    "#### Visualise Min/Avg/Max prices distribution\n",
    "<hr>"
   ]
  },
  {
   "cell_type": "code",
   "execution_count": 597,
   "metadata": {},
   "outputs": [],
   "source": [
    "aggregate = pd.DataFrame(columns=['rooms_count', 'price_min', 'price_avg', 'price_max'])"
   ]
  },
  {
   "cell_type": "code",
   "execution_count": 598,
   "metadata": {},
   "outputs": [],
   "source": [
    "temp = df[['rooms_count', 'price_usd']]\n",
    "p_min = temp.groupby(\"rooms_count\").min()\n",
    "p_avg = temp.groupby(\"rooms_count\").mean()\n",
    "p_max = temp.groupby(\"rooms_count\").max()\n",
    "\n",
    "p_avg['price_usd'] = round(p_avg['price_usd'], 1)"
   ]
  },
  {
   "cell_type": "code",
   "execution_count": 599,
   "metadata": {},
   "outputs": [
    {
     "data": {
      "text/html": [
       "<div>\n",
       "<style scoped>\n",
       "    .dataframe tbody tr th:only-of-type {\n",
       "        vertical-align: middle;\n",
       "    }\n",
       "\n",
       "    .dataframe tbody tr th {\n",
       "        vertical-align: top;\n",
       "    }\n",
       "\n",
       "    .dataframe thead th {\n",
       "        text-align: right;\n",
       "    }\n",
       "</style>\n",
       "<table border=\"1\" class=\"dataframe\">\n",
       "  <thead>\n",
       "    <tr style=\"text-align: right;\">\n",
       "      <th></th>\n",
       "      <th>min</th>\n",
       "      <th>avg</th>\n",
       "      <th>max</th>\n",
       "    </tr>\n",
       "    <tr>\n",
       "      <th>rooms_count</th>\n",
       "      <th></th>\n",
       "      <th></th>\n",
       "      <th></th>\n",
       "    </tr>\n",
       "  </thead>\n",
       "  <tbody>\n",
       "    <tr>\n",
       "      <th>1</th>\n",
       "      <td>110.0</td>\n",
       "      <td>301.9</td>\n",
       "      <td>1200.0</td>\n",
       "    </tr>\n",
       "    <tr>\n",
       "      <th>2</th>\n",
       "      <td>110.0</td>\n",
       "      <td>347.2</td>\n",
       "      <td>1000.0</td>\n",
       "    </tr>\n",
       "    <tr>\n",
       "      <th>3</th>\n",
       "      <td>200.0</td>\n",
       "      <td>474.1</td>\n",
       "      <td>1500.0</td>\n",
       "    </tr>\n",
       "    <tr>\n",
       "      <th>4</th>\n",
       "      <td>294.0</td>\n",
       "      <td>928.4</td>\n",
       "      <td>1800.0</td>\n",
       "    </tr>\n",
       "    <tr>\n",
       "      <th>5</th>\n",
       "      <td>440.0</td>\n",
       "      <td>813.3</td>\n",
       "      <td>1200.0</td>\n",
       "    </tr>\n",
       "    <tr>\n",
       "      <th>6</th>\n",
       "      <td>1500.0</td>\n",
       "      <td>1500.0</td>\n",
       "      <td>1500.0</td>\n",
       "    </tr>\n",
       "  </tbody>\n",
       "</table>\n",
       "</div>"
      ],
      "text/plain": [
       "                min     avg     max\n",
       "rooms_count                        \n",
       "1             110.0   301.9  1200.0\n",
       "2             110.0   347.2  1000.0\n",
       "3             200.0   474.1  1500.0\n",
       "4             294.0   928.4  1800.0\n",
       "5             440.0   813.3  1200.0\n",
       "6            1500.0  1500.0  1500.0"
      ]
     },
     "execution_count": 599,
     "metadata": {},
     "output_type": "execute_result"
    }
   ],
   "source": [
    "frames = [p_min, p_avg, p_max]\n",
    "aggregate = pd.concat(frames, axis=1)\n",
    "\n",
    "# rename columns after concat\n",
    "aggregate.columns = ['min', 'avg', 'max'] \n",
    "aggregate"
   ]
  },
  {
   "cell_type": "code",
   "execution_count": 600,
   "metadata": {},
   "outputs": [
    {
     "data": {
      "image/png": "[encoded data removed]",
      "text/plain": [
       "<Figure size 1080x432 with 1 Axes>"
      ]
     },
     "metadata": {
      "needs_background": "light"
     },
     "output_type": "display_data"
    }
   ],
   "source": [
    "aggregate.plot(kind='bar', figsize=(15, 6))\n",
    "\n",
    "plt.xlabel('Amount of Dollars') \n",
    "plt.ylabel('Min/Avg/Max price in usd')\n",
    "plt.title('Price distribution per appartment size')\n",
    "\n",
    "plt.show()"
   ]
  },
  {
   "cell_type": "markdown",
   "metadata": {},
   "source": [
    "#### Maps Visualisation\n",
    "<hr>"
   ]
  },
  {
   "cell_type": "code",
   "execution_count": 603,
   "metadata": {},
   "outputs": [],
   "source": [
    "def get_color(n):\n",
    "    if n == 1:\n",
    "        return \"green\"\n",
    "    if n == 2:\n",
    "        return \"blue\"\n",
    "    if n == 3:\n",
    "        return \"yellow\"\n",
    "    if n == 4:\n",
    "        return \"black\"\n",
    "    if n == 5:\n",
    "        return \"white\""
   ]
  },
  {
   "cell_type": "code",
   "execution_count": 604,
   "metadata": {},
   "outputs": [
    {
     "name": "stderr",
     "output_type": "stream",
     "text": [
      "C:\\ProgramData\\Anaconda3\\lib\\site-packages\\ipykernel_launcher.py:15: UserWarning: color argument of Icon should be one of: {'purple', 'cadetblue', 'blue', 'darkred', 'lightgreen', 'lightred', 'white', 'gray', 'darkgreen', 'orange', 'lightgray', 'lightblue', 'beige', 'black', 'darkblue', 'pink', 'red', 'darkpurple', 'green'}.\n",
      "  from ipykernel import kernelapp as app\n"
     ]
    },
    {
     "data": {
      "text/html": [
       "<div style=\"width:100%;\"><div style=\"position:relative;width:100%;height:0;padding-bottom:60%;\"><span style=\"color:#565656\">Make this Notebook Trusted to load map: File -> Trust Notebook</span><iframe src=\"about:blank\" style=\"position:absolute;width:100%;height:100%;left:0;top:0;border:none !important;\" data-html=PCFET0NUWVBFIGh0bWw+CjxoZWFkPiAgICAKICAgIDxtZXRhIGh0dHAtZXF1aXY9ImNvbnRlbnQtdHlwZSIgY29udGVudD0idGV4dC9odG1sOyBjaGFyc2V0PVVURi04IiAvPgogICAgCiAgICAgICAgPHNjcmlwdD4KICAgICAgICAgICAgTF9OT19UT1VDSCA9IGZhbHNlOwogICAgICAgICAgICBMX0RJU0FCTEVfM0QgPSBmYWxzZTsKICAgICAgICA8L3NjcmlwdD4KICAgIAogICAgPHNjcmlwdCBzcmM9Imh0dHBzOi8vY2RuLmpzZGVsaXZyLm5ldC9ucG0vbGVhZmxldEAxLjYuMC9kaXN0L2xlYWZsZXQuanMiPjwvc2NyaXB0PgogICAgPHNjcmlwdCBzcmM9Imh0dHBzOi8vY29kZS5qcXVlcnkuY29tL2pxdWVyeS0xLjEyLjQubWluLmpzIj48L3NjcmlwdD4KICAgIDxzY3JpcHQgc3JjPSJodHRwczovL21heGNkbi5ib290c3RyYXBjZG4uY29tL2Jvb3RzdHJhcC8zLjIuMC9qcy9ib290c3RyYXAubWluLmpzIj48L3NjcmlwdD4KICAgIDxzY3JpcHQgc3JjPSJodHRwczovL2NkbmpzLmNsb3VkZmxhcmUuY29tL2FqYXgvbGlicy9MZWFmbGV0LmF3ZXNvbWUtbWFya2Vycy8yLjAuMi9sZWFmbGV0LmF3ZXNvbWUtbWFya2Vycy5qcyI+PC9zY3JpcHQ+CiAgICA8bGluayByZWw9InN0eWxlc2hlZXQiIGhyZWY9Imh0dHBzOi8vY2RuLmpzZGVsaXZyLm5ldC9ucG0vbGVhZmxldEAxLjYuMC9kaXN0L2xlYWZsZXQuY3NzIi8+CiAgICA8bGluayByZWw9InN0eWxlc2hlZXQiIGhyZWY9Imh0dHBzOi8vbWF4Y2RuLmJvb3RzdHJhcGNkbi5jb20vYm9vdHN0cmFwLzMuMi4wL2Nzcy9ib290c3RyYXAubWluLmNzcyIvPgogICAgPGxpbmsgcmVsPSJzdHlsZXNoZWV0IiBocmVmPSJodHRwczovL21heGNkbi5ib290c3RyYXBjZG4uY29tL2Jvb3RzdHJhcC8zLjIuMC9jc3MvYm9vdHN0cmFwLXRoZW1lLm1pbi5jc3MiLz4KICAgIDxsaW5rIHJlbD0ic3R5bGVzaGVldCIgaHJlZj0iaHR0cHM6Ly9tYXhjZG4uYm9vdHN0cmFwY2RuLmNvbS9mb250LWF3ZXNvbWUvNC42LjMvY3NzL2ZvbnQtYXdlc29tZS5taW4uY3NzIi8+CiAgICA8bGluayByZWw9InN0eWxlc2hlZXQiIGhyZWY9Imh0dHBzOi8vY2RuanMuY2xvdWRmbGFyZS5jb20vYWpheC9saWJzL0xlYWZsZXQuYXdlc29tZS1tYXJrZXJzLzIuMC4yL2xlYWZsZXQuYXdlc29tZS1tYXJrZXJzLmNzcyIvPgogICAgPGxpbmsgcmVsPSJzdHlsZXNoZWV0IiBocmVmPSJodHRwczovL3Jhd2Nkbi5naXRoYWNrLmNvbS9weXRob24tdmlzdWFsaXphdGlvbi9mb2xpdW0vbWFzdGVyL2ZvbGl1bS90ZW1wbGF0ZXMvbGVhZmxldC5hd2Vzb21lLnJvdGF0ZS5jc3MiLz4KICAgIDxzdHlsZT5odG1sLCBib2R5IHt3aWR0aDogMTAwJTtoZWlnaHQ6IDEwMCU7bWFyZ2luOiAwO3BhZGRpbmc6IDA7fTwvc3R5bGU+CiAgICA8c3R5bGU+I21hcCB7cG9zaXRpb246YWJzb2x1dGU7dG9wOjA7Ym90dG9tOjA7cmlnaHQ6MDtsZWZ0OjA7fTwvc3R5bGU+CiAgICAKICAgICAgICAgICAgPG1ldGEgbmFtZT0idmlld3BvcnQiIGNvbnRlbnQ9IndpZHRoPWRldmljZS13aWR0aCwKICAgICAgICAgICAgICAgIGluaXRpYWwtc2NhbGU9MS4wLCBtYXhpbXVtLXNjYWxlPTEuMCwgdXNlci1zY2FsYWJsZT1ubyIgLz4KICAgICAgICAgICAgPHN0eWxlPgogICAgICAgICAgICAgICAgI21hcF9lMDcxYWEyNzM0MTM0NmZkYmFmZGU4MTdjZjA3MjY2MiB7CiAgICAgICAgICAgICAgICAgICAgcG9zaXRpb246IHJlbGF0aXZlOwogICAgICAgICAgICAgICAgICAgIHdpZHRoOiAxMDAuMCU7CiAgICAgICAgICAgICAgICAgICAgaGVpZ2h0OiAxMDAuMCU7CiAgICAgICAgICAgICAgICAgICAgbGVmdDogMC4wJTsKICAgICAgICAgICAgICAgICAgICB0b3A6IDAuMCU7CiAgICAgICAgICAgICAgICB9CiAgICAgICAgICAgIDwvc3R5bGU+CiAgICAgICAgCjwvaGVhZD4KPGJvZHk+ICAgIAogICAgCiAgICAgICAgICAgIDxkaXYgY2xhc3M9ImZvbGl1bS1tYXAiIGlkPSJtYXBfZTA3MWFhMjczNDEzNDZmZGJhZmRlODE3Y2YwNzI2NjIiID48L2Rpdj4KICAgICAgICAKPC9ib2R5Pgo8c2NyaXB0PiAgICAKICAgIAogICAgICAgICAgICB2YXIgbWFwX2UwNzFhYTI3MzQxMzQ2ZmRiYWZkZTgxN2NmMDcyNjYyID0gTC5tYXAoCiAgICAgICAgICAgICAgICAibWFwX2UwNzFhYTI3MzQxMzQ2ZmRiYWZkZTgxN2NmMDcyNjYyIiwKICAgICAgICAgICAgICAgIHsKICAgICAgICAgICAgICAgICAgICBjZW50ZXI6IFs0OS44MywgMjQuMDVdLAogICAgICAgICAgICAgICAgICAgIGNyczogTC5DUlMuRVBTRzM4NTcsCiAgICAgICAgICAgICAgICAgICAgem9vbTogMTIsCiAgICAgICAgICAgICAgICAgICAgem9vbUNvbnRyb2w6IHRydWUsCiAgICAgICAgICAgICAgICAgICAgcHJlZmVyQ2FudmFzOiBmYWxzZSwKICAgICAgICAgICAgICAgIH0KICAgICAgICAgICAgKTsKCiAgICAgICAgICAgIAoKICAgICAgICAKICAgIAogICAgICAgICAgICB2YXIgdGlsZV9sYXllcl9iNzVmOThmNGYxODQ0MzJmOWNhOTgwNGU3ZjcyYzdiNyA9IEwudGlsZUxheWVyKAogICAgICAgICAgICAgICAgImh0dHBzOi8vc3RhbWVuLXRpbGVzLXtzfS5hLnNzbC5mYXN0bHkubmV0L3RlcnJhaW4ve3p9L3t4fS97eX0uanBnIiwKICAgICAgICAgICAgICAgIHsiYXR0cmlidXRpb24iOiAiTWFwIHRpbGVzIGJ5IFx1MDAzY2EgaHJlZj1cImh0dHA6Ly9zdGFtZW4uY29tXCJcdTAwM2VTdGFtZW4gRGVzaWduXHUwMDNjL2FcdTAwM2UsIHVuZGVyIFx1MDAzY2EgaHJlZj1cImh0dHA6Ly9jcmVhdGl2ZWNvbW1vbnMub3JnL2xpY2Vuc2VzL2J5LzMuMFwiXHUwMDNlQ0MgQlkgMy4wXHUwMDNjL2FcdTAwM2UuIERhdGEgYnkgXHUwMDI2Y29weTsgXHUwMDNjYSBocmVmPVwiaHR0cDovL29wZW5zdHJlZXRtYXAub3JnXCJcdTAwM2VPcGVuU3RyZWV0TWFwXHUwMDNjL2FcdTAwM2UsIHVuZGVyIFx1MDAzY2EgaHJlZj1cImh0dHA6Ly9jcmVhdGl2ZWNvbW1vbnMub3JnL2xpY2Vuc2VzL2J5LXNhLzMuMFwiXHUwMDNlQ0MgQlkgU0FcdTAwM2MvYVx1MDAzZS4iLCAiZGV0ZWN0UmV0aW5hIjogZmFsc2UsICJtYXhOYXRpdmVab29tIjogMTgsICJtYXhab29tIjogMTgsICJtaW5ab29tIjogMCwgIm5vV3JhcCI6IGZhbHNlLCAib3BhY2l0eSI6IDEsICJzdWJkb21haW5zIjogImFiYyIsICJ0bXMiOiBmYWxzZX0KICAgICAgICAgICAgKS5hZGRUbyhtYXBfZTA3MWFhMjczNDEzNDZmZGJhZmRlODE3Y2YwNzI2NjIpOwogICAgICAgIAogICAgCiAgICAgICAgICAgIHZhciBtYXJrZXJfNTEwYmJhYzlhYWE0NDY0NmIxNGIzN2Q0NDVkZTkyZGYgPSBMLm1hcmtlcigKICAgICAgICAgICAgICAgIFs0OS44MTY2NzcyMDAwMDAwMSwgMjQuMDI2MjI5OF0sCiAgICAgICAgICAgICAgICB7fQogICAgICAgICAgICApLmFkZFRvKG1hcF9lMDcxYWEyNzM0MTM0NmZkYmFmZGU4MTdjZjA3MjY2Mik7CiAgICAgICAgCiAgICAKICAgICAgICAgICAgdmFyIGljb25fMjM3MGI2ODZlNDU1NDdiNWJhYWFkMWZhNjA2ZWE1ZTggPSBMLkF3ZXNvbWVNYXJrZXJzLmljb24oCiAgICAgICAgICAgICAgICB7ImV4dHJhQ2xhc3NlcyI6ICJmYS1yb3RhdGUtMCIsICJpY29uIjogImluZm8tc2lnbiIsICJpY29uQ29sb3IiOiAid2hpdGUiLCAibWFya2VyQ29sb3IiOiAiZ3JlZW4iLCAicHJlZml4IjogImdseXBoaWNvbiJ9CiAgICAgICAgICAgICk7CiAgICAgICAgICAgIG1hcmtlcl81MTBiYmFjOWFhYTQ0NjQ2YjE0YjM3ZDQ0NWRlOTJkZi5zZXRJY29uKGljb25fMjM3MGI2ODZlNDU1NDdiNWJhYWFkMWZhNjA2ZWE1ZTgpOwogICAgICAgIAogICAgCiAgICAgICAgdmFyIHBvcHVwXzI2MmI3ZTI5OTNmODRjNmU4MTVhZmJjNWQ1YjgwN2U4ID0gTC5wb3B1cCh7Im1heFdpZHRoIjogIjEwMCUifSk7CgogICAgICAgIAogICAgICAgICAgICB2YXIgaHRtbF9kOTAwOGVmNzNjNDc0MDliOWViZWEyMmMzNDM5ZGJmZiA9ICQoYDxkaXYgaWQ9Imh0bWxfZDkwMDhlZjczYzQ3NDA5YjllYmVhMjJjMzQzOWRiZmYiIHN0eWxlPSJ3aWR0aDogMTAwLjAlOyBoZWlnaHQ6IDEwMC4wJTsiPjExNTk0MDMxNDU3PC9kaXY+YClbMF07CiAgICAgICAgICAgIHBvcHVwXzI2MmI3ZTI5OTNmODRjNmU4MTVhZmJjNWQ1YjgwN2U4LnNldENvbnRlbnQoaHRtbF9kOTAwOGVmNzNjNDc0MDliOWViZWEyMmMzNDM5ZGJmZik7CiAgICAgICAgCgogICAgICAgIG1hcmtlcl81MTBiYmFjOWFhYTQ0NjQ2YjE0YjM3ZDQ0NWRlOTJkZi5iaW5kUG9wdXAocG9wdXBfMjYyYjdlMjk5M2Y4NGM2ZTgxNWFmYmM1ZDViODA3ZTgpCiAgICAgICAgOwoKICAgICAgICAKICAgIAogICAgCiAgICAgICAgICAgIG1hcmtlcl81MTBiYmFjOWFhYTQ0NjQ2YjE0YjM3ZDQ0NWRlOTJkZi5iaW5kVG9vbHRpcCgKICAgICAgICAgICAgICAgIGA8ZGl2PgogICAgICAgICAgICAgICAgICAgICAxIHJvb21zPGJyPjM5MDAuMCBVQUgKICAgICAgICAgICAgICAgICA8L2Rpdj5gLAogICAgICAgICAgICAgICAgeyJzdGlja3kiOiB0cnVlfQogICAgICAgICAgICApOwogICAgICAgIAogICAgCiAgICAgICAgICAgIHZhciBtYXJrZXJfODIxNzE4YzIzNWNjNGU1NThiZDk2Y2ViYzg2Zjc1ZmIgPSBMLm1hcmtlcigKICAgICAgICAgICAgICAgIFs0OS44MTg1NzU3MDAwMDAwMDQsIDI0LjA1MDA5MzM5OTk5OTk5OF0sCiAgICAgICAgICAgICAgICB7fQogICAgICAgICAgICApLmFkZFRvKG1hcF9lMDcxYWEyNzM0MTM0NmZkYmFmZGU4MTdjZjA3MjY2Mik7CiAgICAgICAgCiAgICAKICAgICAgICAgICAgdmFyIGljb25fYjRlMTljNDQxM2ZlNGVlYmE2OWRlYTliNTAxNDIyZjQgPSBMLkF3ZXNvbWVNYXJrZXJzLmljb24oCiAgICAgICAgICAgICAgICB7ImV4dHJhQ2xhc3NlcyI6ICJmYS1yb3RhdGUtMCIsICJpY29uIjogImluZm8tc2lnbiIsICJpY29uQ29sb3IiOiAid2hpdGUiLCAibWFya2VyQ29sb3IiOiAiZ3JlZW4iLCAicHJlZml4IjogImdseXBoaWNvbiJ9CiAgICAgICAgICAgICk7CiAgICAgICAgICAgIG1hcmtlcl84MjE3MThjMjM1Y2M0ZTU1OGJkOTZjZWJjODZmNzVmYi5zZXRJY29uKGljb25fYjRlMTljNDQxM2ZlNGVlYmE2OWRlYTliNTAxNDIyZjQpOwogICAgICAgIAogICAgCiAgICAgICAgdmFyIHBvcHVwXzA2ZjBlMzQzMDkxNzQ2ODc5NDJjNWZjMWUwMTgwODg2ID0gTC5wb3B1cCh7Im1heFdpZHRoIjogIjEwMCUifSk7CgogICAgICAgIAogICAgICAgICAgICB2YXIgaHRtbF9kNTYyODU5ZjA0MTc0MzBkOTliMDZiNDI0Yzk4YmU3ZiA9ICQoYDxkaXYgaWQ9Imh0bWxfZDU2Mjg1OWYwNDE3NDMwZDk5YjA2YjQyNGM5OGJlN2YiIHN0eWxlPSJ3aWR0aDogMTAwLjAlOyBoZWlnaHQ6IDEwMC4wJTsiPjExNTkzNjUzNzA0PC9kaXY+YClbMF07CiAgICAgICAgICAgIHBvcHVwXzA2ZjBlMzQzMDkxNzQ2ODc5NDJjNWZjMWUwMTgwODg2LnNldENvbnRlbnQoaHRtbF9kNTYyODU5ZjA0MTc0MzBkOTliMDZiNDI0Yzk4YmU3Zik7CiAgICAgICAgCgogICAgICAgIG1hcmtlcl84MjE3MThjMjM1Y2M0ZTU1OGJkOTZjZWJjODZmNzVmYi5iaW5kUG9wdXAocG9wdXBfMDZmMGUzNDMwOTE3NDY4Nzk0MmM1ZmMxZTAxODA4ODYpCiAgICAgICAgOwoKICAgICAgICAKICAgIAogICAgCiAgICAgICAgICAgIG1hcmtlcl84MjE3MThjMjM1Y2M0ZTU1OGJkOTZjZWJjODZmNzVmYi5iaW5kVG9vbHRpcCgKICAgICAgICAgICAgICAgIGA8ZGl2PgogICAgICAgICAgICAgICAgICAgICAxIHJvb21zPGJyPjEyMjYyLjAgVUFICiAgICAgICAgICAgICAgICAgPC9kaXY+YCwKICAgICAgICAgICAgICAgIHsic3RpY2t5IjogdHJ1ZX0KICAgICAgICAgICAgKTsKICAgICAgICAKICAgIAogICAgICAgICAgICB2YXIgbWFya2VyX2NmOWJhY2M3NGU3MjRmM2U5NTc4NmQ0NzBkMzc1MGE5ID0gTC5tYXJrZXIoCiAgICAgICAgICAgICAgICBbNDkuODE4NTc1NzAwMDAwMDA0LCAyNC4wNTAwOTMzOTk5OTk5OThdLAogICAgICAgICAgICAgICAge30KICAgICAgICAgICAgKS5hZGRUbyhtYXBfZTA3MWFhMjczNDEzNDZmZGJhZmRlODE3Y2YwNzI2NjIpOwogICAgICAgIAogICAgCiAgICAgICAgICAgIHZhciBpY29uX2VhZWUxYjRjYWZlMTRmYzU4YjE3YzhmMTU4NjlkZGQ2ID0gTC5Bd2Vzb21lTWFya2Vycy5pY29uKAogICAgICAgICAgICAgICAgeyJleHRyYUNsYXNzZXMiOiAiZmEtcm90YXRlLTAiLCAiaWNvbiI6ICJpbmZvLXNpZ24iLCAiaWNvbkNvbG9yIjogIndoaXRlIiwgIm1hcmtlckNvbG9yIjogImJsdWUiLCAicHJlZml4IjogImdseXBoaWNvbiJ9CiAgICAgICAgICAgICk7CiAgICAgICAgICAgIG1hcmtlcl9jZjliYWNjNzRlNzI0ZjNlOTU3ODZkNDcwZDM3NTBhOS5zZXRJY29uKGljb25fZWFlZTFiNGNhZmUxNGZjNThiMTdjOGYxNTg2OWRkZDYpOwogICAgICAgIAogICAgCiAgICAgICAgdmFyIHBvcHVwXzhkNzZiNWY2ZjA0NjRhOTU5ZGFmMzY5NjAzY2Q1MGZlID0gTC5wb3B1cCh7Im1heFdpZHRoIjogIjEwMCUifSk7CgogICAgICAgIAogICAgICAgICAgICB2YXIgaHRtbF8yZTFhYzg4MjYwNGE0YzYxOWYwNWNiYzMxMmViODE3MCA9ICQoYDxkaXYgaWQ9Imh0bWxfMmUxYWM4ODI2MDRhNGM2MTlmMDVjYmMzMTJlYjgxNzAiIHN0eWxlPSJ3aWR0aDogMTAwLjAlOyBoZWlnaHQ6IDEwMC4wJTsiPjExNTkzNjUzNzAxPC9kaXY+YClbMF07CiAgICAgICAgICAgIHBvcHVwXzhkNzZiNWY2ZjA0NjRhOTU5ZGFmMzY5NjAzY2Q1MGZlLnNldENvbnRlbnQoaHRtbF8yZTFhYzg4MjYwNGE0YzYxOWYwNWNiYzMxMmViODE3MCk7CiAgICAgICAgCgogICAgICAgIG1hcmtlcl9jZjliYWNjNzRlNzI0ZjNlOTU3ODZkNDcwZDM3NTBhOS5iaW5kUG9wdXAocG9wdXBfOGQ3NmI1ZjZmMDQ2NGE5NTlkYWYzNjk2MDNjZDUwZmUpCiAgICAgICAgOwoKICAgICAgICAKICAgIAogICAgCiAgICAgICAgICAgIG1hcmtlcl9jZjliYWNjNzRlNzI0ZjNlOTU3ODZkNDcwZDM3NTBhOS5iaW5kVG9vbHRpcCgKICAgICAgICAgICAgICAgIGA8ZGl2PgogICAgICAgICAgICAgICAgICAgICAyIHJvb21zPGJyPjE0OTg2LjAgVUFICiAgICAgICAgICAgICAgICAgPC9kaXY+YCwKICAgICAgICAgICAgICAgIHsic3RpY2t5IjogdHJ1ZX0KICAgICAgICAgICAgKTsKICAgICAgICAKICAgIAogICAgICAgICAgICB2YXIgbWFya2VyXzZlOWM0MTJlMjQ5YjRkMTNhNmYxOGMyNjIwMjVjY2I3ID0gTC5tYXJrZXIoCiAgICAgICAgICAgICAgICBbNDkuODM4OTE1ODk5OTk5OTk2LCAyNC4wNTYwODc0XSwKICAgICAgICAgICAgICAgIHt9CiAgICAgICAgICAgICkuYWRkVG8obWFwX2UwNzFhYTI3MzQxMzQ2ZmRiYWZkZTgxN2NmMDcyNjYyKTsKICAgICAgICAKICAgIAogICAgICAgICAgICB2YXIgaWNvbl9jOTUxNTQ2ZDBlOWI0ZmQ5YWI2NjhlMTgwODhkMmYwYiA9IEwuQXdlc29tZU1hcmtlcnMuaWNvbigKICAgICAgICAgICAgICAgIHsiZXh0cmFDbGFzc2VzIjogImZhLXJvdGF0ZS0wIiwgImljb24iOiAiaW5mby1zaWduIiwgImljb25Db2xvciI6ICJ3aGl0ZSIsICJtYXJrZXJDb2xvciI6ICJncmVlbiIsICJwcmVmaXgiOiAiZ2x5cGhpY29uIn0KICAgICAgICAgICAgKTsKICAgICAgICAgICAgbWFya2VyXzZlOWM0MTJlMjQ5YjRkMTNhNmYxOGMyNjIwMjVjY2I3LnNldEljb24oaWNvbl9jOTUxNTQ2ZDBlOWI0ZmQ5YWI2NjhlMTgwODhkMmYwYik7CiAgICAgICAgCiAgICAKICAgICAgICB2YXIgcG9wdXBfMDgwOTY2MjdmZjllNDgxMzg4MmUzZDZiZTFiNDk0MDYgPSBMLnBvcHVwKHsibWF4V2lkdGgiOiAiMTAwJSJ9KTsKCiAgICAgICAgCiAgICAgICAgICAgIHZhciBodG1sXzU0ZWNkNWY5OTBkNzRmN2ZiODgwMWFlMjkwYmQxMDU4ID0gJChgPGRpdiBpZD0iaHRtbF81NGVjZDVmOTkwZDc0ZjdmYjg4MDFhZTI5MGJkMTA1OCIgc3R5bGU9IndpZHRoOiAxMDAuMCU7IGhlaWdodDogMTAwLjAlOyI+MTE1OTM0ODE4Njc8L2Rpdj5gKVswXTsKICAgICAgICAgICAgcG9wdXBfMDgwOTY2MjdmZjllNDgxMzg4MmUzZDZiZTFiNDk0MDYuc2V0Q29udGVudChodG1sXzU0ZWNkNWY5OTBkNzRmN2ZiODgwMWFlMjkwYmQxMDU4KTsKICAgICAgICAKCiAgICAgICAgbWFya2VyXzZlOWM0MTJlMjQ5YjRkMTNhNmYxOGMyNjIwMjVjY2I3LmJpbmRQb3B1cChwb3B1cF8wODA5NjYyN2ZmOWU0ODEzODgyZTNkNmJlMWI0OTQwNikKICAgICAgICA7CgogICAgICAgIAogICAgCiAgICAKICAgICAgICAgICAgbWFya2VyXzZlOWM0MTJlMjQ5YjRkMTNhNmYxOGMyNjIwMjVjY2I3LmJpbmRUb29sdGlwKAogICAgICAgICAgICAgICAgYDxkaXY+CiAgICAgICAgICAgICAgICAgICAgIDEgcm9vbXM8YnI+MTA4OTkuMCBVQUgKICAgICAgICAgICAgICAgICA8L2Rpdj5gLAogICAgICAgICAgICAgICAgeyJzdGlja3kiOiB0cnVlfQogICAgICAgICAgICApOwogICAgICAgIAogICAgCiAgICAgICAgICAgIHZhciBtYXJrZXJfMDBjYTBmYzZiMDgzNDYxZjgyOGI3MTlkOGJhZjYwYTMgPSBMLm1hcmtlcigKICAgICAgICAgICAgICAgIFs0OS44Mzg2OTE5LCAyNC4wMDQ3Mjk2XSwKICAgICAgICAgICAgICAgIHt9CiAgICAgICAgICAgICkuYWRkVG8obWFwX2UwNzFhYTI3MzQxMzQ2ZmRiYWZkZTgxN2NmMDcyNjYyKTsKICAgICAgICAKICAgIAogICAgICAgICAgICB2YXIgaWNvbl9hZmI3YWJjMTkyYTk0YmI1YjllMzViYjg5NWYzMjJhZCA9IEwuQXdlc29tZU1hcmtlcnMuaWNvbigKICAgICAgICAgICAgICAgIHsiZXh0cmFDbGFzc2VzIjogImZhLXJvdGF0ZS0wIiwgImljb24iOiAiaW5mby1zaWduIiwgImljb25Db2xvciI6ICJ3aGl0ZSIsICJtYXJrZXJDb2xvciI6ICJibHVlIiwgInByZWZpeCI6ICJnbHlwaGljb24ifQogICAgICAgICAgICApOwogICAgICAgICAgICBtYXJrZXJfMDBjYTBmYzZiMDgzNDYxZjgyOGI3MTlkOGJhZjYwYTMuc2V0SWNvbihpY29uX2FmYjdhYmMxOTJhOTRiYjViOWUzNWJiODk1ZjMyMmFkKTsKICAgICAgICAKICAgIAogICAgICAgIHZhciBwb3B1cF8zMzNlN2Q4MzIzNTA0NWY1YjY2ODllZWMxYWQ3NWFjMiA9IEwucG9wdXAoeyJtYXhXaWR0aCI6ICIxMDAlIn0pOwoKICAgICAgICAKICAgICAgICAgICAgdmFyIGh0bWxfZjkzMDE0NjY5ODJiNGVlYTljYWEwMTlkOTNmNzIxMTEgPSAkKGA8ZGl2IGlkPSJodG1sX2Y5MzAxNDY2OTgyYjRlZWE5Y2FhMDE5ZDkzZjcyMTExIiBzdHlsZT0id2lkdGg6IDEwMC4wJTsgaGVpZ2h0OiAxMDAuMCU7Ij4yMTAxNTk0MjkzOTQxPC9kaXY+YClbMF07CiAgICAgICAgICAgIHBvcHVwXzMzM2U3ZDgzMjM1MDQ1ZjViNjY4OWVlYzFhZDc1YWMyLnNldENvbnRlbnQoaHRtbF9mOTMwMTQ2Njk4MmI0ZWVhOWNhYTAxOWQ5M2Y3MjExMSk7CiAgICAgICAgCgogICAgICAgIG1hcmtlcl8wMGNhMGZjNmIwODM0NjFmODI4YjcxOWQ4YmFmNjBhMy5iaW5kUG9wdXAocG9wdXBfMzMzZTdkODMyMzUwNDVmNWI2Njg5ZWVjMWFkNzVhYzIpCiAgICAgICAgOwoKICAgICAgICAKICAgIAogICAgCiAgICAgICAgICAgIG1hcmtlcl8wMGNhMGZjNmIwODM0NjFmODI4YjcxOWQ4YmFmNjBhMy5iaW5kVG9vbHRpcCgKICAgICAgICAgICAgICAgIGA8ZGl2PgogICAgICAgICAgICAgICAgICAgICAyIHJvb21zPGJyPjgwMDAuMCBVQUgKICAgICAgICAgICAgICAgICA8L2Rpdj5gLAogICAgICAgICAgICAgICAgeyJzdGlja3kiOiB0cnVlfQogICAgICAgICAgICApOwogICAgICAgIAogICAgCiAgICAgICAgICAgIHZhciBtYXJrZXJfNDUyODJmMTNjN2Q5NDYwN2JhM2IyMWYxMTY5YWZhMDQgPSBMLm1hcmtlcigKICAgICAgICAgICAgICAgIFs0OS44NDgxMzMxLCAyNC4wMjgxNDgxMDAwMDAwMDNdLAogICAgICAgICAgICAgICAge30KICAgICAgICAgICAgKS5hZGRUbyhtYXBfZTA3MWFhMjczNDEzNDZmZGJhZmRlODE3Y2YwNzI2NjIpOwogICAgICAgIAogICAgCiAgICAgICAgICAgIHZhciBpY29uX2JiNjc0NTJmNzQyMjQzOTg5M2YyMzQ3MmZkNTY1Yzc1ID0gTC5Bd2Vzb21lTWFya2Vycy5pY29uKAogICAgICAgICAgICAgICAgeyJleHRyYUNsYXNzZXMiOiAiZmEtcm90YXRlLTAiLCAiaWNvbiI6ICJpbmZvLXNpZ24iLCAiaWNvbkNvbG9yIjogIndoaXRlIiwgIm1hcmtlckNvbG9yIjogImJsdWUiLCAicHJlZml4IjogImdseXBoaWNvbiJ9CiAgICAgICAgICAgICk7CiAgICAgICAgICAgIG1hcmtlcl80NTI4MmYxM2M3ZDk0NjA3YmEzYjIxZjExNjlhZmEwNC5zZXRJY29uKGljb25fYmI2NzQ1MmY3NDIyNDM5ODkzZjIzNDcyZmQ1NjVjNzUpOwogICAgICAgIAogICAgCiAgICAgICAgdmFyIHBvcHVwX2E4MTM0NzU5MzU4YzQ1NjU4OTAxNDcxMzczNTk0ZDc2ID0gTC5wb3B1cCh7Im1heFdpZHRoIjogIjEwMCUifSk7CgogICAgICAgIAogICAgICAgICAgICB2YXIgaHRtbF80OWZhNmI3MjUyMDE0MWIyYTRmZGVjMjc5ZjhjODI5ZCA9ICQoYDxkaXYgaWQ9Imh0bWxfNDlmYTZiNzI1MjAxNDFiMmE0ZmRlYzI3OWY4YzgyOWQiIHN0eWxlPSJ3aWR0aDogMTAwLjAlOyBoZWlnaHQ6IDEwMC4wJTsiPjIwMDE1OTQyMTM1NzA8L2Rpdj5gKVswXTsKICAgICAgICAgICAgcG9wdXBfYTgxMzQ3NTkzNThjNDU2NTg5MDE0NzEzNzM1OTRkNzYuc2V0Q29udGVudChodG1sXzQ5ZmE2YjcyNTIwMTQxYjJhNGZkZWMyNzlmOGM4MjlkKTsKICAgICAgICAKCiAgICAgICAgbWFya2VyXzQ1MjgyZjEzYzdkOTQ2MDdiYTNiMjFmMTE2OWFmYTA0LmJpbmRQb3B1cChwb3B1cF9hODEzNDc1OTM1OGM0NTY1ODkwMTQ3MTM3MzU5NGQ3NikKICAgICAgICA7CgogICAgICAgIAogICAgCiAgICAKICAgICAgICAgICAgbWFya2VyXzQ1MjgyZjEzYzdkOTQ2MDdiYTNiMjFmMTE2OWFmYTA0LmJpbmRUb29sdGlwKAogICAgICAgICAgICAgICAgYDxkaXY+CiAgICAgICAgICAgICAgICAgICAgIDIgcm9vbXM8YnI+ODUwMC4wIFVBSAogICAgICAgICAgICAgICAgIDwvZGl2PmAsCiAgICAgICAgICAgICAgICB7InN0aWNreSI6IHRydWV9CiAgICAgICAgICAgICk7CiAgICAgICAgCiAgICAKICAgICAgICAgICAgdmFyIG1hcmtlcl8zMDU1MmY0YzI3ZjY0MzVjYWJkYmViZDI1YzgxZGJhZiA9IEwubWFya2VyKAogICAgICAgICAgICAgICAgWzQ5LjgzMDIxOTYzNDUzOTAwNiwgMjMuOTgxNTUxMTkyNTg5OTk3XSwKICAgICAgICAgICAgICAgIHt9CiAgICAgICAgICAgICkuYWRkVG8obWFwX2UwNzFhYTI3MzQxMzQ2ZmRiYWZkZTgxN2NmMDcyNjYyKTsKICAgICAgICAKICAgIAogICAgICAgICAgICB2YXIgaWNvbl82OGVhNmM5YzYyMWI0MzYwODZkNzZmMmQ4ODBiMTE1MiA9IEwuQXdlc29tZU1hcmtlcnMuaWNvbigKICAgICAgICAgICAgICAgIHsiZXh0cmFDbGFzc2VzIjogImZhLXJvdGF0ZS0wIiwgImljb24iOiAiaW5mby1zaWduIiwgImljb25Db2xvciI6ICJ3aGl0ZSIsICJtYXJrZXJDb2xvciI6ICJibHVlIiwgInByZWZpeCI6ICJnbHlwaGljb24ifQogICAgICAgICAgICApOwogICAgICAgICAgICBtYXJrZXJfMzA1NTJmNGMyN2Y2NDM1Y2FiZGJlYmQyNWM4MWRiYWYuc2V0SWNvbihpY29uXzY4ZWE2YzljNjIxYjQzNjA4NmQ3NmYyZDg4MGIxMTUyKTsKICAgICAgICAKICAgIAogICAgICAgIHZhciBwb3B1cF84NWFkZjQzNmYxNjY0OTZmODM4ZWIzZTgzODA4ODViOCA9IEwucG9wdXAoeyJtYXhXaWR0aCI6ICIxMDAlIn0pOwoKICAgICAgICAKICAgICAgICAgICAgdmFyIGh0bWxfZTczYTVkOGExNTNlNDZiYjgxYzE3ZDA4ODQ2OTUyNmUgPSAkKGA8ZGl2IGlkPSJodG1sX2U3M2E1ZDhhMTUzZTQ2YmI4MWMxN2QwODg0Njk1MjZlIiBzdHlsZT0id2lkdGg6IDEwMC4wJTsgaGVpZ2h0OiAxMDAuMCU7Ij4xMTAxNTk0MTIyMTI3PC9kaXY+YClbMF07CiAgICAgICAgICAgIHBvcHVwXzg1YWRmNDM2ZjE2NjQ5NmY4MzhlYjNlODM4MDg4NWI4LnNldENvbnRlbnQoaHRtbF9lNzNhNWQ4YTE1M2U0NmJiODFjMTdkMDg4NDY5NTI2ZSk7CiAgICAgICAgCgogICAgICAgIG1hcmtlcl8zMDU1MmY0YzI3ZjY0MzVjYWJkYmViZDI1YzgxZGJhZi5iaW5kUG9wdXAocG9wdXBfODVhZGY0MzZmMTY2NDk2ZjgzOGViM2U4MzgwODg1YjgpCiAgICAgICAgOwoKICAgICAgICAKICAgIAogICAgCiAgICAgICAgICAgIG1hcmtlcl8zMDU1MmY0YzI3ZjY0MzVjYWJkYmViZDI1YzgxZGJhZi5iaW5kVG9vbHRpcCgKICAgICAgICAgICAgICAgIGA8ZGl2PgogICAgICAgICAgICAgICAgICAgICAyIHJvb21zPGJyPjE0MTY5LjAgVUFICiAgICAgICAgICAgICAgICAgPC9kaXY+YCwKICAgICAgICAgICAgICAgIHsic3RpY2t5IjogdHJ1ZX0KICAgICAgICAgICAgKTsKICAgICAgICAKICAgIAogICAgICAgICAgICB2YXIgbWFya2VyX2UwNDBiZDJkMDhjNTRlNmE5NDc4YmQ5MDg2YTZkODdmID0gTC5tYXJrZXIoCiAgICAgICAgICAgICAgICBbNDkuODQ0NTc3MywgMjQuMDIxNDYzMl0sCiAgICAgICAgICAgICAgICB7fQogICAgICAgICAgICApLmFkZFRvKG1hcF9lMDcxYWEyNzM0MTM0NmZkYmFmZGU4MTdjZjA3MjY2Mik7CiAgICAgICAgCiAgICAKICAgICAgICAgICAgdmFyIGljb25fYTBiZGU3OGRjNzI4NDgyMWIxOTVlN2Y5MjRkYjZmNDQgPSBMLkF3ZXNvbWVNYXJrZXJzLmljb24oCiAgICAgICAgICAgICAgICB7ImV4dHJhQ2xhc3NlcyI6ICJmYS1yb3RhdGUtMCIsICJpY29uIjogImluZm8tc2lnbiIsICJpY29uQ29sb3IiOiAid2hpdGUiLCAibWFya2VyQ29sb3IiOiAiYmx1ZSIsICJwcmVmaXgiOiAiZ2x5cGhpY29uIn0KICAgICAgICAgICAgKTsKICAgICAgICAgICAgbWFya2VyX2UwNDBiZDJkMDhjNTRlNmE5NDc4YmQ5MDg2YTZkODdmLnNldEljb24oaWNvbl9hMGJkZTc4ZGM3Mjg0ODIxYjE5NWU3ZjkyNGRiNmY0NCk7CiAgICAgICAgCiAgICAKICAgICAgICB2YXIgcG9wdXBfZjdhNWViZTg5YWM0NDdhYmEzNDUyMTVlNTU3NjU2ZmEgPSBMLnBvcHVwKHsibWF4V2lkdGgiOiAiMTAwJSJ9KTsKCiAgICAgICAgCiAgICAgICAgICAgIHZhciBodG1sX2UzN2Y4NjQ1NjY3NzQ2YWU4N2ZkMzBiYWQ0MzA0YzhkID0gJChgPGRpdiBpZD0iaHRtbF9lMzdmODY0NTY2Nzc0NmFlODdmZDMwYmFkNDMwNGM4ZCIgc3R5bGU9IndpZHRoOiAxMDAuMCU7IGhlaWdodDogMTAwLjAlOyI+MTAwMTU5NDE0OTk5ODwvZGl2PmApWzBdOwogICAgICAgICAgICBwb3B1cF9mN2E1ZWJlODlhYzQ0N2FiYTM0NTIxNWU1NTc2NTZmYS5zZXRDb250ZW50KGh0bWxfZTM3Zjg2NDU2Njc3NDZhZTg3ZmQzMGJhZDQzMDRjOGQpOwogICAgICAgIAoKICAgICAgICBtYXJrZXJfZTA0MGJkMmQwOGM1NGU2YTk0NzhiZDkwODZhNmQ4N2YuYmluZFBvcHVwKHBvcHVwX2Y3YTVlYmU4OWFjNDQ3YWJhMzQ1MjE1ZTU1NzY1NmZhKQogICAgICAgIDsKCiAgICAgICAgCiAgICAKICAgIAogICAgICAgICAgICBtYXJrZXJfZTA0MGJkMmQwOGM1NGU2YTk0NzhiZDkwODZhNmQ4N2YuYmluZFRvb2x0aXAoCiAgICAgICAgICAgICAgICBgPGRpdj4KICAgICAgICAgICAgICAgICAgICAgMiByb29tczxicj4xMDAwMC4wIFVBSAogICAgICAgICAgICAgICAgIDwvZGl2PmAsCiAgICAgICAgICAgICAgICB7InN0aWNreSI6IHRydWV9CiAgICAgICAgICAgICk7CiAgICAgICAgCiAgICAKICAgICAgICAgICAgdmFyIG1hcmtlcl82NmM4YjYyNDY3YWM0ZGEzYjQwZmI0NGVkOGY5ZmJmMCA9IEwubWFya2VyKAogICAgICAgICAgICAgICAgWzQ5Ljg0ODk5Njg5OTk5OTk5NiwgMjQuMDE5OTY5OV0sCiAgICAgICAgICAgICAgICB7fQogICAgICAgICAgICApLmFkZFRvKG1hcF9lMDcxYWEyNzM0MTM0NmZkYmFmZGU4MTdjZjA3MjY2Mik7CiAgICAgICAgCiAgICAKICAgICAgICAgICAgdmFyIGljb25fYmI2YmExZGY0NjhmNGY1ZmI5MmRkM2QyMGU5MzU5NDEgPSBMLkF3ZXNvbWVNYXJrZXJzLmljb24oCiAgICAgICAgICAgICAgICB7ImV4dHJhQ2xhc3NlcyI6ICJmYS1yb3RhdGUtMCIsICJpY29uIjogImluZm8tc2lnbiIsICJpY29uQ29sb3IiOiAid2hpdGUiLCAibWFya2VyQ29sb3IiOiAiZ3JlZW4iLCAicHJlZml4IjogImdseXBoaWNvbiJ9CiAgICAgICAgICAgICk7CiAgICAgICAgICAgIG1hcmtlcl82NmM4YjYyNDY3YWM0ZGEzYjQwZmI0NGVkOGY5ZmJmMC5zZXRJY29uKGljb25fYmI2YmExZGY0NjhmNGY1ZmI5MmRkM2QyMGU5MzU5NDEpOwogICAgICAgIAogICAgCiAgICAgICAgdmFyIHBvcHVwXzQ3Y2VjMzcwMjdmYjQ0OTVhNGVlMjU0YTAzY2ZjMjZhID0gTC5wb3B1cCh7Im1heFdpZHRoIjogIjEwMCUifSk7CgogICAgICAgIAogICAgICAgICAgICB2YXIgaHRtbF9iNThiZmYwYjc5NDk0ZmM4OTM2ODA3NjVhODAyYWU4NyA9ICQoYDxkaXYgaWQ9Imh0bWxfYjU4YmZmMGI3OTQ5NGZjODkzNjgwNzY1YTgwMmFlODciIHN0eWxlPSJ3aWR0aDogMTAwLjAlOyBoZWlnaHQ6IDEwMC4wJTsiPjgwMTU5NDE1NDI4OTwvZGl2PmApWzBdOwogICAgICAgICAgICBwb3B1cF80N2NlYzM3MDI3ZmI0NDk1YTRlZTI1NGEwM2NmYzI2YS5zZXRDb250ZW50KGh0bWxfYjU4YmZmMGI3OTQ5NGZjODkzNjgwNzY1YTgwMmFlODcpOwogICAgICAgIAoKICAgICAgICBtYXJrZXJfNjZjOGI2MjQ2N2FjNGRhM2I0MGZiNDRlZDhmOWZiZjAuYmluZFBvcHVwKHBvcHVwXzQ3Y2VjMzcwMjdmYjQ0OTVhNGVlMjU0YTAzY2ZjMjZhKQogICAgICAgIDsKCiAgICAgICAgCiAgICAKICAgIAogICAgICAgICAgICBtYXJrZXJfNjZjOGI2MjQ2N2FjNGRhM2I0MGZiNDRlZDhmOWZiZjAuYmluZFRvb2x0aXAoCiAgICAgICAgICAgICAgICBgPGRpdj4KICAgICAgICAgICAgICAgICAgICAgMSByb29tczxicj42MDAwLjAgVUFICiAgICAgICAgICAgICAgICAgPC9kaXY+YCwKICAgICAgICAgICAgICAgIHsic3RpY2t5IjogdHJ1ZX0KICAgICAgICAgICAgKTsKICAgICAgICAKICAgIAogICAgICAgICAgICB2YXIgbWFya2VyXzZmZGY4NzA4MTE4MDQ0YzNiYmU4YWNiOWM1ZDU2ZDY0ID0gTC5tYXJrZXIoCiAgICAgICAgICAgICAgICBbNDkuODM5NTgzOCwgMjQuMDI0ODk0OV0sCiAgICAgICAgICAgICAgICB7fQogICAgICAgICAgICApLmFkZFRvKG1hcF9lMDcxYWEyNzM0MTM0NmZkYmFmZGU4MTdjZjA3MjY2Mik7CiAgICAgICAgCiAgICAKICAgICAgICAgICAgdmFyIGljb25fNWQ1MGNmMzQwZjUzNDllY2E0ZmViNzY5ZjIxZDY3OTAgPSBMLkF3ZXNvbWVNYXJrZXJzLmljb24oCiAgICAgICAgICAgICAgICB7ImV4dHJhQ2xhc3NlcyI6ICJmYS1yb3RhdGUtMCIsICJpY29uIjogImluZm8tc2lnbiIsICJpY29uQ29sb3IiOiAid2hpdGUiLCAibWFya2VyQ29sb3IiOiAiZ3JlZW4iLCAicHJlZml4IjogImdseXBoaWNvbiJ9CiAgICAgICAgICAgICk7CiAgICAgICAgICAgIG1hcmtlcl82ZmRmODcwODExODA0NGMzYmJlOGFjYjljNWQ1NmQ2NC5zZXRJY29uKGljb25fNWQ1MGNmMzQwZjUzNDllY2E0ZmViNzY5ZjIxZDY3OTApOwogICAgICAgIAogICAgCiAgICAgICAgdmFyIHBvcHVwX2JhMDEwOTllMjE3NjQwZjJhMjJkNjhjMDFmOGM1ZjYxID0gTC5wb3B1cCh7Im1heFdpZHRoIjogIjEwMCUifSk7CgogICAgICAgIAogICAgICAgICAgICB2YXIgaHRtbF9hNjMxNGRiYmJjYjk0MGU5YWI3ZmY0MjNkOTc2NzY0NyA9ICQoYDxkaXYgaWQ9Imh0bWxfYTYzMTRkYmJiY2I5NDBlOWFiN2ZmNDIzZDk3Njc2NDciIHN0eWxlPSJ3aWR0aDogMTAwLjAlOyBoZWlnaHQ6IDEwMC4wJTsiPjgwMTU5NDE1MzAyNDwvZGl2PmApWzBdOwogICAgICAgICAgICBwb3B1cF9iYTAxMDk5ZTIxNzY0MGYyYTIyZDY4YzAxZjhjNWY2MS5zZXRDb250ZW50KGh0bWxfYTYzMTRkYmJiY2I5NDBlOWFiN2ZmNDIzZDk3Njc2NDcpOwogICAgICAgIAoKICAgICAgICBtYXJrZXJfNmZkZjg3MDgxMTgwNDRjM2JiZThhY2I5YzVkNTZkNjQuYmluZFBvcHVwKHBvcHVwX2JhMDEwOTllMjE3NjQwZjJhMjJkNjhjMDFmOGM1ZjYxKQogICAgICAgIDsKCiAgICAgICAgCiAgICAKICAgIAogICAgICAgICAgICBtYXJrZXJfNmZkZjg3MDgxMTgwNDRjM2JiZThhY2I5YzVkNTZkNjQuYmluZFRvb2x0aXAoCiAgICAgICAgICAgICAgICBgPGRpdj4KICAgICAgICAgICAgICAgICAgICAgMSByb29tczxicj42MDAwLjAgVUFICiAgICAgICAgICAgICAgICAgPC9kaXY+YCwKICAgICAgICAgICAgICAgIHsic3RpY2t5IjogdHJ1ZX0KICAgICAgICAgICAgKTsKICAgICAgICAKICAgIAogICAgICAgICAgICB2YXIgbWFya2VyXzRlMzg5OThlMDA1NjQ5MGY4NDljMjFkMDAxNTljMjRmID0gTC5tYXJrZXIoCiAgICAgICAgICAgICAgICBbNDkuODMyMjQzMiwgMjQuMDQ5NzQ2N10sCiAgICAgICAgICAgICAgICB7fQogICAgICAgICAgICApLmFkZFRvKG1hcF9lMDcxYWEyNzM0MTM0NmZkYmFmZGU4MTdjZjA3MjY2Mik7CiAgICAgICAgCiAgICAKICAgICAgICAgICAgdmFyIGljb25fZTAyZjM5M2Y2ZTg3NDViYmJlYTE4YjBiNTEyMDZiZGYgPSBMLkF3ZXNvbWVNYXJrZXJzLmljb24oCiAgICAgICAgICAgICAgICB7ImV4dHJhQ2xhc3NlcyI6ICJmYS1yb3RhdGUtMCIsICJpY29uIjogImluZm8tc2lnbiIsICJpY29uQ29sb3IiOiAid2hpdGUiLCAibWFya2VyQ29sb3IiOiAiZ3JlZW4iLCAicHJlZml4IjogImdseXBoaWNvbiJ9CiAgICAgICAgICAgICk7CiAgICAgICAgICAgIG1hcmtlcl80ZTM4OTk4ZTAwNTY0OTBmODQ5YzIxZDAwMTU5YzI0Zi5zZXRJY29uKGljb25fZTAyZjM5M2Y2ZTg3NDViYmJlYTE4YjBiNTEyMDZiZGYpOwogICAgICAgIAogICAgCiAgICAgICAgdmFyIHBvcHVwX2FlMmExMmIxOGNjYjQwNGZiODdlMzZlNGJkNzFjODExID0gTC5wb3B1cCh7Im1heFdpZHRoIjogIjEwMCUifSk7CgogICAgICAgIAogICAgICAgICAgICB2YXIgaHRtbF80ZTc4OTAxZWVhY2Q0NDE3YTg4MDNhODBkZTE5YjVhMiA9ICQoYDxkaXYgaWQ9Imh0bWxfNGU3ODkwMWVlYWNkNDQxN2E4ODAzYTgwZGUxOWI1YTIiIHN0eWxlPSJ3aWR0aDogMTAwLjAlOyBoZWlnaHQ6IDEwMC4wJTsiPjcwMTU5MzY3ODYwOTwvZGl2PmApWzBdOwogICAgICAgICAgICBwb3B1cF9hZTJhMTJiMThjY2I0MDRmYjg3ZTM2ZTRiZDcxYzgxMS5zZXRDb250ZW50KGh0bWxfNGU3ODkwMWVlYWNkNDQxN2E4ODAzYTgwZGUxOWI1YTIpOwogICAgICAgIAoKICAgICAgICBtYXJrZXJfNGUzODk5OGUwMDU2NDkwZjg0OWMyMWQwMDE1OWMyNGYuYmluZFBvcHVwKHBvcHVwX2FlMmExMmIxOGNjYjQwNGZiODdlMzZlNGJkNzFjODExKQogICAgICAgIDsKCiAgICAgICAgCiAgICAKICAgIAogICAgICAgICAgICBtYXJrZXJfNGUzODk5OGUwMDU2NDkwZjg0OWMyMWQwMDE1OWMyNGYuYmluZFRvb2x0aXAoCiAgICAgICAgICAgICAgICBgPGRpdj4KICAgICAgICAgICAgICAgICAgICAgMSByb29tczxicj44MDAwLjAgVUFICiAgICAgICAgICAgICAgICAgPC9kaXY+YCwKICAgICAgICAgICAgICAgIHsic3RpY2t5IjogdHJ1ZX0KICAgICAgICAgICAgKTsKICAgICAgICAKICAgIAogICAgICAgICAgICB2YXIgbWFya2VyXzg4NDg5Y2U3MDY5ZjQwNGU4NGIyMmM5MjE4NWQwZmUzID0gTC5tYXJrZXIoCiAgICAgICAgICAgICAgICBbNDkuODEwNzI1Mzk5OTk5OTk1LCAyNC4wMDA5NDI3XSwKICAgICAgICAgICAgICAgIHt9CiAgICAgICAgICAgICkuYWRkVG8obWFwX2UwNzFhYTI3MzQxMzQ2ZmRiYWZkZTgxN2NmMDcyNjYyKTsKICAgICAgICAKICAgIAogICAgICAgICAgICB2YXIgaWNvbl8zZGJmYjI1MWIzMjg0YjJhOTA2ZGU0ZmNmYjljMTgxMiA9IEwuQXdlc29tZU1hcmtlcnMuaWNvbigKICAgICAgICAgICAgICAgIHsiZXh0cmFDbGFzc2VzIjogImZhLXJvdGF0ZS0wIiwgImljb24iOiAiaW5mby1zaWduIiwgImljb25Db2xvciI6ICJ3aGl0ZSIsICJtYXJrZXJDb2xvciI6ICJibHVlIiwgInByZWZpeCI6ICJnbHlwaGljb24ifQogICAgICAgICAgICApOwogICAgICAgICAgICBtYXJrZXJfODg0ODljZTcwNjlmNDA0ZTg0YjIyYzkyMTg1ZDBmZTMuc2V0SWNvbihpY29uXzNkYmZiMjUxYjMyODRiMmE5MDZkZTRmY2ZiOWMxODEyKTsKICAgICAgICAKICAgIAogICAgICAgIHZhciBwb3B1cF8zMDVmMTJlYjJlZDE0NzU2ODBlZWNmNTkwNzNlYTA2NiA9IEwucG9wdXAoeyJtYXhXaWR0aCI6ICIxMDAlIn0pOwoKICAgICAgICAKICAgICAgICAgICAgdmFyIGh0bWxfMGUzYmU3M2UwMzE3NGFhMDg5ODVmOWI3NDg1YjM2ZDcgPSAkKGA8ZGl2IGlkPSJodG1sXzBlM2JlNzNlMDMxNzRhYTA4OTg1ZjliNzQ4NWIzNmQ3IiBzdHlsZT0id2lkdGg6IDEwMC4wJTsgaGVpZ2h0OiAxMDAuMCU7Ij43MDE1OTM1MjU4NDE8L2Rpdj5gKVswXTsKICAgICAgICAgICAgcG9wdXBfMzA1ZjEyZWIyZWQxNDc1NjgwZWVjZjU5MDczZWEwNjYuc2V0Q29udGVudChodG1sXzBlM2JlNzNlMDMxNzRhYTA4OTg1ZjliNzQ4NWIzNmQ3KTsKICAgICAgICAKCiAgICAgICAgbWFya2VyXzg4NDg5Y2U3MDY5ZjQwNGU4NGIyMmM5MjE4NWQwZmUzLmJpbmRQb3B1cChwb3B1cF8zMDVmMTJlYjJlZDE0NzU2ODBlZWNmNTkwNzNlYTA2NikKICAgICAgICA7CgogICAgICAgIAogICAgCiAgICAKICAgICAgICAgICAgbWFya2VyXzg4NDg5Y2U3MDY5ZjQwNGU4NGIyMmM5MjE4NWQwZmUzLmJpbmRUb29sdGlwKAogICAgICAgICAgICAgICAgYDxkaXY+CiAgICAgICAgICAgICAgICAgICAgIDIgcm9vbXM8YnI+MTM2MjQuMCBVQUgKICAgICAgICAgICAgICAgICA8L2Rpdj5gLAogICAgICAgICAgICAgICAgeyJzdGlja3kiOiB0cnVlfQogICAgICAgICAgICApOwogICAgICAgIAogICAgCiAgICAgICAgICAgIHZhciBtYXJrZXJfMjQ1ZTVmZDIxMDJjNDFmNTk1OGIxMTdlMTg4YmM4ZjQgPSBMLm1hcmtlcigKICAgICAgICAgICAgICAgIFs0OS44MzM5NDMsIDIzLjk4ODEyMzJdLAogICAgICAgICAgICAgICAge30KICAgICAgICAgICAgKS5hZGRUbyhtYXBfZTA3MWFhMjczNDEzNDZmZGJhZmRlODE3Y2YwNzI2NjIpOwogICAgICAgIAogICAgCiAgICAgICAgICAgIHZhciBpY29uXzEwMWU3NWY4NWZkMTQ2MzViZWY3OTgzYTUyMmM0ZWJkID0gTC5Bd2Vzb21lTWFya2Vycy5pY29uKAogICAgICAgICAgICAgICAgeyJleHRyYUNsYXNzZXMiOiAiZmEtcm90YXRlLTAiLCAiaWNvbiI6ICJpbmZvLXNpZ24iLCAiaWNvbkNvbG9yIjogIndoaXRlIiwgIm1hcmtlckNvbG9yIjogInllbGxvdyIsICJwcmVmaXgiOiAiZ2x5cGhpY29uIn0KICAgICAgICAgICAgKTsKICAgICAgICAgICAgbWFya2VyXzI0NWU1ZmQyMTAyYzQxZjU5NThiMTE3ZTE4OGJjOGY0LnNldEljb24oaWNvbl8xMDFlNzVmODVmZDE0NjM1YmVmNzk4M2E1MjJjNGViZCk7CiAgICAgICAgCiAgICAKICAgICAgICB2YXIgcG9wdXBfZDY2ZDk3ZWFlMDNiNDdlYWE5YzMwYjllYThiYjI3MDAgPSBMLnBvcHVwKHsibWF4V2lkdGgiOiAiMTAwJSJ9KTsKCiAgICAgICAgCiAgICAgICAgICAgIHZhciBodG1sXzQxOGJmODNiOWQ1NzQ1NmFiN2IyYjYyZTcyZTAxMDZjID0gJChgPGRpdiBpZD0iaHRtbF80MThiZjgzYjlkNTc0NTZhYjdiMmI2MmU3MmUwMTA2YyIgc3R5bGU9IndpZHRoOiAxMDAuMCU7IGhlaWdodDogMTAwLjAlOyI+NjAxNTk0MTQ1MTk5PC9kaXY+YClbMF07CiAgICAgICAgICAgIHBvcHVwX2Q2NmQ5N2VhZTAzYjQ3ZWFhOWMzMGI5ZWE4YmIyNzAwLnNldENvbnRlbnQoaHRtbF80MThiZjgzYjlkNTc0NTZhYjdiMmI2MmU3MmUwMTA2Yyk7CiAgICAgICAgCgogICAgICAgIG1hcmtlcl8yNDVlNWZkMjEwMmM0MWY1OTU4YjExN2UxODhiYzhmNC5iaW5kUG9wdXAocG9wdXBfZDY2ZDk3ZWFlMDNiNDdlYWE5YzMwYjllYThiYjI3MDApCiAgICAgICAgOwoKICAgICAgICAKICAgIAogICAgCiAgICAgICAgICAgIG1hcmtlcl8yNDVlNWZkMjEwMmM0MWY1OTU4YjExN2UxODhiYzhmNC5iaW5kVG9vbHRpcCgKICAgICAgICAgICAgICAgIGA8ZGl2PgogICAgICAgICAgICAgICAgICAgICAzIHJvb21zPGJyPjU0NTAuMCBVQUgKICAgICAgICAgICAgICAgICA8L2Rpdj5gLAogICAgICAgICAgICAgICAgeyJzdGlja3kiOiB0cnVlfQogICAgICAgICAgICApOwogICAgICAgIAogICAgCiAgICAgICAgICAgIHZhciBtYXJrZXJfNTBlODVhZDJkZWY2NGYwOTljYTU0NDMwMGFlOWRlN2IgPSBMLm1hcmtlcigKICAgICAgICAgICAgICAgIFs0OS44MTc3NDY5LCAyMy45ODcyMjg2XSwKICAgICAgICAgICAgICAgIHt9CiAgICAgICAgICAgICkuYWRkVG8obWFwX2UwNzFhYTI3MzQxMzQ2ZmRiYWZkZTgxN2NmMDcyNjYyKTsKICAgICAgICAKICAgIAogICAgICAgICAgICB2YXIgaWNvbl8xZmY2MDRmOTlkOGE0YzE0YTZiNmFjMTcyOGVhNGE5YiA9IEwuQXdlc29tZU1hcmtlcnMuaWNvbigKICAgICAgICAgICAgICAgIHsiZXh0cmFDbGFzc2VzIjogImZhLXJvdGF0ZS0wIiwgImljb24iOiAiaW5mby1zaWduIiwgImljb25Db2xvciI6ICJ3aGl0ZSIsICJtYXJrZXJDb2xvciI6ICJncmVlbiIsICJwcmVmaXgiOiAiZ2x5cGhpY29uIn0KICAgICAgICAgICAgKTsKICAgICAgICAgICAgbWFya2VyXzUwZTg1YWQyZGVmNjRmMDk5Y2E1NDQzMDBhZTlkZTdiLnNldEljb24oaWNvbl8xZmY2MDRmOTlkOGE0YzE0YTZiNmFjMTcyOGVhNGE5Yik7CiAgICAgICAgCiAgICAKICAgICAgICB2YXIgcG9wdXBfODA4ZjA3YmY0YTg5NDVkZDljNjk5ZWJiMmFkZjY1ODcgPSBMLnBvcHVwKHsibWF4V2lkdGgiOiAiMTAwJSJ9KTsKCiAgICAgICAgCiAgICAgICAgICAgIHZhciBodG1sX2Q1YjdjNTg2ZTAwYTQ5MmZiMTY3MTcxODMzOGNjMjIzID0gJChgPGRpdiBpZD0iaHRtbF9kNWI3YzU4NmUwMGE0OTJmYjE2NzE3MTgzMzhjYzIyMyIgc3R5bGU9IndpZHRoOiAxMDAuMCU7IGhlaWdodDogMTAwLjAlOyI+NjAxNTkyODQ0MzM1PC9kaXY+YClbMF07CiAgICAgICAgICAgIHBvcHVwXzgwOGYwN2JmNGE4OTQ1ZGQ5YzY5OWViYjJhZGY2NTg3LnNldENvbnRlbnQoaHRtbF9kNWI3YzU4NmUwMGE0OTJmYjE2NzE3MTgzMzhjYzIyMyk7CiAgICAgICAgCgogICAgICAgIG1hcmtlcl81MGU4NWFkMmRlZjY0ZjA5OWNhNTQ0MzAwYWU5ZGU3Yi5iaW5kUG9wdXAocG9wdXBfODA4ZjA3YmY0YTg5NDVkZDljNjk5ZWJiMmFkZjY1ODcpCiAgICAgICAgOwoKICAgICAgICAKICAgIAogICAgCiAgICAgICAgICAgIG1hcmtlcl81MGU4NWFkMmRlZjY0ZjA5OWNhNTQ0MzAwYWU5ZGU3Yi5iaW5kVG9vbHRpcCgKICAgICAgICAgICAgICAgIGA8ZGl2PgogICAgICAgICAgICAgICAgICAgICAxIHJvb21zPGJyPjgwMDAuMCBVQUgKICAgICAgICAgICAgICAgICA8L2Rpdj5gLAogICAgICAgICAgICAgICAgeyJzdGlja3kiOiB0cnVlfQogICAgICAgICAgICApOwogICAgICAgIAogICAgCiAgICAgICAgICAgIHZhciBtYXJrZXJfYTQ0NzQxNzk4NjI3NGU0ZmE2M2Q3MWM1Nzc5ZmQyYTggPSBMLm1hcmtlcigKICAgICAgICAgICAgICAgIFs0OS44MjQ3Njg2LCAyNC4wMTAyODQ4XSwKICAgICAgICAgICAgICAgIHt9CiAgICAgICAgICAgICkuYWRkVG8obWFwX2UwNzFhYTI3MzQxMzQ2ZmRiYWZkZTgxN2NmMDcyNjYyKTsKICAgICAgICAKICAgIAogICAgICAgICAgICB2YXIgaWNvbl9kMGY1NWVhNmVlMTA0MjY3OWNlYTBhNGEyMTIzYTE1YiA9IEwuQXdlc29tZU1hcmtlcnMuaWNvbigKICAgICAgICAgICAgICAgIHsiZXh0cmFDbGFzc2VzIjogImZhLXJvdGF0ZS0wIiwgImljb24iOiAiaW5mby1zaWduIiwgImljb25Db2xvciI6ICJ3aGl0ZSIsICJtYXJrZXJDb2xvciI6ICJibHVlIiwgInByZWZpeCI6ICJnbHlwaGljb24ifQogICAgICAgICAgICApOwogICAgICAgICAgICBtYXJrZXJfYTQ0NzQxNzk4NjI3NGU0ZmE2M2Q3MWM1Nzc5ZmQyYTguc2V0SWNvbihpY29uX2QwZjU1ZWE2ZWUxMDQyNjc5Y2VhMGE0YTIxMjNhMTViKTsKICAgICAgICAKICAgIAogICAgICAgIHZhciBwb3B1cF8xODRiMTBlOTY3Zjk0N2EwYjQ3NTM0YTNiODNkMDI3ZCA9IEwucG9wdXAoeyJtYXhXaWR0aCI6ICIxMDAlIn0pOwoKICAgICAgICAKICAgICAgICAgICAgdmFyIGh0bWxfMWUyYTRiNjZkNmU2NGRhZGJiNTcwZmQzNzYzZWNkNGUgPSAkKGA8ZGl2IGlkPSJodG1sXzFlMmE0YjY2ZDZlNjRkYWRiYjU3MGZkMzc2M2VjZDRlIiBzdHlsZT0id2lkdGg6IDEwMC4wJTsgaGVpZ2h0OiAxMDAuMCU7Ij41MDE1OTQyMzMwNDE8L2Rpdj5gKVswXTsKICAgICAgICAgICAgcG9wdXBfMTg0YjEwZTk2N2Y5NDdhMGI0NzUzNGEzYjgzZDAyN2Quc2V0Q29udGVudChodG1sXzFlMmE0YjY2ZDZlNjRkYWRiYjU3MGZkMzc2M2VjZDRlKTsKICAgICAgICAKCiAgICAgICAgbWFya2VyX2E0NDc0MTc5ODYyNzRlNGZhNjNkNzFjNTc3OWZkMmE4LmJpbmRQb3B1cChwb3B1cF8xODRiMTBlOTY3Zjk0N2EwYjQ3NTM0YTNiODNkMDI3ZCkKICAgICAgICA7CgogICAgICAgIAogICAgCiAgICAKICAgICAgICAgICAgbWFya2VyX2E0NDc0MTc5ODYyNzRlNGZhNjNkNzFjNTc3OWZkMmE4LmJpbmRUb29sdGlwKAogICAgICAgICAgICAgICAgYDxkaXY+CiAgICAgICAgICAgICAgICAgICAgIDIgcm9vbXM8YnI+MTQ5ODYuMCBVQUgKICAgICAgICAgICAgICAgICA8L2Rpdj5gLAogICAgICAgICAgICAgICAgeyJzdGlja3kiOiB0cnVlfQogICAgICAgICAgICApOwogICAgICAgIAogICAgCiAgICAgICAgICAgIHZhciBtYXJrZXJfZGQyNmFkZGU4MjliNDNjMTljOTc4MDAyMTY3MWVjNDMgPSBMLm1hcmtlcigKICAgICAgICAgICAgICAgIFs0OS44NDgwNTcxLCAyMy45OTY3Mjg0XSwKICAgICAgICAgICAgICAgIHt9CiAgICAgICAgICAgICkuYWRkVG8obWFwX2UwNzFhYTI3MzQxMzQ2ZmRiYWZkZTgxN2NmMDcyNjYyKTsKICAgICAgICAKICAgIAogICAgICAgICAgICB2YXIgaWNvbl9hZTM0MmFiNjY0NjU0M2Q4OWZiOTQ4ZDNiZDExYTM3OSA9IEwuQXdlc29tZU1hcmtlcnMuaWNvbigKICAgICAgICAgICAgICAgIHsiZXh0cmFDbGFzc2VzIjogImZhLXJvdGF0ZS0wIiwgImljb24iOiAiaW5mby1zaWduIiwgImljb25Db2xvciI6ICJ3aGl0ZSIsICJtYXJrZXJDb2xvciI6ICJibHVlIiwgInByZWZpeCI6ICJnbHlwaGljb24ifQogICAgICAgICAgICApOwogICAgICAgICAgICBtYXJrZXJfZGQyNmFkZGU4MjliNDNjMTljOTc4MDAyMTY3MWVjNDMuc2V0SWNvbihpY29uX2FlMzQyYWI2NjQ2NTQzZDg5ZmI5NDhkM2JkMTFhMzc5KTsKICAgICAgICAKICAgIAogICAgICAgIHZhciBwb3B1cF8yNGI4ODdmMDgzMzM0YTBjODM2NmU4MTNiYzM4YTNhMiA9IEwucG9wdXAoeyJtYXhXaWR0aCI6ICIxMDAlIn0pOwoKICAgICAgICAKICAgICAgICAgICAgdmFyIGh0bWxfZWQ5NzA2OWQ1OTZiNDEzOGJkYmFiODA5M2NlODk1MjQgPSAkKGA8ZGl2IGlkPSJodG1sX2VkOTcwNjlkNTk2YjQxMzhiZGJhYjgwOTNjZTg5NTI0IiBzdHlsZT0id2lkdGg6IDEwMC4wJTsgaGVpZ2h0OiAxMDAuMCU7Ij4yMDE1OTQ0NzY3NjI8L2Rpdj5gKVswXTsKICAgICAgICAgICAgcG9wdXBfMjRiODg3ZjA4MzMzNGEwYzgzNjZlODEzYmMzOGEzYTIuc2V0Q29udGVudChodG1sX2VkOTcwNjlkNTk2YjQxMzhiZGJhYjgwOTNjZTg5NTI0KTsKICAgICAgICAKCiAgICAgICAgbWFya2VyX2RkMjZhZGRlODI5YjQzYzE5Yzk3ODAwMjE2NzFlYzQzLmJpbmRQb3B1cChwb3B1cF8yNGI4ODdmMDgzMzM0YTBjODM2NmU4MTNiYzM4YTNhMikKICAgICAgICA7CgogICAgICAgIAogICAgCiAgICAKICAgICAgICAgICAgbWFya2VyX2RkMjZhZGRlODI5YjQzYzE5Yzk3ODAwMjE2NzFlYzQzLmJpbmRUb29sdGlwKAogICAgICAgICAgICAgICAgYDxkaXY+CiAgICAgICAgICAgICAgICAgICAgIDIgcm9vbXM8YnI+OTUwMC4wIFVBSAogICAgICAgICAgICAgICAgIDwvZGl2PmAsCiAgICAgICAgICAgICAgICB7InN0aWNreSI6IHRydWV9CiAgICAgICAgICAgICk7CiAgICAgICAgCiAgICAKICAgICAgICAgICAgdmFyIG1hcmtlcl9mZDNjNTVkYTE0Njk0OTdjOTk0MDNhMmNlMmJmZTlkMiA9IEwubWFya2VyKAogICAgICAgICAgICAgICAgWzQ5LjgyNjg0MDk5OTk5OTk5NSwgMjQuMDE0NDk5XSwKICAgICAgICAgICAgICAgIHt9CiAgICAgICAgICAgICkuYWRkVG8obWFwX2UwNzFhYTI3MzQxMzQ2ZmRiYWZkZTgxN2NmMDcyNjYyKTsKICAgICAgICAKICAgIAogICAgICAgICAgICB2YXIgaWNvbl8zYThiNzgwMTRmYmU0YjQ5YWJiNzc3MWFhYWJiNDRjOSA9IEwuQXdlc29tZU1hcmtlcnMuaWNvbigKICAgICAgICAgICAgICAgIHsiZXh0cmFDbGFzc2VzIjogImZhLXJvdGF0ZS0wIiwgImljb24iOiAiaW5mby1zaWduIiwgImljb25Db2xvciI6ICJ3aGl0ZSIsICJtYXJrZXJDb2xvciI6ICJ5ZWxsb3ciLCAicHJlZml4IjogImdseXBoaWNvbiJ9CiAgICAgICAgICAgICk7CiAgICAgICAgICAgIG1hcmtlcl9mZDNjNTVkYTE0Njk0OTdjOTk0MDNhMmNlMmJmZTlkMi5zZXRJY29uKGljb25fM2E4Yjc4MDE0ZmJlNGI0OWFiYjc3NzFhYWFiYjQ0YzkpOwogICAgICAgIAogICAgCiAgICAgICAgdmFyIHBvcHVwXzMwNmFiNWE2M2NkYzQ1MDdiYWRiMTI3ZTRiODIwYWQ1ID0gTC5wb3B1cCh7Im1heFdpZHRoIjogIjEwMCUifSk7CgogICAgICAgIAogICAgICAgICAgICB2YXIgaHRtbF9hMDc3NGUyYWRmYmQ0MWMwODcxZTFkZDMxNzYxYWQyNSA9ICQoYDxkaXYgaWQ9Imh0bWxfYTA3NzRlMmFkZmJkNDFjMDg3MWUxZGQzMTc2MWFkMjUiIHN0eWxlPSJ3aWR0aDogMTAwLjAlOyBoZWlnaHQ6IDEwMC4wJTsiPjEwMTU5Mzk1NDQ3NjwvZGl2PmApWzBdOwogICAgICAgICAgICBwb3B1cF8zMDZhYjVhNjNjZGM0NTA3YmFkYjEyN2U0YjgyMGFkNS5zZXRDb250ZW50KGh0bWxfYTA3NzRlMmFkZmJkNDFjMDg3MWUxZGQzMTc2MWFkMjUpOwogICAgICAgIAoKICAgICAgICBtYXJrZXJfZmQzYzU1ZGExNDY5NDk3Yzk5NDAzYTJjZTJiZmU5ZDIuYmluZFBvcHVwKHBvcHVwXzMwNmFiNWE2M2NkYzQ1MDdiYWRiMTI3ZTRiODIwYWQ1KQogICAgICAgIDsKCiAgICAgICAgCiAgICAKICAgIAogICAgICAgICAgICBtYXJrZXJfZmQzYzU1ZGExNDY5NDk3Yzk5NDAzYTJjZTJiZmU5ZDIuYmluZFRvb2x0aXAoCiAgICAgICAgICAgICAgICBgPGRpdj4KICAgICAgICAgICAgICAgICAgICAgMyByb29tczxicj4xNTAwMC4wIFVBSAogICAgICAgICAgICAgICAgIDwvZGl2PmAsCiAgICAgICAgICAgICAgICB7InN0aWNreSI6IHRydWV9CiAgICAgICAgICAgICk7CiAgICAgICAgCiAgICAKICAgICAgICAgICAgdmFyIG1hcmtlcl8zNmMzMTdkNjYzZDI0MzY0OWQzNzUyMGI3ZWRjYzMzZCA9IEwubWFya2VyKAogICAgICAgICAgICAgICAgWzQ5Ljg0NzAxMDQ5OTk5OTk5NiwgMjQuMDI0NTcyOV0sCiAgICAgICAgICAgICAgICB7fQogICAgICAgICAgICApLmFkZFRvKG1hcF9lMDcxYWEyNzM0MTM0NmZkYmFmZGU4MTdjZjA3MjY2Mik7CiAgICAgICAgCiAgICAKICAgICAgICAgICAgdmFyIGljb25fMWE2YmVjMmI5OWU4NGIzYzk2MzY2NGZmMDI1ZGI4YTkgPSBMLkF3ZXNvbWVNYXJrZXJzLmljb24oCiAgICAgICAgICAgICAgICB7ImV4dHJhQ2xhc3NlcyI6ICJmYS1yb3RhdGUtMCIsICJpY29uIjogImluZm8tc2lnbiIsICJpY29uQ29sb3IiOiAid2hpdGUiLCAibWFya2VyQ29sb3IiOiAiZ3JlZW4iLCAicHJlZml4IjogImdseXBoaWNvbiJ9CiAgICAgICAgICAgICk7CiAgICAgICAgICAgIG1hcmtlcl8zNmMzMTdkNjYzZDI0MzY0OWQzNzUyMGI3ZWRjYzMzZC5zZXRJY29uKGljb25fMWE2YmVjMmI5OWU4NGIzYzk2MzY2NGZmMDI1ZGI4YTkpOwogICAgICAgIAogICAgCiAgICAgICAgdmFyIHBvcHVwX2U3MzE4N2ViMWMzZTRkNTlhMmQ5YjI1MzQ2YTAzZDU5ID0gTC5wb3B1cCh7Im1heFdpZHRoIjogIjEwMCUifSk7CgogICAgICAgIAogICAgICAgICAgICB2YXIgaHRtbF84MDEzY2ZiMzMxNGM0MzA1OGNhOWJmMGEwYTJkOWYwYiA9ICQoYDxkaXYgaWQ9Imh0bWxfODAxM2NmYjMzMTRjNDMwNThjYTliZjBhMGEyZDlmMGIiIHN0eWxlPSJ3aWR0aDogMTAwLjAlOyBoZWlnaHQ6IDEwMC4wJTsiPjEwMTU5MzQ1NzQwNzwvZGl2PmApWzBdOwogICAgICAgICAgICBwb3B1cF9lNzMxODdlYjFjM2U0ZDU5YTJkOWIyNTM0NmEwM2Q1OS5zZXRDb250ZW50KGh0bWxfODAxM2NmYjMzMTRjNDMwNThjYTliZjBhMGEyZDlmMGIpOwogICAgICAgIAoKICAgICAgICBtYXJrZXJfMzZjMzE3ZDY2M2QyNDM2NDlkMzc1MjBiN2VkY2MzM2QuYmluZFBvcHVwKHBvcHVwX2U3MzE4N2ViMWMzZTRkNTlhMmQ5YjI1MzQ2YTAzZDU5KQogICAgICAgIDsKCiAgICAgICAgCiAgICAKICAgIAogICAgICAgICAgICBtYXJrZXJfMzZjMzE3ZDY2M2QyNDM2NDlkMzc1MjBiN2VkY2MzM2QuYmluZFRvb2x0aXAoCiAgICAgICAgICAgICAgICBgPGRpdj4KICAgICAgICAgICAgICAgICAgICAgMSByb29tczxicj42NTAwLjAgVUFICiAgICAgICAgICAgICAgICAgPC9kaXY+YCwKICAgICAgICAgICAgICAgIHsic3RpY2t5IjogdHJ1ZX0KICAgICAgICAgICAgKTsKICAgICAgICAKICAgIAogICAgICAgICAgICB2YXIgbWFya2VyXzRkYzg1YzE5MjE5NTQwMmU4ZTliMGYwMGVmZDIyZjA1ID0gTC5tYXJrZXIoCiAgICAgICAgICAgICAgICBbNDkuODUxOTIyMTAwMjM0MDA2LCAyNC4wMjQ2Mzk3NzIyNDRdLAogICAgICAgICAgICAgICAge30KICAgICAgICAgICAgKS5hZGRUbyhtYXBfZTA3MWFhMjczNDEzNDZmZGJhZmRlODE3Y2YwNzI2NjIpOwogICAgICAgIAogICAgCiAgICAgICAgICAgIHZhciBpY29uXzU4YmE4Zjg3MTAxZDQwNDQ4ZjA2YWEzNGM5NDlmNWU1ID0gTC5Bd2Vzb21lTWFya2Vycy5pY29uKAogICAgICAgICAgICAgICAgeyJleHRyYUNsYXNzZXMiOiAiZmEtcm90YXRlLTAiLCAiaWNvbiI6ICJpbmZvLXNpZ24iLCAiaWNvbkNvbG9yIjogIndoaXRlIiwgIm1hcmtlckNvbG9yIjogImdyZWVuIiwgInByZWZpeCI6ICJnbHlwaGljb24ifQogICAgICAgICAgICApOwogICAgICAgICAgICBtYXJrZXJfNGRjODVjMTkyMTk1NDAyZThlOWIwZjAwZWZkMjJmMDUuc2V0SWNvbihpY29uXzU4YmE4Zjg3MTAxZDQwNDQ4ZjA2YWEzNGM5NDlmNWU1KTsKICAgICAgICAKICAgIAogICAgICAgIHZhciBwb3B1cF8xYmYwOGVkODRiYjE0MzlhODEwYmE5ZTQ3NzY2ZmVlOSA9IEwucG9wdXAoeyJtYXhXaWR0aCI6ICIxMDAlIn0pOwoKICAgICAgICAKICAgICAgICAgICAgdmFyIGh0bWxfZWI2ZGY2ZTU4NmQ1NGRlYjliYTQyN2RlYjUzOTBmODUgPSAkKGA8ZGl2IGlkPSJodG1sX2ViNmRmNmU1ODZkNTRkZWI5YmE0MjdkZWI1MzkwZjg1IiBzdHlsZT0id2lkdGg6IDEwMC4wJTsgaGVpZ2h0OiAxMDAuMCU7Ij4xNTk0NDY1NTc3PC9kaXY+YClbMF07CiAgICAgICAgICAgIHBvcHVwXzFiZjA4ZWQ4NGJiMTQzOWE4MTBiYTllNDc3NjZmZWU5LnNldENvbnRlbnQoaHRtbF9lYjZkZjZlNTg2ZDU0ZGViOWJhNDI3ZGViNTM5MGY4NSk7CiAgICAgICAgCgogICAgICAgIG1hcmtlcl80ZGM4NWMxOTIxOTU0MDJlOGU5YjBmMDBlZmQyMmYwNS5iaW5kUG9wdXAocG9wdXBfMWJmMDhlZDg0YmIxNDM5YTgxMGJhOWU0Nzc2NmZlZTkpCiAgICAgICAgOwoKICAgICAgICAKICAgIAogICAgCiAgICAgICAgICAgIG1hcmtlcl80ZGM4NWMxOTIxOTU0MDJlOGU5YjBmMDBlZmQyMmYwNS5iaW5kVG9vbHRpcCgKICAgICAgICAgICAgICAgIGA8ZGl2PgogICAgICAgICAgICAgICAgICAgICAxIHJvb21zPGJyPjgwMDAuMCBVQUgKICAgICAgICAgICAgICAgICA8L2Rpdj5gLAogICAgICAgICAgICAgICAgeyJzdGlja3kiOiB0cnVlfQogICAgICAgICAgICApOwogICAgICAgIAogICAgCiAgICAgICAgICAgIHZhciBtYXJrZXJfNmYxZTk4OWVjZjg3NDBjMThjMTViMmQ5YWJlZDExMGYgPSBMLm1hcmtlcigKICAgICAgICAgICAgICAgIFs0OS44NDM1ODU0LCAyNC4wMTc4NzIzOTk5OTk5OThdLAogICAgICAgICAgICAgICAge30KICAgICAgICAgICAgKS5hZGRUbyhtYXBfZTA3MWFhMjczNDEzNDZmZGJhZmRlODE3Y2YwNzI2NjIpOwogICAgICAgIAogICAgCiAgICAgICAgICAgIHZhciBpY29uX2I2ZjJmZjNhNjg4OTQ0M2JhOWJjZDcwMjE3MjYwMjFlID0gTC5Bd2Vzb21lTWFya2Vycy5pY29uKAogICAgICAgICAgICAgICAgeyJleHRyYUNsYXNzZXMiOiAiZmEtcm90YXRlLTAiLCAiaWNvbiI6ICJpbmZvLXNpZ24iLCAiaWNvbkNvbG9yIjogIndoaXRlIiwgIm1hcmtlckNvbG9yIjogImJsdWUiLCAicHJlZml4IjogImdseXBoaWNvbiJ9CiAgICAgICAgICAgICk7CiAgICAgICAgICAgIG1hcmtlcl82ZjFlOTg5ZWNmODc0MGMxOGMxNWIyZDlhYmVkMTEwZi5zZXRJY29uKGljb25fYjZmMmZmM2E2ODg5NDQzYmE5YmNkNzAyMTcyNjAyMWUpOwogICAgICAgIAogICAgCiAgICAgICAgdmFyIHBvcHVwX2YxZmRiYmRmZWFmNjQ5ZDhhNTg0ODEwNjY1Y2ZmYjVhID0gTC5wb3B1cCh7Im1heFdpZHRoIjogIjEwMCUifSk7CgogICAgICAgIAogICAgICAgICAgICB2YXIgaHRtbF9jNmI4ZDNmMDA4ZDg0MjZiYjUwNmE4OGRjOTNkMGNiMCA9ICQoYDxkaXYgaWQ9Imh0bWxfYzZiOGQzZjAwOGQ4NDI2YmI1MDZhODhkYzkzZDBjYjAiIHN0eWxlPSJ3aWR0aDogMTAwLjAlOyBoZWlnaHQ6IDEwMC4wJTsiPjE1OTQ0NjI1Njg8L2Rpdj5gKVswXTsKICAgICAgICAgICAgcG9wdXBfZjFmZGJiZGZlYWY2NDlkOGE1ODQ4MTA2NjVjZmZiNWEuc2V0Q29udGVudChodG1sX2M2YjhkM2YwMDhkODQyNmJiNTA2YTg4ZGM5M2QwY2IwKTsKICAgICAgICAKCiAgICAgICAgbWFya2VyXzZmMWU5ODllY2Y4NzQwYzE4YzE1YjJkOWFiZWQxMTBmLmJpbmRQb3B1cChwb3B1cF9mMWZkYmJkZmVhZjY0OWQ4YTU4NDgxMDY2NWNmZmI1YSkKICAgICAgICA7CgogICAgICAgIAogICAgCiAgICAKICAgICAgICAgICAgbWFya2VyXzZmMWU5ODllY2Y4NzQwYzE4YzE1YjJkOWFiZWQxMTBmLmJpbmRUb29sdGlwKAogICAgICAgICAgICAgICAgYDxkaXY+CiAgICAgICAgICAgICAgICAgICAgIDIgcm9vbXM8YnI+MTA4OTkuMCBVQUgKICAgICAgICAgICAgICAgICA8L2Rpdj5gLAogICAgICAgICAgICAgICAgeyJzdGlja3kiOiB0cnVlfQogICAgICAgICAgICApOwogICAgICAgIAogICAgCiAgICAgICAgICAgIHZhciBtYXJrZXJfMzBmZjYwM2JkZjA0NGFhZGE2NmRlMGI5ZGRiZjcxYTIgPSBMLm1hcmtlcigKICAgICAgICAgICAgICAgIFs0OS44MjYzMzMsIDIzLjk4OTIxMzAwMDAwMDAwM10sCiAgICAgICAgICAgICAgICB7fQogICAgICAgICAgICApLmFkZFRvKG1hcF9lMDcxYWEyNzM0MTM0NmZkYmFmZGU4MTdjZjA3MjY2Mik7CiAgICAgICAgCiAgICAKICAgICAgICAgICAgdmFyIGljb25fYzIwMmNmOTA5ZjljNGFkMWE1YjcwZmQwNmFmYjE2MDkgPSBMLkF3ZXNvbWVNYXJrZXJzLmljb24oCiAgICAgICAgICAgICAgICB7ImV4dHJhQ2xhc3NlcyI6ICJmYS1yb3RhdGUtMCIsICJpY29uIjogImluZm8tc2lnbiIsICJpY29uQ29sb3IiOiAid2hpdGUiLCAibWFya2VyQ29sb3IiOiAiZ3JlZW4iLCAicHJlZml4IjogImdseXBoaWNvbiJ9CiAgICAgICAgICAgICk7CiAgICAgICAgICAgIG1hcmtlcl8zMGZmNjAzYmRmMDQ0YWFkYTY2ZGUwYjlkZGJmNzFhMi5zZXRJY29uKGljb25fYzIwMmNmOTA5ZjljNGFkMWE1YjcwZmQwNmFmYjE2MDkpOwogICAgICAgIAogICAgCiAgICAgICAgdmFyIHBvcHVwX2IzNjJhMDVlYTMxYzQwOTY4ZDVjZmJiNDUzNzJmMTEwID0gTC5wb3B1cCh7Im1heFdpZHRoIjogIjEwMCUifSk7CgogICAgICAgIAogICAgICAgICAgICB2YXIgaHRtbF84NjNkZTM2ZmMyN2Q0NzEzOTRmZjgyNmFkZmRmODNhMSA9ICQoYDxkaXYgaWQ9Imh0bWxfODYzZGUzNmZjMjdkNDcxMzk0ZmY4MjZhZGZkZjgzYTEiIHN0eWxlPSJ3aWR0aDogMTAwLjAlOyBoZWlnaHQ6IDEwMC4wJTsiPjE1OTQ0NTUwMTE8L2Rpdj5gKVswXTsKICAgICAgICAgICAgcG9wdXBfYjM2MmEwNWVhMzFjNDA5NjhkNWNmYmI0NTM3MmYxMTAuc2V0Q29udGVudChodG1sXzg2M2RlMzZmYzI3ZDQ3MTM5NGZmODI2YWRmZGY4M2ExKTsKICAgICAgICAKCiAgICAgICAgbWFya2VyXzMwZmY2MDNiZGYwNDRhYWRhNjZkZTBiOWRkYmY3MWEyLmJpbmRQb3B1cChwb3B1cF9iMzYyYTA1ZWEzMWM0MDk2OGQ1Y2ZiYjQ1MzcyZjExMCkKICAgICAgICA7CgogICAgICAgIAogICAgCiAgICAKICAgICAgICAgICAgbWFya2VyXzMwZmY2MDNiZGYwNDRhYWRhNjZkZTBiOWRkYmY3MWEyLmJpbmRUb29sdGlwKAogICAgICAgICAgICAgICAgYDxkaXY+CiAgICAgICAgICAgICAgICAgICAgIDEgcm9vbXM8YnI+MTA4OTkuMCBVQUgKICAgICAgICAgICAgICAgICA8L2Rpdj5gLAogICAgICAgICAgICAgICAgeyJzdGlja3kiOiB0cnVlfQogICAgICAgICAgICApOwogICAgICAgIAogICAgCiAgICAgICAgICAgIHZhciBtYXJrZXJfNWU5MGZmOGQ5YTVhNDk3NGE1YWNlYzdmMmUyZmEzMTAgPSBMLm1hcmtlcigKICAgICAgICAgICAgICAgIFs0OS44NjE2NjE3OTk5OTk5OSwgMjQuMDI4NzIwMl0sCiAgICAgICAgICAgICAgICB7fQogICAgICAgICAgICApLmFkZFRvKG1hcF9lMDcxYWEyNzM0MTM0NmZkYmFmZGU4MTdjZjA3MjY2Mik7CiAgICAgICAgCiAgICAKICAgICAgICAgICAgdmFyIGljb25fYmM1OTY2NTM1YTJmNDYwYzg2YjU4MGVhMWY2MGU4YmMgPSBMLkF3ZXNvbWVNYXJrZXJzLmljb24oCiAgICAgICAgICAgICAgICB7ImV4dHJhQ2xhc3NlcyI6ICJmYS1yb3RhdGUtMCIsICJpY29uIjogImluZm8tc2lnbiIsICJpY29uQ29sb3IiOiAid2hpdGUiLCAibWFya2VyQ29sb3IiOiAiZ3JlZW4iLCAicHJlZml4IjogImdseXBoaWNvbiJ9CiAgICAgICAgICAgICk7CiAgICAgICAgICAgIG1hcmtlcl81ZTkwZmY4ZDlhNWE0OTc0YTVhY2VjN2YyZTJmYTMxMC5zZXRJY29uKGljb25fYmM1OTY2NTM1YTJmNDYwYzg2YjU4MGVhMWY2MGU4YmMpOwogICAgICAgIAogICAgCiAgICAgICAgdmFyIHBvcHVwX2RkY2Q0ZmQ2NGMwOTQ1Yzg4NWNjZjZhYjZkNWQ5NTUzID0gTC5wb3B1cCh7Im1heFdpZHRoIjogIjEwMCUifSk7CgogICAgICAgIAogICAgICAgICAgICB2YXIgaHRtbF85ZDQxMzY3MTI1Y2U0MGJmYjUwODE3MGNjYzQwZTE4YiA9ICQoYDxkaXYgaWQ9Imh0bWxfOWQ0MTM2NzEyNWNlNDBiZmI1MDgxNzBjY2M0MGUxOGIiIHN0eWxlPSJ3aWR0aDogMTAwLjAlOyBoZWlnaHQ6IDEwMC4wJTsiPjE1OTQ0NDkxNDA8L2Rpdj5gKVswXTsKICAgICAgICAgICAgcG9wdXBfZGRjZDRmZDY0YzA5NDVjODg1Y2NmNmFiNmQ1ZDk1NTMuc2V0Q29udGVudChodG1sXzlkNDEzNjcxMjVjZTQwYmZiNTA4MTcwY2NjNDBlMThiKTsKICAgICAgICAKCiAgICAgICAgbWFya2VyXzVlOTBmZjhkOWE1YTQ5NzRhNWFjZWM3ZjJlMmZhMzEwLmJpbmRQb3B1cChwb3B1cF9kZGNkNGZkNjRjMDk0NWM4ODVjY2Y2YWI2ZDVkOTU1MykKICAgICAgICA7CgogICAgICAgIAogICAgCiAgICAKICAgICAgICAgICAgbWFya2VyXzVlOTBmZjhkOWE1YTQ5NzRhNWFjZWM3ZjJlMmZhMzEwLmJpbmRUb29sdGlwKAogICAgICAgICAgICAgICAgYDxkaXY+CiAgICAgICAgICAgICAgICAgICAgIDEgcm9vbXM8YnI+ODUwMC4wIFVBSAogICAgICAgICAgICAgICAgIDwvZGl2PmAsCiAgICAgICAgICAgICAgICB7InN0aWNreSI6IHRydWV9CiAgICAgICAgICAgICk7CiAgICAgICAgCiAgICAKICAgICAgICAgICAgdmFyIG1hcmtlcl82Nzk5NTI1NThkZTg0YzZlOWFhMWQ3NzA2YWM1ODc4NiA9IEwubWFya2VyKAogICAgICAgICAgICAgICAgWzQ5LjgwOTU1MDQsIDIzLjk5NDUyNDddLAogICAgICAgICAgICAgICAge30KICAgICAgICAgICAgKS5hZGRUbyhtYXBfZTA3MWFhMjczNDEzNDZmZGJhZmRlODE3Y2YwNzI2NjIpOwogICAgICAgIAogICAgCiAgICAgICAgICAgIHZhciBpY29uX2IyNDBmN2Y0ZGY5MTQyZGY5ZmFmZTY1MjYwNGJkYzAxID0gTC5Bd2Vzb21lTWFya2Vycy5pY29uKAogICAgICAgICAgICAgICAgeyJleHRyYUNsYXNzZXMiOiAiZmEtcm90YXRlLTAiLCAiaWNvbiI6ICJpbmZvLXNpZ24iLCAiaWNvbkNvbG9yIjogIndoaXRlIiwgIm1hcmtlckNvbG9yIjogImdyZWVuIiwgInByZWZpeCI6ICJnbHlwaGljb24ifQogICAgICAgICAgICApOwogICAgICAgICAgICBtYXJrZXJfNjc5OTUyNTU4ZGU4NGM2ZTlhYTFkNzcwNmFjNTg3ODYuc2V0SWNvbihpY29uX2IyNDBmN2Y0ZGY5MTQyZGY5ZmFmZTY1MjYwNGJkYzAxKTsKICAgICAgICAKICAgIAogICAgICAgIHZhciBwb3B1cF85MDliYTQ5NzViOTU0ZGY4YmEyNjlkMmZiNTdiY2NmZiA9IEwucG9wdXAoeyJtYXhXaWR0aCI6ICIxMDAlIn0pOwoKICAgICAgICAKICAgICAgICAgICAgdmFyIGh0bWxfYzk1YmU2YjY3YWI1NDg3YmJmNjE1M2E2NTYzODQ0MWYgPSAkKGA8ZGl2IGlkPSJodG1sX2M5NWJlNmI2N2FiNTQ4N2JiZjYxNTNhNjU2Mzg0NDFmIiBzdHlsZT0id2lkdGg6IDEwMC4wJTsgaGVpZ2h0OiAxMDAuMCU7Ij4xNTk0NDMxNDM4PC9kaXY+YClbMF07CiAgICAgICAgICAgIHBvcHVwXzkwOWJhNDk3NWI5NTRkZjhiYTI2OWQyZmI1N2JjY2ZmLnNldENvbnRlbnQoaHRtbF9jOTViZTZiNjdhYjU0ODdiYmY2MTUzYTY1NjM4NDQxZik7CiAgICAgICAgCgogICAgICAgIG1hcmtlcl82Nzk5NTI1NThkZTg0YzZlOWFhMWQ3NzA2YWM1ODc4Ni5iaW5kUG9wdXAocG9wdXBfOTA5YmE0OTc1Yjk1NGRmOGJhMjY5ZDJmYjU3YmNjZmYpCiAgICAgICAgOwoKICAgICAgICAKICAgIAogICAgCiAgICAgICAgICAgIG1hcmtlcl82Nzk5NTI1NThkZTg0YzZlOWFhMWQ3NzA2YWM1ODc4Ni5iaW5kVG9vbHRpcCgKICAgICAgICAgICAgICAgIGA8ZGl2PgogICAgICAgICAgICAgICAgICAgICAxIHJvb21zPGJyPjY1MDAuMCBVQUgKICAgICAgICAgICAgICAgICA8L2Rpdj5gLAogICAgICAgICAgICAgICAgeyJzdGlja3kiOiB0cnVlfQogICAgICAgICAgICApOwogICAgICAgIAogICAgCiAgICAgICAgICAgIHZhciBtYXJrZXJfNzIzZmVmNTVmYmI1NGM2MGJkNzk0OGQxYWQ5YTQ0MTggPSBMLm1hcmtlcigKICAgICAgICAgICAgICAgIFs0OS44NTgxMzU2LCAyNC4wMTMxNTk2XSwKICAgICAgICAgICAgICAgIHt9CiAgICAgICAgICAgICkuYWRkVG8obWFwX2UwNzFhYTI3MzQxMzQ2ZmRiYWZkZTgxN2NmMDcyNjYyKTsKICAgICAgICAKICAgIAogICAgICAgICAgICB2YXIgaWNvbl9kZjQyMzQwMzAwN2Y0ZWUwYjIzNmJjZjZjM2ZiMjhjZCA9IEwuQXdlc29tZU1hcmtlcnMuaWNvbigKICAgICAgICAgICAgICAgIHsiZXh0cmFDbGFzc2VzIjogImZhLXJvdGF0ZS0wIiwgImljb24iOiAiaW5mby1zaWduIiwgImljb25Db2xvciI6ICJ3aGl0ZSIsICJtYXJrZXJDb2xvciI6ICJncmVlbiIsICJwcmVmaXgiOiAiZ2x5cGhpY29uIn0KICAgICAgICAgICAgKTsKICAgICAgICAgICAgbWFya2VyXzcyM2ZlZjU1ZmJiNTRjNjBiZDc5NDhkMWFkOWE0NDE4LnNldEljb24oaWNvbl9kZjQyMzQwMzAwN2Y0ZWUwYjIzNmJjZjZjM2ZiMjhjZCk7CiAgICAgICAgCiAgICAKICAgICAgICB2YXIgcG9wdXBfMDc2YjQyZGI5Y2Q5NDY0NWE2MDY1YzRhNTVmMmI3YjggPSBMLnBvcHVwKHsibWF4V2lkdGgiOiAiMTAwJSJ9KTsKCiAgICAgICAgCiAgICAgICAgICAgIHZhciBodG1sXzMzMmI2MDc1N2IzZTRjN2U4ODU2ZmRhNDA0YWUwY2Y0ID0gJChgPGRpdiBpZD0iaHRtbF8zMzJiNjA3NTdiM2U0YzdlODg1NmZkYTQwNGFlMGNmNCIgc3R5bGU9IndpZHRoOiAxMDAuMCU7IGhlaWdodDogMTAwLjAlOyI+MTU5NDQxMzc0MzwvZGl2PmApWzBdOwogICAgICAgICAgICBwb3B1cF8wNzZiNDJkYjljZDk0NjQ1YTYwNjVjNGE1NWYyYjdiOC5zZXRDb250ZW50KGh0bWxfMzMyYjYwNzU3YjNlNGM3ZTg4NTZmZGE0MDRhZTBjZjQpOwogICAgICAgIAoKICAgICAgICBtYXJrZXJfNzIzZmVmNTVmYmI1NGM2MGJkNzk0OGQxYWQ5YTQ0MTguYmluZFBvcHVwKHBvcHVwXzA3NmI0MmRiOWNkOTQ2NDVhNjA2NWM0YTU1ZjJiN2I4KQogICAgICAgIDsKCiAgICAgICAgCiAgICAKICAgIAogICAgICAgICAgICBtYXJrZXJfNzIzZmVmNTVmYmI1NGM2MGJkNzk0OGQxYWQ5YTQ0MTguYmluZFRvb2x0aXAoCiAgICAgICAgICAgICAgICBgPGRpdj4KICAgICAgICAgICAgICAgICAgICAgMSByb29tczxicj45MjAwLjAgVUFICiAgICAgICAgICAgICAgICAgPC9kaXY+YCwKICAgICAgICAgICAgICAgIHsic3RpY2t5IjogdHJ1ZX0KICAgICAgICAgICAgKTsKICAgICAgICAKICAgIAogICAgICAgICAgICB2YXIgbWFya2VyX2Y4ODFhMzg2OTQ5NjQzNWViOTI1NzAzMmI1OGEwNDlhID0gTC5tYXJrZXIoCiAgICAgICAgICAgICAgICBbNDkuODM5NjgzLCAyNC4wMjk3MTddLAogICAgICAgICAgICAgICAge30KICAgICAgICAgICAgKS5hZGRUbyhtYXBfZTA3MWFhMjczNDEzNDZmZGJhZmRlODE3Y2YwNzI2NjIpOwogICAgICAgIAogICAgCiAgICAgICAgICAgIHZhciBpY29uX2FkY2E0MTM4NDI2ZDQ0MWJhMWNkMmQxZDQyMDRmYWI1ID0gTC5Bd2Vzb21lTWFya2Vycy5pY29uKAogICAgICAgICAgICAgICAgeyJleHRyYUNsYXNzZXMiOiAiZmEtcm90YXRlLTAiLCAiaWNvbiI6ICJpbmZvLXNpZ24iLCAiaWNvbkNvbG9yIjogIndoaXRlIiwgIm1hcmtlckNvbG9yIjogImJsdWUiLCAicHJlZml4IjogImdseXBoaWNvbiJ9CiAgICAgICAgICAgICk7CiAgICAgICAgICAgIG1hcmtlcl9mODgxYTM4Njk0OTY0MzVlYjkyNTcwMzJiNThhMDQ5YS5zZXRJY29uKGljb25fYWRjYTQxMzg0MjZkNDQxYmExY2QyZDFkNDIwNGZhYjUpOwogICAgICAgIAogICAgCiAgICAgICAgdmFyIHBvcHVwXzQxYzc5NGNlNjdlZDRlMmQ4YmRlYWM0OWE3ZDU0YmYwID0gTC5wb3B1cCh7Im1heFdpZHRoIjogIjEwMCUifSk7CgogICAgICAgIAogICAgICAgICAgICB2YXIgaHRtbF9kMTkyMDI4ZGI1ODI0MTJlYTFlODU2MjVkYjM4ZWU4NCA9ICQoYDxkaXYgaWQ9Imh0bWxfZDE5MjAyOGRiNTgyNDEyZWExZTg1NjI1ZGIzOGVlODQiIHN0eWxlPSJ3aWR0aDogMTAwLjAlOyBoZWlnaHQ6IDEwMC4wJTsiPjE1OTQ0MTE1NzY8L2Rpdj5gKVswXTsKICAgICAgICAgICAgcG9wdXBfNDFjNzk0Y2U2N2VkNGUyZDhiZGVhYzQ5YTdkNTRiZjAuc2V0Q29udGVudChodG1sX2QxOTIwMjhkYjU4MjQxMmVhMWU4NTYyNWRiMzhlZTg0KTsKICAgICAgICAKCiAgICAgICAgbWFya2VyX2Y4ODFhMzg2OTQ5NjQzNWViOTI1NzAzMmI1OGEwNDlhLmJpbmRQb3B1cChwb3B1cF80MWM3OTRjZTY3ZWQ0ZTJkOGJkZWFjNDlhN2Q1NGJmMCkKICAgICAgICA7CgogICAgICAgIAogICAgCiAgICAKICAgICAgICAgICAgbWFya2VyX2Y4ODFhMzg2OTQ5NjQzNWViOTI1NzAzMmI1OGEwNDlhLmJpbmRUb29sdGlwKAogICAgICAgICAgICAgICAgYDxkaXY+CiAgICAgICAgICAgICAgICAgICAgIDIgcm9vbXM8YnI+NzAwMC4wIFVBSAogICAgICAgICAgICAgICAgIDwvZGl2PmAsCiAgICAgICAgICAgICAgICB7InN0aWNreSI6IHRydWV9CiAgICAgICAgICAgICk7CiAgICAgICAgCiAgICAKICAgICAgICAgICAgdmFyIG1hcmtlcl8xZjUyMGZiMDIxOTc0ZmQxODc2NjUzNGQwZDIzZGUxYSA9IEwubWFya2VyKAogICAgICAgICAgICAgICAgWzQ5Ljg0MTk1MiwgMjQuMDMxNTkyMV0sCiAgICAgICAgICAgICAgICB7fQogICAgICAgICAgICApLmFkZFRvKG1hcF9lMDcxYWEyNzM0MTM0NmZkYmFmZGU4MTdjZjA3MjY2Mik7CiAgICAgICAgCiAgICAKICAgICAgICAgICAgdmFyIGljb25fOTUyYzFiY2FkNjc2NDgyNmE4NWIwNjllYjAzMzIzYWMgPSBMLkF3ZXNvbWVNYXJrZXJzLmljb24oCiAgICAgICAgICAgICAgICB7ImV4dHJhQ2xhc3NlcyI6ICJmYS1yb3RhdGUtMCIsICJpY29uIjogImluZm8tc2lnbiIsICJpY29uQ29sb3IiOiAid2hpdGUiLCAibWFya2VyQ29sb3IiOiAiZ3JlZW4iLCAicHJlZml4IjogImdseXBoaWNvbiJ9CiAgICAgICAgICAgICk7CiAgICAgICAgICAgIG1hcmtlcl8xZjUyMGZiMDIxOTc0ZmQxODc2NjUzNGQwZDIzZGUxYS5zZXRJY29uKGljb25fOTUyYzFiY2FkNjc2NDgyNmE4NWIwNjllYjAzMzIzYWMpOwogICAgICAgIAogICAgCiAgICAgICAgdmFyIHBvcHVwX2M3MzMwYjYxNDIyZDQ1ZDA4YzY2ZjgwMGUzMzE4YTViID0gTC5wb3B1cCh7Im1heFdpZHRoIjogIjEwMCUifSk7CgogICAgICAgIAogICAgICAgICAgICB2YXIgaHRtbF8zN2MzNTk3NDY2NjA0MTQwODE0MzZlZGY2Y2M1MTBiMiA9ICQoYDxkaXYgaWQ9Imh0bWxfMzdjMzU5NzQ2NjYwNDE0MDgxNDM2ZWRmNmNjNTEwYjIiIHN0eWxlPSJ3aWR0aDogMTAwLjAlOyBoZWlnaHQ6IDEwMC4wJTsiPjE1OTQ0MDc0NDg8L2Rpdj5gKVswXTsKICAgICAgICAgICAgcG9wdXBfYzczMzBiNjE0MjJkNDVkMDhjNjZmODAwZTMzMThhNWIuc2V0Q29udGVudChodG1sXzM3YzM1OTc0NjY2MDQxNDA4MTQzNmVkZjZjYzUxMGIyKTsKICAgICAgICAKCiAgICAgICAgbWFya2VyXzFmNTIwZmIwMjE5NzRmZDE4NzY2NTM0ZDBkMjNkZTFhLmJpbmRQb3B1cChwb3B1cF9jNzMzMGI2MTQyMmQ0NWQwOGM2NmY4MDBlMzMxOGE1YikKICAgICAgICA7CgogICAgICAgIAogICAgCiAgICAKICAgICAgICAgICAgbWFya2VyXzFmNTIwZmIwMjE5NzRmZDE4NzY2NTM0ZDBkMjNkZTFhLmJpbmRUb29sdGlwKAogICAgICAgICAgICAgICAgYDxkaXY+CiAgICAgICAgICAgICAgICAgICAgIDEgcm9vbXM8YnI+NzAwMC4wIFVBSAogICAgICAgICAgICAgICAgIDwvZGl2PmAsCiAgICAgICAgICAgICAgICB7InN0aWNreSI6IHRydWV9CiAgICAgICAgICAgICk7CiAgICAgICAgCiAgICAKICAgICAgICAgICAgdmFyIG1hcmtlcl9hMDM4MmFmZTM2ZGY0NGM4OTE3M2UyOTU0YTZmMjdmZiA9IEwubWFya2VyKAogICAgICAgICAgICAgICAgWzQ5Ljg0MDYwMTYsIDI0LjAzMjE4MThdLAogICAgICAgICAgICAgICAge30KICAgICAgICAgICAgKS5hZGRUbyhtYXBfZTA3MWFhMjczNDEzNDZmZGJhZmRlODE3Y2YwNzI2NjIpOwogICAgICAgIAogICAgCiAgICAgICAgICAgIHZhciBpY29uXzcwYTM0MTEyMTRhOTQxMDE5NGYzZTQ4MzQxMjQ4YWUzID0gTC5Bd2Vzb21lTWFya2Vycy5pY29uKAogICAgICAgICAgICAgICAgeyJleHRyYUNsYXNzZXMiOiAiZmEtcm90YXRlLTAiLCAiaWNvbiI6ICJpbmZvLXNpZ24iLCAiaWNvbkNvbG9yIjogIndoaXRlIiwgIm1hcmtlckNvbG9yIjogImJsdWUiLCAicHJlZml4IjogImdseXBoaWNvbiJ9CiAgICAgICAgICAgICk7CiAgICAgICAgICAgIG1hcmtlcl9hMDM4MmFmZTM2ZGY0NGM4OTE3M2UyOTU0YTZmMjdmZi5zZXRJY29uKGljb25fNzBhMzQxMTIxNGE5NDEwMTk0ZjNlNDgzNDEyNDhhZTMpOwogICAgICAgIAogICAgCiAgICAgICAgdmFyIHBvcHVwX2QwYTFmN2QxZWMyZDQxNWZhYWNmOWU2NTQwNGRmMTY4ID0gTC5wb3B1cCh7Im1heFdpZHRoIjogIjEwMCUifSk7CgogICAgICAgIAogICAgICAgICAgICB2YXIgaHRtbF9hODVmMjAyMjM1ZTk0NDMzYTQ2Mzc0MTVjYjg1YmJkMSA9ICQoYDxkaXYgaWQ9Imh0bWxfYTg1ZjIwMjIzNWU5NDQzM2E0NjM3NDE1Y2I4NWJiZDEiIHN0eWxlPSJ3aWR0aDogMTAwLjAlOyBoZWlnaHQ6IDEwMC4wJTsiPjE1OTQzOTc3NjE8L2Rpdj5gKVswXTsKICAgICAgICAgICAgcG9wdXBfZDBhMWY3ZDFlYzJkNDE1ZmFhY2Y5ZTY1NDA0ZGYxNjguc2V0Q29udGVudChodG1sX2E4NWYyMDIyMzVlOTQ0MzNhNDYzNzQxNWNiODViYmQxKTsKICAgICAgICAKCiAgICAgICAgbWFya2VyX2EwMzgyYWZlMzZkZjQ0Yzg5MTczZTI5NTRhNmYyN2ZmLmJpbmRQb3B1cChwb3B1cF9kMGExZjdkMWVjMmQ0MTVmYWFjZjllNjU0MDRkZjE2OCkKICAgICAgICA7CgogICAgICAgIAogICAgCiAgICAKICAgICAgICAgICAgbWFya2VyX2EwMzgyYWZlMzZkZjQ0Yzg5MTczZTI5NTRhNmYyN2ZmLmJpbmRUb29sdGlwKAogICAgICAgICAgICAgICAgYDxkaXY+CiAgICAgICAgICAgICAgICAgICAgIDIgcm9vbXM8YnI+MjA0MzYuMCBVQUgKICAgICAgICAgICAgICAgICA8L2Rpdj5gLAogICAgICAgICAgICAgICAgeyJzdGlja3kiOiB0cnVlfQogICAgICAgICAgICApOwogICAgICAgIAogICAgCiAgICAgICAgICAgIHZhciBtYXJrZXJfMTYzOTBmZGQ2ZjE4NGYwMGE3NDYyZjhhZmU3ZDMyZDYgPSBMLm1hcmtlcigKICAgICAgICAgICAgICAgIFs0OS44NzAwNTUwNSwgMjMuOTUzNjgwNDQ0MjI0XSwKICAgICAgICAgICAgICAgIHt9CiAgICAgICAgICAgICkuYWRkVG8obWFwX2UwNzFhYTI3MzQxMzQ2ZmRiYWZkZTgxN2NmMDcyNjYyKTsKICAgICAgICAKICAgIAogICAgICAgICAgICB2YXIgaWNvbl80M2E4NDZiMjYzY2M0OGZlYjNlZjY0OTM2OWIyOTM4NCA9IEwuQXdlc29tZU1hcmtlcnMuaWNvbigKICAgICAgICAgICAgICAgIHsiZXh0cmFDbGFzc2VzIjogImZhLXJvdGF0ZS0wIiwgImljb24iOiAiaW5mby1zaWduIiwgImljb25Db2xvciI6ICJ3aGl0ZSIsICJtYXJrZXJDb2xvciI6ICJncmVlbiIsICJwcmVmaXgiOiAiZ2x5cGhpY29uIn0KICAgICAgICAgICAgKTsKICAgICAgICAgICAgbWFya2VyXzE2MzkwZmRkNmYxODRmMDBhNzQ2MmY4YWZlN2QzMmQ2LnNldEljb24oaWNvbl80M2E4NDZiMjYzY2M0OGZlYjNlZjY0OTM2OWIyOTM4NCk7CiAgICAgICAgCiAgICAKICAgICAgICB2YXIgcG9wdXBfYjJmODY2M2RlZjkyNGQ2ZWI5Y2JjYzYyZWI5NzMzYzcgPSBMLnBvcHVwKHsibWF4V2lkdGgiOiAiMTAwJSJ9KTsKCiAgICAgICAgCiAgICAgICAgICAgIHZhciBodG1sXzZmYzFkYTJmNzQ2YTRmZDhiNWYwNWZhZGRkMDRlNGZhID0gJChgPGRpdiBpZD0iaHRtbF82ZmMxZGEyZjc0NmE0ZmQ4YjVmMDVmYWRkZDA0ZTRmYSIgc3R5bGU9IndpZHRoOiAxMDAuMCU7IGhlaWdodDogMTAwLjAlOyI+MTU5NDM5Nzc2MDwvZGl2PmApWzBdOwogICAgICAgICAgICBwb3B1cF9iMmY4NjYzZGVmOTI0ZDZlYjljYmNjNjJlYjk3MzNjNy5zZXRDb250ZW50KGh0bWxfNmZjMWRhMmY3NDZhNGZkOGI1ZjA1ZmFkZGQwNGU0ZmEpOwogICAgICAgIAoKICAgICAgICBtYXJrZXJfMTYzOTBmZGQ2ZjE4NGYwMGE3NDYyZjhhZmU3ZDMyZDYuYmluZFBvcHVwKHBvcHVwX2IyZjg2NjNkZWY5MjRkNmViOWNiY2M2MmViOTczM2M3KQogICAgICAgIDsKCiAgICAgICAgCiAgICAKICAgIAogICAgICAgICAgICBtYXJrZXJfMTYzOTBmZGQ2ZjE4NGYwMGE3NDYyZjhhZmU3ZDMyZDYuYmluZFRvb2x0aXAoCiAgICAgICAgICAgICAgICBgPGRpdj4KICAgICAgICAgICAgICAgICAgICAgMSByb29tczxicj42MDAwLjAgVUFICiAgICAgICAgICAgICAgICAgPC9kaXY+YCwKICAgICAgICAgICAgICAgIHsic3RpY2t5IjogdHJ1ZX0KICAgICAgICAgICAgKTsKICAgICAgICAKICAgIAogICAgICAgICAgICB2YXIgbWFya2VyX2JjMjYxYTJlOGJmMTRlODdiOTBjOTVkMGQxYTgwZTlkID0gTC5tYXJrZXIoCiAgICAgICAgICAgICAgICBbNDkuOTEwMjAxOSwgMjMuOTI5ODQ1NF0sCiAgICAgICAgICAgICAgICB7fQogICAgICAgICAgICApLmFkZFRvKG1hcF9lMDcxYWEyNzM0MTM0NmZkYmFmZGU4MTdjZjA3MjY2Mik7CiAgICAgICAgCiAgICAKICAgICAgICAgICAgdmFyIGljb25fYWJlYjM3OGY0MjMxNDNiNzgyMTkxNGE5MjNjOTU1NzQgPSBMLkF3ZXNvbWVNYXJrZXJzLmljb24oCiAgICAgICAgICAgICAgICB7ImV4dHJhQ2xhc3NlcyI6ICJmYS1yb3RhdGUtMCIsICJpY29uIjogImluZm8tc2lnbiIsICJpY29uQ29sb3IiOiAid2hpdGUiLCAibWFya2VyQ29sb3IiOiAiYmx1ZSIsICJwcmVmaXgiOiAiZ2x5cGhpY29uIn0KICAgICAgICAgICAgKTsKICAgICAgICAgICAgbWFya2VyX2JjMjYxYTJlOGJmMTRlODdiOTBjOTVkMGQxYTgwZTlkLnNldEljb24oaWNvbl9hYmViMzc4ZjQyMzE0M2I3ODIxOTE0YTkyM2M5NTU3NCk7CiAgICAgICAgCiAgICAKICAgICAgICB2YXIgcG9wdXBfMWJiYjEyNjhmNTUwNDdmNzk0NWU5MTQ2MTMxOWY0OTUgPSBMLnBvcHVwKHsibWF4V2lkdGgiOiAiMTAwJSJ9KTsKCiAgICAgICAgCiAgICAgICAgICAgIHZhciBodG1sXzFiNTFkNTVjNTRmNjQyM2U5MGE0YzI5YTRmMmM5YTAwID0gJChgPGRpdiBpZD0iaHRtbF8xYjUxZDU1YzU0ZjY0MjNlOTBhNGMyOWE0ZjJjOWEwMCIgc3R5bGU9IndpZHRoOiAxMDAuMCU7IGhlaWdodDogMTAwLjAlOyI+MTU5NDM5Nzc2MDwvZGl2PmApWzBdOwogICAgICAgICAgICBwb3B1cF8xYmJiMTI2OGY1NTA0N2Y3OTQ1ZTkxNDYxMzE5ZjQ5NS5zZXRDb250ZW50KGh0bWxfMWI1MWQ1NWM1NGY2NDIzZTkwYTRjMjlhNGYyYzlhMDApOwogICAgICAgIAoKICAgICAgICBtYXJrZXJfYmMyNjFhMmU4YmYxNGU4N2I5MGM5NWQwZDFhODBlOWQuYmluZFBvcHVwKHBvcHVwXzFiYmIxMjY4ZjU1MDQ3Zjc5NDVlOTE0NjEzMTlmNDk1KQogICAgICAgIDsKCiAgICAgICAgCiAgICAKICAgIAogICAgICAgICAgICBtYXJrZXJfYmMyNjFhMmU4YmYxNGU4N2I5MGM5NWQwZDFhODBlOWQuYmluZFRvb2x0aXAoCiAgICAgICAgICAgICAgICBgPGRpdj4KICAgICAgICAgICAgICAgICAgICAgMiByb29tczxicj41NDUwLjAgVUFICiAgICAgICAgICAgICAgICAgPC9kaXY+YCwKICAgICAgICAgICAgICAgIHsic3RpY2t5IjogdHJ1ZX0KICAgICAgICAgICAgKTsKICAgICAgICAKICAgIAogICAgICAgICAgICB2YXIgbWFya2VyXzdiZGRkMjdlZTI3MzRlYjk4NDQ5MmNjZDVkZmExNGY0ID0gTC5tYXJrZXIoCiAgICAgICAgICAgICAgICBbNTAuMzczNjA2MywgMjQuMjIwMTk1MTVdLAogICAgICAgICAgICAgICAge30KICAgICAgICAgICAgKS5hZGRUbyhtYXBfZTA3MWFhMjczNDEzNDZmZGJhZmRlODE3Y2YwNzI2NjIpOwogICAgICAgIAogICAgCiAgICAgICAgICAgIHZhciBpY29uX2JkMjk4MDgyNGVmNzQ2NDZiOGY2YjhhOTQ3YjVlOTkzID0gTC5Bd2Vzb21lTWFya2Vycy5pY29uKAogICAgICAgICAgICAgICAgeyJleHRyYUNsYXNzZXMiOiAiZmEtcm90YXRlLTAiLCAiaWNvbiI6ICJpbmZvLXNpZ24iLCAiaWNvbkNvbG9yIjogIndoaXRlIiwgIm1hcmtlckNvbG9yIjogImdyZWVuIiwgInByZWZpeCI6ICJnbHlwaGljb24ifQogICAgICAgICAgICApOwogICAgICAgICAgICBtYXJrZXJfN2JkZGQyN2VlMjczNGViOTg0NDkyY2NkNWRmYTE0ZjQuc2V0SWNvbihpY29uX2JkMjk4MDgyNGVmNzQ2NDZiOGY2YjhhOTQ3YjVlOTkzKTsKICAgICAgICAKICAgIAogICAgICAgIHZhciBwb3B1cF85ZjMzZDhjNTRkMmQ0M2VkYWE4YzU5ODYyZDI0YjMwYSA9IEwucG9wdXAoeyJtYXhXaWR0aCI6ICIxMDAlIn0pOwoKICAgICAgICAKICAgICAgICAgICAgdmFyIGh0bWxfMmU5NjQ1MWE1MTQ0NGIyNmIwZTFiMmFjYjZhZmQ3YjkgPSAkKGA8ZGl2IGlkPSJodG1sXzJlOTY0NTFhNTE0NDRiMjZiMGUxYjJhY2I2YWZkN2I5IiBzdHlsZT0id2lkdGg6IDEwMC4wJTsgaGVpZ2h0OiAxMDAuMCU7Ij4xNTk0Mzk3NzU5PC9kaXY+YClbMF07CiAgICAgICAgICAgIHBvcHVwXzlmMzNkOGM1NGQyZDQzZWRhYThjNTk4NjJkMjRiMzBhLnNldENvbnRlbnQoaHRtbF8yZTk2NDUxYTUxNDQ0YjI2YjBlMWIyYWNiNmFmZDdiOSk7CiAgICAgICAgCgogICAgICAgIG1hcmtlcl83YmRkZDI3ZWUyNzM0ZWI5ODQ0OTJjY2Q1ZGZhMTRmNC5iaW5kUG9wdXAocG9wdXBfOWYzM2Q4YzU0ZDJkNDNlZGFhOGM1OTg2MmQyNGIzMGEpCiAgICAgICAgOwoKICAgICAgICAKICAgIAogICAgCiAgICAgICAgICAgIG1hcmtlcl83YmRkZDI3ZWUyNzM0ZWI5ODQ0OTJjY2Q1ZGZhMTRmNC5iaW5kVG9vbHRpcCgKICAgICAgICAgICAgICAgIGA8ZGl2PgogICAgICAgICAgICAgICAgICAgICAxIHJvb21zPGJyPjEyMjYyLjAgVUFICiAgICAgICAgICAgICAgICAgPC9kaXY+YCwKICAgICAgICAgICAgICAgIHsic3RpY2t5IjogdHJ1ZX0KICAgICAgICAgICAgKTsKICAgICAgICAKICAgIAogICAgICAgICAgICB2YXIgbWFya2VyX2U1OWRmZTFmOWE0YzQ3MDc5YzE2ZDJjMjY2NWEzNmU1ID0gTC5tYXJrZXIoCiAgICAgICAgICAgICAgICBbNDkuODQ1MDk4NCwgMjQuMDI0MjI5MTM3NjJdLAogICAgICAgICAgICAgICAge30KICAgICAgICAgICAgKS5hZGRUbyhtYXBfZTA3MWFhMjczNDEzNDZmZGJhZmRlODE3Y2YwNzI2NjIpOwogICAgICAgIAogICAgCiAgICAgICAgICAgIHZhciBpY29uXzhmYmZmNzkzNjU5ODQ2NjM4NDI5ZDYzNzVhY2I4M2Y2ID0gTC5Bd2Vzb21lTWFya2Vycy5pY29uKAogICAgICAgICAgICAgICAgeyJleHRyYUNsYXNzZXMiOiAiZmEtcm90YXRlLTAiLCAiaWNvbiI6ICJpbmZvLXNpZ24iLCAiaWNvbkNvbG9yIjogIndoaXRlIiwgIm1hcmtlckNvbG9yIjogImJsdWUiLCAicHJlZml4IjogImdseXBoaWNvbiJ9CiAgICAgICAgICAgICk7CiAgICAgICAgICAgIG1hcmtlcl9lNTlkZmUxZjlhNGM0NzA3OWMxNmQyYzI2NjVhMzZlNS5zZXRJY29uKGljb25fOGZiZmY3OTM2NTk4NDY2Mzg0MjlkNjM3NWFjYjgzZjYpOwogICAgICAgIAogICAgCiAgICAgICAgdmFyIHBvcHVwXzkwMmZhOTRiZjRkZTQ4ZjNiYzdhMjFkODYwNGE5YTdhID0gTC5wb3B1cCh7Im1heFdpZHRoIjogIjEwMCUifSk7CgogICAgICAgIAogICAgICAgICAgICB2YXIgaHRtbF80YzFiNDMwNjZkNzk0NmJlOGI4YTg0ZGM2N2YzNjMyNCA9ICQoYDxkaXYgaWQ9Imh0bWxfNGMxYjQzMDY2ZDc5NDZiZThiOGE4NGRjNjdmMzYzMjQiIHN0eWxlPSJ3aWR0aDogMTAwLjAlOyBoZWlnaHQ6IDEwMC4wJTsiPjE1OTQzOTc3NTk8L2Rpdj5gKVswXTsKICAgICAgICAgICAgcG9wdXBfOTAyZmE5NGJmNGRlNDhmM2JjN2EyMWQ4NjA0YTlhN2Euc2V0Q29udGVudChodG1sXzRjMWI0MzA2NmQ3OTQ2YmU4YjhhODRkYzY3ZjM2MzI0KTsKICAgICAgICAKCiAgICAgICAgbWFya2VyX2U1OWRmZTFmOWE0YzQ3MDc5YzE2ZDJjMjY2NWEzNmU1LmJpbmRQb3B1cChwb3B1cF85MDJmYTk0YmY0ZGU0OGYzYmM3YTIxZDg2MDRhOWE3YSkKICAgICAgICA7CgogICAgICAgIAogICAgCiAgICAKICAgICAgICAgICAgbWFya2VyX2U1OWRmZTFmOWE0YzQ3MDc5YzE2ZDJjMjY2NWEzNmU1LmJpbmRUb29sdGlwKAogICAgICAgICAgICAgICAgYDxkaXY+CiAgICAgICAgICAgICAgICAgICAgIDIgcm9vbXM8YnI+MTEwMDAuMCBVQUgKICAgICAgICAgICAgICAgICA8L2Rpdj5gLAogICAgICAgICAgICAgICAgeyJzdGlja3kiOiB0cnVlfQogICAgICAgICAgICApOwogICAgICAgIAogICAgCiAgICAgICAgICAgIHZhciBtYXJrZXJfMjczODM3ZmRkNzQ0NDVmN2IxZjM0OWY1OTE3YTEwMTIgPSBMLm1hcmtlcigKICAgICAgICAgICAgICAgIFs0OS44NDExMTYyLCAyNC4wMTEwNTg1XSwKICAgICAgICAgICAgICAgIHt9CiAgICAgICAgICAgICkuYWRkVG8obWFwX2UwNzFhYTI3MzQxMzQ2ZmRiYWZkZTgxN2NmMDcyNjYyKTsKICAgICAgICAKICAgIAogICAgICAgICAgICB2YXIgaWNvbl9mNmY5YWZlZTE4NmY0YjgwYWUwYWE5NTBmMTM2MDIwZSA9IEwuQXdlc29tZU1hcmtlcnMuaWNvbigKICAgICAgICAgICAgICAgIHsiZXh0cmFDbGFzc2VzIjogImZhLXJvdGF0ZS0wIiwgImljb24iOiAiaW5mby1zaWduIiwgImljb25Db2xvciI6ICJ3aGl0ZSIsICJtYXJrZXJDb2xvciI6ICJncmVlbiIsICJwcmVmaXgiOiAiZ2x5cGhpY29uIn0KICAgICAgICAgICAgKTsKICAgICAgICAgICAgbWFya2VyXzI3MzgzN2ZkZDc0NDQ1ZjdiMWYzNDlmNTkxN2ExMDEyLnNldEljb24oaWNvbl9mNmY5YWZlZTE4NmY0YjgwYWUwYWE5NTBmMTM2MDIwZSk7CiAgICAgICAgCiAgICAKICAgICAgICB2YXIgcG9wdXBfODcxYWExOTJhZGY1NDZhNTk3MWMxNjI4MjA4Y2M0NDQgPSBMLnBvcHVwKHsibWF4V2lkdGgiOiAiMTAwJSJ9KTsKCiAgICAgICAgCiAgICAgICAgICAgIHZhciBodG1sXzUyMmMyN2E2OGJlNjQwYjhhZjkwNmEyNDM4ZTJiM2VmID0gJChgPGRpdiBpZD0iaHRtbF81MjJjMjdhNjhiZTY0MGI4YWY5MDZhMjQzOGUyYjNlZiIgc3R5bGU9IndpZHRoOiAxMDAuMCU7IGhlaWdodDogMTAwLjAlOyI+MTU5NDM5Nzc1NjwvZGl2PmApWzBdOwogICAgICAgICAgICBwb3B1cF84NzFhYTE5MmFkZjU0NmE1OTcxYzE2MjgyMDhjYzQ0NC5zZXRDb250ZW50KGh0bWxfNTIyYzI3YTY4YmU2NDBiOGFmOTA2YTI0MzhlMmIzZWYpOwogICAgICAgIAoKICAgICAgICBtYXJrZXJfMjczODM3ZmRkNzQ0NDVmN2IxZjM0OWY1OTE3YTEwMTIuYmluZFBvcHVwKHBvcHVwXzg3MWFhMTkyYWRmNTQ2YTU5NzFjMTYyODIwOGNjNDQ0KQogICAgICAgIDsKCiAgICAgICAgCiAgICAKICAgIAogICAgICAgICAgICBtYXJrZXJfMjczODM3ZmRkNzQ0NDVmN2IxZjM0OWY1OTE3YTEwMTIuYmluZFRvb2x0aXAoCiAgICAgICAgICAgICAgICBgPGRpdj4KICAgICAgICAgICAgICAgICAgICAgMSByb29tczxicj4xMTcxNy4wIFVBSAogICAgICAgICAgICAgICAgIDwvZGl2PmAsCiAgICAgICAgICAgICAgICB7InN0aWNreSI6IHRydWV9CiAgICAgICAgICAgICk7CiAgICAgICAgCiAgICAKICAgICAgICAgICAgdmFyIG1hcmtlcl83MDI4Yjk2YWI0Y2Y0MDJhODYzMmNmMmIxN2FmODliZCA9IEwubWFya2VyKAogICAgICAgICAgICAgICAgWzQ5Ljg0MzUzNzA1LCAyNC4wMzcxNjE4MjU5ODVdLAogICAgICAgICAgICAgICAge30KICAgICAgICAgICAgKS5hZGRUbyhtYXBfZTA3MWFhMjczNDEzNDZmZGJhZmRlODE3Y2YwNzI2NjIpOwogICAgICAgIAogICAgCiAgICAgICAgICAgIHZhciBpY29uXzY3MDVjZTcxNmY4MDRmMTU4MjZmNTZlZjgxMzA1Yzk0ID0gTC5Bd2Vzb21lTWFya2Vycy5pY29uKAogICAgICAgICAgICAgICAgeyJleHRyYUNsYXNzZXMiOiAiZmEtcm90YXRlLTAiLCAiaWNvbiI6ICJpbmZvLXNpZ24iLCAiaWNvbkNvbG9yIjogIndoaXRlIiwgIm1hcmtlckNvbG9yIjogImJsdWUiLCAicHJlZml4IjogImdseXBoaWNvbiJ9CiAgICAgICAgICAgICk7CiAgICAgICAgICAgIG1hcmtlcl83MDI4Yjk2YWI0Y2Y0MDJhODYzMmNmMmIxN2FmODliZC5zZXRJY29uKGljb25fNjcwNWNlNzE2ZjgwNGYxNTgyNmY1NmVmODEzMDVjOTQpOwogICAgICAgIAogICAgCiAgICAgICAgdmFyIHBvcHVwXzhiM2E4NGYyZTdkZDRlMjM4MWM0M2JjMjQyMGY3YmQ5ID0gTC5wb3B1cCh7Im1heFdpZHRoIjogIjEwMCUifSk7CgogICAgICAgIAogICAgICAgICAgICB2YXIgaHRtbF84YzJmOTU4MWJiNWE0OWUwYTU0Nzg2NGE2OTg2M2IxZiA9ICQoYDxkaXYgaWQ9Imh0bWxfOGMyZjk1ODFiYjVhNDllMGE1NDc4NjRhNjk4NjNiMWYiIHN0eWxlPSJ3aWR0aDogMTAwLjAlOyBoZWlnaHQ6IDEwMC4wJTsiPjE1OTQzOTc3NTU8L2Rpdj5gKVswXTsKICAgICAgICAgICAgcG9wdXBfOGIzYTg0ZjJlN2RkNGUyMzgxYzQzYmMyNDIwZjdiZDkuc2V0Q29udGVudChodG1sXzhjMmY5NTgxYmI1YTQ5ZTBhNTQ3ODY0YTY5ODYzYjFmKTsKICAgICAgICAKCiAgICAgICAgbWFya2VyXzcwMjhiOTZhYjRjZjQwMmE4NjMyY2YyYjE3YWY4OWJkLmJpbmRQb3B1cChwb3B1cF84YjNhODRmMmU3ZGQ0ZTIzODFjNDNiYzI0MjBmN2JkOSkKICAgICAgICA7CgogICAgICAgIAogICAgCiAgICAKICAgICAgICAgICAgbWFya2VyXzcwMjhiOTZhYjRjZjQwMmE4NjMyY2YyYjE3YWY4OWJkLmJpbmRUb29sdGlwKAogICAgICAgICAgICAgICAgYDxkaXY+CiAgICAgICAgICAgICAgICAgICAgIDIgcm9vbXM8YnI+OTUzNy4wIFVBSAogICAgICAgICAgICAgICAgIDwvZGl2PmAsCiAgICAgICAgICAgICAgICB7InN0aWNreSI6IHRydWV9CiAgICAgICAgICAgICk7CiAgICAgICAgCiAgICAKICAgICAgICAgICAgdmFyIG1hcmtlcl85NDM4NDAwYTY5MjI0ZGUxYmI4ZTg3ZjVlMDM2OGRkZSA9IEwubWFya2VyKAogICAgICAgICAgICAgICAgWzQ5LjgzNzc4NSwgMjQuMDA0MjM0NV0sCiAgICAgICAgICAgICAgICB7fQogICAgICAgICAgICApLmFkZFRvKG1hcF9lMDcxYWEyNzM0MTM0NmZkYmFmZGU4MTdjZjA3MjY2Mik7CiAgICAgICAgCiAgICAKICAgICAgICAgICAgdmFyIGljb25fZmQwZGMwZmNiZDBiNDMzZDg4MTFlNDk4ZGUzZTIxZWIgPSBMLkF3ZXNvbWVNYXJrZXJzLmljb24oCiAgICAgICAgICAgICAgICB7ImV4dHJhQ2xhc3NlcyI6ICJmYS1yb3RhdGUtMCIsICJpY29uIjogImluZm8tc2lnbiIsICJpY29uQ29sb3IiOiAid2hpdGUiLCAibWFya2VyQ29sb3IiOiAiYmx1ZSIsICJwcmVmaXgiOiAiZ2x5cGhpY29uIn0KICAgICAgICAgICAgKTsKICAgICAgICAgICAgbWFya2VyXzk0Mzg0MDBhNjkyMjRkZTFiYjhlODdmNWUwMzY4ZGRlLnNldEljb24oaWNvbl9mZDBkYzBmY2JkMGI0MzNkODgxMWU0OThkZTNlMjFlYik7CiAgICAgICAgCiAgICAKICAgICAgICB2YXIgcG9wdXBfZTJhNTdjNTgyNTg0NGIyMWI5NTJlNjg3NGQ5OWQyYTkgPSBMLnBvcHVwKHsibWF4V2lkdGgiOiAiMTAwJSJ9KTsKCiAgICAgICAgCiAgICAgICAgICAgIHZhciBodG1sXzk2ZmFhNmY2MDZmNTQ2ZjJiZDg1ZTY5MTNiOTViYmE5ID0gJChgPGRpdiBpZD0iaHRtbF85NmZhYTZmNjA2ZjU0NmYyYmQ4NWU2OTEzYjk1YmJhOSIgc3R5bGU9IndpZHRoOiAxMDAuMCU7IGhlaWdodDogMTAwLjAlOyI+MTU5NDM5Nzc1NDwvZGl2PmApWzBdOwogICAgICAgICAgICBwb3B1cF9lMmE1N2M1ODI1ODQ0YjIxYjk1MmU2ODc0ZDk5ZDJhOS5zZXRDb250ZW50KGh0bWxfOTZmYWE2ZjYwNmY1NDZmMmJkODVlNjkxM2I5NWJiYTkpOwogICAgICAgIAoKICAgICAgICBtYXJrZXJfOTQzODQwMGE2OTIyNGRlMWJiOGU4N2Y1ZTAzNjhkZGUuYmluZFBvcHVwKHBvcHVwX2UyYTU3YzU4MjU4NDRiMjFiOTUyZTY4NzRkOTlkMmE5KQogICAgICAgIDsKCiAgICAgICAgCiAgICAKICAgIAogICAgICAgICAgICBtYXJrZXJfOTQzODQwMGE2OTIyNGRlMWJiOGU4N2Y1ZTAzNjhkZGUuYmluZFRvb2x0aXAoCiAgICAgICAgICAgICAgICBgPGRpdj4KICAgICAgICAgICAgICAgICAgICAgMiByb29tczxicj4xMDUwMC4wIFVBSAogICAgICAgICAgICAgICAgIDwvZGl2PmAsCiAgICAgICAgICAgICAgICB7InN0aWNreSI6IHRydWV9CiAgICAgICAgICAgICk7CiAgICAgICAgCiAgICAKICAgICAgICAgICAgdmFyIG1hcmtlcl84MTU2ZWJmMGRkYzM0MmQyOTFhMTEwYjQwMDdlMDM1YyA9IEwubWFya2VyKAogICAgICAgICAgICAgICAgWzQ5Ljg1NjIzMzYsIDI0LjAyODEwNTddLAogICAgICAgICAgICAgICAge30KICAgICAgICAgICAgKS5hZGRUbyhtYXBfZTA3MWFhMjczNDEzNDZmZGJhZmRlODE3Y2YwNzI2NjIpOwogICAgICAgIAogICAgCiAgICAgICAgICAgIHZhciBpY29uXzgwMWY5MDQ3Y2Q4MzQxZjdiNDI5YjFiYmFmYmNlZWE3ID0gTC5Bd2Vzb21lTWFya2Vycy5pY29uKAogICAgICAgICAgICAgICAgeyJleHRyYUNsYXNzZXMiOiAiZmEtcm90YXRlLTAiLCAiaWNvbiI6ICJpbmZvLXNpZ24iLCAiaWNvbkNvbG9yIjogIndoaXRlIiwgIm1hcmtlckNvbG9yIjogImdyZWVuIiwgInByZWZpeCI6ICJnbHlwaGljb24ifQogICAgICAgICAgICApOwogICAgICAgICAgICBtYXJrZXJfODE1NmViZjBkZGMzNDJkMjkxYTExMGI0MDA3ZTAzNWMuc2V0SWNvbihpY29uXzgwMWY5MDQ3Y2Q4MzQxZjdiNDI5YjFiYmFmYmNlZWE3KTsKICAgICAgICAKICAgIAogICAgICAgIHZhciBwb3B1cF9mZWFmNzhkMDc3Mjc0ZjgxYWFkMjk4NmU4NTg2NDIzOCA9IEwucG9wdXAoeyJtYXhXaWR0aCI6ICIxMDAlIn0pOwoKICAgICAgICAKICAgICAgICAgICAgdmFyIGh0bWxfZDk4OTAwNzZjMTgzNDg0NTgwODlmZmQ4MmU2MDczM2IgPSAkKGA8ZGl2IGlkPSJodG1sX2Q5ODkwMDc2YzE4MzQ4NDU4MDg5ZmZkODJlNjA3MzNiIiBzdHlsZT0id2lkdGg6IDEwMC4wJTsgaGVpZ2h0OiAxMDAuMCU7Ij4xNTk0Mzk3NzUyPC9kaXY+YClbMF07CiAgICAgICAgICAgIHBvcHVwX2ZlYWY3OGQwNzcyNzRmODFhYWQyOTg2ZTg1ODY0MjM4LnNldENvbnRlbnQoaHRtbF9kOTg5MDA3NmMxODM0ODQ1ODA4OWZmZDgyZTYwNzMzYik7CiAgICAgICAgCgogICAgICAgIG1hcmtlcl84MTU2ZWJmMGRkYzM0MmQyOTFhMTEwYjQwMDdlMDM1Yy5iaW5kUG9wdXAocG9wdXBfZmVhZjc4ZDA3NzI3NGY4MWFhZDI5ODZlODU4NjQyMzgpCiAgICAgICAgOwoKICAgICAgICAKICAgIAogICAgCiAgICAgICAgICAgIG1hcmtlcl84MTU2ZWJmMGRkYzM0MmQyOTFhMTEwYjQwMDdlMDM1Yy5iaW5kVG9vbHRpcCgKICAgICAgICAgICAgICAgIGA8ZGl2PgogICAgICAgICAgICAgICAgICAgICAxIHJvb21zPGJyPjEzNjI0LjAgVUFICiAgICAgICAgICAgICAgICAgPC9kaXY+YCwKICAgICAgICAgICAgICAgIHsic3RpY2t5IjogdHJ1ZX0KICAgICAgICAgICAgKTsKICAgICAgICAKICAgIAogICAgICAgICAgICB2YXIgbWFya2VyXzI5NTY1ZjI0ZjA0NTQwOWQ5ZWI2OTg2MmQ1MWVjZWFhID0gTC5tYXJrZXIoCiAgICAgICAgICAgICAgICBbNDkuODMyNzE5NTUsIDIzLjk3NDkxOTgwMDAwMDAwMl0sCiAgICAgICAgICAgICAgICB7fQogICAgICAgICAgICApLmFkZFRvKG1hcF9lMDcxYWEyNzM0MTM0NmZkYmFmZGU4MTdjZjA3MjY2Mik7CiAgICAgICAgCiAgICAKICAgICAgICAgICAgdmFyIGljb25fYTRlNzE1MmNiNzc3NDU3NjkzNDQ1YjAxZjM0NTdlYzUgPSBMLkF3ZXNvbWVNYXJrZXJzLmljb24oCiAgICAgICAgICAgICAgICB7ImV4dHJhQ2xhc3NlcyI6ICJmYS1yb3RhdGUtMCIsICJpY29uIjogImluZm8tc2lnbiIsICJpY29uQ29sb3IiOiAid2hpdGUiLCAibWFya2VyQ29sb3IiOiAiYmx1ZSIsICJwcmVmaXgiOiAiZ2x5cGhpY29uIn0KICAgICAgICAgICAgKTsKICAgICAgICAgICAgbWFya2VyXzI5NTY1ZjI0ZjA0NTQwOWQ5ZWI2OTg2MmQ1MWVjZWFhLnNldEljb24oaWNvbl9hNGU3MTUyY2I3Nzc0NTc2OTM0NDViMDFmMzQ1N2VjNSk7CiAgICAgICAgCiAgICAKICAgICAgICB2YXIgcG9wdXBfNDJkYjk3ZTAwMTI1NDczNjg5OTY3ZjZlNGRkNDQwMTEgPSBMLnBvcHVwKHsibWF4V2lkdGgiOiAiMTAwJSJ9KTsKCiAgICAgICAgCiAgICAgICAgICAgIHZhciBodG1sXzRhMzE0YTBhZGE5NTQxMzZiMmJhOTBmNTdlMmVjMGQ4ID0gJChgPGRpdiBpZD0iaHRtbF80YTMxNGEwYWRhOTU0MTM2YjJiYTkwZjU3ZTJlYzBkOCIgc3R5bGU9IndpZHRoOiAxMDAuMCU7IGhlaWdodDogMTAwLjAlOyI+MTU5NDM5Nzc1MjwvZGl2PmApWzBdOwogICAgICAgICAgICBwb3B1cF80MmRiOTdlMDAxMjU0NzM2ODk5NjdmNmU0ZGQ0NDAxMS5zZXRDb250ZW50KGh0bWxfNGEzMTRhMGFkYTk1NDEzNmIyYmE5MGY1N2UyZWMwZDgpOwogICAgICAgIAoKICAgICAgICBtYXJrZXJfMjk1NjVmMjRmMDQ1NDA5ZDllYjY5ODYyZDUxZWNlYWEuYmluZFBvcHVwKHBvcHVwXzQyZGI5N2UwMDEyNTQ3MzY4OTk2N2Y2ZTRkZDQ0MDExKQogICAgICAgIDsKCiAgICAgICAgCiAgICAKICAgIAogICAgICAgICAgICBtYXJrZXJfMjk1NjVmMjRmMDQ1NDA5ZDllYjY5ODYyZDUxZWNlYWEuYmluZFRvb2x0aXAoCiAgICAgICAgICAgICAgICBgPGRpdj4KICAgICAgICAgICAgICAgICAgICAgMiByb29tczxicj42MDAwLjAgVUFICiAgICAgICAgICAgICAgICAgPC9kaXY+YCwKICAgICAgICAgICAgICAgIHsic3RpY2t5IjogdHJ1ZX0KICAgICAgICAgICAgKTsKICAgICAgICAKICAgIAogICAgICAgICAgICB2YXIgbWFya2VyXzlhZjc4OWQ5YWIyODRkMTE5M2RhZTA1YTZhNGI4MzhjID0gTC5tYXJrZXIoCiAgICAgICAgICAgICAgICBbNDkuODM1NjM0Mzk5OTk5OTk2LCAyNC4wMzI1MTY0XSwKICAgICAgICAgICAgICAgIHt9CiAgICAgICAgICAgICkuYWRkVG8obWFwX2UwNzFhYTI3MzQxMzQ2ZmRiYWZkZTgxN2NmMDcyNjYyKTsKICAgICAgICAKICAgIAogICAgICAgICAgICB2YXIgaWNvbl9lZjQ4MjA2YTM1YTk0YjU3OTgxYWEwN2ViYzNlMTI3NSA9IEwuQXdlc29tZU1hcmtlcnMuaWNvbigKICAgICAgICAgICAgICAgIHsiZXh0cmFDbGFzc2VzIjogImZhLXJvdGF0ZS0wIiwgImljb24iOiAiaW5mby1zaWduIiwgImljb25Db2xvciI6ICJ3aGl0ZSIsICJtYXJrZXJDb2xvciI6ICJibHVlIiwgInByZWZpeCI6ICJnbHlwaGljb24ifQogICAgICAgICAgICApOwogICAgICAgICAgICBtYXJrZXJfOWFmNzg5ZDlhYjI4NGQxMTkzZGFlMDVhNmE0YjgzOGMuc2V0SWNvbihpY29uX2VmNDgyMDZhMzVhOTRiNTc5ODFhYTA3ZWJjM2UxMjc1KTsKICAgICAgICAKICAgIAogICAgICAgIHZhciBwb3B1cF81MGU0YTVmNDViNTE0NTU1YmZmMzAyNDQ4NzU4ZTE0NyA9IEwucG9wdXAoeyJtYXhXaWR0aCI6ICIxMDAlIn0pOwoKICAgICAgICAKICAgICAgICAgICAgdmFyIGh0bWxfNTVjNDZmODQzYjc1NDNkMTk2ODdjZWU1OTExYzQwODIgPSAkKGA8ZGl2IGlkPSJodG1sXzU1YzQ2Zjg0M2I3NTQzZDE5Njg3Y2VlNTkxMWM0MDgyIiBzdHlsZT0id2lkdGg6IDEwMC4wJTsgaGVpZ2h0OiAxMDAuMCU7Ij4xNTk0Mzk3NzUxPC9kaXY+YClbMF07CiAgICAgICAgICAgIHBvcHVwXzUwZTRhNWY0NWI1MTQ1NTViZmYzMDI0NDg3NThlMTQ3LnNldENvbnRlbnQoaHRtbF81NWM0NmY4NDNiNzU0M2QxOTY4N2NlZTU5MTFjNDA4Mik7CiAgICAgICAgCgogICAgICAgIG1hcmtlcl85YWY3ODlkOWFiMjg0ZDExOTNkYWUwNWE2YTRiODM4Yy5iaW5kUG9wdXAocG9wdXBfNTBlNGE1ZjQ1YjUxNDU1NWJmZjMwMjQ0ODc1OGUxNDcpCiAgICAgICAgOwoKICAgICAgICAKICAgIAogICAgCiAgICAgICAgICAgIG1hcmtlcl85YWY3ODlkOWFiMjg0ZDExOTNkYWUwNWE2YTRiODM4Yy5iaW5kVG9vbHRpcCgKICAgICAgICAgICAgICAgIGA8ZGl2PgogICAgICAgICAgICAgICAgICAgICAyIHJvb21zPGJyPjgwMDAuMCBVQUgKICAgICAgICAgICAgICAgICA8L2Rpdj5gLAogICAgICAgICAgICAgICAgeyJzdGlja3kiOiB0cnVlfQogICAgICAgICAgICApOwogICAgICAgIAogICAgCiAgICAgICAgICAgIHZhciBtYXJrZXJfZGQyZjI2ODFmYzY5NDc2ZGE5YjUyZjQxNzEzZDIxNmQgPSBMLm1hcmtlcigKICAgICAgICAgICAgICAgIFs0OS44MzUzNzY4LCAyNC4wMzc5NjA4OTk5OTk5OThdLAogICAgICAgICAgICAgICAge30KICAgICAgICAgICAgKS5hZGRUbyhtYXBfZTA3MWFhMjczNDEzNDZmZGJhZmRlODE3Y2YwNzI2NjIpOwogICAgICAgIAogICAgCiAgICAgICAgICAgIHZhciBpY29uX2FiNTA5ODJkMmY1ZTQ3ZjM5YmRjNGQyNGZjZDYwMGY4ID0gTC5Bd2Vzb21lTWFya2Vycy5pY29uKAogICAgICAgICAgICAgICAgeyJleHRyYUNsYXNzZXMiOiAiZmEtcm90YXRlLTAiLCAiaWNvbiI6ICJpbmZvLXNpZ24iLCAiaWNvbkNvbG9yIjogIndoaXRlIiwgIm1hcmtlckNvbG9yIjogImdyZWVuIiwgInByZWZpeCI6ICJnbHlwaGljb24ifQogICAgICAgICAgICApOwogICAgICAgICAgICBtYXJrZXJfZGQyZjI2ODFmYzY5NDc2ZGE5YjUyZjQxNzEzZDIxNmQuc2V0SWNvbihpY29uX2FiNTA5ODJkMmY1ZTQ3ZjM5YmRjNGQyNGZjZDYwMGY4KTsKICAgICAgICAKICAgIAogICAgICAgIHZhciBwb3B1cF85MmRjYjdlNDUxY2I0NzA0OTk2YjJhOTUzNjhiMTI5NiA9IEwucG9wdXAoeyJtYXhXaWR0aCI6ICIxMDAlIn0pOwoKICAgICAgICAKICAgICAgICAgICAgdmFyIGh0bWxfZTg4NTI4ZjJjZmUzNGFiOTliOTQ0NTM1MzJiOTI1ODYgPSAkKGA8ZGl2IGlkPSJodG1sX2U4ODUyOGYyY2ZlMzRhYjk5Yjk0NDUzNTMyYjkyNTg2IiBzdHlsZT0id2lkdGg6IDEwMC4wJTsgaGVpZ2h0OiAxMDAuMCU7Ij4xNTk0Mzk3NzUwPC9kaXY+YClbMF07CiAgICAgICAgICAgIHBvcHVwXzkyZGNiN2U0NTFjYjQ3MDQ5OTZiMmE5NTM2OGIxMjk2LnNldENvbnRlbnQoaHRtbF9lODg1MjhmMmNmZTM0YWI5OWI5NDQ1MzUzMmI5MjU4Nik7CiAgICAgICAgCgogICAgICAgIG1hcmtlcl9kZDJmMjY4MWZjNjk0NzZkYTliNTJmNDE3MTNkMjE2ZC5iaW5kUG9wdXAocG9wdXBfOTJkY2I3ZTQ1MWNiNDcwNDk5NmIyYTk1MzY4YjEyOTYpCiAgICAgICAgOwoKICAgICAgICAKICAgIAogICAgCiAgICAgICAgICAgIG1hcmtlcl9kZDJmMjY4MWZjNjk0NzZkYTliNTJmNDE3MTNkMjE2ZC5iaW5kVG9vbHRpcCgKICAgICAgICAgICAgICAgIGA8ZGl2PgogICAgICAgICAgICAgICAgICAgICAxIHJvb21zPGJyPjc1MDAuMCBVQUgKICAgICAgICAgICAgICAgICA8L2Rpdj5gLAogICAgICAgICAgICAgICAgeyJzdGlja3kiOiB0cnVlfQogICAgICAgICAgICApOwogICAgICAgIAogICAgCiAgICAgICAgICAgIHZhciBtYXJrZXJfNzQxZjhkOGZkNjk2NDBmN2IwMDQwNDY4NmM5YjYyYjEgPSBMLm1hcmtlcigKICAgICAgICAgICAgICAgIFs0OS44MDAyMzk2NSwgMjQuMDQ3OTUwOTU1MTc4XSwKICAgICAgICAgICAgICAgIHt9CiAgICAgICAgICAgICkuYWRkVG8obWFwX2UwNzFhYTI3MzQxMzQ2ZmRiYWZkZTgxN2NmMDcyNjYyKTsKICAgICAgICAKICAgIAogICAgICAgICAgICB2YXIgaWNvbl8yMzJjNDcwOGJjNTI0MDQyYjcxNWNkZjRkMjZjODcyZiA9IEwuQXdlc29tZU1hcmtlcnMuaWNvbigKICAgICAgICAgICAgICAgIHsiZXh0cmFDbGFzc2VzIjogImZhLXJvdGF0ZS0wIiwgImljb24iOiAiaW5mby1zaWduIiwgImljb25Db2xvciI6ICJ3aGl0ZSIsICJtYXJrZXJDb2xvciI6ICJncmVlbiIsICJwcmVmaXgiOiAiZ2x5cGhpY29uIn0KICAgICAgICAgICAgKTsKICAgICAgICAgICAgbWFya2VyXzc0MWY4ZDhmZDY5NjQwZjdiMDA0MDQ2ODZjOWI2MmIxLnNldEljb24oaWNvbl8yMzJjNDcwOGJjNTI0MDQyYjcxNWNkZjRkMjZjODcyZik7CiAgICAgICAgCiAgICAKICAgICAgICB2YXIgcG9wdXBfNTNkMjljNzZlZWQ0NDY0YTg1NWY5MTM5ZjRjNmQ3YjAgPSBMLnBvcHVwKHsibWF4V2lkdGgiOiAiMTAwJSJ9KTsKCiAgICAgICAgCiAgICAgICAgICAgIHZhciBodG1sX2E4NDA0ZGEwOTEzYTRlNmZhYjQyMDQ5NThkNDc1NzJmID0gJChgPGRpdiBpZD0iaHRtbF9hODQwNGRhMDkxM2E0ZTZmYWI0MjA0OTU4ZDQ3NTcyZiIgc3R5bGU9IndpZHRoOiAxMDAuMCU7IGhlaWdodDogMTAwLjAlOyI+MTU5NDM5Nzc0NDwvZGl2PmApWzBdOwogICAgICAgICAgICBwb3B1cF81M2QyOWM3NmVlZDQ0NjRhODU1ZjkxMzlmNGM2ZDdiMC5zZXRDb250ZW50KGh0bWxfYTg0MDRkYTA5MTNhNGU2ZmFiNDIwNDk1OGQ0NzU3MmYpOwogICAgICAgIAoKICAgICAgICBtYXJrZXJfNzQxZjhkOGZkNjk2NDBmN2IwMDQwNDY4NmM5YjYyYjEuYmluZFBvcHVwKHBvcHVwXzUzZDI5Yzc2ZWVkNDQ2NGE4NTVmOTEzOWY0YzZkN2IwKQogICAgICAgIDsKCiAgICAgICAgCiAgICAKICAgIAogICAgICAgICAgICBtYXJrZXJfNzQxZjhkOGZkNjk2NDBmN2IwMDQwNDY4NmM5YjYyYjEuYmluZFRvb2x0aXAoCiAgICAgICAgICAgICAgICBgPGRpdj4KICAgICAgICAgICAgICAgICAgICAgMSByb29tczxicj44MDAwLjAgVUFICiAgICAgICAgICAgICAgICAgPC9kaXY+YCwKICAgICAgICAgICAgICAgIHsic3RpY2t5IjogdHJ1ZX0KICAgICAgICAgICAgKTsKICAgICAgICAKICAgIAogICAgICAgICAgICB2YXIgbWFya2VyX2Y5NzQzOTAwMzMxMDRjMmE5NzdkOTJhMWZmZDQ4NDk4ID0gTC5tYXJrZXIoCiAgICAgICAgICAgICAgICBbNDkuODU3ODA4NzAwMDAwMDEsIDI0LjAyMzY0MDNdLAogICAgICAgICAgICAgICAge30KICAgICAgICAgICAgKS5hZGRUbyhtYXBfZTA3MWFhMjczNDEzNDZmZGJhZmRlODE3Y2YwNzI2NjIpOwogICAgICAgIAogICAgCiAgICAgICAgICAgIHZhciBpY29uXzJiZWY0YjBmNTJiNzQ0YmZhODgzMDljZmIxM2UwOGUxID0gTC5Bd2Vzb21lTWFya2Vycy5pY29uKAogICAgICAgICAgICAgICAgeyJleHRyYUNsYXNzZXMiOiAiZmEtcm90YXRlLTAiLCAiaWNvbiI6ICJpbmZvLXNpZ24iLCAiaWNvbkNvbG9yIjogIndoaXRlIiwgIm1hcmtlckNvbG9yIjogImJsdWUiLCAicHJlZml4IjogImdseXBoaWNvbiJ9CiAgICAgICAgICAgICk7CiAgICAgICAgICAgIG1hcmtlcl9mOTc0MzkwMDMzMTA0YzJhOTc3ZDkyYTFmZmQ0ODQ5OC5zZXRJY29uKGljb25fMmJlZjRiMGY1MmI3NDRiZmE4ODMwOWNmYjEzZTA4ZTEpOwogICAgICAgIAogICAgCiAgICAgICAgdmFyIHBvcHVwXzlhMzI5YmJlMTcwMTQ3YTM4MDQ1NTBiZmYxMTE3NzM1ID0gTC5wb3B1cCh7Im1heFdpZHRoIjogIjEwMCUifSk7CgogICAgICAgIAogICAgICAgICAgICB2YXIgaHRtbF81OGU4YTUyMTBkMmE0M2ZmOTVmYjRlOWVmN2Y4YzdkYiA9ICQoYDxkaXYgaWQ9Imh0bWxfNThlOGE1MjEwZDJhNDNmZjk1ZmI0ZTllZjdmOGM3ZGIiIHN0eWxlPSJ3aWR0aDogMTAwLjAlOyBoZWlnaHQ6IDEwMC4wJTsiPjE1OTQzOTc3NDI8L2Rpdj5gKVswXTsKICAgICAgICAgICAgcG9wdXBfOWEzMjliYmUxNzAxNDdhMzgwNDU1MGJmZjExMTc3MzUuc2V0Q29udGVudChodG1sXzU4ZThhNTIxMGQyYTQzZmY5NWZiNGU5ZWY3ZjhjN2RiKTsKICAgICAgICAKCiAgICAgICAgbWFya2VyX2Y5NzQzOTAwMzMxMDRjMmE5NzdkOTJhMWZmZDQ4NDk4LmJpbmRQb3B1cChwb3B1cF85YTMyOWJiZTE3MDE0N2EzODA0NTUwYmZmMTExNzczNSkKICAgICAgICA7CgogICAgICAgIAogICAgCiAgICAKICAgICAgICAgICAgbWFya2VyX2Y5NzQzOTAwMzMxMDRjMmE5NzdkOTJhMWZmZDQ4NDk4LmJpbmRUb29sdGlwKAogICAgICAgICAgICAgICAgYDxkaXY+CiAgICAgICAgICAgICAgICAgICAgIDIgcm9vbXM8YnI+MTkwNzQuMCBVQUgKICAgICAgICAgICAgICAgICA8L2Rpdj5gLAogICAgICAgICAgICAgICAgeyJzdGlja3kiOiB0cnVlfQogICAgICAgICAgICApOwogICAgICAgIAogICAgCiAgICAgICAgICAgIHZhciBtYXJrZXJfMGZkYmNlMTdkNjUwNDk3Y2E0N2FmZjk0MmZmMWRhY2YgPSBMLm1hcmtlcigKICAgICAgICAgICAgICAgIFs0OS44MjgzMjU2NSwgMjQuMDE4MjAyMDI3NDg1XSwKICAgICAgICAgICAgICAgIHt9CiAgICAgICAgICAgICkuYWRkVG8obWFwX2UwNzFhYTI3MzQxMzQ2ZmRiYWZkZTgxN2NmMDcyNjYyKTsKICAgICAgICAKICAgIAogICAgICAgICAgICB2YXIgaWNvbl84ZDJlMWVhOGZlNmU0ZmE2OTBiZGZlYzVkNjVmNmMwOSA9IEwuQXdlc29tZU1hcmtlcnMuaWNvbigKICAgICAgICAgICAgICAgIHsiZXh0cmFDbGFzc2VzIjogImZhLXJvdGF0ZS0wIiwgImljb24iOiAiaW5mby1zaWduIiwgImljb25Db2xvciI6ICJ3aGl0ZSIsICJtYXJrZXJDb2xvciI6ICJibHVlIiwgInByZWZpeCI6ICJnbHlwaGljb24ifQogICAgICAgICAgICApOwogICAgICAgICAgICBtYXJrZXJfMGZkYmNlMTdkNjUwNDk3Y2E0N2FmZjk0MmZmMWRhY2Yuc2V0SWNvbihpY29uXzhkMmUxZWE4ZmU2ZTRmYTY5MGJkZmVjNWQ2NWY2YzA5KTsKICAgICAgICAKICAgIAogICAgICAgIHZhciBwb3B1cF80YzQ1YWQxNWRmMDg0ZmE2YmU0MzZkZjQyNWZmZGMyNiA9IEwucG9wdXAoeyJtYXhXaWR0aCI6ICIxMDAlIn0pOwoKICAgICAgICAKICAgICAgICAgICAgdmFyIGh0bWxfYTZjZDRjNjU3Nzk1NGNjNWFmYjhjZWUyY2E3ZDMyMjcgPSAkKGA8ZGl2IGlkPSJodG1sX2E2Y2Q0YzY1Nzc5NTRjYzVhZmI4Y2VlMmNhN2QzMjI3IiBzdHlsZT0id2lkdGg6IDEwMC4wJTsgaGVpZ2h0OiAxMDAuMCU7Ij4xNTk0Mzk3NzM5PC9kaXY+YClbMF07CiAgICAgICAgICAgIHBvcHVwXzRjNDVhZDE1ZGYwODRmYTZiZTQzNmRmNDI1ZmZkYzI2LnNldENvbnRlbnQoaHRtbF9hNmNkNGM2NTc3OTU0Y2M1YWZiOGNlZTJjYTdkMzIyNyk7CiAgICAgICAgCgogICAgICAgIG1hcmtlcl8wZmRiY2UxN2Q2NTA0OTdjYTQ3YWZmOTQyZmYxZGFjZi5iaW5kUG9wdXAocG9wdXBfNGM0NWFkMTVkZjA4NGZhNmJlNDM2ZGY0MjVmZmRjMjYpCiAgICAgICAgOwoKICAgICAgICAKICAgIAogICAgCiAgICAgICAgICAgIG1hcmtlcl8wZmRiY2UxN2Q2NTA0OTdjYTQ3YWZmOTQyZmYxZGFjZi5iaW5kVG9vbHRpcCgKICAgICAgICAgICAgICAgIGA8ZGl2PgogICAgICAgICAgICAgICAgICAgICAyIHJvb21zPGJyPjEyMjYyLjAgVUFICiAgICAgICAgICAgICAgICAgPC9kaXY+YCwKICAgICAgICAgICAgICAgIHsic3RpY2t5IjogdHJ1ZX0KICAgICAgICAgICAgKTsKICAgICAgICAKICAgIAogICAgICAgICAgICB2YXIgbWFya2VyXzg2ZWZhNzViNDk3MTRjYjA5OTZlZGUyZjdlYTQ0Y2Y4ID0gTC5tYXJrZXIoCiAgICAgICAgICAgICAgICBbNDkuODA0OTQ1MSwgMjMuOTgwMjkxNjA1NjVdLAogICAgICAgICAgICAgICAge30KICAgICAgICAgICAgKS5hZGRUbyhtYXBfZTA3MWFhMjczNDEzNDZmZGJhZmRlODE3Y2YwNzI2NjIpOwogICAgICAgIAogICAgCiAgICAgICAgICAgIHZhciBpY29uXzM1NTdlYzc0Y2VlODQ1NzhiYTk2MmYwZmVjMjYyZTJiID0gTC5Bd2Vzb21lTWFya2Vycy5pY29uKAogICAgICAgICAgICAgICAgeyJleHRyYUNsYXNzZXMiOiAiZmEtcm90YXRlLTAiLCAiaWNvbiI6ICJpbmZvLXNpZ24iLCAiaWNvbkNvbG9yIjogIndoaXRlIiwgIm1hcmtlckNvbG9yIjogImdyZWVuIiwgInByZWZpeCI6ICJnbHlwaGljb24ifQogICAgICAgICAgICApOwogICAgICAgICAgICBtYXJrZXJfODZlZmE3NWI0OTcxNGNiMDk5NmVkZTJmN2VhNDRjZjguc2V0SWNvbihpY29uXzM1NTdlYzc0Y2VlODQ1NzhiYTk2MmYwZmVjMjYyZTJiKTsKICAgICAgICAKICAgIAogICAgICAgIHZhciBwb3B1cF9kYjQ3MzY0YTNmYTE0MzVlYmZlMDUxN2JlNDMzNmM4MSA9IEwucG9wdXAoeyJtYXhXaWR0aCI6ICIxMDAlIn0pOwoKICAgICAgICAKICAgICAgICAgICAgdmFyIGh0bWxfZmQxY2ZjMDJkMmUyNGRiZDg0ZTkzMGY1NmIzZmZlZmIgPSAkKGA8ZGl2IGlkPSJodG1sX2ZkMWNmYzAyZDJlMjRkYmQ4NGU5MzBmNTZiM2ZmZWZiIiBzdHlsZT0id2lkdGg6IDEwMC4wJTsgaGVpZ2h0OiAxMDAuMCU7Ij4xNTk0Mzk3NzM5PC9kaXY+YClbMF07CiAgICAgICAgICAgIHBvcHVwX2RiNDczNjRhM2ZhMTQzNWViZmUwNTE3YmU0MzM2YzgxLnNldENvbnRlbnQoaHRtbF9mZDFjZmMwMmQyZTI0ZGJkODRlOTMwZjU2YjNmZmVmYik7CiAgICAgICAgCgogICAgICAgIG1hcmtlcl84NmVmYTc1YjQ5NzE0Y2IwOTk2ZWRlMmY3ZWE0NGNmOC5iaW5kUG9wdXAocG9wdXBfZGI0NzM2NGEzZmExNDM1ZWJmZTA1MTdiZTQzMzZjODEpCiAgICAgICAgOwoKICAgICAgICAKICAgIAogICAgCiAgICAgICAgICAgIG1hcmtlcl84NmVmYTc1YjQ5NzE0Y2IwOTk2ZWRlMmY3ZWE0NGNmOC5iaW5kVG9vbHRpcCgKICAgICAgICAgICAgICAgIGA8ZGl2PgogICAgICAgICAgICAgICAgICAgICAxIHJvb21zPGJyPjExMDAwLjAgVUFICiAgICAgICAgICAgICAgICAgPC9kaXY+YCwKICAgICAgICAgICAgICAgIHsic3RpY2t5IjogdHJ1ZX0KICAgICAgICAgICAgKTsKICAgICAgICAKICAgIAogICAgICAgICAgICB2YXIgbWFya2VyX2MxODVmMDdjOTA4ZTRiZWJiYzAxMTYzODU5ODM5ZWMxID0gTC5tYXJrZXIoCiAgICAgICAgICAgICAgICBbNDkuODQxMjM2NCwgMjQuMDMyNjgzMDIwNTk1XSwKICAgICAgICAgICAgICAgIHt9CiAgICAgICAgICAgICkuYWRkVG8obWFwX2UwNzFhYTI3MzQxMzQ2ZmRiYWZkZTgxN2NmMDcyNjYyKTsKICAgICAgICAKICAgIAogICAgICAgICAgICB2YXIgaWNvbl8xNDJjOWI2NWRlZjU0MmM3YTk4NGQwZTNiMjY3MGJiYyA9IEwuQXdlc29tZU1hcmtlcnMuaWNvbigKICAgICAgICAgICAgICAgIHsiZXh0cmFDbGFzc2VzIjogImZhLXJvdGF0ZS0wIiwgImljb24iOiAiaW5mby1zaWduIiwgImljb25Db2xvciI6ICJ3aGl0ZSIsICJtYXJrZXJDb2xvciI6ICJibHVlIiwgInByZWZpeCI6ICJnbHlwaGljb24ifQogICAgICAgICAgICApOwogICAgICAgICAgICBtYXJrZXJfYzE4NWYwN2M5MDhlNGJlYmJjMDExNjM4NTk4MzllYzEuc2V0SWNvbihpY29uXzE0MmM5YjY1ZGVmNTQyYzdhOTg0ZDBlM2IyNjcwYmJjKTsKICAgICAgICAKICAgIAogICAgICAgIHZhciBwb3B1cF9jMzE2N2Y1YmE3MGY0ZjU2OGM3ZWJkMDI5NTQwOWJlNyA9IEwucG9wdXAoeyJtYXhXaWR0aCI6ICIxMDAlIn0pOwoKICAgICAgICAKICAgICAgICAgICAgdmFyIGh0bWxfODA2MDRhNDFkY2E3NGNjOGEwMzU0MWYxNmI2ZGQ3ZjggPSAkKGA8ZGl2IGlkPSJodG1sXzgwNjA0YTQxZGNhNzRjYzhhMDM1NDFmMTZiNmRkN2Y4IiBzdHlsZT0id2lkdGg6IDEwMC4wJTsgaGVpZ2h0OiAxMDAuMCU7Ij4xNTk0Mzk3NzM2PC9kaXY+YClbMF07CiAgICAgICAgICAgIHBvcHVwX2MzMTY3ZjViYTcwZjRmNTY4YzdlYmQwMjk1NDA5YmU3LnNldENvbnRlbnQoaHRtbF84MDYwNGE0MWRjYTc0Y2M4YTAzNTQxZjE2YjZkZDdmOCk7CiAgICAgICAgCgogICAgICAgIG1hcmtlcl9jMTg1ZjA3YzkwOGU0YmViYmMwMTE2Mzg1OTgzOWVjMS5iaW5kUG9wdXAocG9wdXBfYzMxNjdmNWJhNzBmNGY1NjhjN2ViZDAyOTU0MDliZTcpCiAgICAgICAgOwoKICAgICAgICAKICAgIAogICAgCiAgICAgICAgICAgIG1hcmtlcl9jMTg1ZjA3YzkwOGU0YmViYmMwMTE2Mzg1OTgzOWVjMS5iaW5kVG9vbHRpcCgKICAgICAgICAgICAgICAgIGA8ZGl2PgogICAgICAgICAgICAgICAgICAgICAyIHJvb21zPGJyPjk1MzcuMCBVQUgKICAgICAgICAgICAgICAgICA8L2Rpdj5gLAogICAgICAgICAgICAgICAgeyJzdGlja3kiOiB0cnVlfQogICAgICAgICAgICApOwogICAgICAgIAogICAgCiAgICAgICAgICAgIHZhciBtYXJrZXJfZGZjMjBkNjBmNzljNGQzNjhiNjQ2YzM0NTQzYWYzOWUgPSBMLm1hcmtlcigKICAgICAgICAgICAgICAgIFs0OS44NDA0Nzc4OTk5OTk5OTYsIDI0LjAyOTk0MjddLAogICAgICAgICAgICAgICAge30KICAgICAgICAgICAgKS5hZGRUbyhtYXBfZTA3MWFhMjczNDEzNDZmZGJhZmRlODE3Y2YwNzI2NjIpOwogICAgICAgIAogICAgCiAgICAgICAgICAgIHZhciBpY29uX2ZjODczNGIxOWVmMDQwNjJhMjBjZTY0NjM5YzU0NmYyID0gTC5Bd2Vzb21lTWFya2Vycy5pY29uKAogICAgICAgICAgICAgICAgeyJleHRyYUNsYXNzZXMiOiAiZmEtcm90YXRlLTAiLCAiaWNvbiI6ICJpbmZvLXNpZ24iLCAiaWNvbkNvbG9yIjogIndoaXRlIiwgIm1hcmtlckNvbG9yIjogImdyZWVuIiwgInByZWZpeCI6ICJnbHlwaGljb24ifQogICAgICAgICAgICApOwogICAgICAgICAgICBtYXJrZXJfZGZjMjBkNjBmNzljNGQzNjhiNjQ2YzM0NTQzYWYzOWUuc2V0SWNvbihpY29uX2ZjODczNGIxOWVmMDQwNjJhMjBjZTY0NjM5YzU0NmYyKTsKICAgICAgICAKICAgIAogICAgICAgIHZhciBwb3B1cF8zMWNmYmViOTg5MzA0ZmI4YTg1ZjQ0ODYxYWQ4YzM4OCA9IEwucG9wdXAoeyJtYXhXaWR0aCI6ICIxMDAlIn0pOwoKICAgICAgICAKICAgICAgICAgICAgdmFyIGh0bWxfNmRkNjJhODlkZDg1NGJjMjlkMGMzNTNkNDkwYjdmNDggPSAkKGA8ZGl2IGlkPSJodG1sXzZkZDYyYTg5ZGQ4NTRiYzI5ZDBjMzUzZDQ5MGI3ZjQ4IiBzdHlsZT0id2lkdGg6IDEwMC4wJTsgaGVpZ2h0OiAxMDAuMCU7Ij4xNTk0Mzk3NzM0PC9kaXY+YClbMF07CiAgICAgICAgICAgIHBvcHVwXzMxY2ZiZWI5ODkzMDRmYjhhODVmNDQ4NjFhZDhjMzg4LnNldENvbnRlbnQoaHRtbF82ZGQ2MmE4OWRkODU0YmMyOWQwYzM1M2Q0OTBiN2Y0OCk7CiAgICAgICAgCgogICAgICAgIG1hcmtlcl9kZmMyMGQ2MGY3OWM0ZDM2OGI2NDZjMzQ1NDNhZjM5ZS5iaW5kUG9wdXAocG9wdXBfMzFjZmJlYjk4OTMwNGZiOGE4NWY0NDg2MWFkOGMzODgpCiAgICAgICAgOwoKICAgICAgICAKICAgIAogICAgCiAgICAgICAgICAgIG1hcmtlcl9kZmMyMGQ2MGY3OWM0ZDM2OGI2NDZjMzQ1NDNhZjM5ZS5iaW5kVG9vbHRpcCgKICAgICAgICAgICAgICAgIGA8ZGl2PgogICAgICAgICAgICAgICAgICAgICAxIHJvb21zPGJyPjY4MTIuMCBVQUgKICAgICAgICAgICAgICAgICA8L2Rpdj5gLAogICAgICAgICAgICAgICAgeyJzdGlja3kiOiB0cnVlfQogICAgICAgICAgICApOwogICAgICAgIAogICAgCiAgICAgICAgICAgIHZhciBtYXJrZXJfYjFiMjExZTM1NWQzNGJhMWE3YjFkN2VmNjBkNTAwMGEgPSBMLm1hcmtlcigKICAgICAgICAgICAgICAgIFs0OS44MDc2MjQ1LCAyMy45ODI4MzMxOTk5OTk5OThdLAogICAgICAgICAgICAgICAge30KICAgICAgICAgICAgKS5hZGRUbyhtYXBfZTA3MWFhMjczNDEzNDZmZGJhZmRlODE3Y2YwNzI2NjIpOwogICAgICAgIAogICAgCiAgICAgICAgICAgIHZhciBpY29uXzY3ODllMzZkYmY1MzRkNDJiNzJhODFkZTVmN2ZjZTYyID0gTC5Bd2Vzb21lTWFya2Vycy5pY29uKAogICAgICAgICAgICAgICAgeyJleHRyYUNsYXNzZXMiOiAiZmEtcm90YXRlLTAiLCAiaWNvbiI6ICJpbmZvLXNpZ24iLCAiaWNvbkNvbG9yIjogIndoaXRlIiwgIm1hcmtlckNvbG9yIjogImJsdWUiLCAicHJlZml4IjogImdseXBoaWNvbiJ9CiAgICAgICAgICAgICk7CiAgICAgICAgICAgIG1hcmtlcl9iMWIyMTFlMzU1ZDM0YmExYTdiMWQ3ZWY2MGQ1MDAwYS5zZXRJY29uKGljb25fNjc4OWUzNmRiZjUzNGQ0MmI3MmE4MWRlNWY3ZmNlNjIpOwogICAgICAgIAogICAgCiAgICAgICAgdmFyIHBvcHVwXzA1OTQ4MWNjZmJmZDQzYmJiNmRhM2NiMjZiOTljM2Q2ID0gTC5wb3B1cCh7Im1heFdpZHRoIjogIjEwMCUifSk7CgogICAgICAgIAogICAgICAgICAgICB2YXIgaHRtbF8xNDk1NDcwMjMwODU0ZTBlYmZmMDY1YTU2ZjNlZTMyMyA9ICQoYDxkaXYgaWQ9Imh0bWxfMTQ5NTQ3MDIzMDg1NGUwZWJmZjA2NWE1NmYzZWUzMjMiIHN0eWxlPSJ3aWR0aDogMTAwLjAlOyBoZWlnaHQ6IDEwMC4wJTsiPjE1OTQzOTc3MTE8L2Rpdj5gKVswXTsKICAgICAgICAgICAgcG9wdXBfMDU5NDgxY2NmYmZkNDNiYmI2ZGEzY2IyNmI5OWMzZDYuc2V0Q29udGVudChodG1sXzE0OTU0NzAyMzA4NTRlMGViZmYwNjVhNTZmM2VlMzIzKTsKICAgICAgICAKCiAgICAgICAgbWFya2VyX2IxYjIxMWUzNTVkMzRiYTFhN2IxZDdlZjYwZDUwMDBhLmJpbmRQb3B1cChwb3B1cF8wNTk0ODFjY2ZiZmQ0M2JiYjZkYTNjYjI2Yjk5YzNkNikKICAgICAgICA7CgogICAgICAgIAogICAgCiAgICAKICAgICAgICAgICAgbWFya2VyX2IxYjIxMWUzNTVkMzRiYTFhN2IxZDdlZjYwZDUwMDBhLmJpbmRUb29sdGlwKAogICAgICAgICAgICAgICAgYDxkaXY+CiAgICAgICAgICAgICAgICAgICAgIDIgcm9vbXM8YnI+NzAwMC4wIFVBSAogICAgICAgICAgICAgICAgIDwvZGl2PmAsCiAgICAgICAgICAgICAgICB7InN0aWNreSI6IHRydWV9CiAgICAgICAgICAgICk7CiAgICAgICAgCiAgICAKICAgICAgICAgICAgdmFyIG1hcmtlcl85OGU5ZmE2ZWVmMTQ0Y2E3YTczNDNhMTcxODgwYTU4OSA9IEwubWFya2VyKAogICAgICAgICAgICAgICAgWzQ5LjgxOTk2NTksIDIzLjk2NTE4NjM5OTk5OTk5N10sCiAgICAgICAgICAgICAgICB7fQogICAgICAgICAgICApLmFkZFRvKG1hcF9lMDcxYWEyNzM0MTM0NmZkYmFmZGU4MTdjZjA3MjY2Mik7CiAgICAgICAgCiAgICAKICAgICAgICAgICAgdmFyIGljb25fYTMzNjIzMzBmODk1NDJkY2I2NjE2NmVjN2FkYzdmM2YgPSBMLkF3ZXNvbWVNYXJrZXJzLmljb24oCiAgICAgICAgICAgICAgICB7ImV4dHJhQ2xhc3NlcyI6ICJmYS1yb3RhdGUtMCIsICJpY29uIjogImluZm8tc2lnbiIsICJpY29uQ29sb3IiOiAid2hpdGUiLCAibWFya2VyQ29sb3IiOiAiYmx1ZSIsICJwcmVmaXgiOiAiZ2x5cGhpY29uIn0KICAgICAgICAgICAgKTsKICAgICAgICAgICAgbWFya2VyXzk4ZTlmYTZlZWYxNDRjYTdhNzM0M2ExNzE4ODBhNTg5LnNldEljb24oaWNvbl9hMzM2MjMzMGY4OTU0MmRjYjY2MTY2ZWM3YWRjN2YzZik7CiAgICAgICAgCiAgICAKICAgICAgICB2YXIgcG9wdXBfZGU3NTk4ZTlmMDE4NDM2YTg1YTU4NzVkYWUzZjI0NTYgPSBMLnBvcHVwKHsibWF4V2lkdGgiOiAiMTAwJSJ9KTsKCiAgICAgICAgCiAgICAgICAgICAgIHZhciBodG1sX2M2MjljODkzZDRjMDQwMjBiMTVkNWE5OTI1MDUxOGY3ID0gJChgPGRpdiBpZD0iaHRtbF9jNjI5Yzg5M2Q0YzA0MDIwYjE1ZDVhOTkyNTA1MThmNyIgc3R5bGU9IndpZHRoOiAxMDAuMCU7IGhlaWdodDogMTAwLjAlOyI+MTU5NDM5NzcxMDwvZGl2PmApWzBdOwogICAgICAgICAgICBwb3B1cF9kZTc1OThlOWYwMTg0MzZhODVhNTg3NWRhZTNmMjQ1Ni5zZXRDb250ZW50KGh0bWxfYzYyOWM4OTNkNGMwNDAyMGIxNWQ1YTk5MjUwNTE4ZjcpOwogICAgICAgIAoKICAgICAgICBtYXJrZXJfOThlOWZhNmVlZjE0NGNhN2E3MzQzYTE3MTg4MGE1ODkuYmluZFBvcHVwKHBvcHVwX2RlNzU5OGU5ZjAxODQzNmE4NWE1ODc1ZGFlM2YyNDU2KQogICAgICAgIDsKCiAgICAgICAgCiAgICAKICAgIAogICAgICAgICAgICBtYXJrZXJfOThlOWZhNmVlZjE0NGNhN2E3MzQzYTE3MTg4MGE1ODkuYmluZFRvb2x0aXAoCiAgICAgICAgICAgICAgICBgPGRpdj4KICAgICAgICAgICAgICAgICAgICAgMiByb29tczxicj45MDAwLjAgVUFICiAgICAgICAgICAgICAgICAgPC9kaXY+YCwKICAgICAgICAgICAgICAgIHsic3RpY2t5IjogdHJ1ZX0KICAgICAgICAgICAgKTsKICAgICAgICAKICAgIAogICAgICAgICAgICB2YXIgbWFya2VyXzliNmIzZWFiZTZjYTQ0YzVhYTdhODhhMDkwOWMxNjQxID0gTC5tYXJrZXIoCiAgICAgICAgICAgICAgICBbNDkuODM5NjgzLCAyNC4wMjk3MTddLAogICAgICAgICAgICAgICAge30KICAgICAgICAgICAgKS5hZGRUbyhtYXBfZTA3MWFhMjczNDEzNDZmZGJhZmRlODE3Y2YwNzI2NjIpOwogICAgICAgIAogICAgCiAgICAgICAgICAgIHZhciBpY29uXzNiMjc2OTQ5OGUzYzQyMWNiZTM2ZmY2YjgzNmIwZmNiID0gTC5Bd2Vzb21lTWFya2Vycy5pY29uKAogICAgICAgICAgICAgICAgeyJleHRyYUNsYXNzZXMiOiAiZmEtcm90YXRlLTAiLCAiaWNvbiI6ICJpbmZvLXNpZ24iLCAiaWNvbkNvbG9yIjogIndoaXRlIiwgIm1hcmtlckNvbG9yIjogInllbGxvdyIsICJwcmVmaXgiOiAiZ2x5cGhpY29uIn0KICAgICAgICAgICAgKTsKICAgICAgICAgICAgbWFya2VyXzliNmIzZWFiZTZjYTQ0YzVhYTdhODhhMDkwOWMxNjQxLnNldEljb24oaWNvbl8zYjI3Njk0OThlM2M0MjFjYmUzNmZmNmI4MzZiMGZjYik7CiAgICAgICAgCiAgICAKICAgICAgICB2YXIgcG9wdXBfODkwMTc5ZDdmNmU5NGZlNmFmMGI3YWIxM2ZmZjBkZWQgPSBMLnBvcHVwKHsibWF4V2lkdGgiOiAiMTAwJSJ9KTsKCiAgICAgICAgCiAgICAgICAgICAgIHZhciBodG1sX2E0NzA2YjY0NTVjYzQ2YzJhMzdmMmNmMDM4NWJjZmVhID0gJChgPGRpdiBpZD0iaHRtbF9hNDcwNmI2NDU1Y2M0NmMyYTM3ZjJjZjAzODViY2ZlYSIgc3R5bGU9IndpZHRoOiAxMDAuMCU7IGhlaWdodDogMTAwLjAlOyI+MTU5NDM0NTY0ODwvZGl2PmApWzBdOwogICAgICAgICAgICBwb3B1cF84OTAxNzlkN2Y2ZTk0ZmU2YWYwYjdhYjEzZmZmMGRlZC5zZXRDb250ZW50KGh0bWxfYTQ3MDZiNjQ1NWNjNDZjMmEzN2YyY2YwMzg1YmNmZWEpOwogICAgICAgIAoKICAgICAgICBtYXJrZXJfOWI2YjNlYWJlNmNhNDRjNWFhN2E4OGEwOTA5YzE2NDEuYmluZFBvcHVwKHBvcHVwXzg5MDE3OWQ3ZjZlOTRmZTZhZjBiN2FiMTNmZmYwZGVkKQogICAgICAgIDsKCiAgICAgICAgCiAgICAKICAgIAogICAgICAgICAgICBtYXJrZXJfOWI2YjNlYWJlNmNhNDRjNWFhN2E4OGEwOTA5YzE2NDEuYmluZFRvb2x0aXAoCiAgICAgICAgICAgICAgICBgPGRpdj4KICAgICAgICAgICAgICAgICAgICAgMyByb29tczxicj4yNDUyMy4wIFVBSAogICAgICAgICAgICAgICAgIDwvZGl2PmAsCiAgICAgICAgICAgICAgICB7InN0aWNreSI6IHRydWV9CiAgICAgICAgICAgICk7CiAgICAgICAgCiAgICAKICAgICAgICAgICAgdmFyIG1hcmtlcl85OTdhMDJkZDNkNTg0ZDdkOTA0MGQ0YzU0YTAxMTJmMiA9IEwubWFya2VyKAogICAgICAgICAgICAgICAgWzQ5Ljg4NTIzMTEsIDI0LjA3MzUzMzJdLAogICAgICAgICAgICAgICAge30KICAgICAgICAgICAgKS5hZGRUbyhtYXBfZTA3MWFhMjczNDEzNDZmZGJhZmRlODE3Y2YwNzI2NjIpOwogICAgICAgIAogICAgCiAgICAgICAgICAgIHZhciBpY29uX2M4ZDNlZTJmNzU4ZTQ1MzVhOWJmNmY1ZWEwY2ViNjE5ID0gTC5Bd2Vzb21lTWFya2Vycy5pY29uKAogICAgICAgICAgICAgICAgeyJleHRyYUNsYXNzZXMiOiAiZmEtcm90YXRlLTAiLCAiaWNvbiI6ICJpbmZvLXNpZ24iLCAiaWNvbkNvbG9yIjogIndoaXRlIiwgIm1hcmtlckNvbG9yIjogImdyZWVuIiwgInByZWZpeCI6ICJnbHlwaGljb24ifQogICAgICAgICAgICApOwogICAgICAgICAgICBtYXJrZXJfOTk3YTAyZGQzZDU4NGQ3ZDkwNDBkNGM1NGEwMTEyZjIuc2V0SWNvbihpY29uX2M4ZDNlZTJmNzU4ZTQ1MzVhOWJmNmY1ZWEwY2ViNjE5KTsKICAgICAgICAKICAgIAogICAgICAgIHZhciBwb3B1cF9mYTA5ZGJmNmIxM2E0ZDI4YmRjZWYyNjA4NTI3ZjU2MSA9IEwucG9wdXAoeyJtYXhXaWR0aCI6ICIxMDAlIn0pOwoKICAgICAgICAKICAgICAgICAgICAgdmFyIGh0bWxfNWQ5NGI1ZjNjMTc0NDkyY2JjNTYwYjFlNTc5MzhmYWUgPSAkKGA8ZGl2IGlkPSJodG1sXzVkOTRiNWYzYzE3NDQ5MmNiYzU2MGIxZTU3OTM4ZmFlIiBzdHlsZT0id2lkdGg6IDEwMC4wJTsgaGVpZ2h0OiAxMDAuMCU7Ij4xNTk0MzQ1NjI3PC9kaXY+YClbMF07CiAgICAgICAgICAgIHBvcHVwX2ZhMDlkYmY2YjEzYTRkMjhiZGNlZjI2MDg1MjdmNTYxLnNldENvbnRlbnQoaHRtbF81ZDk0YjVmM2MxNzQ0OTJjYmM1NjBiMWU1NzkzOGZhZSk7CiAgICAgICAgCgogICAgICAgIG1hcmtlcl85OTdhMDJkZDNkNTg0ZDdkOTA0MGQ0YzU0YTAxMTJmMi5iaW5kUG9wdXAocG9wdXBfZmEwOWRiZjZiMTNhNGQyOGJkY2VmMjYwODUyN2Y1NjEpCiAgICAgICAgOwoKICAgICAgICAKICAgIAogICAgCiAgICAgICAgICAgIG1hcmtlcl85OTdhMDJkZDNkNTg0ZDdkOTA0MGQ0YzU0YTAxMTJmMi5iaW5kVG9vbHRpcCgKICAgICAgICAgICAgICAgIGA8ZGl2PgogICAgICAgICAgICAgICAgICAgICAxIHJvb21zPGJyPjk1MDAuMCBVQUgKICAgICAgICAgICAgICAgICA8L2Rpdj5gLAogICAgICAgICAgICAgICAgeyJzdGlja3kiOiB0cnVlfQogICAgICAgICAgICApOwogICAgICAgIAogICAgCiAgICAgICAgICAgIHZhciBtYXJrZXJfMDU5MDJmYzU0YWMwNDM5NTg4MDE3NGRkNTJkOTkzZjUgPSBMLm1hcmtlcigKICAgICAgICAgICAgICAgIFs0OS44Mzk4NTY0LCAyNC4wNTcyMDg4XSwKICAgICAgICAgICAgICAgIHt9CiAgICAgICAgICAgICkuYWRkVG8obWFwX2UwNzFhYTI3MzQxMzQ2ZmRiYWZkZTgxN2NmMDcyNjYyKTsKICAgICAgICAKICAgIAogICAgICAgICAgICB2YXIgaWNvbl9jMzY4N2NjYjlmNjM0M2VmODZkNjI0ZjA5MDE5NDJkNiA9IEwuQXdlc29tZU1hcmtlcnMuaWNvbigKICAgICAgICAgICAgICAgIHsiZXh0cmFDbGFzc2VzIjogImZhLXJvdGF0ZS0wIiwgImljb24iOiAiaW5mby1zaWduIiwgImljb25Db2xvciI6ICJ3aGl0ZSIsICJtYXJrZXJDb2xvciI6ICJncmVlbiIsICJwcmVmaXgiOiAiZ2x5cGhpY29uIn0KICAgICAgICAgICAgKTsKICAgICAgICAgICAgbWFya2VyXzA1OTAyZmM1NGFjMDQzOTU4ODAxNzRkZDUyZDk5M2Y1LnNldEljb24oaWNvbl9jMzY4N2NjYjlmNjM0M2VmODZkNjI0ZjA5MDE5NDJkNik7CiAgICAgICAgCiAgICAKICAgICAgICB2YXIgcG9wdXBfMWI4NjYzY2VjZjBmNGM4M2I5NDZlNTVhMjk5NTVmMDMgPSBMLnBvcHVwKHsibWF4V2lkdGgiOiAiMTAwJSJ9KTsKCiAgICAgICAgCiAgICAgICAgICAgIHZhciBodG1sXzkxNTFhNmYyYjM3NzRmMjM4YTljMWYzMTM3OWQ1OTUyID0gJChgPGRpdiBpZD0iaHRtbF85MTUxYTZmMmIzNzc0ZjIzOGE5YzFmMzEzNzlkNTk1MiIgc3R5bGU9IndpZHRoOiAxMDAuMCU7IGhlaWdodDogMTAwLjAlOyI+MTU5NDMxMjA5NzwvZGl2PmApWzBdOwogICAgICAgICAgICBwb3B1cF8xYjg2NjNjZWNmMGY0YzgzYjk0NmU1NWEyOTk1NWYwMy5zZXRDb250ZW50KGh0bWxfOTE1MWE2ZjJiMzc3NGYyMzhhOWMxZjMxMzc5ZDU5NTIpOwogICAgICAgIAoKICAgICAgICBtYXJrZXJfMDU5MDJmYzU0YWMwNDM5NTg4MDE3NGRkNTJkOTkzZjUuYmluZFBvcHVwKHBvcHVwXzFiODY2M2NlY2YwZjRjODNiOTQ2ZTU1YTI5OTU1ZjAzKQogICAgICAgIDsKCiAgICAgICAgCiAgICAKICAgIAogICAgICAgICAgICBtYXJrZXJfMDU5MDJmYzU0YWMwNDM5NTg4MDE3NGRkNTJkOTkzZjUuYmluZFRvb2x0aXAoCiAgICAgICAgICAgICAgICBgPGRpdj4KICAgICAgICAgICAgICAgICAgICAgMSByb29tczxicj42NTAwLjAgVUFICiAgICAgICAgICAgICAgICAgPC9kaXY+YCwKICAgICAgICAgICAgICAgIHsic3RpY2t5IjogdHJ1ZX0KICAgICAgICAgICAgKTsKICAgICAgICAKICAgIAogICAgICAgICAgICB2YXIgbWFya2VyXzg4NjljZTAzODk5ZDQwM2RiZDllNzA4MzgyMDAwZTA0ID0gTC5tYXJrZXIoCiAgICAgICAgICAgICAgICBbNDkuODQ2NjI5NSwgMjQuMDI1NjA0N10sCiAgICAgICAgICAgICAgICB7fQogICAgICAgICAgICApLmFkZFRvKG1hcF9lMDcxYWEyNzM0MTM0NmZkYmFmZGU4MTdjZjA3MjY2Mik7CiAgICAgICAgCiAgICAKICAgICAgICAgICAgdmFyIGljb25fN2M1OTZlNjU4YTExNGViZjhiNzM0MmFlYmYxOGRjYzMgPSBMLkF3ZXNvbWVNYXJrZXJzLmljb24oCiAgICAgICAgICAgICAgICB7ImV4dHJhQ2xhc3NlcyI6ICJmYS1yb3RhdGUtMCIsICJpY29uIjogImluZm8tc2lnbiIsICJpY29uQ29sb3IiOiAid2hpdGUiLCAibWFya2VyQ29sb3IiOiAiYmx1ZSIsICJwcmVmaXgiOiAiZ2x5cGhpY29uIn0KICAgICAgICAgICAgKTsKICAgICAgICAgICAgbWFya2VyXzg4NjljZTAzODk5ZDQwM2RiZDllNzA4MzgyMDAwZTA0LnNldEljb24oaWNvbl83YzU5NmU2NThhMTE0ZWJmOGI3MzQyYWViZjE4ZGNjMyk7CiAgICAgICAgCiAgICAKICAgICAgICB2YXIgcG9wdXBfYTRiZGM2Y2Y1YzgyNDgzNzk2YWRmYjBiOTMxNjZjMzUgPSBMLnBvcHVwKHsibWF4V2lkdGgiOiAiMTAwJSJ9KTsKCiAgICAgICAgCiAgICAgICAgICAgIHZhciBodG1sX2YzMzEzMWMwNDdlMTRkODdhMjU4YTNhY2QzZTljYTQ5ID0gJChgPGRpdiBpZD0iaHRtbF9mMzMxMzFjMDQ3ZTE0ZDg3YTI1OGEzYWNkM2U5Y2E0OSIgc3R5bGU9IndpZHRoOiAxMDAuMCU7IGhlaWdodDogMTAwLjAlOyI+MTU5NDMxMDIwMDwvZGl2PmApWzBdOwogICAgICAgICAgICBwb3B1cF9hNGJkYzZjZjVjODI0ODM3OTZhZGZiMGI5MzE2NmMzNS5zZXRDb250ZW50KGh0bWxfZjMzMTMxYzA0N2UxNGQ4N2EyNThhM2FjZDNlOWNhNDkpOwogICAgICAgIAoKICAgICAgICBtYXJrZXJfODg2OWNlMDM4OTlkNDAzZGJkOWU3MDgzODIwMDBlMDQuYmluZFBvcHVwKHBvcHVwX2E0YmRjNmNmNWM4MjQ4Mzc5NmFkZmIwYjkzMTY2YzM1KQogICAgICAgIDsKCiAgICAgICAgCiAgICAKICAgIAogICAgICAgICAgICBtYXJrZXJfODg2OWNlMDM4OTlkNDAzZGJkOWU3MDgzODIwMDBlMDQuYmluZFRvb2x0aXAoCiAgICAgICAgICAgICAgICBgPGRpdj4KICAgICAgICAgICAgICAgICAgICAgMiByb29tczxicj4xNjg3MS4wIFVBSAogICAgICAgICAgICAgICAgIDwvZGl2PmAsCiAgICAgICAgICAgICAgICB7InN0aWNreSI6IHRydWV9CiAgICAgICAgICAgICk7CiAgICAgICAgCiAgICAKICAgICAgICAgICAgdmFyIG1hcmtlcl9lZWQ4NTk0MDZkYjk0ZTYzOTlhZDQ0NDFjNDlhYzI0OCA9IEwubWFya2VyKAogICAgICAgICAgICAgICAgWzQ5Ljg0NzExNTc0Mjg5NSwgMjQuMDI3MDkxMTY0MDAxMDAzXSwKICAgICAgICAgICAgICAgIHt9CiAgICAgICAgICAgICkuYWRkVG8obWFwX2UwNzFhYTI3MzQxMzQ2ZmRiYWZkZTgxN2NmMDcyNjYyKTsKICAgICAgICAKICAgIAogICAgICAgICAgICB2YXIgaWNvbl8yMWQ3NWEyY2ZiMTc0YmI1ODJjM2M2OTg2NTUzZGQ4NyA9IEwuQXdlc29tZU1hcmtlcnMuaWNvbigKICAgICAgICAgICAgICAgIHsiZXh0cmFDbGFzc2VzIjogImZhLXJvdGF0ZS0wIiwgImljb24iOiAiaW5mby1zaWduIiwgImljb25Db2xvciI6ICJ3aGl0ZSIsICJtYXJrZXJDb2xvciI6ICJncmVlbiIsICJwcmVmaXgiOiAiZ2x5cGhpY29uIn0KICAgICAgICAgICAgKTsKICAgICAgICAgICAgbWFya2VyX2VlZDg1OTQwNmRiOTRlNjM5OWFkNDQ0MWM0OWFjMjQ4LnNldEljb24oaWNvbl8yMWQ3NWEyY2ZiMTc0YmI1ODJjM2M2OTg2NTUzZGQ4Nyk7CiAgICAgICAgCiAgICAKICAgICAgICB2YXIgcG9wdXBfZjdjN2Q4YmM3MGUxNDU2YmFmZmM1ZjhjNmU4NDM5NWUgPSBMLnBvcHVwKHsibWF4V2lkdGgiOiAiMTAwJSJ9KTsKCiAgICAgICAgCiAgICAgICAgICAgIHZhciBodG1sXzliYTRlYzE2MjAzODRmMjliMjkyZTIxNGY5NTcxYzUzID0gJChgPGRpdiBpZD0iaHRtbF85YmE0ZWMxNjIwMzg0ZjI5YjI5MmUyMTRmOTU3MWM1MyIgc3R5bGU9IndpZHRoOiAxMDAuMCU7IGhlaWdodDogMTAwLjAlOyI+MTU5NDI1OTIyMDwvZGl2PmApWzBdOwogICAgICAgICAgICBwb3B1cF9mN2M3ZDhiYzcwZTE0NTZiYWZmYzVmOGM2ZTg0Mzk1ZS5zZXRDb250ZW50KGh0bWxfOWJhNGVjMTYyMDM4NGYyOWIyOTJlMjE0Zjk1NzFjNTMpOwogICAgICAgIAoKICAgICAgICBtYXJrZXJfZWVkODU5NDA2ZGI5NGU2Mzk5YWQ0NDQxYzQ5YWMyNDguYmluZFBvcHVwKHBvcHVwX2Y3YzdkOGJjNzBlMTQ1NmJhZmZjNWY4YzZlODQzOTVlKQogICAgICAgIDsKCiAgICAgICAgCiAgICAKICAgIAogICAgICAgICAgICBtYXJrZXJfZWVkODU5NDA2ZGI5NGU2Mzk5YWQ0NDQxYzQ5YWMyNDguYmluZFRvb2x0aXAoCiAgICAgICAgICAgICAgICBgPGRpdj4KICAgICAgICAgICAgICAgICAgICAgMSByb29tczxicj42MDAwLjAgVUFICiAgICAgICAgICAgICAgICAgPC9kaXY+YCwKICAgICAgICAgICAgICAgIHsic3RpY2t5IjogdHJ1ZX0KICAgICAgICAgICAgKTsKICAgICAgICAKICAgIAogICAgICAgICAgICB2YXIgbWFya2VyX2NhYjhkYmNhMWUxODQzY2RiMjRjYmE5OWM0Nzg2MzNhID0gTC5tYXJrZXIoCiAgICAgICAgICAgICAgICBbNDkuODQxOTE5MTU3NzEyLCAyNC4wMjU2NzQ5NTc2NDFdLAogICAgICAgICAgICAgICAge30KICAgICAgICAgICAgKS5hZGRUbyhtYXBfZTA3MWFhMjczNDEzNDZmZGJhZmRlODE3Y2YwNzI2NjIpOwogICAgICAgIAogICAgCiAgICAgICAgICAgIHZhciBpY29uX2EyYzk0ZmEzOTY3NDQ4NGJhNmM4ZjgxYzBiOTYwNzI5ID0gTC5Bd2Vzb21lTWFya2Vycy5pY29uKAogICAgICAgICAgICAgICAgeyJleHRyYUNsYXNzZXMiOiAiZmEtcm90YXRlLTAiLCAiaWNvbiI6ICJpbmZvLXNpZ24iLCAiaWNvbkNvbG9yIjogIndoaXRlIiwgIm1hcmtlckNvbG9yIjogImdyZWVuIiwgInByZWZpeCI6ICJnbHlwaGljb24ifQogICAgICAgICAgICApOwogICAgICAgICAgICBtYXJrZXJfY2FiOGRiY2ExZTE4NDNjZGIyNGNiYTk5YzQ3ODYzM2Euc2V0SWNvbihpY29uX2EyYzk0ZmEzOTY3NDQ4NGJhNmM4ZjgxYzBiOTYwNzI5KTsKICAgICAgICAKICAgIAogICAgICAgIHZhciBwb3B1cF83ZmE1NzBhNDYwYmY0NGExOTNmY2I3MDY4ODViMDJjNSA9IEwucG9wdXAoeyJtYXhXaWR0aCI6ICIxMDAlIn0pOwoKICAgICAgICAKICAgICAgICAgICAgdmFyIGh0bWxfNDc2MWM5ZGY4OTkxNDA5NjgxOGNlMmJiMTk4ZWZjZDkgPSAkKGA8ZGl2IGlkPSJodG1sXzQ3NjFjOWRmODk5MTQwOTY4MThjZTJiYjE5OGVmY2Q5IiBzdHlsZT0id2lkdGg6IDEwMC4wJTsgaGVpZ2h0OiAxMDAuMCU7Ij4xNTk0MjU5MjE5PC9kaXY+YClbMF07CiAgICAgICAgICAgIHBvcHVwXzdmYTU3MGE0NjBiZjQ0YTE5M2ZjYjcwNjg4NWIwMmM1LnNldENvbnRlbnQoaHRtbF80NzYxYzlkZjg5OTE0MDk2ODE4Y2UyYmIxOThlZmNkOSk7CiAgICAgICAgCgogICAgICAgIG1hcmtlcl9jYWI4ZGJjYTFlMTg0M2NkYjI0Y2JhOTljNDc4NjMzYS5iaW5kUG9wdXAocG9wdXBfN2ZhNTcwYTQ2MGJmNDRhMTkzZmNiNzA2ODg1YjAyYzUpCiAgICAgICAgOwoKICAgICAgICAKICAgIAogICAgCiAgICAgICAgICAgIG1hcmtlcl9jYWI4ZGJjYTFlMTg0M2NkYjI0Y2JhOTljNDc4NjMzYS5iaW5kVG9vbHRpcCgKICAgICAgICAgICAgICAgIGA8ZGl2PgogICAgICAgICAgICAgICAgICAgICAxIHJvb21zPGJyPjY1MDAuMCBVQUgKICAgICAgICAgICAgICAgICA8L2Rpdj5gLAogICAgICAgICAgICAgICAgeyJzdGlja3kiOiB0cnVlfQogICAgICAgICAgICApOwogICAgICAgIAogICAgCiAgICAgICAgICAgIHZhciBtYXJrZXJfOTk2YjQ0NTA1ZjA5NGU5MTg0MjE4ZWY0ZTcyYWVmZTAgPSBMLm1hcmtlcigKICAgICAgICAgICAgICAgIFs0OS44MzcxMTQsIDI0LjAyOTA5MjldLAogICAgICAgICAgICAgICAge30KICAgICAgICAgICAgKS5hZGRUbyhtYXBfZTA3MWFhMjczNDEzNDZmZGJhZmRlODE3Y2YwNzI2NjIpOwogICAgICAgIAogICAgCiAgICAgICAgICAgIHZhciBpY29uX2NjY2ZmZTVhMDJiZTRhNmNhODJlNWVmZjhjODVkOWVjID0gTC5Bd2Vzb21lTWFya2Vycy5pY29uKAogICAgICAgICAgICAgICAgeyJleHRyYUNsYXNzZXMiOiAiZmEtcm90YXRlLTAiLCAiaWNvbiI6ICJpbmZvLXNpZ24iLCAiaWNvbkNvbG9yIjogIndoaXRlIiwgIm1hcmtlckNvbG9yIjogImJsdWUiLCAicHJlZml4IjogImdseXBoaWNvbiJ9CiAgICAgICAgICAgICk7CiAgICAgICAgICAgIG1hcmtlcl85OTZiNDQ1MDVmMDk0ZTkxODQyMThlZjRlNzJhZWZlMC5zZXRJY29uKGljb25fY2NjZmZlNWEwMmJlNGE2Y2E4MmU1ZWZmOGM4NWQ5ZWMpOwogICAgICAgIAogICAgCiAgICAgICAgdmFyIHBvcHVwX2JhYmY5MTE3NTM0ZDRmOWM4MGE5OTZhMjQwZmQxNTJiID0gTC5wb3B1cCh7Im1heFdpZHRoIjogIjEwMCUifSk7CgogICAgICAgIAogICAgICAgICAgICB2YXIgaHRtbF9lOTAxMWYxYTRiZGY0MTQwYmUyMzNhNGVmOTMyYTlmMyA9ICQoYDxkaXYgaWQ9Imh0bWxfZTkwMTFmMWE0YmRmNDE0MGJlMjMzYTRlZjkzMmE5ZjMiIHN0eWxlPSJ3aWR0aDogMTAwLjAlOyBoZWlnaHQ6IDEwMC4wJTsiPjE1OTQyNTg2MDA8L2Rpdj5gKVswXTsKICAgICAgICAgICAgcG9wdXBfYmFiZjkxMTc1MzRkNGY5YzgwYTk5NmEyNDBmZDE1MmIuc2V0Q29udGVudChodG1sX2U5MDExZjFhNGJkZjQxNDBiZTIzM2E0ZWY5MzJhOWYzKTsKICAgICAgICAKCiAgICAgICAgbWFya2VyXzk5NmI0NDUwNWYwOTRlOTE4NDIxOGVmNGU3MmFlZmUwLmJpbmRQb3B1cChwb3B1cF9iYWJmOTExNzUzNGQ0ZjljODBhOTk2YTI0MGZkMTUyYikKICAgICAgICA7CgogICAgICAgIAogICAgCiAgICAKICAgICAgICAgICAgbWFya2VyXzk5NmI0NDUwNWYwOTRlOTE4NDIxOGVmNGU3MmFlZmUwLmJpbmRUb29sdGlwKAogICAgICAgICAgICAgICAgYDxkaXY+CiAgICAgICAgICAgICAgICAgICAgIDIgcm9vbXM8YnI+ODAwMC4wIFVBSAogICAgICAgICAgICAgICAgIDwvZGl2PmAsCiAgICAgICAgICAgICAgICB7InN0aWNreSI6IHRydWV9CiAgICAgICAgICAgICk7CiAgICAgICAgCiAgICAKICAgICAgICAgICAgdmFyIG1hcmtlcl8xYmQ3NDI2NTUwYTg0ZWRlYmM4NjMyMWQxZTg4ZGViYyA9IEwubWFya2VyKAogICAgICAgICAgICAgICAgWzQ5LjgxOTQzMzYsIDIzLjk2MzM2MThdLAogICAgICAgICAgICAgICAge30KICAgICAgICAgICAgKS5hZGRUbyhtYXBfZTA3MWFhMjczNDEzNDZmZGJhZmRlODE3Y2YwNzI2NjIpOwogICAgICAgIAogICAgCiAgICAgICAgICAgIHZhciBpY29uXzVkMTI4YTM0YjRmMDQ5NTFiZDhjYTY2ZTczMGFjNWY5ID0gTC5Bd2Vzb21lTWFya2Vycy5pY29uKAogICAgICAgICAgICAgICAgeyJleHRyYUNsYXNzZXMiOiAiZmEtcm90YXRlLTAiLCAiaWNvbiI6ICJpbmZvLXNpZ24iLCAiaWNvbkNvbG9yIjogIndoaXRlIiwgIm1hcmtlckNvbG9yIjogImdyZWVuIiwgInByZWZpeCI6ICJnbHlwaGljb24ifQogICAgICAgICAgICApOwogICAgICAgICAgICBtYXJrZXJfMWJkNzQyNjU1MGE4NGVkZWJjODYzMjFkMWU4OGRlYmMuc2V0SWNvbihpY29uXzVkMTI4YTM0YjRmMDQ5NTFiZDhjYTY2ZTczMGFjNWY5KTsKICAgICAgICAKICAgIAogICAgICAgIHZhciBwb3B1cF9lZGU3ZGVjYzQ1MTA0YzhmODk0NmM5ZWFlOTQ2MzVjZCA9IEwucG9wdXAoeyJtYXhXaWR0aCI6ICIxMDAlIn0pOwoKICAgICAgICAKICAgICAgICAgICAgdmFyIGh0bWxfMmViMGI0ZGM4YmJkNDkzZDk0ZjUwYzI4NDY3NGFkMmUgPSAkKGA8ZGl2IGlkPSJodG1sXzJlYjBiNGRjOGJiZDQ5M2Q5NGY1MGMyODQ2NzRhZDJlIiBzdHlsZT0id2lkdGg6IDEwMC4wJTsgaGVpZ2h0OiAxMDAuMCU7Ij4xNTk0MjQwNDQyPC9kaXY+YClbMF07CiAgICAgICAgICAgIHBvcHVwX2VkZTdkZWNjNDUxMDRjOGY4OTQ2YzllYWU5NDYzNWNkLnNldENvbnRlbnQoaHRtbF8yZWIwYjRkYzhiYmQ0OTNkOTRmNTBjMjg0Njc0YWQyZSk7CiAgICAgICAgCgogICAgICAgIG1hcmtlcl8xYmQ3NDI2NTUwYTg0ZWRlYmM4NjMyMWQxZTg4ZGViYy5iaW5kUG9wdXAocG9wdXBfZWRlN2RlY2M0NTEwNGM4Zjg5NDZjOWVhZTk0NjM1Y2QpCiAgICAgICAgOwoKICAgICAgICAKICAgIAogICAgCiAgICAgICAgICAgIG1hcmtlcl8xYmQ3NDI2NTUwYTg0ZWRlYmM4NjMyMWQxZTg4ZGViYy5iaW5kVG9vbHRpcCgKICAgICAgICAgICAgICAgIGA8ZGl2PgogICAgICAgICAgICAgICAgICAgICAxIHJvb21zPGJyPjEwMDAwLjAgVUFICiAgICAgICAgICAgICAgICAgPC9kaXY+YCwKICAgICAgICAgICAgICAgIHsic3RpY2t5IjogdHJ1ZX0KICAgICAgICAgICAgKTsKICAgICAgICAKICAgIAogICAgICAgICAgICB2YXIgbWFya2VyXzE0NzNjYmUyOGM4NDQ1YzBiOGY5ZjE5MGNkZDVlYzc5ID0gTC5tYXJrZXIoCiAgICAgICAgICAgICAgICBbNDkuODY2Mjk2MDAwMDAwMDA2LCAyNC4wMDQwNTNdLAogICAgICAgICAgICAgICAge30KICAgICAgICAgICAgKS5hZGRUbyhtYXBfZTA3MWFhMjczNDEzNDZmZGJhZmRlODE3Y2YwNzI2NjIpOwogICAgICAgIAogICAgCiAgICAgICAgICAgIHZhciBpY29uXzNjMGVlOWNhMTE3MTRiNDViMTFmNjM3MjhhYThiOWVhID0gTC5Bd2Vzb21lTWFya2Vycy5pY29uKAogICAgICAgICAgICAgICAgeyJleHRyYUNsYXNzZXMiOiAiZmEtcm90YXRlLTAiLCAiaWNvbiI6ICJpbmZvLXNpZ24iLCAiaWNvbkNvbG9yIjogIndoaXRlIiwgIm1hcmtlckNvbG9yIjogImdyZWVuIiwgInByZWZpeCI6ICJnbHlwaGljb24ifQogICAgICAgICAgICApOwogICAgICAgICAgICBtYXJrZXJfMTQ3M2NiZTI4Yzg0NDVjMGI4ZjlmMTkwY2RkNWVjNzkuc2V0SWNvbihpY29uXzNjMGVlOWNhMTE3MTRiNDViMTFmNjM3MjhhYThiOWVhKTsKICAgICAgICAKICAgIAogICAgICAgIHZhciBwb3B1cF8xNjcwZTk0YjFjZmU0OWUzODRjYjIzZWFkZWZmYjY4YiA9IEwucG9wdXAoeyJtYXhXaWR0aCI6ICIxMDAlIn0pOwoKICAgICAgICAKICAgICAgICAgICAgdmFyIGh0bWxfZjM2NjAzNjA0Y2I1NDE0OThmNTM2MjVhNTk5MzU1MjYgPSAkKGA8ZGl2IGlkPSJodG1sX2YzNjYwMzYwNGNiNTQxNDk4ZjUzNjI1YTU5OTM1NTI2IiBzdHlsZT0id2lkdGg6IDEwMC4wJTsgaGVpZ2h0OiAxMDAuMCU7Ij4xNTk0MTg3NzM5PC9kaXY+YClbMF07CiAgICAgICAgICAgIHBvcHVwXzE2NzBlOTRiMWNmZTQ5ZTM4NGNiMjNlYWRlZmZiNjhiLnNldENvbnRlbnQoaHRtbF9mMzY2MDM2MDRjYjU0MTQ5OGY1MzYyNWE1OTkzNTUyNik7CiAgICAgICAgCgogICAgICAgIG1hcmtlcl8xNDczY2JlMjhjODQ0NWMwYjhmOWYxOTBjZGQ1ZWM3OS5iaW5kUG9wdXAocG9wdXBfMTY3MGU5NGIxY2ZlNDllMzg0Y2IyM2VhZGVmZmI2OGIpCiAgICAgICAgOwoKICAgICAgICAKICAgIAogICAgCiAgICAgICAgICAgIG1hcmtlcl8xNDczY2JlMjhjODQ0NWMwYjhmOWYxOTBjZGQ1ZWM3OS5iaW5kVG9vbHRpcCgKICAgICAgICAgICAgICAgIGA8ZGl2PgogICAgICAgICAgICAgICAgICAgICAxIHJvb21zPGJyPjkwMDAuMCBVQUgKICAgICAgICAgICAgICAgICA8L2Rpdj5gLAogICAgICAgICAgICAgICAgeyJzdGlja3kiOiB0cnVlfQogICAgICAgICAgICApOwogICAgICAgIAogICAgCiAgICAgICAgICAgIHZhciBtYXJrZXJfNzhiN2Q4ZWJmNzYyNDMzMmE3YzZjNDE0ZTBhMDE3OTAgPSBMLm1hcmtlcigKICAgICAgICAgICAgICAgIFs0OS44NDQ5MjUzOTk5OTk5OTQsIDI0LjAwOTA5MTg5OTk5OTk5OF0sCiAgICAgICAgICAgICAgICB7fQogICAgICAgICAgICApLmFkZFRvKG1hcF9lMDcxYWEyNzM0MTM0NmZkYmFmZGU4MTdjZjA3MjY2Mik7CiAgICAgICAgCiAgICAKICAgICAgICAgICAgdmFyIGljb25fMGQ5MjE2YTdlNzhhNDY3NDk0NGVjYTIwNzVjZTE1NmMgPSBMLkF3ZXNvbWVNYXJrZXJzLmljb24oCiAgICAgICAgICAgICAgICB7ImV4dHJhQ2xhc3NlcyI6ICJmYS1yb3RhdGUtMCIsICJpY29uIjogImluZm8tc2lnbiIsICJpY29uQ29sb3IiOiAid2hpdGUiLCAibWFya2VyQ29sb3IiOiAiZ3JlZW4iLCAicHJlZml4IjogImdseXBoaWNvbiJ9CiAgICAgICAgICAgICk7CiAgICAgICAgICAgIG1hcmtlcl83OGI3ZDhlYmY3NjI0MzMyYTdjNmM0MTRlMGEwMTc5MC5zZXRJY29uKGljb25fMGQ5MjE2YTdlNzhhNDY3NDk0NGVjYTIwNzVjZTE1NmMpOwogICAgICAgIAogICAgCiAgICAgICAgdmFyIHBvcHVwX2I5YTU2YjRiOThmOTQ0NDk5MDM1NWIzZmE3NThhNjViID0gTC5wb3B1cCh7Im1heFdpZHRoIjogIjEwMCUifSk7CgogICAgICAgIAogICAgICAgICAgICB2YXIgaHRtbF9lMDkyZmQwNGYzZTY0YmYwODAzMDk0YjczYzBhOGYxZiA9ICQoYDxkaXYgaWQ9Imh0bWxfZTA5MmZkMDRmM2U2NGJmMDgwMzA5NGI3M2MwYThmMWYiIHN0eWxlPSJ3aWR0aDogMTAwLjAlOyBoZWlnaHQ6IDEwMC4wJTsiPjE1OTQxODQ2NTg8L2Rpdj5gKVswXTsKICAgICAgICAgICAgcG9wdXBfYjlhNTZiNGI5OGY5NDQ0OTkwMzU1YjNmYTc1OGE2NWIuc2V0Q29udGVudChodG1sX2UwOTJmZDA0ZjNlNjRiZjA4MDMwOTRiNzNjMGE4ZjFmKTsKICAgICAgICAKCiAgICAgICAgbWFya2VyXzc4YjdkOGViZjc2MjQzMzJhN2M2YzQxNGUwYTAxNzkwLmJpbmRQb3B1cChwb3B1cF9iOWE1NmI0Yjk4Zjk0NDQ5OTAzNTViM2ZhNzU4YTY1YikKICAgICAgICA7CgogICAgICAgIAogICAgCiAgICAKICAgICAgICAgICAgbWFya2VyXzc4YjdkOGViZjc2MjQzMzJhN2M2YzQxNGUwYTAxNzkwLmJpbmRUb29sdGlwKAogICAgICAgICAgICAgICAgYDxkaXY+CiAgICAgICAgICAgICAgICAgICAgIDEgcm9vbXM8YnI+MTAwMDAuMCBVQUgKICAgICAgICAgICAgICAgICA8L2Rpdj5gLAogICAgICAgICAgICAgICAgeyJzdGlja3kiOiB0cnVlfQogICAgICAgICAgICApOwogICAgICAgIAogICAgCiAgICAgICAgICAgIHZhciBtYXJrZXJfYjg4ODRiNTg4MTU0NDZmODhiODAwY2FiZjdkNDY1NGQgPSBMLm1hcmtlcigKICAgICAgICAgICAgICAgIFs0OS44NDMwMTkyNzY2NTEsIDI0LjAyNTY0Mjc2NjU4N10sCiAgICAgICAgICAgICAgICB7fQogICAgICAgICAgICApLmFkZFRvKG1hcF9lMDcxYWEyNzM0MTM0NmZkYmFmZGU4MTdjZjA3MjY2Mik7CiAgICAgICAgCiAgICAKICAgICAgICAgICAgdmFyIGljb25fMWVlNDE3MWQyOWIxNDMyOWIwZmY2NWQ5NzhiZDc4ZjIgPSBMLkF3ZXNvbWVNYXJrZXJzLmljb24oCiAgICAgICAgICAgICAgICB7ImV4dHJhQ2xhc3NlcyI6ICJmYS1yb3RhdGUtMCIsICJpY29uIjogImluZm8tc2lnbiIsICJpY29uQ29sb3IiOiAid2hpdGUiLCAibWFya2VyQ29sb3IiOiAiYmx1ZSIsICJwcmVmaXgiOiAiZ2x5cGhpY29uIn0KICAgICAgICAgICAgKTsKICAgICAgICAgICAgbWFya2VyX2I4ODg0YjU4ODE1NDQ2Zjg4YjgwMGNhYmY3ZDQ2NTRkLnNldEljb24oaWNvbl8xZWU0MTcxZDI5YjE0MzI5YjBmZjY1ZDk3OGJkNzhmMik7CiAgICAgICAgCiAgICAKICAgICAgICB2YXIgcG9wdXBfZjgwMDIwODdiM2UyNGU2YThmZmJiMzQ4NmJmOGY1ODggPSBMLnBvcHVwKHsibWF4V2lkdGgiOiAiMTAwJSJ9KTsKCiAgICAgICAgCiAgICAgICAgICAgIHZhciBodG1sX2VmZTI0Y2NhMzc1NjRhN2U4ZmIzMjM5MWYyNmI2MjI5ID0gJChgPGRpdiBpZD0iaHRtbF9lZmUyNGNjYTM3NTY0YTdlOGZiMzIzOTFmMjZiNjIyOSIgc3R5bGU9IndpZHRoOiAxMDAuMCU7IGhlaWdodDogMTAwLjAlOyI+MTU5NDE3Mjg3MzwvZGl2PmApWzBdOwogICAgICAgICAgICBwb3B1cF9mODAwMjA4N2IzZTI0ZTZhOGZmYmIzNDg2YmY4ZjU4OC5zZXRDb250ZW50KGh0bWxfZWZlMjRjY2EzNzU2NGE3ZThmYjMyMzkxZjI2YjYyMjkpOwogICAgICAgIAoKICAgICAgICBtYXJrZXJfYjg4ODRiNTg4MTU0NDZmODhiODAwY2FiZjdkNDY1NGQuYmluZFBvcHVwKHBvcHVwX2Y4MDAyMDg3YjNlMjRlNmE4ZmZiYjM0ODZiZjhmNTg4KQogICAgICAgIDsKCiAgICAgICAgCiAgICAKICAgIAogICAgICAgICAgICBtYXJrZXJfYjg4ODRiNTg4MTU0NDZmODhiODAwY2FiZjdkNDY1NGQuYmluZFRvb2x0aXAoCiAgICAgICAgICAgICAgICBgPGRpdj4KICAgICAgICAgICAgICAgICAgICAgMiByb29tczxicj4yMDQzNi4wIFVBSAogICAgICAgICAgICAgICAgIDwvZGl2PmAsCiAgICAgICAgICAgICAgICB7InN0aWNreSI6IHRydWV9CiAgICAgICAgICAgICk7CiAgICAgICAgCiAgICAKICAgICAgICAgICAgdmFyIG1hcmtlcl82NjVjZDBkZTZmODU0OTZiOWM2NWRjOGE2M2I2NDU3NyA9IEwubWFya2VyKAogICAgICAgICAgICAgICAgWzQ5Ljg0NDk3NzIxNjIxOTk5NSwgMjQuMDI5Mzc0MTMzNzk5XSwKICAgICAgICAgICAgICAgIHt9CiAgICAgICAgICAgICkuYWRkVG8obWFwX2UwNzFhYTI3MzQxMzQ2ZmRiYWZkZTgxN2NmMDcyNjYyKTsKICAgICAgICAKICAgIAogICAgICAgICAgICB2YXIgaWNvbl9kMWI0OWU5NTg4MGY0Zjk2YmQzODc1ZjQ5ZjVhN2NiMCA9IEwuQXdlc29tZU1hcmtlcnMuaWNvbigKICAgICAgICAgICAgICAgIHsiZXh0cmFDbGFzc2VzIjogImZhLXJvdGF0ZS0wIiwgImljb24iOiAiaW5mby1zaWduIiwgImljb25Db2xvciI6ICJ3aGl0ZSIsICJtYXJrZXJDb2xvciI6ICJibHVlIiwgInByZWZpeCI6ICJnbHlwaGljb24ifQogICAgICAgICAgICApOwogICAgICAgICAgICBtYXJrZXJfNjY1Y2QwZGU2Zjg1NDk2YjljNjVkYzhhNjNiNjQ1Nzcuc2V0SWNvbihpY29uX2QxYjQ5ZTk1ODgwZjRmOTZiZDM4NzVmNDlmNWE3Y2IwKTsKICAgICAgICAKICAgIAogICAgICAgIHZhciBwb3B1cF8wNjExZGZmNDI4OTI0OTEzOTY0NTNkMzg1NTY0MDQ0MiA9IEwucG9wdXAoeyJtYXhXaWR0aCI6ICIxMDAlIn0pOwoKICAgICAgICAKICAgICAgICAgICAgdmFyIGh0bWxfNTE3YjAyYjFmYzJhNDc3MGEzNGI4NDhjN2FjZDc1MjkgPSAkKGA8ZGl2IGlkPSJodG1sXzUxN2IwMmIxZmMyYTQ3NzBhMzRiODQ4YzdhY2Q3NTI5IiBzdHlsZT0id2lkdGg6IDEwMC4wJTsgaGVpZ2h0OiAxMDAuMCU7Ij4xNTk0MTcyODM1PC9kaXY+YClbMF07CiAgICAgICAgICAgIHBvcHVwXzA2MTFkZmY0Mjg5MjQ5MTM5NjQ1M2QzODU1NjQwNDQyLnNldENvbnRlbnQoaHRtbF81MTdiMDJiMWZjMmE0NzcwYTM0Yjg0OGM3YWNkNzUyOSk7CiAgICAgICAgCgogICAgICAgIG1hcmtlcl82NjVjZDBkZTZmODU0OTZiOWM2NWRjOGE2M2I2NDU3Ny5iaW5kUG9wdXAocG9wdXBfMDYxMWRmZjQyODkyNDkxMzk2NDUzZDM4NTU2NDA0NDIpCiAgICAgICAgOwoKICAgICAgICAKICAgIAogICAgCiAgICAgICAgICAgIG1hcmtlcl82NjVjZDBkZTZmODU0OTZiOWM2NWRjOGE2M2I2NDU3Ny5iaW5kVG9vbHRpcCgKICAgICAgICAgICAgICAgIGA8ZGl2PgogICAgICAgICAgICAgICAgICAgICAyIHJvb21zPGJyPjkwMDAuMCBVQUgKICAgICAgICAgICAgICAgICA8L2Rpdj5gLAogICAgICAgICAgICAgICAgeyJzdGlja3kiOiB0cnVlfQogICAgICAgICAgICApOwogICAgICAgIAogICAgCiAgICAgICAgICAgIHZhciBtYXJrZXJfZGY1ZDRjMDk2MjEwNDA5Mjg4Y2RkM2IyNDVlYTYzNjUgPSBMLm1hcmtlcigKICAgICAgICAgICAgICAgIFs0OS44NDMwNjMzODQzMzIsIDI0LjAyNTgzNzIyNjc0MV0sCiAgICAgICAgICAgICAgICB7fQogICAgICAgICAgICApLmFkZFRvKG1hcF9lMDcxYWEyNzM0MTM0NmZkYmFmZGU4MTdjZjA3MjY2Mik7CiAgICAgICAgCiAgICAKICAgICAgICAgICAgdmFyIGljb25fMGE3OWEwNGNhNzEwNDhmNWJjZDEwNGRiNmEyYmIzZjcgPSBMLkF3ZXNvbWVNYXJrZXJzLmljb24oCiAgICAgICAgICAgICAgICB7ImV4dHJhQ2xhc3NlcyI6ICJmYS1yb3RhdGUtMCIsICJpY29uIjogImluZm8tc2lnbiIsICJpY29uQ29sb3IiOiAid2hpdGUiLCAibWFya2VyQ29sb3IiOiAiYmx1ZSIsICJwcmVmaXgiOiAiZ2x5cGhpY29uIn0KICAgICAgICAgICAgKTsKICAgICAgICAgICAgbWFya2VyX2RmNWQ0YzA5NjIxMDQwOTI4OGNkZDNiMjQ1ZWE2MzY1LnNldEljb24oaWNvbl8wYTc5YTA0Y2E3MTA0OGY1YmNkMTA0ZGI2YTJiYjNmNyk7CiAgICAgICAgCiAgICAKICAgICAgICB2YXIgcG9wdXBfY2Y0YjdiNWQ2YmJiNDg0ZmEyNzc3OTQ3MjQ3M2IyYjkgPSBMLnBvcHVwKHsibWF4V2lkdGgiOiAiMTAwJSJ9KTsKCiAgICAgICAgCiAgICAgICAgICAgIHZhciBodG1sXzA3Njc2M2ZmYTNlYjRkMDE5ODYwNjM4MjNmN2E4ZDI5ID0gJChgPGRpdiBpZD0iaHRtbF8wNzY3NjNmZmEzZWI0ZDAxOTg2MDYzODIzZjdhOGQyOSIgc3R5bGU9IndpZHRoOiAxMDAuMCU7IGhlaWdodDogMTAwLjAlOyI+MTU5NDE3MjgzNDwvZGl2PmApWzBdOwogICAgICAgICAgICBwb3B1cF9jZjRiN2I1ZDZiYmI0ODRmYTI3Nzc5NDcyNDczYjJiOS5zZXRDb250ZW50KGh0bWxfMDc2NzYzZmZhM2ViNGQwMTk4NjA2MzgyM2Y3YThkMjkpOwogICAgICAgIAoKICAgICAgICBtYXJrZXJfZGY1ZDRjMDk2MjEwNDA5Mjg4Y2RkM2IyNDVlYTYzNjUuYmluZFBvcHVwKHBvcHVwX2NmNGI3YjVkNmJiYjQ4NGZhMjc3Nzk0NzI0NzNiMmI5KQogICAgICAgIDsKCiAgICAgICAgCiAgICAKICAgIAogICAgICAgICAgICBtYXJrZXJfZGY1ZDRjMDk2MjEwNDA5Mjg4Y2RkM2IyNDVlYTYzNjUuYmluZFRvb2x0aXAoCiAgICAgICAgICAgICAgICBgPGRpdj4KICAgICAgICAgICAgICAgICAgICAgMiByb29tczxicj4yMTc5OC4wIFVBSAogICAgICAgICAgICAgICAgIDwvZGl2PmAsCiAgICAgICAgICAgICAgICB7InN0aWNreSI6IHRydWV9CiAgICAgICAgICAgICk7CiAgICAgICAgCiAgICAKICAgICAgICAgICAgdmFyIG1hcmtlcl8wMzM5YjBmZDQ4ZTQ0Zjc5OTE2ZjkyYWEzNzViNzc2ZiA9IEwubWFya2VyKAogICAgICAgICAgICAgICAgWzQ5LjgzOTY4MywgMjQuMDI5NzE3XSwKICAgICAgICAgICAgICAgIHt9CiAgICAgICAgICAgICkuYWRkVG8obWFwX2UwNzFhYTI3MzQxMzQ2ZmRiYWZkZTgxN2NmMDcyNjYyKTsKICAgICAgICAKICAgIAogICAgICAgICAgICB2YXIgaWNvbl9kYzVkMzZlNzMzMTc0ZWFkOTRhZDQyZGYyNDhmMDhjZCA9IEwuQXdlc29tZU1hcmtlcnMuaWNvbigKICAgICAgICAgICAgICAgIHsiZXh0cmFDbGFzc2VzIjogImZhLXJvdGF0ZS0wIiwgImljb24iOiAiaW5mby1zaWduIiwgImljb25Db2xvciI6ICJ3aGl0ZSIsICJtYXJrZXJDb2xvciI6ICJncmVlbiIsICJwcmVmaXgiOiAiZ2x5cGhpY29uIn0KICAgICAgICAgICAgKTsKICAgICAgICAgICAgbWFya2VyXzAzMzliMGZkNDhlNDRmNzk5MTZmOTJhYTM3NWI3NzZmLnNldEljb24oaWNvbl9kYzVkMzZlNzMzMTc0ZWFkOTRhZDQyZGYyNDhmMDhjZCk7CiAgICAgICAgCiAgICAKICAgICAgICB2YXIgcG9wdXBfZmIwMzdkNzA4MjE2NDVlOGI0MWExOWQxZTIyNjgwZjYgPSBMLnBvcHVwKHsibWF4V2lkdGgiOiAiMTAwJSJ9KTsKCiAgICAgICAgCiAgICAgICAgICAgIHZhciBodG1sXzUyMzJhYjRlM2IxMDRjNzg5NmNkYmQyYTY5MGViOWNiID0gJChgPGRpdiBpZD0iaHRtbF81MjMyYWI0ZTNiMTA0Yzc4OTZjZGJkMmE2OTBlYjljYiIgc3R5bGU9IndpZHRoOiAxMDAuMCU7IGhlaWdodDogMTAwLjAlOyI+MTU5NDE3MjgzMzwvZGl2PmApWzBdOwogICAgICAgICAgICBwb3B1cF9mYjAzN2Q3MDgyMTY0NWU4YjQxYTE5ZDFlMjI2ODBmNi5zZXRDb250ZW50KGh0bWxfNTIzMmFiNGUzYjEwNGM3ODk2Y2RiZDJhNjkwZWI5Y2IpOwogICAgICAgIAoKICAgICAgICBtYXJrZXJfMDMzOWIwZmQ0OGU0NGY3OTkxNmY5MmFhMzc1Yjc3NmYuYmluZFBvcHVwKHBvcHVwX2ZiMDM3ZDcwODIxNjQ1ZThiNDFhMTlkMWUyMjY4MGY2KQogICAgICAgIDsKCiAgICAgICAgCiAgICAKICAgIAogICAgICAgICAgICBtYXJrZXJfMDMzOWIwZmQ0OGU0NGY3OTkxNmY5MmFhMzc1Yjc3NmYuYmluZFRvb2x0aXAoCiAgICAgICAgICAgICAgICBgPGRpdj4KICAgICAgICAgICAgICAgICAgICAgMSByb29tczxicj4yMTc5OC4wIFVBSAogICAgICAgICAgICAgICAgIDwvZGl2PmAsCiAgICAgICAgICAgICAgICB7InN0aWNreSI6IHRydWV9CiAgICAgICAgICAgICk7CiAgICAgICAgCiAgICAKICAgICAgICAgICAgdmFyIG1hcmtlcl82YjNlYWViMTA3NmU0OThmOTA0YWFhYzY5NWNlYTg4OSA9IEwubWFya2VyKAogICAgICAgICAgICAgICAgWzQ5Ljg0MzAyOTY1NDkzMzAwNSwgMjQuMDI2MTIyODgyMDAxXSwKICAgICAgICAgICAgICAgIHt9CiAgICAgICAgICAgICkuYWRkVG8obWFwX2UwNzFhYTI3MzQxMzQ2ZmRiYWZkZTgxN2NmMDcyNjYyKTsKICAgICAgICAKICAgIAogICAgICAgICAgICB2YXIgaWNvbl82NjViODRlNGVlN2E0NzgxYmQ4NTAzN2E4ZGMyYjJiZiA9IEwuQXdlc29tZU1hcmtlcnMuaWNvbigKICAgICAgICAgICAgICAgIHsiZXh0cmFDbGFzc2VzIjogImZhLXJvdGF0ZS0wIiwgImljb24iOiAiaW5mby1zaWduIiwgImljb25Db2xvciI6ICJ3aGl0ZSIsICJtYXJrZXJDb2xvciI6ICJibHVlIiwgInByZWZpeCI6ICJnbHlwaGljb24ifQogICAgICAgICAgICApOwogICAgICAgICAgICBtYXJrZXJfNmIzZWFlYjEwNzZlNDk4ZjkwNGFhYWM2OTVjZWE4ODkuc2V0SWNvbihpY29uXzY2NWI4NGU0ZWU3YTQ3ODFiZDg1MDM3YThkYzJiMmJmKTsKICAgICAgICAKICAgIAogICAgICAgIHZhciBwb3B1cF83NmExOTRkNWJlYmU0MWY1YTU5ZGVkMjQ3Zjk4ZjgxNSA9IEwucG9wdXAoeyJtYXhXaWR0aCI6ICIxMDAlIn0pOwoKICAgICAgICAKICAgICAgICAgICAgdmFyIGh0bWxfNmVmMTk0YWE1NGEzNGExMjk0ZjcyZmY4ZDUyZjM1ODMgPSAkKGA8ZGl2IGlkPSJodG1sXzZlZjE5NGFhNTRhMzRhMTI5NGY3MmZmOGQ1MmYzNTgzIiBzdHlsZT0id2lkdGg6IDEwMC4wJTsgaGVpZ2h0OiAxMDAuMCU7Ij4xNTk0MTcyODI4PC9kaXY+YClbMF07CiAgICAgICAgICAgIHBvcHVwXzc2YTE5NGQ1YmViZTQxZjVhNTlkZWQyNDdmOThmODE1LnNldENvbnRlbnQoaHRtbF82ZWYxOTRhYTU0YTM0YTEyOTRmNzJmZjhkNTJmMzU4Myk7CiAgICAgICAgCgogICAgICAgIG1hcmtlcl82YjNlYWViMTA3NmU0OThmOTA0YWFhYzY5NWNlYTg4OS5iaW5kUG9wdXAocG9wdXBfNzZhMTk0ZDViZWJlNDFmNWE1OWRlZDI0N2Y5OGY4MTUpCiAgICAgICAgOwoKICAgICAgICAKICAgIAogICAgCiAgICAgICAgICAgIG1hcmtlcl82YjNlYWViMTA3NmU0OThmOTA0YWFhYzY5NWNlYTg4OS5iaW5kVG9vbHRpcCgKICAgICAgICAgICAgICAgIGA8ZGl2PgogICAgICAgICAgICAgICAgICAgICAyIHJvb21zPGJyPjIxNzk4LjAgVUFICiAgICAgICAgICAgICAgICAgPC9kaXY+YCwKICAgICAgICAgICAgICAgIHsic3RpY2t5IjogdHJ1ZX0KICAgICAgICAgICAgKTsKICAgICAgICAKICAgIAogICAgICAgICAgICB2YXIgbWFya2VyX2MzYmI5NTY2ODlhNjRhNzY5YjIzNzQ5YTY5MTRlMzY2ID0gTC5tYXJrZXIoCiAgICAgICAgICAgICAgICBbNDkuODAyOTk5LCAyNC4wNjkwNjhdLAogICAgICAgICAgICAgICAge30KICAgICAgICAgICAgKS5hZGRUbyhtYXBfZTA3MWFhMjczNDEzNDZmZGJhZmRlODE3Y2YwNzI2NjIpOwogICAgICAgIAogICAgCiAgICAgICAgICAgIHZhciBpY29uXzQ1MDk4NGJkMGRmYjRhY2M4OTUzNzY1NWM5MWZhYzE3ID0gTC5Bd2Vzb21lTWFya2Vycy5pY29uKAogICAgICAgICAgICAgICAgeyJleHRyYUNsYXNzZXMiOiAiZmEtcm90YXRlLTAiLCAiaWNvbiI6ICJpbmZvLXNpZ24iLCAiaWNvbkNvbG9yIjogIndoaXRlIiwgIm1hcmtlckNvbG9yIjogImdyZWVuIiwgInByZWZpeCI6ICJnbHlwaGljb24ifQogICAgICAgICAgICApOwogICAgICAgICAgICBtYXJrZXJfYzNiYjk1NjY4OWE2NGE3NjliMjM3NDlhNjkxNGUzNjYuc2V0SWNvbihpY29uXzQ1MDk4NGJkMGRmYjRhY2M4OTUzNzY1NWM5MWZhYzE3KTsKICAgICAgICAKICAgIAogICAgICAgIHZhciBwb3B1cF8xNzc4NDdjYzJkOTk0N2QxYmRhZjM3MjA3NDc3MDk1MyA9IEwucG9wdXAoeyJtYXhXaWR0aCI6ICIxMDAlIn0pOwoKICAgICAgICAKICAgICAgICAgICAgdmFyIGh0bWxfZDUwNGM1MTIzZDliNDgyMTllNTUxOWMxYTQ2OTgyYWYgPSAkKGA8ZGl2IGlkPSJodG1sX2Q1MDRjNTEyM2Q5YjQ4MjE5ZTU1MTljMWE0Njk4MmFmIiBzdHlsZT0id2lkdGg6IDEwMC4wJTsgaGVpZ2h0OiAxMDAuMCU7Ij4xNTk0MTQ2ODQ5PC9kaXY+YClbMF07CiAgICAgICAgICAgIHBvcHVwXzE3Nzg0N2NjMmQ5OTQ3ZDFiZGFmMzcyMDc0NzcwOTUzLnNldENvbnRlbnQoaHRtbF9kNTA0YzUxMjNkOWI0ODIxOWU1NTE5YzFhNDY5ODJhZik7CiAgICAgICAgCgogICAgICAgIG1hcmtlcl9jM2JiOTU2Njg5YTY0YTc2OWIyMzc0OWE2OTE0ZTM2Ni5iaW5kUG9wdXAocG9wdXBfMTc3ODQ3Y2MyZDk5NDdkMWJkYWYzNzIwNzQ3NzA5NTMpCiAgICAgICAgOwoKICAgICAgICAKICAgIAogICAgCiAgICAgICAgICAgIG1hcmtlcl9jM2JiOTU2Njg5YTY0YTc2OWIyMzc0OWE2OTE0ZTM2Ni5iaW5kVG9vbHRpcCgKICAgICAgICAgICAgICAgIGA8ZGl2PgogICAgICAgICAgICAgICAgICAgICAxIHJvb21zPGJyPjgwMDAuMCBVQUgKICAgICAgICAgICAgICAgICA8L2Rpdj5gLAogICAgICAgICAgICAgICAgeyJzdGlja3kiOiB0cnVlfQogICAgICAgICAgICApOwogICAgICAgIAogICAgCiAgICAgICAgICAgIHZhciBtYXJrZXJfOGEzY2I1NjZmMjg2NGRkNmJjZWZiYmExNGQ3NzIwZTcgPSBMLm1hcmtlcigKICAgICAgICAgICAgICAgIFs0OS44ODgxNjI0LCAyNC4wNjU2NTM1XSwKICAgICAgICAgICAgICAgIHt9CiAgICAgICAgICAgICkuYWRkVG8obWFwX2UwNzFhYTI3MzQxMzQ2ZmRiYWZkZTgxN2NmMDcyNjYyKTsKICAgICAgICAKICAgIAogICAgICAgICAgICB2YXIgaWNvbl8xZmFiNzZmODgyM2M0MzMyODcyNzVkMDU5MzQ2ODIxYSA9IEwuQXdlc29tZU1hcmtlcnMuaWNvbigKICAgICAgICAgICAgICAgIHsiZXh0cmFDbGFzc2VzIjogImZhLXJvdGF0ZS0wIiwgImljb24iOiAiaW5mby1zaWduIiwgImljb25Db2xvciI6ICJ3aGl0ZSIsICJtYXJrZXJDb2xvciI6ICJibHVlIiwgInByZWZpeCI6ICJnbHlwaGljb24ifQogICAgICAgICAgICApOwogICAgICAgICAgICBtYXJrZXJfOGEzY2I1NjZmMjg2NGRkNmJjZWZiYmExNGQ3NzIwZTcuc2V0SWNvbihpY29uXzFmYWI3NmY4ODIzYzQzMzI4NzI3NWQwNTkzNDY4MjFhKTsKICAgICAgICAKICAgIAogICAgICAgIHZhciBwb3B1cF9hNjYzNzBjYWI0Zjg0YzkxYTFkM2Q0ODYyOGU5NmI2MyA9IEwucG9wdXAoeyJtYXhXaWR0aCI6ICIxMDAlIn0pOwoKICAgICAgICAKICAgICAgICAgICAgdmFyIGh0bWxfODhlZWE4MTZjNTIzNDcxMjgxOTU2Yzg5ODg2NmE0MzkgPSAkKGA8ZGl2IGlkPSJodG1sXzg4ZWVhODE2YzUyMzQ3MTI4MTk1NmM4OTg4NjZhNDM5IiBzdHlsZT0id2lkdGg6IDEwMC4wJTsgaGVpZ2h0OiAxMDAuMCU7Ij4xNTk0MTQ1ODkwPC9kaXY+YClbMF07CiAgICAgICAgICAgIHBvcHVwX2E2NjM3MGNhYjRmODRjOTFhMWQzZDQ4NjI4ZTk2YjYzLnNldENvbnRlbnQoaHRtbF84OGVlYTgxNmM1MjM0NzEyODE5NTZjODk4ODY2YTQzOSk7CiAgICAgICAgCgogICAgICAgIG1hcmtlcl84YTNjYjU2NmYyODY0ZGQ2YmNlZmJiYTE0ZDc3MjBlNy5iaW5kUG9wdXAocG9wdXBfYTY2MzcwY2FiNGY4NGM5MWExZDNkNDg2MjhlOTZiNjMpCiAgICAgICAgOwoKICAgICAgICAKICAgIAogICAgCiAgICAgICAgICAgIG1hcmtlcl84YTNjYjU2NmYyODY0ZGQ2YmNlZmJiYTE0ZDc3MjBlNy5iaW5kVG9vbHRpcCgKICAgICAgICAgICAgICAgIGA8ZGl2PgogICAgICAgICAgICAgICAgICAgICAyIHJvb21zPGJyPjEwMzU0LjAgVUFICiAgICAgICAgICAgICAgICAgPC9kaXY+YCwKICAgICAgICAgICAgICAgIHsic3RpY2t5IjogdHJ1ZX0KICAgICAgICAgICAgKTsKICAgICAgICAKICAgIAogICAgICAgICAgICB2YXIgbWFya2VyX2VlZTRmNWQwMjE2YjQ2MDdiYmEwYmUyZmNjZWMxZTlkID0gTC5tYXJrZXIoCiAgICAgICAgICAgICAgICBbNDkuODU2NzQxMjk5OTk5OTk2LCAyNC4wMjc4NjIyXSwKICAgICAgICAgICAgICAgIHt9CiAgICAgICAgICAgICkuYWRkVG8obWFwX2UwNzFhYTI3MzQxMzQ2ZmRiYWZkZTgxN2NmMDcyNjYyKTsKICAgICAgICAKICAgIAogICAgICAgICAgICB2YXIgaWNvbl83OGViMzIzMDA0NjA0M2NlYTkxMDY4OWIyOWRmMjAyNyA9IEwuQXdlc29tZU1hcmtlcnMuaWNvbigKICAgICAgICAgICAgICAgIHsiZXh0cmFDbGFzc2VzIjogImZhLXJvdGF0ZS0wIiwgImljb24iOiAiaW5mby1zaWduIiwgImljb25Db2xvciI6ICJ3aGl0ZSIsICJtYXJrZXJDb2xvciI6ICJncmVlbiIsICJwcmVmaXgiOiAiZ2x5cGhpY29uIn0KICAgICAgICAgICAgKTsKICAgICAgICAgICAgbWFya2VyX2VlZTRmNWQwMjE2YjQ2MDdiYmEwYmUyZmNjZWMxZTlkLnNldEljb24oaWNvbl83OGViMzIzMDA0NjA0M2NlYTkxMDY4OWIyOWRmMjAyNyk7CiAgICAgICAgCiAgICAKICAgICAgICB2YXIgcG9wdXBfMWI3YTM2NGNiMzhkNDFkZTg5NTJjODJjZWFmMzA1MWIgPSBMLnBvcHVwKHsibWF4V2lkdGgiOiAiMTAwJSJ9KTsKCiAgICAgICAgCiAgICAgICAgICAgIHZhciBodG1sX2NjOGUwMDQ2MzU5MTQ1OGU4OWIxZWE0MGI1YzQ0OGE0ID0gJChgPGRpdiBpZD0iaHRtbF9jYzhlMDA0NjM1OTE0NThlODliMWVhNDBiNWM0NDhhNCIgc3R5bGU9IndpZHRoOiAxMDAuMCU7IGhlaWdodDogMTAwLjAlOyI+MTU5NDEzODMyMDwvZGl2PmApWzBdOwogICAgICAgICAgICBwb3B1cF8xYjdhMzY0Y2IzOGQ0MWRlODk1MmM4MmNlYWYzMDUxYi5zZXRDb250ZW50KGh0bWxfY2M4ZTAwNDYzNTkxNDU4ZTg5YjFlYTQwYjVjNDQ4YTQpOwogICAgICAgIAoKICAgICAgICBtYXJrZXJfZWVlNGY1ZDAyMTZiNDYwN2JiYTBiZTJmY2NlYzFlOWQuYmluZFBvcHVwKHBvcHVwXzFiN2EzNjRjYjM4ZDQxZGU4OTUyYzgyY2VhZjMwNTFiKQogICAgICAgIDsKCiAgICAgICAgCiAgICAKICAgIAogICAgICAgICAgICBtYXJrZXJfZWVlNGY1ZDAyMTZiNDYwN2JiYTBiZTJmY2NlYzFlOWQuYmluZFRvb2x0aXAoCiAgICAgICAgICAgICAgICBgPGRpdj4KICAgICAgICAgICAgICAgICAgICAgMSByb29tczxicj4xMjI2Mi4wIFVBSAogICAgICAgICAgICAgICAgIDwvZGl2PmAsCiAgICAgICAgICAgICAgICB7InN0aWNreSI6IHRydWV9CiAgICAgICAgICAgICk7CiAgICAgICAgCiAgICAKICAgICAgICAgICAgdmFyIG1hcmtlcl8yNjIzMTExNjU1NWM0ZjdlYmExNmIwNTVjMjQwMDcwZCA9IEwubWFya2VyKAogICAgICAgICAgICAgICAgWzQ5Ljg3NjU2NzksIDIzLjkzNzg5NDY5OTk5OTk5OF0sCiAgICAgICAgICAgICAgICB7fQogICAgICAgICAgICApLmFkZFRvKG1hcF9lMDcxYWEyNzM0MTM0NmZkYmFmZGU4MTdjZjA3MjY2Mik7CiAgICAgICAgCiAgICAKICAgICAgICAgICAgdmFyIGljb25fYzY2NDRmMzgzMjZkNDAxOGI2MzdiNzAyNjdkNTZkMzMgPSBMLkF3ZXNvbWVNYXJrZXJzLmljb24oCiAgICAgICAgICAgICAgICB7ImV4dHJhQ2xhc3NlcyI6ICJmYS1yb3RhdGUtMCIsICJpY29uIjogImluZm8tc2lnbiIsICJpY29uQ29sb3IiOiAid2hpdGUiLCAibWFya2VyQ29sb3IiOiAiYmx1ZSIsICJwcmVmaXgiOiAiZ2x5cGhpY29uIn0KICAgICAgICAgICAgKTsKICAgICAgICAgICAgbWFya2VyXzI2MjMxMTE2NTU1YzRmN2ViYTE2YjA1NWMyNDAwNzBkLnNldEljb24oaWNvbl9jNjY0NGYzODMyNmQ0MDE4YjYzN2I3MDI2N2Q1NmQzMyk7CiAgICAgICAgCiAgICAKICAgICAgICB2YXIgcG9wdXBfZTY0ZDdmNTljODk3NGU4OWJkY2UxODgzYTdhN2M5NGUgPSBMLnBvcHVwKHsibWF4V2lkdGgiOiAiMTAwJSJ9KTsKCiAgICAgICAgCiAgICAgICAgICAgIHZhciBodG1sX2UxZTQxNGE2ZDE0ZjQxMTBhODRhYWEzNDQ3M2JjN2IyID0gJChgPGRpdiBpZD0iaHRtbF9lMWU0MTRhNmQxNGY0MTEwYTg0YWFhMzQ0NzNiYzdiMiIgc3R5bGU9IndpZHRoOiAxMDAuMCU7IGhlaWdodDogMTAwLjAlOyI+MTU5NDEzMDI3NDwvZGl2PmApWzBdOwogICAgICAgICAgICBwb3B1cF9lNjRkN2Y1OWM4OTc0ZTg5YmRjZTE4ODNhN2E3Yzk0ZS5zZXRDb250ZW50KGh0bWxfZTFlNDE0YTZkMTRmNDExMGE4NGFhYTM0NDczYmM3YjIpOwogICAgICAgIAoKICAgICAgICBtYXJrZXJfMjYyMzExMTY1NTVjNGY3ZWJhMTZiMDU1YzI0MDA3MGQuYmluZFBvcHVwKHBvcHVwX2U2NGQ3ZjU5Yzg5NzRlODliZGNlMTg4M2E3YTdjOTRlKQogICAgICAgIDsKCiAgICAgICAgCiAgICAKICAgIAogICAgICAgICAgICBtYXJrZXJfMjYyMzExMTY1NTVjNGY3ZWJhMTZiMDU1YzI0MDA3MGQuYmluZFRvb2x0aXAoCiAgICAgICAgICAgICAgICBgPGRpdj4KICAgICAgICAgICAgICAgICAgICAgMiByb29tczxicj41MDAwLjAgVUFICiAgICAgICAgICAgICAgICAgPC9kaXY+YCwKICAgICAgICAgICAgICAgIHsic3RpY2t5IjogdHJ1ZX0KICAgICAgICAgICAgKTsKICAgICAgICAKICAgIAogICAgICAgICAgICB2YXIgbWFya2VyXzc1Y2VkNWQ5N2ZkZDRjNTM5NjY5NjRjMmY5NmY1MGViID0gTC5tYXJrZXIoCiAgICAgICAgICAgICAgICBbNDkuODc2NTY3OSwgMjMuOTM3ODk0Njk5OTk5OTk4XSwKICAgICAgICAgICAgICAgIHt9CiAgICAgICAgICAgICkuYWRkVG8obWFwX2UwNzFhYTI3MzQxMzQ2ZmRiYWZkZTgxN2NmMDcyNjYyKTsKICAgICAgICAKICAgIAogICAgICAgICAgICB2YXIgaWNvbl85M2U2NTg4MWM5YmY0OGRmOWU5NmZlYTEzZjJmMDA5NCA9IEwuQXdlc29tZU1hcmtlcnMuaWNvbigKICAgICAgICAgICAgICAgIHsiZXh0cmFDbGFzc2VzIjogImZhLXJvdGF0ZS0wIiwgImljb24iOiAiaW5mby1zaWduIiwgImljb25Db2xvciI6ICJ3aGl0ZSIsICJtYXJrZXJDb2xvciI6ICJibHVlIiwgInByZWZpeCI6ICJnbHlwaGljb24ifQogICAgICAgICAgICApOwogICAgICAgICAgICBtYXJrZXJfNzVjZWQ1ZDk3ZmRkNGM1Mzk2Njk2NGMyZjk2ZjUwZWIuc2V0SWNvbihpY29uXzkzZTY1ODgxYzliZjQ4ZGY5ZTk2ZmVhMTNmMmYwMDk0KTsKICAgICAgICAKICAgIAogICAgICAgIHZhciBwb3B1cF83MmNlNWNlNGE3OGE0ZWNmYWMwM2U3NGNjZDBhOWNlMiA9IEwucG9wdXAoeyJtYXhXaWR0aCI6ICIxMDAlIn0pOwoKICAgICAgICAKICAgICAgICAgICAgdmFyIGh0bWxfZTg5ZDNhOWQyMDY0NGUzN2EyMjg5NjU2MWU0ZDU1Y2UgPSAkKGA8ZGl2IGlkPSJodG1sX2U4OWQzYTlkMjA2NDRlMzdhMjI4OTY1NjFlNGQ1NWNlIiBzdHlsZT0id2lkdGg6IDEwMC4wJTsgaGVpZ2h0OiAxMDAuMCU7Ij4xNTk0MTMwMjc0PC9kaXY+YClbMF07CiAgICAgICAgICAgIHBvcHVwXzcyY2U1Y2U0YTc4YTRlY2ZhYzAzZTc0Y2NkMGE5Y2UyLnNldENvbnRlbnQoaHRtbF9lODlkM2E5ZDIwNjQ0ZTM3YTIyODk2NTYxZTRkNTVjZSk7CiAgICAgICAgCgogICAgICAgIG1hcmtlcl83NWNlZDVkOTdmZGQ0YzUzOTY2OTY0YzJmOTZmNTBlYi5iaW5kUG9wdXAocG9wdXBfNzJjZTVjZTRhNzhhNGVjZmFjMDNlNzRjY2QwYTljZTIpCiAgICAgICAgOwoKICAgICAgICAKICAgIAogICAgCiAgICAgICAgICAgIG1hcmtlcl83NWNlZDVkOTdmZGQ0YzUzOTY2OTY0YzJmOTZmNTBlYi5iaW5kVG9vbHRpcCgKICAgICAgICAgICAgICAgIGA8ZGl2PgogICAgICAgICAgICAgICAgICAgICAyIHJvb21zPGJyPjUwMDAuMCBVQUgKICAgICAgICAgICAgICAgICA8L2Rpdj5gLAogICAgICAgICAgICAgICAgeyJzdGlja3kiOiB0cnVlfQogICAgICAgICAgICApOwogICAgICAgIAogICAgCiAgICAgICAgICAgIHZhciBtYXJrZXJfNjRhZmI0NzQ1MjZjNDk2Zjg3ODNhOTlkM2JkNzVjMWQgPSBMLm1hcmtlcigKICAgICAgICAgICAgICAgIFs0OS44NjE5MzY5LCAyNC4wMTIzNzA1NDkxMzc5OThdLAogICAgICAgICAgICAgICAge30KICAgICAgICAgICAgKS5hZGRUbyhtYXBfZTA3MWFhMjczNDEzNDZmZGJhZmRlODE3Y2YwNzI2NjIpOwogICAgICAgIAogICAgCiAgICAgICAgICAgIHZhciBpY29uXzNhZDBkZWQzMTAyMDQzMDU5YTQ0MDFmMTc5ZTU2YzI3ID0gTC5Bd2Vzb21lTWFya2Vycy5pY29uKAogICAgICAgICAgICAgICAgeyJleHRyYUNsYXNzZXMiOiAiZmEtcm90YXRlLTAiLCAiaWNvbiI6ICJpbmZvLXNpZ24iLCAiaWNvbkNvbG9yIjogIndoaXRlIiwgIm1hcmtlckNvbG9yIjogImJsdWUiLCAicHJlZml4IjogImdseXBoaWNvbiJ9CiAgICAgICAgICAgICk7CiAgICAgICAgICAgIG1hcmtlcl82NGFmYjQ3NDUyNmM0OTZmODc4M2E5OWQzYmQ3NWMxZC5zZXRJY29uKGljb25fM2FkMGRlZDMxMDIwNDMwNTlhNDQwMWYxNzllNTZjMjcpOwogICAgICAgIAogICAgCiAgICAgICAgdmFyIHBvcHVwXzdhYzlkNzg5MzIxNjRhN2Q4YmY0OWY1ODMxMjEzNzIxID0gTC5wb3B1cCh7Im1heFdpZHRoIjogIjEwMCUifSk7CgogICAgICAgIAogICAgICAgICAgICB2YXIgaHRtbF9kZmIyNzE2ZmIzYzA0ZjM5YTk4MDI4YzVkMTFjMmY3ZSA9ICQoYDxkaXYgaWQ9Imh0bWxfZGZiMjcxNmZiM2MwNGYzOWE5ODAyOGM1ZDExYzJmN2UiIHN0eWxlPSJ3aWR0aDogMTAwLjAlOyBoZWlnaHQ6IDEwMC4wJTsiPjE1OTQxMzAyNjE8L2Rpdj5gKVswXTsKICAgICAgICAgICAgcG9wdXBfN2FjOWQ3ODkzMjE2NGE3ZDhiZjQ5ZjU4MzEyMTM3MjEuc2V0Q29udGVudChodG1sX2RmYjI3MTZmYjNjMDRmMzlhOTgwMjhjNWQxMWMyZjdlKTsKICAgICAgICAKCiAgICAgICAgbWFya2VyXzY0YWZiNDc0NTI2YzQ5NmY4NzgzYTk5ZDNiZDc1YzFkLmJpbmRQb3B1cChwb3B1cF83YWM5ZDc4OTMyMTY0YTdkOGJmNDlmNTgzMTIxMzcyMSkKICAgICAgICA7CgogICAgICAgIAogICAgCiAgICAKICAgICAgICAgICAgbWFya2VyXzY0YWZiNDc0NTI2YzQ5NmY4NzgzYTk5ZDNiZDc1YzFkLmJpbmRUb29sdGlwKAogICAgICAgICAgICAgICAgYDxkaXY+CiAgICAgICAgICAgICAgICAgICAgIDIgcm9vbXM8YnI+MTUwMDAuMCBVQUgKICAgICAgICAgICAgICAgICA8L2Rpdj5gLAogICAgICAgICAgICAgICAgeyJzdGlja3kiOiB0cnVlfQogICAgICAgICAgICApOwogICAgICAgIAogICAgCiAgICAgICAgICAgIHZhciBtYXJrZXJfMzQ5OTBlNTIyYTFhNDgwMWFkYjI4MzU1MTQ2MzA1OGUgPSBMLm1hcmtlcigKICAgICAgICAgICAgICAgIFs0OS44NDUyNTQ3MDAwMDAwMDUsIDI0LjAwOTg1MzA5NzU2MTAwMl0sCiAgICAgICAgICAgICAgICB7fQogICAgICAgICAgICApLmFkZFRvKG1hcF9lMDcxYWEyNzM0MTM0NmZkYmFmZGU4MTdjZjA3MjY2Mik7CiAgICAgICAgCiAgICAKICAgICAgICAgICAgdmFyIGljb25fMDNmMDM5ZmVmZjVlNDI2MmI0OTkwMWI3ZDI5MzEyYmMgPSBMLkF3ZXNvbWVNYXJrZXJzLmljb24oCiAgICAgICAgICAgICAgICB7ImV4dHJhQ2xhc3NlcyI6ICJmYS1yb3RhdGUtMCIsICJpY29uIjogImluZm8tc2lnbiIsICJpY29uQ29sb3IiOiAid2hpdGUiLCAibWFya2VyQ29sb3IiOiAiZ3JlZW4iLCAicHJlZml4IjogImdseXBoaWNvbiJ9CiAgICAgICAgICAgICk7CiAgICAgICAgICAgIG1hcmtlcl8zNDk5MGU1MjJhMWE0ODAxYWRiMjgzNTUxNDYzMDU4ZS5zZXRJY29uKGljb25fMDNmMDM5ZmVmZjVlNDI2MmI0OTkwMWI3ZDI5MzEyYmMpOwogICAgICAgIAogICAgCiAgICAgICAgdmFyIHBvcHVwX2ViNmNiMTc4OTQ2MTQ2NmZhZmNiNTViNjM5MzkwNGQ3ID0gTC5wb3B1cCh7Im1heFdpZHRoIjogIjEwMCUifSk7CgogICAgICAgIAogICAgICAgICAgICB2YXIgaHRtbF8xMGQwZWQ0ZTA4MWE0NjcyOTUwYTY4MmJkMDc0M2RlNiA9ICQoYDxkaXYgaWQ9Imh0bWxfMTBkMGVkNGUwODFhNDY3Mjk1MGE2ODJiZDA3NDNkZTYiIHN0eWxlPSJ3aWR0aDogMTAwLjAlOyBoZWlnaHQ6IDEwMC4wJTsiPjE1OTQxMzAyNjE8L2Rpdj5gKVswXTsKICAgICAgICAgICAgcG9wdXBfZWI2Y2IxNzg5NDYxNDY2ZmFmY2I1NWI2MzkzOTA0ZDcuc2V0Q29udGVudChodG1sXzEwZDBlZDRlMDgxYTQ2NzI5NTBhNjgyYmQwNzQzZGU2KTsKICAgICAgICAKCiAgICAgICAgbWFya2VyXzM0OTkwZTUyMmExYTQ4MDFhZGIyODM1NTE0NjMwNThlLmJpbmRQb3B1cChwb3B1cF9lYjZjYjE3ODk0NjE0NjZmYWZjYjU1YjYzOTM5MDRkNykKICAgICAgICA7CgogICAgICAgIAogICAgCiAgICAKICAgICAgICAgICAgbWFya2VyXzM0OTkwZTUyMmExYTQ4MDFhZGIyODM1NTE0NjMwNThlLmJpbmRUb29sdGlwKAogICAgICAgICAgICAgICAgYDxkaXY+CiAgICAgICAgICAgICAgICAgICAgIDEgcm9vbXM8YnI+MTAwMDAuMCBVQUgKICAgICAgICAgICAgICAgICA8L2Rpdj5gLAogICAgICAgICAgICAgICAgeyJzdGlja3kiOiB0cnVlfQogICAgICAgICAgICApOwogICAgICAgIAogICAgCiAgICAgICAgICAgIHZhciBtYXJrZXJfMjVhMzMzN2EyN2JkNDk1OWIwMTIwZDgzMzMzMzg3MTYgPSBMLm1hcmtlcigKICAgICAgICAgICAgICAgIFs0OS44NjE3Mjk0OTk5OTk5OTYsIDIzLjk2NjUzNzJdLAogICAgICAgICAgICAgICAge30KICAgICAgICAgICAgKS5hZGRUbyhtYXBfZTA3MWFhMjczNDEzNDZmZGJhZmRlODE3Y2YwNzI2NjIpOwogICAgICAgIAogICAgCiAgICAgICAgICAgIHZhciBpY29uX2E0MjlmODBkZDBiNTQ3NThhODAyMWQyOTVlMzUzZmQzID0gTC5Bd2Vzb21lTWFya2Vycy5pY29uKAogICAgICAgICAgICAgICAgeyJleHRyYUNsYXNzZXMiOiAiZmEtcm90YXRlLTAiLCAiaWNvbiI6ICJpbmZvLXNpZ24iLCAiaWNvbkNvbG9yIjogIndoaXRlIiwgIm1hcmtlckNvbG9yIjogImdyZWVuIiwgInByZWZpeCI6ICJnbHlwaGljb24ifQogICAgICAgICAgICApOwogICAgICAgICAgICBtYXJrZXJfMjVhMzMzN2EyN2JkNDk1OWIwMTIwZDgzMzMzMzg3MTYuc2V0SWNvbihpY29uX2E0MjlmODBkZDBiNTQ3NThhODAyMWQyOTVlMzUzZmQzKTsKICAgICAgICAKICAgIAogICAgICAgIHZhciBwb3B1cF8wNWFmOTg5MzNmNTc0MTIwYmNjNmM2ZjE2NTBjZDI2NyA9IEwucG9wdXAoeyJtYXhXaWR0aCI6ICIxMDAlIn0pOwoKICAgICAgICAKICAgICAgICAgICAgdmFyIGh0bWxfMGUyMmFkOGFmNDFmNGM2Yjk3Y2M3NTBlZjNlZWMwNTMgPSAkKGA8ZGl2IGlkPSJodG1sXzBlMjJhZDhhZjQxZjRjNmI5N2NjNzUwZWYzZWVjMDUzIiBzdHlsZT0id2lkdGg6IDEwMC4wJTsgaGVpZ2h0OiAxMDAuMCU7Ij4xNTk0MTMwMjQwPC9kaXY+YClbMF07CiAgICAgICAgICAgIHBvcHVwXzA1YWY5ODkzM2Y1NzQxMjBiY2M2YzZmMTY1MGNkMjY3LnNldENvbnRlbnQoaHRtbF8wZTIyYWQ4YWY0MWY0YzZiOTdjYzc1MGVmM2VlYzA1Myk7CiAgICAgICAgCgogICAgICAgIG1hcmtlcl8yNWEzMzM3YTI3YmQ0OTU5YjAxMjBkODMzMzMzODcxNi5iaW5kUG9wdXAocG9wdXBfMDVhZjk4OTMzZjU3NDEyMGJjYzZjNmYxNjUwY2QyNjcpCiAgICAgICAgOwoKICAgICAgICAKICAgIAogICAgCiAgICAgICAgICAgIG1hcmtlcl8yNWEzMzM3YTI3YmQ0OTU5YjAxMjBkODMzMzMzODcxNi5iaW5kVG9vbHRpcCgKICAgICAgICAgICAgICAgIGA8ZGl2PgogICAgICAgICAgICAgICAgICAgICAxIHJvb21zPGJyPjEwMDAwLjAgVUFICiAgICAgICAgICAgICAgICAgPC9kaXY+YCwKICAgICAgICAgICAgICAgIHsic3RpY2t5IjogdHJ1ZX0KICAgICAgICAgICAgKTsKICAgICAgICAKICAgIAogICAgICAgICAgICB2YXIgbWFya2VyXzI0N2Q0OWRhNzMyZTQxYWRiYzNlYjczYjNhMWY1NWJjID0gTC5tYXJrZXIoCiAgICAgICAgICAgICAgICBbNDkuODQ2NTg3NiwgMjQuMDI4ODgyMTk5OTk5OTk4XSwKICAgICAgICAgICAgICAgIHt9CiAgICAgICAgICAgICkuYWRkVG8obWFwX2UwNzFhYTI3MzQxMzQ2ZmRiYWZkZTgxN2NmMDcyNjYyKTsKICAgICAgICAKICAgIAogICAgICAgICAgICB2YXIgaWNvbl81N2M3NTM1ZjM1NTM0NWUyOWU4Mzg5YzFiOGE3Y2NlZSA9IEwuQXdlc29tZU1hcmtlcnMuaWNvbigKICAgICAgICAgICAgICAgIHsiZXh0cmFDbGFzc2VzIjogImZhLXJvdGF0ZS0wIiwgImljb24iOiAiaW5mby1zaWduIiwgImljb25Db2xvciI6ICJ3aGl0ZSIsICJtYXJrZXJDb2xvciI6ICJ5ZWxsb3ciLCAicHJlZml4IjogImdseXBoaWNvbiJ9CiAgICAgICAgICAgICk7CiAgICAgICAgICAgIG1hcmtlcl8yNDdkNDlkYTczMmU0MWFkYmMzZWI3M2IzYTFmNTViYy5zZXRJY29uKGljb25fNTdjNzUzNWYzNTUzNDVlMjllODM4OWMxYjhhN2NjZWUpOwogICAgICAgIAogICAgCiAgICAgICAgdmFyIHBvcHVwXzI2YzUwYWE3NmIyMDQ3NmY4MWEyNzAzODVlNTlmOWViID0gTC5wb3B1cCh7Im1heFdpZHRoIjogIjEwMCUifSk7CgogICAgICAgIAogICAgICAgICAgICB2YXIgaHRtbF9mZDgyZGU2ZmQ1MDM0NzU5YWZkZjgzOWQ1MDQ2OGMyZCA9ICQoYDxkaXYgaWQ9Imh0bWxfZmQ4MmRlNmZkNTAzNDc1OWFmZGY4MzlkNTA0NjhjMmQiIHN0eWxlPSJ3aWR0aDogMTAwLjAlOyBoZWlnaHQ6IDEwMC4wJTsiPjE1OTQxMzAyMzc8L2Rpdj5gKVswXTsKICAgICAgICAgICAgcG9wdXBfMjZjNTBhYTc2YjIwNDc2ZjgxYTI3MDM4NWU1OWY5ZWIuc2V0Q29udGVudChodG1sX2ZkODJkZTZmZDUwMzQ3NTlhZmRmODM5ZDUwNDY4YzJkKTsKICAgICAgICAKCiAgICAgICAgbWFya2VyXzI0N2Q0OWRhNzMyZTQxYWRiYzNlYjczYjNhMWY1NWJjLmJpbmRQb3B1cChwb3B1cF8yNmM1MGFhNzZiMjA0NzZmODFhMjcwMzg1ZTU5ZjllYikKICAgICAgICA7CgogICAgICAgIAogICAgCiAgICAKICAgICAgICAgICAgbWFya2VyXzI0N2Q0OWRhNzMyZTQxYWRiYzNlYjczYjNhMWY1NWJjLmJpbmRUb29sdGlwKAogICAgICAgICAgICAgICAgYDxkaXY+CiAgICAgICAgICAgICAgICAgICAgIDMgcm9vbXM8YnI+Mjk5NzMuMCBVQUgKICAgICAgICAgICAgICAgICA8L2Rpdj5gLAogICAgICAgICAgICAgICAgeyJzdGlja3kiOiB0cnVlfQogICAgICAgICAgICApOwogICAgICAgIAogICAgCiAgICAgICAgICAgIHZhciBtYXJrZXJfZWM5MDU4NDkzMDgwNGVhM2E3YWYzZmU4YzJlNjhlZDAgPSBMLm1hcmtlcigKICAgICAgICAgICAgICAgIFs0OS44MzM3MjIzNSwgMjQuMDIyNzI0NTQ3MTU2XSwKICAgICAgICAgICAgICAgIHt9CiAgICAgICAgICAgICkuYWRkVG8obWFwX2UwNzFhYTI3MzQxMzQ2ZmRiYWZkZTgxN2NmMDcyNjYyKTsKICAgICAgICAKICAgIAogICAgICAgICAgICB2YXIgaWNvbl9jMWM5ODUwNmY3ODc0ZWIyOGY2NWNkZWYyYzc3OTJhOSA9IEwuQXdlc29tZU1hcmtlcnMuaWNvbigKICAgICAgICAgICAgICAgIHsiZXh0cmFDbGFzc2VzIjogImZhLXJvdGF0ZS0wIiwgImljb24iOiAiaW5mby1zaWduIiwgImljb25Db2xvciI6ICJ3aGl0ZSIsICJtYXJrZXJDb2xvciI6ICJ5ZWxsb3ciLCAicHJlZml4IjogImdseXBoaWNvbiJ9CiAgICAgICAgICAgICk7CiAgICAgICAgICAgIG1hcmtlcl9lYzkwNTg0OTMwODA0ZWEzYTdhZjNmZThjMmU2OGVkMC5zZXRJY29uKGljb25fYzFjOTg1MDZmNzg3NGViMjhmNjVjZGVmMmM3NzkyYTkpOwogICAgICAgIAogICAgCiAgICAgICAgdmFyIHBvcHVwX2Q5NTU0NzcwZWE5MzQ0ZDVhODI1MDc4ODk2OWNlMzA5ID0gTC5wb3B1cCh7Im1heFdpZHRoIjogIjEwMCUifSk7CgogICAgICAgIAogICAgICAgICAgICB2YXIgaHRtbF9jNzkxN2ZjOWQzMWE0MmM1YjY0NTQ2YzRhMThiYjJmZCA9ICQoYDxkaXYgaWQ9Imh0bWxfYzc5MTdmYzlkMzFhNDJjNWI2NDU0NmM0YTE4YmIyZmQiIHN0eWxlPSJ3aWR0aDogMTAwLjAlOyBoZWlnaHQ6IDEwMC4wJTsiPjE1OTQxMzAyMjY8L2Rpdj5gKVswXTsKICAgICAgICAgICAgcG9wdXBfZDk1NTQ3NzBlYTkzNDRkNWE4MjUwNzg4OTY5Y2UzMDkuc2V0Q29udGVudChodG1sX2M3OTE3ZmM5ZDMxYTQyYzViNjQ1NDZjNGExOGJiMmZkKTsKICAgICAgICAKCiAgICAgICAgbWFya2VyX2VjOTA1ODQ5MzA4MDRlYTNhN2FmM2ZlOGMyZTY4ZWQwLmJpbmRQb3B1cChwb3B1cF9kOTU1NDc3MGVhOTM0NGQ1YTgyNTA3ODg5NjljZTMwOSkKICAgICAgICA7CgogICAgICAgIAogICAgCiAgICAKICAgICAgICAgICAgbWFya2VyX2VjOTA1ODQ5MzA4MDRlYTNhN2FmM2ZlOGMyZTY4ZWQwLmJpbmRUb29sdGlwKAogICAgICAgICAgICAgICAgYDxkaXY+CiAgICAgICAgICAgICAgICAgICAgIDMgcm9vbXM8YnI+MTM2MjQuMCBVQUgKICAgICAgICAgICAgICAgICA8L2Rpdj5gLAogICAgICAgICAgICAgICAgeyJzdGlja3kiOiB0cnVlfQogICAgICAgICAgICApOwogICAgICAgIAogICAgCiAgICAgICAgICAgIHZhciBtYXJrZXJfN2Q1NzZlYTQxZjgwNDBjNmFlNDZlMGU5ODJkYWQwNjUgPSBMLm1hcmtlcigKICAgICAgICAgICAgICAgIFs0OS44NDIxMzQzLCAyNC4wMjY4MjQ4OTk5OTk5OThdLAogICAgICAgICAgICAgICAge30KICAgICAgICAgICAgKS5hZGRUbyhtYXBfZTA3MWFhMjczNDEzNDZmZGJhZmRlODE3Y2YwNzI2NjIpOwogICAgICAgIAogICAgCiAgICAgICAgICAgIHZhciBpY29uXzk0OTMwMWQ4YjVmOTQzNDQ4MGQ1ODIxZmJmYmFjYjk1ID0gTC5Bd2Vzb21lTWFya2Vycy5pY29uKAogICAgICAgICAgICAgICAgeyJleHRyYUNsYXNzZXMiOiAiZmEtcm90YXRlLTAiLCAiaWNvbiI6ICJpbmZvLXNpZ24iLCAiaWNvbkNvbG9yIjogIndoaXRlIiwgIm1hcmtlckNvbG9yIjogImdyZWVuIiwgInByZWZpeCI6ICJnbHlwaGljb24ifQogICAgICAgICAgICApOwogICAgICAgICAgICBtYXJrZXJfN2Q1NzZlYTQxZjgwNDBjNmFlNDZlMGU5ODJkYWQwNjUuc2V0SWNvbihpY29uXzk0OTMwMWQ4YjVmOTQzNDQ4MGQ1ODIxZmJmYmFjYjk1KTsKICAgICAgICAKICAgIAogICAgICAgIHZhciBwb3B1cF82NTViYjhjMjk3OTQ0ZTFkODM2ZjgxMWQ4NGUyYTQwMCA9IEwucG9wdXAoeyJtYXhXaWR0aCI6ICIxMDAlIn0pOwoKICAgICAgICAKICAgICAgICAgICAgdmFyIGh0bWxfMTA3Y2M0N2RiZTdkNDJiY2FiZjU1ZWFmOWJjODNiM2IgPSAkKGA8ZGl2IGlkPSJodG1sXzEwN2NjNDdkYmU3ZDQyYmNhYmY1NWVhZjliYzgzYjNiIiBzdHlsZT0id2lkdGg6IDEwMC4wJTsgaGVpZ2h0OiAxMDAuMCU7Ij4xNTk0MTMwMjI0PC9kaXY+YClbMF07CiAgICAgICAgICAgIHBvcHVwXzY1NWJiOGMyOTc5NDRlMWQ4MzZmODExZDg0ZTJhNDAwLnNldENvbnRlbnQoaHRtbF8xMDdjYzQ3ZGJlN2Q0MmJjYWJmNTVlYWY5YmM4M2IzYik7CiAgICAgICAgCgogICAgICAgIG1hcmtlcl83ZDU3NmVhNDFmODA0MGM2YWU0NmUwZTk4MmRhZDA2NS5iaW5kUG9wdXAocG9wdXBfNjU1YmI4YzI5Nzk0NGUxZDgzNmY4MTFkODRlMmE0MDApCiAgICAgICAgOwoKICAgICAgICAKICAgIAogICAgCiAgICAgICAgICAgIG1hcmtlcl83ZDU3NmVhNDFmODA0MGM2YWU0NmUwZTk4MmRhZDA2NS5iaW5kVG9vbHRpcCgKICAgICAgICAgICAgICAgIGA8ZGl2PgogICAgICAgICAgICAgICAgICAgICAxIHJvb21zPGJyPjEwODk5LjAgVUFICiAgICAgICAgICAgICAgICAgPC9kaXY+YCwKICAgICAgICAgICAgICAgIHsic3RpY2t5IjogdHJ1ZX0KICAgICAgICAgICAgKTsKICAgICAgICAKICAgIAogICAgICAgICAgICB2YXIgbWFya2VyX2Y4NWU4ZDc5YjgxMzRkZmJiODJkYmYzYjM3M2Y1OTdjID0gTC5tYXJrZXIoCiAgICAgICAgICAgICAgICBbNDkuODQ2NTg3NiwgMjQuMDI4ODgyMTk5OTk5OTk4XSwKICAgICAgICAgICAgICAgIHt9CiAgICAgICAgICAgICkuYWRkVG8obWFwX2UwNzFhYTI3MzQxMzQ2ZmRiYWZkZTgxN2NmMDcyNjYyKTsKICAgICAgICAKICAgIAogICAgICAgICAgICB2YXIgaWNvbl8xMzExMDBlMTk1MzY0MDVlOGY0ZTJiOGIzMzYzZTg2MyA9IEwuQXdlc29tZU1hcmtlcnMuaWNvbigKICAgICAgICAgICAgICAgIHsiZXh0cmFDbGFzc2VzIjogImZhLXJvdGF0ZS0wIiwgImljb24iOiAiaW5mby1zaWduIiwgImljb25Db2xvciI6ICJ3aGl0ZSIsICJtYXJrZXJDb2xvciI6ICJ5ZWxsb3ciLCAicHJlZml4IjogImdseXBoaWNvbiJ9CiAgICAgICAgICAgICk7CiAgICAgICAgICAgIG1hcmtlcl9mODVlOGQ3OWI4MTM0ZGZiYjgyZGJmM2IzNzNmNTk3Yy5zZXRJY29uKGljb25fMTMxMTAwZTE5NTM2NDA1ZThmNGUyYjhiMzM2M2U4NjMpOwogICAgICAgIAogICAgCiAgICAgICAgdmFyIHBvcHVwXzgzMjI2MWE2ZjVhZDRkNGU4YjQxZjk4NzQ2MjkwOWJjID0gTC5wb3B1cCh7Im1heFdpZHRoIjogIjEwMCUifSk7CgogICAgICAgIAogICAgICAgICAgICB2YXIgaHRtbF84OWRkZmY3ODZjMTQ0ZjFlODliN2ZkY2U4MThhMjkzZiA9ICQoYDxkaXYgaWQ9Imh0bWxfODlkZGZmNzg2YzE0NGYxZTg5YjdmZGNlODE4YTI5M2YiIHN0eWxlPSJ3aWR0aDogMTAwLjAlOyBoZWlnaHQ6IDEwMC4wJTsiPjE1OTQxMzAyMjQ8L2Rpdj5gKVswXTsKICAgICAgICAgICAgcG9wdXBfODMyMjYxYTZmNWFkNGQ0ZThiNDFmOTg3NDYyOTA5YmMuc2V0Q29udGVudChodG1sXzg5ZGRmZjc4NmMxNDRmMWU4OWI3ZmRjZTgxOGEyOTNmKTsKICAgICAgICAKCiAgICAgICAgbWFya2VyX2Y4NWU4ZDc5YjgxMzRkZmJiODJkYmYzYjM3M2Y1OTdjLmJpbmRQb3B1cChwb3B1cF84MzIyNjFhNmY1YWQ0ZDRlOGI0MWY5ODc0NjI5MDliYykKICAgICAgICA7CgogICAgICAgIAogICAgCiAgICAKICAgICAgICAgICAgbWFya2VyX2Y4NWU4ZDc5YjgxMzRkZmJiODJkYmYzYjM3M2Y1OTdjLmJpbmRUb29sdGlwKAogICAgICAgICAgICAgICAgYDxkaXY+CiAgICAgICAgICAgICAgICAgICAgIDMgcm9vbXM8YnI+Mjk5NzMuMCBVQUgKICAgICAgICAgICAgICAgICA8L2Rpdj5gLAogICAgICAgICAgICAgICAgeyJzdGlja3kiOiB0cnVlfQogICAgICAgICAgICApOwogICAgICAgIAogICAgCiAgICAgICAgICAgIHZhciBtYXJrZXJfYjhmYzU4MDhlZGY0NDE5NWEwODc5Y2YzYTQ0ZDliZTIgPSBMLm1hcmtlcigKICAgICAgICAgICAgICAgIFs0OS44MzM3MjIzNSwgMjQuMDIyNzI0NTQ3MTU2XSwKICAgICAgICAgICAgICAgIHt9CiAgICAgICAgICAgICkuYWRkVG8obWFwX2UwNzFhYTI3MzQxMzQ2ZmRiYWZkZTgxN2NmMDcyNjYyKTsKICAgICAgICAKICAgIAogICAgICAgICAgICB2YXIgaWNvbl84MTMyNDQwYTBmN2Q0OTQ1YmE4OWJjZTk1MDg5MTJhOSA9IEwuQXdlc29tZU1hcmtlcnMuaWNvbigKICAgICAgICAgICAgICAgIHsiZXh0cmFDbGFzc2VzIjogImZhLXJvdGF0ZS0wIiwgImljb24iOiAiaW5mby1zaWduIiwgImljb25Db2xvciI6ICJ3aGl0ZSIsICJtYXJrZXJDb2xvciI6ICJ5ZWxsb3ciLCAicHJlZml4IjogImdseXBoaWNvbiJ9CiAgICAgICAgICAgICk7CiAgICAgICAgICAgIG1hcmtlcl9iOGZjNTgwOGVkZjQ0MTk1YTA4NzljZjNhNDRkOWJlMi5zZXRJY29uKGljb25fODEzMjQ0MGEwZjdkNDk0NWJhODliY2U5NTA4OTEyYTkpOwogICAgICAgIAogICAgCiAgICAgICAgdmFyIHBvcHVwXzUzYWM1ZDA2Yzc5YjRiY2RhOTJkZWY5MmNkYmM5YjY3ID0gTC5wb3B1cCh7Im1heFdpZHRoIjogIjEwMCUifSk7CgogICAgICAgIAogICAgICAgICAgICB2YXIgaHRtbF9lNDM5M2Q0NzA0NmY0MjI2OGM3NWFlNTI5MGY4NGZmOSA9ICQoYDxkaXYgaWQ9Imh0bWxfZTQzOTNkNDcwNDZmNDIyNjhjNzVhZTUyOTBmODRmZjkiIHN0eWxlPSJ3aWR0aDogMTAwLjAlOyBoZWlnaHQ6IDEwMC4wJTsiPjE1OTQxMzAyMjQ8L2Rpdj5gKVswXTsKICAgICAgICAgICAgcG9wdXBfNTNhYzVkMDZjNzliNGJjZGE5MmRlZjkyY2RiYzliNjcuc2V0Q29udGVudChodG1sX2U0MzkzZDQ3MDQ2ZjQyMjY4Yzc1YWU1MjkwZjg0ZmY5KTsKICAgICAgICAKCiAgICAgICAgbWFya2VyX2I4ZmM1ODA4ZWRmNDQxOTVhMDg3OWNmM2E0NGQ5YmUyLmJpbmRQb3B1cChwb3B1cF81M2FjNWQwNmM3OWI0YmNkYTkyZGVmOTJjZGJjOWI2NykKICAgICAgICA7CgogICAgICAgIAogICAgCiAgICAKICAgICAgICAgICAgbWFya2VyX2I4ZmM1ODA4ZWRmNDQxOTVhMDg3OWNmM2E0NGQ5YmUyLmJpbmRUb29sdGlwKAogICAgICAgICAgICAgICAgYDxkaXY+CiAgICAgICAgICAgICAgICAgICAgIDMgcm9vbXM8YnI+MTM2MjQuMCBVQUgKICAgICAgICAgICAgICAgICA8L2Rpdj5gLAogICAgICAgICAgICAgICAgeyJzdGlja3kiOiB0cnVlfQogICAgICAgICAgICApOwogICAgICAgIAogICAgCiAgICAgICAgICAgIHZhciBtYXJrZXJfMTRkY2ZmN2ZhNzYwNDU1ZGI1YjVkYzM1MjhlOGY5ZGMgPSBMLm1hcmtlcigKICAgICAgICAgICAgICAgIFs0OS44NDIxMzQzLCAyNC4wMjY4MjQ4OTk5OTk5OThdLAogICAgICAgICAgICAgICAge30KICAgICAgICAgICAgKS5hZGRUbyhtYXBfZTA3MWFhMjczNDEzNDZmZGJhZmRlODE3Y2YwNzI2NjIpOwogICAgICAgIAogICAgCiAgICAgICAgICAgIHZhciBpY29uX2ZlZjEyYTM2ZjViYzRlODZhOTUwYjVlZDc3ODFjYjBjID0gTC5Bd2Vzb21lTWFya2Vycy5pY29uKAogICAgICAgICAgICAgICAgeyJleHRyYUNsYXNzZXMiOiAiZmEtcm90YXRlLTAiLCAiaWNvbiI6ICJpbmZvLXNpZ24iLCAiaWNvbkNvbG9yIjogIndoaXRlIiwgIm1hcmtlckNvbG9yIjogImdyZWVuIiwgInByZWZpeCI6ICJnbHlwaGljb24ifQogICAgICAgICAgICApOwogICAgICAgICAgICBtYXJrZXJfMTRkY2ZmN2ZhNzYwNDU1ZGI1YjVkYzM1MjhlOGY5ZGMuc2V0SWNvbihpY29uX2ZlZjEyYTM2ZjViYzRlODZhOTUwYjVlZDc3ODFjYjBjKTsKICAgICAgICAKICAgIAogICAgICAgIHZhciBwb3B1cF8yYjA1MTBhMzczMDI0NjRhYmYwNTk4OTJiNjA5NDUzMyA9IEwucG9wdXAoeyJtYXhXaWR0aCI6ICIxMDAlIn0pOwoKICAgICAgICAKICAgICAgICAgICAgdmFyIGh0bWxfODBmMTYzMTUwY2EwNGE4NmI4OTYwNDIzZThmMGYzYzIgPSAkKGA8ZGl2IGlkPSJodG1sXzgwZjE2MzE1MGNhMDRhODZiODk2MDQyM2U4ZjBmM2MyIiBzdHlsZT0id2lkdGg6IDEwMC4wJTsgaGVpZ2h0OiAxMDAuMCU7Ij4xNTk0MTMwMjIyPC9kaXY+YClbMF07CiAgICAgICAgICAgIHBvcHVwXzJiMDUxMGEzNzMwMjQ2NGFiZjA1OTg5MmI2MDk0NTMzLnNldENvbnRlbnQoaHRtbF84MGYxNjMxNTBjYTA0YTg2Yjg5NjA0MjNlOGYwZjNjMik7CiAgICAgICAgCgogICAgICAgIG1hcmtlcl8xNGRjZmY3ZmE3NjA0NTVkYjViNWRjMzUyOGU4ZjlkYy5iaW5kUG9wdXAocG9wdXBfMmIwNTEwYTM3MzAyNDY0YWJmMDU5ODkyYjYwOTQ1MzMpCiAgICAgICAgOwoKICAgICAgICAKICAgIAogICAgCiAgICAgICAgICAgIG1hcmtlcl8xNGRjZmY3ZmE3NjA0NTVkYjViNWRjMzUyOGU4ZjlkYy5iaW5kVG9vbHRpcCgKICAgICAgICAgICAgICAgIGA8ZGl2PgogICAgICAgICAgICAgICAgICAgICAxIHJvb21zPGJyPjEwODk5LjAgVUFICiAgICAgICAgICAgICAgICAgPC9kaXY+YCwKICAgICAgICAgICAgICAgIHsic3RpY2t5IjogdHJ1ZX0KICAgICAgICAgICAgKTsKICAgICAgICAKICAgIAogICAgICAgICAgICB2YXIgbWFya2VyXzViYzNiZmQyN2E1NTQxYzY4ZDQ3ZWY4ZDI4ZWYyM2M3ID0gTC5tYXJrZXIoCiAgICAgICAgICAgICAgICBbNDkuNzgyNDIwOCwgMjQuMDU5MjA1NV0sCiAgICAgICAgICAgICAgICB7fQogICAgICAgICAgICApLmFkZFRvKG1hcF9lMDcxYWEyNzM0MTM0NmZkYmFmZGU4MTdjZjA3MjY2Mik7CiAgICAgICAgCiAgICAKICAgICAgICAgICAgdmFyIGljb25fNTBkM2U5OGNiMzA5NDg3NDgwZGVkYjE2YjRlNjVkZTYgPSBMLkF3ZXNvbWVNYXJrZXJzLmljb24oCiAgICAgICAgICAgICAgICB7ImV4dHJhQ2xhc3NlcyI6ICJmYS1yb3RhdGUtMCIsICJpY29uIjogImluZm8tc2lnbiIsICJpY29uQ29sb3IiOiAid2hpdGUiLCAibWFya2VyQ29sb3IiOiAiYmx1ZSIsICJwcmVmaXgiOiAiZ2x5cGhpY29uIn0KICAgICAgICAgICAgKTsKICAgICAgICAgICAgbWFya2VyXzViYzNiZmQyN2E1NTQxYzY4ZDQ3ZWY4ZDI4ZWYyM2M3LnNldEljb24oaWNvbl81MGQzZTk4Y2IzMDk0ODc0ODBkZWRiMTZiNGU2NWRlNik7CiAgICAgICAgCiAgICAKICAgICAgICB2YXIgcG9wdXBfMWRkYmU1ODIxZDM0NDJlMmI1YjhhMDAwNWJhYTJjOTggPSBMLnBvcHVwKHsibWF4V2lkdGgiOiAiMTAwJSJ9KTsKCiAgICAgICAgCiAgICAgICAgICAgIHZhciBodG1sXzE1YmFkOTFlMTllODQwN2E4YmY4MzkxMjllODk3YmZmID0gJChgPGRpdiBpZD0iaHRtbF8xNWJhZDkxZTE5ZTg0MDdhOGJmODM5MTI5ZTg5N2JmZiIgc3R5bGU9IndpZHRoOiAxMDAuMCU7IGhlaWdodDogMTAwLjAlOyI+MTU5NDEzMDIxNzwvZGl2PmApWzBdOwogICAgICAgICAgICBwb3B1cF8xZGRiZTU4MjFkMzQ0MmUyYjViOGEwMDA1YmFhMmM5OC5zZXRDb250ZW50KGh0bWxfMTViYWQ5MWUxOWU4NDA3YThiZjgzOTEyOWU4OTdiZmYpOwogICAgICAgIAoKICAgICAgICBtYXJrZXJfNWJjM2JmZDI3YTU1NDFjNjhkNDdlZjhkMjhlZjIzYzcuYmluZFBvcHVwKHBvcHVwXzFkZGJlNTgyMWQzNDQyZTJiNWI4YTAwMDViYWEyYzk4KQogICAgICAgIDsKCiAgICAgICAgCiAgICAKICAgIAogICAgICAgICAgICBtYXJrZXJfNWJjM2JmZDI3YTU1NDFjNjhkNDdlZjhkMjhlZjIzYzcuYmluZFRvb2x0aXAoCiAgICAgICAgICAgICAgICBgPGRpdj4KICAgICAgICAgICAgICAgICAgICAgMiByb29tczxicj41MDAwLjAgVUFICiAgICAgICAgICAgICAgICAgPC9kaXY+YCwKICAgICAgICAgICAgICAgIHsic3RpY2t5IjogdHJ1ZX0KICAgICAgICAgICAgKTsKICAgICAgICAKICAgIAogICAgICAgICAgICB2YXIgbWFya2VyXzM3NDQ1MWZkM2Y1ODRhNDlhYzEwOWE1NTc3ZGI5YzhlID0gTC5tYXJrZXIoCiAgICAgICAgICAgICAgICBbNDkuODQ2NTg3NiwgMjQuMDI4ODgyMTk5OTk5OTk4XSwKICAgICAgICAgICAgICAgIHt9CiAgICAgICAgICAgICkuYWRkVG8obWFwX2UwNzFhYTI3MzQxMzQ2ZmRiYWZkZTgxN2NmMDcyNjYyKTsKICAgICAgICAKICAgIAogICAgICAgICAgICB2YXIgaWNvbl9hNzU3ZGE5NTE4ZDQ0OWRkYWQ1NGVhNGRkOWEzNzczNCA9IEwuQXdlc29tZU1hcmtlcnMuaWNvbigKICAgICAgICAgICAgICAgIHsiZXh0cmFDbGFzc2VzIjogImZhLXJvdGF0ZS0wIiwgImljb24iOiAiaW5mby1zaWduIiwgImljb25Db2xvciI6ICJ3aGl0ZSIsICJtYXJrZXJDb2xvciI6ICJ5ZWxsb3ciLCAicHJlZml4IjogImdseXBoaWNvbiJ9CiAgICAgICAgICAgICk7CiAgICAgICAgICAgIG1hcmtlcl8zNzQ0NTFmZDNmNTg0YTQ5YWMxMDlhNTU3N2RiOWM4ZS5zZXRJY29uKGljb25fYTc1N2RhOTUxOGQ0NDlkZGFkNTRlYTRkZDlhMzc3MzQpOwogICAgICAgIAogICAgCiAgICAgICAgdmFyIHBvcHVwX2UwNjNkZTk2NTcwNTQ3MDViMzBmNWI1NGY5OWIzODcyID0gTC5wb3B1cCh7Im1heFdpZHRoIjogIjEwMCUifSk7CgogICAgICAgIAogICAgICAgICAgICB2YXIgaHRtbF9kN2M3NjQzMWE4ZmE0ODY2ODRmODcxMmY2ZjkzNDlmOCA9ICQoYDxkaXYgaWQ9Imh0bWxfZDdjNzY0MzFhOGZhNDg2Njg0Zjg3MTJmNmY5MzQ5ZjgiIHN0eWxlPSJ3aWR0aDogMTAwLjAlOyBoZWlnaHQ6IDEwMC4wJTsiPjE1OTQxMzAyMTY8L2Rpdj5gKVswXTsKICAgICAgICAgICAgcG9wdXBfZTA2M2RlOTY1NzA1NDcwNWIzMGY1YjU0Zjk5YjM4NzIuc2V0Q29udGVudChodG1sX2Q3Yzc2NDMxYThmYTQ4NjY4NGY4NzEyZjZmOTM0OWY4KTsKICAgICAgICAKCiAgICAgICAgbWFya2VyXzM3NDQ1MWZkM2Y1ODRhNDlhYzEwOWE1NTc3ZGI5YzhlLmJpbmRQb3B1cChwb3B1cF9lMDYzZGU5NjU3MDU0NzA1YjMwZjViNTRmOTliMzg3MikKICAgICAgICA7CgogICAgICAgIAogICAgCiAgICAKICAgICAgICAgICAgbWFya2VyXzM3NDQ1MWZkM2Y1ODRhNDlhYzEwOWE1NTc3ZGI5YzhlLmJpbmRUb29sdGlwKAogICAgICAgICAgICAgICAgYDxkaXY+CiAgICAgICAgICAgICAgICAgICAgIDMgcm9vbXM8YnI+Mjk5NzMuMCBVQUgKICAgICAgICAgICAgICAgICA8L2Rpdj5gLAogICAgICAgICAgICAgICAgeyJzdGlja3kiOiB0cnVlfQogICAgICAgICAgICApOwogICAgICAgIAogICAgCiAgICAgICAgICAgIHZhciBtYXJrZXJfMzJlZDQyYzhmZWU1NDk5Njk5ZjIxMzY0YjM3MDExMjQgPSBMLm1hcmtlcigKICAgICAgICAgICAgICAgIFs0OS43ODI0MjA4LCAyNC4wNTkyMDU1XSwKICAgICAgICAgICAgICAgIHt9CiAgICAgICAgICAgICkuYWRkVG8obWFwX2UwNzFhYTI3MzQxMzQ2ZmRiYWZkZTgxN2NmMDcyNjYyKTsKICAgICAgICAKICAgIAogICAgICAgICAgICB2YXIgaWNvbl9lZDQ5MzVjNDAwYjI0Y2Y1OTI5Y2Q5YzQzOGYyNGJhMSA9IEwuQXdlc29tZU1hcmtlcnMuaWNvbigKICAgICAgICAgICAgICAgIHsiZXh0cmFDbGFzc2VzIjogImZhLXJvdGF0ZS0wIiwgImljb24iOiAiaW5mby1zaWduIiwgImljb25Db2xvciI6ICJ3aGl0ZSIsICJtYXJrZXJDb2xvciI6ICJibHVlIiwgInByZWZpeCI6ICJnbHlwaGljb24ifQogICAgICAgICAgICApOwogICAgICAgICAgICBtYXJrZXJfMzJlZDQyYzhmZWU1NDk5Njk5ZjIxMzY0YjM3MDExMjQuc2V0SWNvbihpY29uX2VkNDkzNWM0MDBiMjRjZjU5MjljZDljNDM4ZjI0YmExKTsKICAgICAgICAKICAgIAogICAgICAgIHZhciBwb3B1cF84MmFlNzViMGVlMmE0MmIyODVlNTA1Njk5ZDUxYTQ5ZCA9IEwucG9wdXAoeyJtYXhXaWR0aCI6ICIxMDAlIn0pOwoKICAgICAgICAKICAgICAgICAgICAgdmFyIGh0bWxfNjA4YTA1NDg1Y2UyNGNlNGIzNDc3N2EzNTA1MGYzNDYgPSAkKGA8ZGl2IGlkPSJodG1sXzYwOGEwNTQ4NWNlMjRjZTRiMzQ3NzdhMzUwNTBmMzQ2IiBzdHlsZT0id2lkdGg6IDEwMC4wJTsgaGVpZ2h0OiAxMDAuMCU7Ij4xNTk0MTMwMjE2PC9kaXY+YClbMF07CiAgICAgICAgICAgIHBvcHVwXzgyYWU3NWIwZWUyYTQyYjI4NWU1MDU2OTlkNTFhNDlkLnNldENvbnRlbnQoaHRtbF82MDhhMDU0ODVjZTI0Y2U0YjM0Nzc3YTM1MDUwZjM0Nik7CiAgICAgICAgCgogICAgICAgIG1hcmtlcl8zMmVkNDJjOGZlZTU0OTk2OTlmMjEzNjRiMzcwMTEyNC5iaW5kUG9wdXAocG9wdXBfODJhZTc1YjBlZTJhNDJiMjg1ZTUwNTY5OWQ1MWE0OWQpCiAgICAgICAgOwoKICAgICAgICAKICAgIAogICAgCiAgICAgICAgICAgIG1hcmtlcl8zMmVkNDJjOGZlZTU0OTk2OTlmMjEzNjRiMzcwMTEyNC5iaW5kVG9vbHRpcCgKICAgICAgICAgICAgICAgIGA8ZGl2PgogICAgICAgICAgICAgICAgICAgICAyIHJvb21zPGJyPjUwMDAuMCBVQUgKICAgICAgICAgICAgICAgICA8L2Rpdj5gLAogICAgICAgICAgICAgICAgeyJzdGlja3kiOiB0cnVlfQogICAgICAgICAgICApOwogICAgICAgIAogICAgCiAgICAgICAgICAgIHZhciBtYXJrZXJfZjA5MTI3YzAwMTM4NGRkZjgxYzZmZjM1ZjI4Zjg3MWIgPSBMLm1hcmtlcigKICAgICAgICAgICAgICAgIFs0OS43ODI0MjA4LCAyNC4wNTkyMDU1XSwKICAgICAgICAgICAgICAgIHt9CiAgICAgICAgICAgICkuYWRkVG8obWFwX2UwNzFhYTI3MzQxMzQ2ZmRiYWZkZTgxN2NmMDcyNjYyKTsKICAgICAgICAKICAgIAogICAgICAgICAgICB2YXIgaWNvbl82ZGQ1YTk2YjAwN2I0YzUxOTY1NjA1ZjM5YzU4NTkwMiA9IEwuQXdlc29tZU1hcmtlcnMuaWNvbigKICAgICAgICAgICAgICAgIHsiZXh0cmFDbGFzc2VzIjogImZhLXJvdGF0ZS0wIiwgImljb24iOiAiaW5mby1zaWduIiwgImljb25Db2xvciI6ICJ3aGl0ZSIsICJtYXJrZXJDb2xvciI6ICJibHVlIiwgInByZWZpeCI6ICJnbHlwaGljb24ifQogICAgICAgICAgICApOwogICAgICAgICAgICBtYXJrZXJfZjA5MTI3YzAwMTM4NGRkZjgxYzZmZjM1ZjI4Zjg3MWIuc2V0SWNvbihpY29uXzZkZDVhOTZiMDA3YjRjNTE5NjU2MDVmMzljNTg1OTAyKTsKICAgICAgICAKICAgIAogICAgICAgIHZhciBwb3B1cF9iZDUwYzZmZjUxODc0NjQxOTYzYTJkMWIyOTg4ZmM5NyA9IEwucG9wdXAoeyJtYXhXaWR0aCI6ICIxMDAlIn0pOwoKICAgICAgICAKICAgICAgICAgICAgdmFyIGh0bWxfOTMwYzMwNzg4MGM0NGU5YWFkOGQ2NDE3NzE4YjdhMmUgPSAkKGA8ZGl2IGlkPSJodG1sXzkzMGMzMDc4ODBjNDRlOWFhZDhkNjQxNzcxOGI3YTJlIiBzdHlsZT0id2lkdGg6IDEwMC4wJTsgaGVpZ2h0OiAxMDAuMCU7Ij4xNTk0MTMwMjE2PC9kaXY+YClbMF07CiAgICAgICAgICAgIHBvcHVwX2JkNTBjNmZmNTE4NzQ2NDE5NjNhMmQxYjI5ODhmYzk3LnNldENvbnRlbnQoaHRtbF85MzBjMzA3ODgwYzQ0ZTlhYWQ4ZDY0MTc3MThiN2EyZSk7CiAgICAgICAgCgogICAgICAgIG1hcmtlcl9mMDkxMjdjMDAxMzg0ZGRmODFjNmZmMzVmMjhmODcxYi5iaW5kUG9wdXAocG9wdXBfYmQ1MGM2ZmY1MTg3NDY0MTk2M2EyZDFiMjk4OGZjOTcpCiAgICAgICAgOwoKICAgICAgICAKICAgIAogICAgCiAgICAgICAgICAgIG1hcmtlcl9mMDkxMjdjMDAxMzg0ZGRmODFjNmZmMzVmMjhmODcxYi5iaW5kVG9vbHRpcCgKICAgICAgICAgICAgICAgIGA8ZGl2PgogICAgICAgICAgICAgICAgICAgICAyIHJvb21zPGJyPjUwMDAuMCBVQUgKICAgICAgICAgICAgICAgICA8L2Rpdj5gLAogICAgICAgICAgICAgICAgeyJzdGlja3kiOiB0cnVlfQogICAgICAgICAgICApOwogICAgICAgIAogICAgCiAgICAgICAgICAgIHZhciBtYXJrZXJfN2I2YWRiNWM4NDg3NGYxM2FmNjY5YWMyN2M4NzMyY2QgPSBMLm1hcmtlcigKICAgICAgICAgICAgICAgIFs0OS43ODI0MjA4LCAyNC4wNTkyMDU1XSwKICAgICAgICAgICAgICAgIHt9CiAgICAgICAgICAgICkuYWRkVG8obWFwX2UwNzFhYTI3MzQxMzQ2ZmRiYWZkZTgxN2NmMDcyNjYyKTsKICAgICAgICAKICAgIAogICAgICAgICAgICB2YXIgaWNvbl9lMDZkY2UzYzZiNjk0N2U3YmQzMzZiNWQ4MjM5Y2MwYiA9IEwuQXdlc29tZU1hcmtlcnMuaWNvbigKICAgICAgICAgICAgICAgIHsiZXh0cmFDbGFzc2VzIjogImZhLXJvdGF0ZS0wIiwgImljb24iOiAiaW5mby1zaWduIiwgImljb25Db2xvciI6ICJ3aGl0ZSIsICJtYXJrZXJDb2xvciI6ICJibHVlIiwgInByZWZpeCI6ICJnbHlwaGljb24ifQogICAgICAgICAgICApOwogICAgICAgICAgICBtYXJrZXJfN2I2YWRiNWM4NDg3NGYxM2FmNjY5YWMyN2M4NzMyY2Quc2V0SWNvbihpY29uX2UwNmRjZTNjNmI2OTQ3ZTdiZDMzNmI1ZDgyMzljYzBiKTsKICAgICAgICAKICAgIAogICAgICAgIHZhciBwb3B1cF8xOTc3YzMyMTc0MWY0ZWM1OTQ4NzNlZTRlNzBlM2QzYiA9IEwucG9wdXAoeyJtYXhXaWR0aCI6ICIxMDAlIn0pOwoKICAgICAgICAKICAgICAgICAgICAgdmFyIGh0bWxfZGZmZjMzYzdjNjAwNDM5Yzg4ZDdmM2Q4ZDRjNDc4ODIgPSAkKGA8ZGl2IGlkPSJodG1sX2RmZmYzM2M3YzYwMDQzOWM4OGQ3ZjNkOGQ0YzQ3ODgyIiBzdHlsZT0id2lkdGg6IDEwMC4wJTsgaGVpZ2h0OiAxMDAuMCU7Ij4xNTk0MTMwMjA5PC9kaXY+YClbMF07CiAgICAgICAgICAgIHBvcHVwXzE5NzdjMzIxNzQxZjRlYzU5NDg3M2VlNGU3MGUzZDNiLnNldENvbnRlbnQoaHRtbF9kZmZmMzNjN2M2MDA0MzljODhkN2YzZDhkNGM0Nzg4Mik7CiAgICAgICAgCgogICAgICAgIG1hcmtlcl83YjZhZGI1Yzg0ODc0ZjEzYWY2NjlhYzI3Yzg3MzJjZC5iaW5kUG9wdXAocG9wdXBfMTk3N2MzMjE3NDFmNGVjNTk0ODczZWU0ZTcwZTNkM2IpCiAgICAgICAgOwoKICAgICAgICAKICAgIAogICAgCiAgICAgICAgICAgIG1hcmtlcl83YjZhZGI1Yzg0ODc0ZjEzYWY2NjlhYzI3Yzg3MzJjZC5iaW5kVG9vbHRpcCgKICAgICAgICAgICAgICAgIGA8ZGl2PgogICAgICAgICAgICAgICAgICAgICAyIHJvb21zPGJyPjUwMDAuMCBVQUgKICAgICAgICAgICAgICAgICA8L2Rpdj5gLAogICAgICAgICAgICAgICAgeyJzdGlja3kiOiB0cnVlfQogICAgICAgICAgICApOwogICAgICAgIAogICAgCiAgICAgICAgICAgIHZhciBtYXJrZXJfMWFmYzU0NjAxY2Y5NDA0MDhmOGUyMjMzOGU3MmEzODMgPSBMLm1hcmtlcigKICAgICAgICAgICAgICAgIFs0OS44MzM2NzAyMDAwMDAwMSwgMjQuMDIxNzU3N10sCiAgICAgICAgICAgICAgICB7fQogICAgICAgICAgICApLmFkZFRvKG1hcF9lMDcxYWEyNzM0MTM0NmZkYmFmZGU4MTdjZjA3MjY2Mik7CiAgICAgICAgCiAgICAKICAgICAgICAgICAgdmFyIGljb25fZGI3MzIzOWFkZDkyNDQzM2FlYTAwZmQzMGQyMjE2MjIgPSBMLkF3ZXNvbWVNYXJrZXJzLmljb24oCiAgICAgICAgICAgICAgICB7ImV4dHJhQ2xhc3NlcyI6ICJmYS1yb3RhdGUtMCIsICJpY29uIjogImluZm8tc2lnbiIsICJpY29uQ29sb3IiOiAid2hpdGUiLCAibWFya2VyQ29sb3IiOiAieWVsbG93IiwgInByZWZpeCI6ICJnbHlwaGljb24ifQogICAgICAgICAgICApOwogICAgICAgICAgICBtYXJrZXJfMWFmYzU0NjAxY2Y5NDA0MDhmOGUyMjMzOGU3MmEzODMuc2V0SWNvbihpY29uX2RiNzMyMzlhZGQ5MjQ0MzNhZWEwMGZkMzBkMjIxNjIyKTsKICAgICAgICAKICAgIAogICAgICAgIHZhciBwb3B1cF82N2ExMjlmOTI1NTU0Y2UyYjVlODVmMGFmYWUzYzk3NSA9IEwucG9wdXAoeyJtYXhXaWR0aCI6ICIxMDAlIn0pOwoKICAgICAgICAKICAgICAgICAgICAgdmFyIGh0bWxfMWU2OTM2ZDJhOWE0NDg0MmJlOTM1MjgwOTlhYWZmYjcgPSAkKGA8ZGl2IGlkPSJodG1sXzFlNjkzNmQyYTlhNDQ4NDJiZTkzNTI4MDk5YWFmZmI3IiBzdHlsZT0id2lkdGg6IDEwMC4wJTsgaGVpZ2h0OiAxMDAuMCU7Ij4xNTk0MTMwMjA5PC9kaXY+YClbMF07CiAgICAgICAgICAgIHBvcHVwXzY3YTEyOWY5MjU1NTRjZTJiNWU4NWYwYWZhZTNjOTc1LnNldENvbnRlbnQoaHRtbF8xZTY5MzZkMmE5YTQ0ODQyYmU5MzUyODA5OWFhZmZiNyk7CiAgICAgICAgCgogICAgICAgIG1hcmtlcl8xYWZjNTQ2MDFjZjk0MDQwOGY4ZTIyMzM4ZTcyYTM4My5iaW5kUG9wdXAocG9wdXBfNjdhMTI5ZjkyNTU1NGNlMmI1ZTg1ZjBhZmFlM2M5NzUpCiAgICAgICAgOwoKICAgICAgICAKICAgIAogICAgCiAgICAgICAgICAgIG1hcmtlcl8xYWZjNTQ2MDFjZjk0MDQwOGY4ZTIyMzM4ZTcyYTM4My5iaW5kVG9vbHRpcCgKICAgICAgICAgICAgICAgIGA8ZGl2PgogICAgICAgICAgICAgICAgICAgICAzIHJvb21zPGJyPjEzNjI0LjAgVUFICiAgICAgICAgICAgICAgICAgPC9kaXY+YCwKICAgICAgICAgICAgICAgIHsic3RpY2t5IjogdHJ1ZX0KICAgICAgICAgICAgKTsKICAgICAgICAKICAgIAogICAgICAgICAgICB2YXIgbWFya2VyX2NkY2I2NDNhY2EyYjRjMzNhOGEyZGI3ZTU2YWE2ODczID0gTC5tYXJrZXIoCiAgICAgICAgICAgICAgICBbNDkuNjE3NjI2LCAyNC4wMDU4OTM4OTk5OTk5OTddLAogICAgICAgICAgICAgICAge30KICAgICAgICAgICAgKS5hZGRUbyhtYXBfZTA3MWFhMjczNDEzNDZmZGJhZmRlODE3Y2YwNzI2NjIpOwogICAgICAgIAogICAgCiAgICAgICAgICAgIHZhciBpY29uX2Y4Nzc3Y2Y0ODY1NTRiZmU5NGZkYTRhMGJhMjcyZjQ4ID0gTC5Bd2Vzb21lTWFya2Vycy5pY29uKAogICAgICAgICAgICAgICAgeyJleHRyYUNsYXNzZXMiOiAiZmEtcm90YXRlLTAiLCAiaWNvbiI6ICJpbmZvLXNpZ24iLCAiaWNvbkNvbG9yIjogIndoaXRlIiwgIm1hcmtlckNvbG9yIjogImdyZWVuIiwgInByZWZpeCI6ICJnbHlwaGljb24ifQogICAgICAgICAgICApOwogICAgICAgICAgICBtYXJrZXJfY2RjYjY0M2FjYTJiNGMzM2E4YTJkYjdlNTZhYTY4NzMuc2V0SWNvbihpY29uX2Y4Nzc3Y2Y0ODY1NTRiZmU5NGZkYTRhMGJhMjcyZjQ4KTsKICAgICAgICAKICAgIAogICAgICAgIHZhciBwb3B1cF85MDFlODdhYWQ5ZGU0YTE2ODUwZWVmMTJlMzkxMmNmZSA9IEwucG9wdXAoeyJtYXhXaWR0aCI6ICIxMDAlIn0pOwoKICAgICAgICAKICAgICAgICAgICAgdmFyIGh0bWxfMmMxYTM5NWU3YzhiNDU3NWI3MDRkOWI2NTgzMDMwNDQgPSAkKGA8ZGl2IGlkPSJodG1sXzJjMWEzOTVlN2M4YjQ1NzViNzA0ZDliNjU4MzAzMDQ0IiBzdHlsZT0id2lkdGg6IDEwMC4wJTsgaGVpZ2h0OiAxMDAuMCU7Ij4xNTk0MTMwMjA3PC9kaXY+YClbMF07CiAgICAgICAgICAgIHBvcHVwXzkwMWU4N2FhZDlkZTRhMTY4NTBlZWYxMmUzOTEyY2ZlLnNldENvbnRlbnQoaHRtbF8yYzFhMzk1ZTdjOGI0NTc1YjcwNGQ5YjY1ODMwMzA0NCk7CiAgICAgICAgCgogICAgICAgIG1hcmtlcl9jZGNiNjQzYWNhMmI0YzMzYThhMmRiN2U1NmFhNjg3My5iaW5kUG9wdXAocG9wdXBfOTAxZTg3YWFkOWRlNGExNjg1MGVlZjEyZTM5MTJjZmUpCiAgICAgICAgOwoKICAgICAgICAKICAgIAogICAgCiAgICAgICAgICAgIG1hcmtlcl9jZGNiNjQzYWNhMmI0YzMzYThhMmRiN2U1NmFhNjg3My5iaW5kVG9vbHRpcCgKICAgICAgICAgICAgICAgIGA8ZGl2PgogICAgICAgICAgICAgICAgICAgICAxIHJvb21zPGJyPjgwMDAuMCBVQUgKICAgICAgICAgICAgICAgICA8L2Rpdj5gLAogICAgICAgICAgICAgICAgeyJzdGlja3kiOiB0cnVlfQogICAgICAgICAgICApOwogICAgICAgIAogICAgCiAgICAgICAgICAgIHZhciBtYXJrZXJfYzIwOGU1YWI0MWMxNGNhZWI2Mzk3MDI5YmViZmNhMDkgPSBMLm1hcmtlcigKICAgICAgICAgICAgICAgIFs0OS44MzA5Njk5LCAyMy45NzMyMTEzMDAwMDAwMDNdLAogICAgICAgICAgICAgICAge30KICAgICAgICAgICAgKS5hZGRUbyhtYXBfZTA3MWFhMjczNDEzNDZmZGJhZmRlODE3Y2YwNzI2NjIpOwogICAgICAgIAogICAgCiAgICAgICAgICAgIHZhciBpY29uX2E3YWIwNmE2OWIxZjRmZjg4ZWM2YWE1YTY0NzEyZDZjID0gTC5Bd2Vzb21lTWFya2Vycy5pY29uKAogICAgICAgICAgICAgICAgeyJleHRyYUNsYXNzZXMiOiAiZmEtcm90YXRlLTAiLCAiaWNvbiI6ICJpbmZvLXNpZ24iLCAiaWNvbkNvbG9yIjogIndoaXRlIiwgIm1hcmtlckNvbG9yIjogImJsYWNrIiwgInByZWZpeCI6ICJnbHlwaGljb24ifQogICAgICAgICAgICApOwogICAgICAgICAgICBtYXJrZXJfYzIwOGU1YWI0MWMxNGNhZWI2Mzk3MDI5YmViZmNhMDkuc2V0SWNvbihpY29uX2E3YWIwNmE2OWIxZjRmZjg4ZWM2YWE1YTY0NzEyZDZjKTsKICAgICAgICAKICAgIAogICAgICAgIHZhciBwb3B1cF8wODFhMTA2MmIxZTA0YmJmODY0OTQ2ZThiNTE2MmI5ZSA9IEwucG9wdXAoeyJtYXhXaWR0aCI6ICIxMDAlIn0pOwoKICAgICAgICAKICAgICAgICAgICAgdmFyIGh0bWxfNTNjNzcxOWU4NGVmNDY2Mjg2NGRkMzRkZTBjZDM1NjcgPSAkKGA8ZGl2IGlkPSJodG1sXzUzYzc3MTllODRlZjQ2NjI4NjRkZDM0ZGUwY2QzNTY3IiBzdHlsZT0id2lkdGg6IDEwMC4wJTsgaGVpZ2h0OiAxMDAuMCU7Ij4xNTk0MTMwMjAyPC9kaXY+YClbMF07CiAgICAgICAgICAgIHBvcHVwXzA4MWExMDYyYjFlMDRiYmY4NjQ5NDZlOGI1MTYyYjllLnNldENvbnRlbnQoaHRtbF81M2M3NzE5ZTg0ZWY0NjYyODY0ZGQzNGRlMGNkMzU2Nyk7CiAgICAgICAgCgogICAgICAgIG1hcmtlcl9jMjA4ZTVhYjQxYzE0Y2FlYjYzOTcwMjliZWJmY2EwOS5iaW5kUG9wdXAocG9wdXBfMDgxYTEwNjJiMWUwNGJiZjg2NDk0NmU4YjUxNjJiOWUpCiAgICAgICAgOwoKICAgICAgICAKICAgIAogICAgCiAgICAgICAgICAgIG1hcmtlcl9jMjA4ZTVhYjQxYzE0Y2FlYjYzOTcwMjliZWJmY2EwOS5iaW5kVG9vbHRpcCgKICAgICAgICAgICAgICAgIGA8ZGl2PgogICAgICAgICAgICAgICAgICAgICA0IHJvb21zPGJyPjMxMzM1LjAgVUFICiAgICAgICAgICAgICAgICAgPC9kaXY+YCwKICAgICAgICAgICAgICAgIHsic3RpY2t5IjogdHJ1ZX0KICAgICAgICAgICAgKTsKICAgICAgICAKICAgIAogICAgICAgICAgICB2YXIgbWFya2VyX2RkMWY3ODMzZWJkOTQwZmI4YTY0OGMwODIxNjllZThiID0gTC5tYXJrZXIoCiAgICAgICAgICAgICAgICBbNDkuODM3MzA0OCwgMjQuMDE3NDUwNjAwMDAwMDA0XSwKICAgICAgICAgICAgICAgIHt9CiAgICAgICAgICAgICkuYWRkVG8obWFwX2UwNzFhYTI3MzQxMzQ2ZmRiYWZkZTgxN2NmMDcyNjYyKTsKICAgICAgICAKICAgIAogICAgICAgICAgICB2YXIgaWNvbl9iOTQ2Y2JjOWM3NmI0YTFlODAxNTJjNTlmMDhiZDNiZCA9IEwuQXdlc29tZU1hcmtlcnMuaWNvbigKICAgICAgICAgICAgICAgIHsiZXh0cmFDbGFzc2VzIjogImZhLXJvdGF0ZS0wIiwgImljb24iOiAiaW5mby1zaWduIiwgImljb25Db2xvciI6ICJ3aGl0ZSIsICJtYXJrZXJDb2xvciI6ICJ5ZWxsb3ciLCAicHJlZml4IjogImdseXBoaWNvbiJ9CiAgICAgICAgICAgICk7CiAgICAgICAgICAgIG1hcmtlcl9kZDFmNzgzM2ViZDk0MGZiOGE2NDhjMDgyMTY5ZWU4Yi5zZXRJY29uKGljb25fYjk0NmNiYzljNzZiNGExZTgwMTUyYzU5ZjA4YmQzYmQpOwogICAgICAgIAogICAgCiAgICAgICAgdmFyIHBvcHVwX2Y1MTllZDY4YmNkOTQ3MmFiODY3YmRiNmExNzJhMzQ3ID0gTC5wb3B1cCh7Im1heFdpZHRoIjogIjEwMCUifSk7CgogICAgICAgIAogICAgICAgICAgICB2YXIgaHRtbF9jODI3Nzg3NzYyYzE0MzMwYTVkZDFmNDM0NWU2OTIzZiA9ICQoYDxkaXYgaWQ9Imh0bWxfYzgyNzc4Nzc2MmMxNDMzMGE1ZGQxZjQzNDVlNjkyM2YiIHN0eWxlPSJ3aWR0aDogMTAwLjAlOyBoZWlnaHQ6IDEwMC4wJTsiPjE1OTQxMzAyMDE8L2Rpdj5gKVswXTsKICAgICAgICAgICAgcG9wdXBfZjUxOWVkNjhiY2Q5NDcyYWI4NjdiZGI2YTE3MmEzNDcuc2V0Q29udGVudChodG1sX2M4Mjc3ODc3NjJjMTQzMzBhNWRkMWY0MzQ1ZTY5MjNmKTsKICAgICAgICAKCiAgICAgICAgbWFya2VyX2RkMWY3ODMzZWJkOTQwZmI4YTY0OGMwODIxNjllZThiLmJpbmRQb3B1cChwb3B1cF9mNTE5ZWQ2OGJjZDk0NzJhYjg2N2JkYjZhMTcyYTM0NykKICAgICAgICA7CgogICAgICAgIAogICAgCiAgICAKICAgICAgICAgICAgbWFya2VyX2RkMWY3ODMzZWJkOTQwZmI4YTY0OGMwODIxNjllZThiLmJpbmRUb29sdGlwKAogICAgICAgICAgICAgICAgYDxkaXY+CiAgICAgICAgICAgICAgICAgICAgIDMgcm9vbXM8YnI+MzA2NzUuMCBVQUgKICAgICAgICAgICAgICAgICA8L2Rpdj5gLAogICAgICAgICAgICAgICAgeyJzdGlja3kiOiB0cnVlfQogICAgICAgICAgICApOwogICAgICAgIAogICAgCiAgICAgICAgICAgIHZhciBtYXJrZXJfMDVhZTRiOWRjMGQ1NGMyZGE4MzFjNjdkZjYwNDc5ODggPSBMLm1hcmtlcigKICAgICAgICAgICAgICAgIFs0OS44MDYzMzQ3LCAyMy45ODA3MTk1NDI3ODNdLAogICAgICAgICAgICAgICAge30KICAgICAgICAgICAgKS5hZGRUbyhtYXBfZTA3MWFhMjczNDEzNDZmZGJhZmRlODE3Y2YwNzI2NjIpOwogICAgICAgIAogICAgCiAgICAgICAgICAgIHZhciBpY29uX2NjMjViZjcwODVjMDQxYTBhNGU4OGJiNWJjMTA3YjcyID0gTC5Bd2Vzb21lTWFya2Vycy5pY29uKAogICAgICAgICAgICAgICAgeyJleHRyYUNsYXNzZXMiOiAiZmEtcm90YXRlLTAiLCAiaWNvbiI6ICJpbmZvLXNpZ24iLCAiaWNvbkNvbG9yIjogIndoaXRlIiwgIm1hcmtlckNvbG9yIjogImdyZWVuIiwgInByZWZpeCI6ICJnbHlwaGljb24ifQogICAgICAgICAgICApOwogICAgICAgICAgICBtYXJrZXJfMDVhZTRiOWRjMGQ1NGMyZGE4MzFjNjdkZjYwNDc5ODguc2V0SWNvbihpY29uX2NjMjViZjcwODVjMDQxYTBhNGU4OGJiNWJjMTA3YjcyKTsKICAgICAgICAKICAgIAogICAgICAgIHZhciBwb3B1cF9jNzFlZWQ1NTY5ZDg0MDJhYWRhMThkYzM5YTVhZjBjMCA9IEwucG9wdXAoeyJtYXhXaWR0aCI6ICIxMDAlIn0pOwoKICAgICAgICAKICAgICAgICAgICAgdmFyIGh0bWxfNTRmODdjZDdjMWI0NGI5NmE3ZmM0ZmI4MTNjODhkYjUgPSAkKGA8ZGl2IGlkPSJodG1sXzU0Zjg3Y2Q3YzFiNDRiOTZhN2ZjNGZiODEzYzg4ZGI1IiBzdHlsZT0id2lkdGg6IDEwMC4wJTsgaGVpZ2h0OiAxMDAuMCU7Ij4xNTk0MTMwMjAxPC9kaXY+YClbMF07CiAgICAgICAgICAgIHBvcHVwX2M3MWVlZDU1NjlkODQwMmFhZGExOGRjMzlhNWFmMGMwLnNldENvbnRlbnQoaHRtbF81NGY4N2NkN2MxYjQ0Yjk2YTdmYzRmYjgxM2M4OGRiNSk7CiAgICAgICAgCgogICAgICAgIG1hcmtlcl8wNWFlNGI5ZGMwZDU0YzJkYTgzMWM2N2RmNjA0Nzk4OC5iaW5kUG9wdXAocG9wdXBfYzcxZWVkNTU2OWQ4NDAyYWFkYTE4ZGMzOWE1YWYwYzApCiAgICAgICAgOwoKICAgICAgICAKICAgIAogICAgCiAgICAgICAgICAgIG1hcmtlcl8wNWFlNGI5ZGMwZDU0YzJkYTgzMWM2N2RmNjA0Nzk4OC5iaW5kVG9vbHRpcCgKICAgICAgICAgICAgICAgIGA8ZGl2PgogICAgICAgICAgICAgICAgICAgICAxIHJvb21zPGJyPjgwMDAuMCBVQUgKICAgICAgICAgICAgICAgICA8L2Rpdj5gLAogICAgICAgICAgICAgICAgeyJzdGlja3kiOiB0cnVlfQogICAgICAgICAgICApOwogICAgICAgIAogICAgCiAgICAgICAgICAgIHZhciBtYXJrZXJfYWI1ZWUyNDY1NTYyNDI0YTgyYWY4ZjkwYTBlODNjYjggPSBMLm1hcmtlcigKICAgICAgICAgICAgICAgIFs0OS44MTM1Mzg1LCAyNC4wMzY4MTI2XSwKICAgICAgICAgICAgICAgIHt9CiAgICAgICAgICAgICkuYWRkVG8obWFwX2UwNzFhYTI3MzQxMzQ2ZmRiYWZkZTgxN2NmMDcyNjYyKTsKICAgICAgICAKICAgIAogICAgICAgICAgICB2YXIgaWNvbl81YmE1ZWZjNzBhMzE0OTY2YTAwMjU4NmVhYmE1ZjA1MiA9IEwuQXdlc29tZU1hcmtlcnMuaWNvbigKICAgICAgICAgICAgICAgIHsiZXh0cmFDbGFzc2VzIjogImZhLXJvdGF0ZS0wIiwgImljb24iOiAiaW5mby1zaWduIiwgImljb25Db2xvciI6ICJ3aGl0ZSIsICJtYXJrZXJDb2xvciI6ICJ5ZWxsb3ciLCAicHJlZml4IjogImdseXBoaWNvbiJ9CiAgICAgICAgICAgICk7CiAgICAgICAgICAgIG1hcmtlcl9hYjVlZTI0NjU1NjI0MjRhODJhZjhmOTBhMGU4M2NiOC5zZXRJY29uKGljb25fNWJhNWVmYzcwYTMxNDk2NmEwMDI1ODZlYWJhNWYwNTIpOwogICAgICAgIAogICAgCiAgICAgICAgdmFyIHBvcHVwXzIwNTFhZDA0YmY4MTQwZWNhMDg0MTYyNDc2NzdmYzJmID0gTC5wb3B1cCh7Im1heFdpZHRoIjogIjEwMCUifSk7CgogICAgICAgIAogICAgICAgICAgICB2YXIgaHRtbF9jYzE1MTI0MTAzOGE0MTU2YmY2NWEyNmI1N2MzOGViMyA9ICQoYDxkaXYgaWQ9Imh0bWxfY2MxNTEyNDEwMzhhNDE1NmJmNjVhMjZiNTdjMzhlYjMiIHN0eWxlPSJ3aWR0aDogMTAwLjAlOyBoZWlnaHQ6IDEwMC4wJTsiPjE1OTQxMzAxOTg8L2Rpdj5gKVswXTsKICAgICAgICAgICAgcG9wdXBfMjA1MWFkMDRiZjgxNDBlY2EwODQxNjI0NzY3N2ZjMmYuc2V0Q29udGVudChodG1sX2NjMTUxMjQxMDM4YTQxNTZiZjY1YTI2YjU3YzM4ZWIzKTsKICAgICAgICAKCiAgICAgICAgbWFya2VyX2FiNWVlMjQ2NTU2MjQyNGE4MmFmOGY5MGEwZTgzY2I4LmJpbmRQb3B1cChwb3B1cF8yMDUxYWQwNGJmODE0MGVjYTA4NDE2MjQ3Njc3ZmMyZikKICAgICAgICA7CgogICAgICAgIAogICAgCiAgICAKICAgICAgICAgICAgbWFya2VyX2FiNWVlMjQ2NTU2MjQyNGE4MmFmOGY5MGEwZTgzY2I4LmJpbmRUb29sdGlwKAogICAgICAgICAgICAgICAgYDxkaXY+CiAgICAgICAgICAgICAgICAgICAgIDMgcm9vbXM8YnI+MTIyNjIuMCBVQUgKICAgICAgICAgICAgICAgICA8L2Rpdj5gLAogICAgICAgICAgICAgICAgeyJzdGlja3kiOiB0cnVlfQogICAgICAgICAgICApOwogICAgICAgIAogICAgCiAgICAgICAgICAgIHZhciBtYXJrZXJfYzUzNTJhMmM2YWFiNDYxYTk1MzQ3MjllODM1MTA4OWIgPSBMLm1hcmtlcigKICAgICAgICAgICAgICAgIFs0OS44MzM2NzAyMDAwMDAwMSwgMjQuMDIxNzU3N10sCiAgICAgICAgICAgICAgICB7fQogICAgICAgICAgICApLmFkZFRvKG1hcF9lMDcxYWEyNzM0MTM0NmZkYmFmZGU4MTdjZjA3MjY2Mik7CiAgICAgICAgCiAgICAKICAgICAgICAgICAgdmFyIGljb25fZmI3OWMwYmNmYjc3NDJkYWIyNDExN2I0ZjM0ZjUxNWYgPSBMLkF3ZXNvbWVNYXJrZXJzLmljb24oCiAgICAgICAgICAgICAgICB7ImV4dHJhQ2xhc3NlcyI6ICJmYS1yb3RhdGUtMCIsICJpY29uIjogImluZm8tc2lnbiIsICJpY29uQ29sb3IiOiAid2hpdGUiLCAibWFya2VyQ29sb3IiOiAieWVsbG93IiwgInByZWZpeCI6ICJnbHlwaGljb24ifQogICAgICAgICAgICApOwogICAgICAgICAgICBtYXJrZXJfYzUzNTJhMmM2YWFiNDYxYTk1MzQ3MjllODM1MTA4OWIuc2V0SWNvbihpY29uX2ZiNzljMGJjZmI3NzQyZGFiMjQxMTdiNGYzNGY1MTVmKTsKICAgICAgICAKICAgIAogICAgICAgIHZhciBwb3B1cF82Mzk4MGVhYWRlODk0OTAxOGNmNTU2ZjYwZDJjZjA3ZSA9IEwucG9wdXAoeyJtYXhXaWR0aCI6ICIxMDAlIn0pOwoKICAgICAgICAKICAgICAgICAgICAgdmFyIGh0bWxfNTBhNzg2MDk2ZWZjNDJjOGEwZDg3NTkwZDExMGM4ZmEgPSAkKGA8ZGl2IGlkPSJodG1sXzUwYTc4NjA5NmVmYzQyYzhhMGQ4NzU5MGQxMTBjOGZhIiBzdHlsZT0id2lkdGg6IDEwMC4wJTsgaGVpZ2h0OiAxMDAuMCU7Ij4xNTk0MTMwMTk3PC9kaXY+YClbMF07CiAgICAgICAgICAgIHBvcHVwXzYzOTgwZWFhZGU4OTQ5MDE4Y2Y1NTZmNjBkMmNmMDdlLnNldENvbnRlbnQoaHRtbF81MGE3ODYwOTZlZmM0MmM4YTBkODc1OTBkMTEwYzhmYSk7CiAgICAgICAgCgogICAgICAgIG1hcmtlcl9jNTM1MmEyYzZhYWI0NjFhOTUzNDcyOWU4MzUxMDg5Yi5iaW5kUG9wdXAocG9wdXBfNjM5ODBlYWFkZTg5NDkwMThjZjU1NmY2MGQyY2YwN2UpCiAgICAgICAgOwoKICAgICAgICAKICAgIAogICAgCiAgICAgICAgICAgIG1hcmtlcl9jNTM1MmEyYzZhYWI0NjFhOTUzNDcyOWU4MzUxMDg5Yi5iaW5kVG9vbHRpcCgKICAgICAgICAgICAgICAgIGA8ZGl2PgogICAgICAgICAgICAgICAgICAgICAzIHJvb21zPGJyPjEzNjI0LjAgVUFICiAgICAgICAgICAgICAgICAgPC9kaXY+YCwKICAgICAgICAgICAgICAgIHsic3RpY2t5IjogdHJ1ZX0KICAgICAgICAgICAgKTsKICAgICAgICAKICAgIAogICAgICAgICAgICB2YXIgbWFya2VyX2NhYThkMDk3MGNhYzQ0MzE5ZDk3YjA4ZjZjMjdkNjc5ID0gTC5tYXJrZXIoCiAgICAgICAgICAgICAgICBbNDkuODcyNzc3NTAwMDAwMDA1LCAyMy45Mjg1NDM4XSwKICAgICAgICAgICAgICAgIHt9CiAgICAgICAgICAgICkuYWRkVG8obWFwX2UwNzFhYTI3MzQxMzQ2ZmRiYWZkZTgxN2NmMDcyNjYyKTsKICAgICAgICAKICAgIAogICAgICAgICAgICB2YXIgaWNvbl84ODM1MTEyM2JkYzc0NTAwOTVmNTU5YjQwODg5MWU4OCA9IEwuQXdlc29tZU1hcmtlcnMuaWNvbigKICAgICAgICAgICAgICAgIHsiZXh0cmFDbGFzc2VzIjogImZhLXJvdGF0ZS0wIiwgImljb24iOiAiaW5mby1zaWduIiwgImljb25Db2xvciI6ICJ3aGl0ZSIsICJtYXJrZXJDb2xvciI6ICJncmVlbiIsICJwcmVmaXgiOiAiZ2x5cGhpY29uIn0KICAgICAgICAgICAgKTsKICAgICAgICAgICAgbWFya2VyX2NhYThkMDk3MGNhYzQ0MzE5ZDk3YjA4ZjZjMjdkNjc5LnNldEljb24oaWNvbl84ODM1MTEyM2JkYzc0NTAwOTVmNTU5YjQwODg5MWU4OCk7CiAgICAgICAgCiAgICAKICAgICAgICB2YXIgcG9wdXBfMjNkNDQyNmNmODZmNGE0ZmEzOTc0N2ExZjM3NGMzNWIgPSBMLnBvcHVwKHsibWF4V2lkdGgiOiAiMTAwJSJ9KTsKCiAgICAgICAgCiAgICAgICAgICAgIHZhciBodG1sX2UwYWFkOWUwNzU5ZDRlMjliNDgwODQzNjYxOGRjMjA1ID0gJChgPGRpdiBpZD0iaHRtbF9lMGFhZDllMDc1OWQ0ZTI5YjQ4MDg0MzY2MThkYzIwNSIgc3R5bGU9IndpZHRoOiAxMDAuMCU7IGhlaWdodDogMTAwLjAlOyI+MTU5NDEzMDE5NzwvZGl2PmApWzBdOwogICAgICAgICAgICBwb3B1cF8yM2Q0NDI2Y2Y4NmY0YTRmYTM5NzQ3YTFmMzc0YzM1Yi5zZXRDb250ZW50KGh0bWxfZTBhYWQ5ZTA3NTlkNGUyOWI0ODA4NDM2NjE4ZGMyMDUpOwogICAgICAgIAoKICAgICAgICBtYXJrZXJfY2FhOGQwOTcwY2FjNDQzMTlkOTdiMDhmNmMyN2Q2NzkuYmluZFBvcHVwKHBvcHVwXzIzZDQ0MjZjZjg2ZjRhNGZhMzk3NDdhMWYzNzRjMzViKQogICAgICAgIDsKCiAgICAgICAgCiAgICAKICAgIAogICAgICAgICAgICBtYXJrZXJfY2FhOGQwOTcwY2FjNDQzMTlkOTdiMDhmNmMyN2Q2NzkuYmluZFRvb2x0aXAoCiAgICAgICAgICAgICAgICBgPGRpdj4KICAgICAgICAgICAgICAgICAgICAgMSByb29tczxicj41MDAwLjAgVUFICiAgICAgICAgICAgICAgICAgPC9kaXY+YCwKICAgICAgICAgICAgICAgIHsic3RpY2t5IjogdHJ1ZX0KICAgICAgICAgICAgKTsKICAgICAgICAKICAgIAogICAgICAgICAgICB2YXIgbWFya2VyXzRhOTUwYTc0Yjk5YjRlOThhYzAzMGZhNmIyMmU5M2QwID0gTC5tYXJrZXIoCiAgICAgICAgICAgICAgICBbNDkuNjY5MjQ0NzAwMDAwMDEsIDI0LjU0NzQxMzddLAogICAgICAgICAgICAgICAge30KICAgICAgICAgICAgKS5hZGRUbyhtYXBfZTA3MWFhMjczNDEzNDZmZGJhZmRlODE3Y2YwNzI2NjIpOwogICAgICAgIAogICAgCiAgICAgICAgICAgIHZhciBpY29uX2E1Nzk4NzhhZTU5ZTRkNGJhYmJhNjdiNzhhNzc2MjlmID0gTC5Bd2Vzb21lTWFya2Vycy5pY29uKAogICAgICAgICAgICAgICAgeyJleHRyYUNsYXNzZXMiOiAiZmEtcm90YXRlLTAiLCAiaWNvbiI6ICJpbmZvLXNpZ24iLCAiaWNvbkNvbG9yIjogIndoaXRlIiwgIm1hcmtlckNvbG9yIjogInllbGxvdyIsICJwcmVmaXgiOiAiZ2x5cGhpY29uIn0KICAgICAgICAgICAgKTsKICAgICAgICAgICAgbWFya2VyXzRhOTUwYTc0Yjk5YjRlOThhYzAzMGZhNmIyMmU5M2QwLnNldEljb24oaWNvbl9hNTc5ODc4YWU1OWU0ZDRiYWJiYTY3Yjc4YTc3NjI5Zik7CiAgICAgICAgCiAgICAKICAgICAgICB2YXIgcG9wdXBfNTE1ODc0OWE1OGFmNGQ5NGExZjM2OWUwODNiMWM4YmYgPSBMLnBvcHVwKHsibWF4V2lkdGgiOiAiMTAwJSJ9KTsKCiAgICAgICAgCiAgICAgICAgICAgIHZhciBodG1sXzhhYjc4OWJkZmI3MDRlZTU5N2M3NDNhZTQ0MzdhNzkyID0gJChgPGRpdiBpZD0iaHRtbF84YWI3ODliZGZiNzA0ZWU1OTdjNzQzYWU0NDM3YTc5MiIgc3R5bGU9IndpZHRoOiAxMDAuMCU7IGhlaWdodDogMTAwLjAlOyI+MTU5NDEzMDE5NzwvZGl2PmApWzBdOwogICAgICAgICAgICBwb3B1cF81MTU4NzQ5YTU4YWY0ZDk0YTFmMzY5ZTA4M2IxYzhiZi5zZXRDb250ZW50KGh0bWxfOGFiNzg5YmRmYjcwNGVlNTk3Yzc0M2FlNDQzN2E3OTIpOwogICAgICAgIAoKICAgICAgICBtYXJrZXJfNGE5NTBhNzRiOTliNGU5OGFjMDMwZmE2YjIyZTkzZDAuYmluZFBvcHVwKHBvcHVwXzUxNTg3NDlhNThhZjRkOTRhMWYzNjllMDgzYjFjOGJmKQogICAgICAgIDsKCiAgICAgICAgCiAgICAKICAgIAogICAgICAgICAgICBtYXJrZXJfNGE5NTBhNzRiOTliNGU5OGFjMDMwZmE2YjIyZTkzZDAuYmluZFRvb2x0aXAoCiAgICAgICAgICAgICAgICBgPGRpdj4KICAgICAgICAgICAgICAgICAgICAgMyByb29tczxicj4xNDk4Ni4wIFVBSAogICAgICAgICAgICAgICAgIDwvZGl2PmAsCiAgICAgICAgICAgICAgICB7InN0aWNreSI6IHRydWV9CiAgICAgICAgICAgICk7CiAgICAgICAgCiAgICAKICAgICAgICAgICAgdmFyIG1hcmtlcl8zNzljZGM2ZmRjN2U0MjdhYTQwNTZkM2M2NjEwMTkyOCA9IEwubWFya2VyKAogICAgICAgICAgICAgICAgWzQ5LjYxNzYyNiwgMjQuMDA1ODkzODk5OTk5OTk3XSwKICAgICAgICAgICAgICAgIHt9CiAgICAgICAgICAgICkuYWRkVG8obWFwX2UwNzFhYTI3MzQxMzQ2ZmRiYWZkZTgxN2NmMDcyNjYyKTsKICAgICAgICAKICAgIAogICAgICAgICAgICB2YXIgaWNvbl8yMTg1ZmE2NzVkYjc0ZTk2ODRjYWQwYjgzNDY2Y2UyYyA9IEwuQXdlc29tZU1hcmtlcnMuaWNvbigKICAgICAgICAgICAgICAgIHsiZXh0cmFDbGFzc2VzIjogImZhLXJvdGF0ZS0wIiwgImljb24iOiAiaW5mby1zaWduIiwgImljb25Db2xvciI6ICJ3aGl0ZSIsICJtYXJrZXJDb2xvciI6ICJ5ZWxsb3ciLCAicHJlZml4IjogImdseXBoaWNvbiJ9CiAgICAgICAgICAgICk7CiAgICAgICAgICAgIG1hcmtlcl8zNzljZGM2ZmRjN2U0MjdhYTQwNTZkM2M2NjEwMTkyOC5zZXRJY29uKGljb25fMjE4NWZhNjc1ZGI3NGU5Njg0Y2FkMGI4MzQ2NmNlMmMpOwogICAgICAgIAogICAgCiAgICAgICAgdmFyIHBvcHVwXzVmMWZhMzM1ZjFjYzQxNzE4NDhmNGFhOTIwMzYwYjk4ID0gTC5wb3B1cCh7Im1heFdpZHRoIjogIjEwMCUifSk7CgogICAgICAgIAogICAgICAgICAgICB2YXIgaHRtbF8zZGFjMzNiZThlNmU0ODFlODBiNTcwY2M0NWZiMDg3OSA9ICQoYDxkaXYgaWQ9Imh0bWxfM2RhYzMzYmU4ZTZlNDgxZTgwYjU3MGNjNDVmYjA4NzkiIHN0eWxlPSJ3aWR0aDogMTAwLjAlOyBoZWlnaHQ6IDEwMC4wJTsiPjE1OTQxMzAxOTQ8L2Rpdj5gKVswXTsKICAgICAgICAgICAgcG9wdXBfNWYxZmEzMzVmMWNjNDE3MTg0OGY0YWE5MjAzNjBiOTguc2V0Q29udGVudChodG1sXzNkYWMzM2JlOGU2ZTQ4MWU4MGI1NzBjYzQ1ZmIwODc5KTsKICAgICAgICAKCiAgICAgICAgbWFya2VyXzM3OWNkYzZmZGM3ZTQyN2FhNDA1NmQzYzY2MTAxOTI4LmJpbmRQb3B1cChwb3B1cF81ZjFmYTMzNWYxY2M0MTcxODQ4ZjRhYTkyMDM2MGI5OCkKICAgICAgICA7CgogICAgICAgIAogICAgCiAgICAKICAgICAgICAgICAgbWFya2VyXzM3OWNkYzZmZGM3ZTQyN2FhNDA1NmQzYzY2MTAxOTI4LmJpbmRUb29sdGlwKAogICAgICAgICAgICAgICAgYDxkaXY+CiAgICAgICAgICAgICAgICAgICAgIDMgcm9vbXM8YnI+MTIyNjIuMCBVQUgKICAgICAgICAgICAgICAgICA8L2Rpdj5gLAogICAgICAgICAgICAgICAgeyJzdGlja3kiOiB0cnVlfQogICAgICAgICAgICApOwogICAgICAgIAogICAgCiAgICAgICAgICAgIHZhciBtYXJrZXJfYTA2NTUwZjJiODdmNGI5NDg1OTU4OTY2NTMzZTg4YzQgPSBMLm1hcmtlcigKICAgICAgICAgICAgICAgIFs0OS44NDEyMzY1LCAyNC4wMjMyNTc4XSwKICAgICAgICAgICAgICAgIHt9CiAgICAgICAgICAgICkuYWRkVG8obWFwX2UwNzFhYTI3MzQxMzQ2ZmRiYWZkZTgxN2NmMDcyNjYyKTsKICAgICAgICAKICAgIAogICAgICAgICAgICB2YXIgaWNvbl81NGJiYWNiNTI1YTU0OWYxOWQ1NTVhNzEyOTcwMDNjYSA9IEwuQXdlc29tZU1hcmtlcnMuaWNvbigKICAgICAgICAgICAgICAgIHsiZXh0cmFDbGFzc2VzIjogImZhLXJvdGF0ZS0wIiwgImljb24iOiAiaW5mby1zaWduIiwgImljb25Db2xvciI6ICJ3aGl0ZSIsICJtYXJrZXJDb2xvciI6ICJibHVlIiwgInByZWZpeCI6ICJnbHlwaGljb24ifQogICAgICAgICAgICApOwogICAgICAgICAgICBtYXJrZXJfYTA2NTUwZjJiODdmNGI5NDg1OTU4OTY2NTMzZTg4YzQuc2V0SWNvbihpY29uXzU0YmJhY2I1MjVhNTQ5ZjE5ZDU1NWE3MTI5NzAwM2NhKTsKICAgICAgICAKICAgIAogICAgICAgIHZhciBwb3B1cF85NzE1NTljZTBiZjY0Y2Q0YjdiM2YyODk4MTdkYjk0NCA9IEwucG9wdXAoeyJtYXhXaWR0aCI6ICIxMDAlIn0pOwoKICAgICAgICAKICAgICAgICAgICAgdmFyIGh0bWxfMzg3NTk2YTZiYjg1NDEyODg3MzI1MzExYjFkM2NjZWQgPSAkKGA8ZGl2IGlkPSJodG1sXzM4NzU5NmE2YmI4NTQxMjg4NzMyNTMxMWIxZDNjY2VkIiBzdHlsZT0id2lkdGg6IDEwMC4wJTsgaGVpZ2h0OiAxMDAuMCU7Ij4xNTk0MTI0OTk4PC9kaXY+YClbMF07CiAgICAgICAgICAgIHBvcHVwXzk3MTU1OWNlMGJmNjRjZDRiN2IzZjI4OTgxN2RiOTQ0LnNldENvbnRlbnQoaHRtbF8zODc1OTZhNmJiODU0MTI4ODczMjUzMTFiMWQzY2NlZCk7CiAgICAgICAgCgogICAgICAgIG1hcmtlcl9hMDY1NTBmMmI4N2Y0Yjk0ODU5NTg5NjY1MzNlODhjNC5iaW5kUG9wdXAocG9wdXBfOTcxNTU5Y2UwYmY2NGNkNGI3YjNmMjg5ODE3ZGI5NDQpCiAgICAgICAgOwoKICAgICAgICAKICAgIAogICAgCiAgICAgICAgICAgIG1hcmtlcl9hMDY1NTBmMmI4N2Y0Yjk0ODU5NTg5NjY1MzNlODhjNC5iaW5kVG9vbHRpcCgKICAgICAgICAgICAgICAgIGA8ZGl2PgogICAgICAgICAgICAgICAgICAgICAyIHJvb21zPGJyPjgwMDAuMCBVQUgKICAgICAgICAgICAgICAgICA8L2Rpdj5gLAogICAgICAgICAgICAgICAgeyJzdGlja3kiOiB0cnVlfQogICAgICAgICAgICApOwogICAgICAgIAogICAgCiAgICAgICAgICAgIHZhciBtYXJrZXJfOGQ0NTliYzJkZWUxNDU4OWE3Yzk3ZGFlNGRjYmI1YzAgPSBMLm1hcmtlcigKICAgICAgICAgICAgICAgIFs0OS44NDc4MjYzNjg0MjgsIDI0LjAxOTM3NDQwMjAzOV0sCiAgICAgICAgICAgICAgICB7fQogICAgICAgICAgICApLmFkZFRvKG1hcF9lMDcxYWEyNzM0MTM0NmZkYmFmZGU4MTdjZjA3MjY2Mik7CiAgICAgICAgCiAgICAKICAgICAgICAgICAgdmFyIGljb25fOTE5MTQ0OWM0NjNmNDUwNWI3Y2QyNjQ5MTM1YmFjMDIgPSBMLkF3ZXNvbWVNYXJrZXJzLmljb24oCiAgICAgICAgICAgICAgICB7ImV4dHJhQ2xhc3NlcyI6ICJmYS1yb3RhdGUtMCIsICJpY29uIjogImluZm8tc2lnbiIsICJpY29uQ29sb3IiOiAid2hpdGUiLCAibWFya2VyQ29sb3IiOiAiYmx1ZSIsICJwcmVmaXgiOiAiZ2x5cGhpY29uIn0KICAgICAgICAgICAgKTsKICAgICAgICAgICAgbWFya2VyXzhkNDU5YmMyZGVlMTQ1ODlhN2M5N2RhZTRkY2JiNWMwLnNldEljb24oaWNvbl85MTkxNDQ5YzQ2M2Y0NTA1YjdjZDI2NDkxMzViYWMwMik7CiAgICAgICAgCiAgICAKICAgICAgICB2YXIgcG9wdXBfMzc1ZDU3ZWZmZTE4NGQyYjhhNDc2ODZiNGI2ZmZmMzUgPSBMLnBvcHVwKHsibWF4V2lkdGgiOiAiMTAwJSJ9KTsKCiAgICAgICAgCiAgICAgICAgICAgIHZhciBodG1sX2IwYjkwYmJmZjkyOTRjNTFhM2UzZjlkYjhmOTdlYmFhID0gJChgPGRpdiBpZD0iaHRtbF9iMGI5MGJiZmY5Mjk0YzUxYTNlM2Y5ZGI4Zjk3ZWJhYSIgc3R5bGU9IndpZHRoOiAxMDAuMCU7IGhlaWdodDogMTAwLjAlOyI+MTU5NDExMDg1OTwvZGl2PmApWzBdOwogICAgICAgICAgICBwb3B1cF8zNzVkNTdlZmZlMTg0ZDJiOGE0NzY4NmI0YjZmZmYzNS5zZXRDb250ZW50KGh0bWxfYjBiOTBiYmZmOTI5NGM1MWEzZTNmOWRiOGY5N2ViYWEpOwogICAgICAgIAoKICAgICAgICBtYXJrZXJfOGQ0NTliYzJkZWUxNDU4OWE3Yzk3ZGFlNGRjYmI1YzAuYmluZFBvcHVwKHBvcHVwXzM3NWQ1N2VmZmUxODRkMmI4YTQ3Njg2YjRiNmZmZjM1KQogICAgICAgIDsKCiAgICAgICAgCiAgICAKICAgIAogICAgICAgICAgICBtYXJrZXJfOGQ0NTliYzJkZWUxNDU4OWE3Yzk3ZGFlNGRjYmI1YzAuYmluZFRvb2x0aXAoCiAgICAgICAgICAgICAgICBgPGRpdj4KICAgICAgICAgICAgICAgICAgICAgMiByb29tczxicj45ODA5LjAgVUFICiAgICAgICAgICAgICAgICAgPC9kaXY+YCwKICAgICAgICAgICAgICAgIHsic3RpY2t5IjogdHJ1ZX0KICAgICAgICAgICAgKTsKICAgICAgICAKICAgIAogICAgICAgICAgICB2YXIgbWFya2VyXzJhMzc1MDFmMzEzOTRkMzQ5OTlmZmVmMmU5OTNiNGQyID0gTC5tYXJrZXIoCiAgICAgICAgICAgICAgICBbNDkuODM4NDk4NDAyNjEzLCAyNC4wNDI5Njk4NDEzNjhdLAogICAgICAgICAgICAgICAge30KICAgICAgICAgICAgKS5hZGRUbyhtYXBfZTA3MWFhMjczNDEzNDZmZGJhZmRlODE3Y2YwNzI2NjIpOwogICAgICAgIAogICAgCiAgICAgICAgICAgIHZhciBpY29uXzliNGNkZTFlOWE2ZTQ0Zjg4ZTlkMGJmMWVjNWEyZTVmID0gTC5Bd2Vzb21lTWFya2Vycy5pY29uKAogICAgICAgICAgICAgICAgeyJleHRyYUNsYXNzZXMiOiAiZmEtcm90YXRlLTAiLCAiaWNvbiI6ICJpbmZvLXNpZ24iLCAiaWNvbkNvbG9yIjogIndoaXRlIiwgIm1hcmtlckNvbG9yIjogImJsdWUiLCAicHJlZml4IjogImdseXBoaWNvbiJ9CiAgICAgICAgICAgICk7CiAgICAgICAgICAgIG1hcmtlcl8yYTM3NTAxZjMxMzk0ZDM0OTk5ZmZlZjJlOTkzYjRkMi5zZXRJY29uKGljb25fOWI0Y2RlMWU5YTZlNDRmODhlOWQwYmYxZWM1YTJlNWYpOwogICAgICAgIAogICAgCiAgICAgICAgdmFyIHBvcHVwXzNjMDBjNmMwYmMxNTRlYjU4YWJjYjgwNDEwZmZkYWZlID0gTC5wb3B1cCh7Im1heFdpZHRoIjogIjEwMCUifSk7CgogICAgICAgIAogICAgICAgICAgICB2YXIgaHRtbF9hMzAzNWIxYmM4NzI0YTFiOTcyNTQ2NjM0ZjQ2ZTQ4ZSA9ICQoYDxkaXYgaWQ9Imh0bWxfYTMwMzViMWJjODcyNGExYjk3MjU0NjYzNGY0NmU0OGUiIHN0eWxlPSJ3aWR0aDogMTAwLjAlOyBoZWlnaHQ6IDEwMC4wJTsiPjE1OTQwODU4ODU8L2Rpdj5gKVswXTsKICAgICAgICAgICAgcG9wdXBfM2MwMGM2YzBiYzE1NGViNThhYmNiODA0MTBmZmRhZmUuc2V0Q29udGVudChodG1sX2EzMDM1YjFiYzg3MjRhMWI5NzI1NDY2MzRmNDZlNDhlKTsKICAgICAgICAKCiAgICAgICAgbWFya2VyXzJhMzc1MDFmMzEzOTRkMzQ5OTlmZmVmMmU5OTNiNGQyLmJpbmRQb3B1cChwb3B1cF8zYzAwYzZjMGJjMTU0ZWI1OGFiY2I4MDQxMGZmZGFmZSkKICAgICAgICA7CgogICAgICAgIAogICAgCiAgICAKICAgICAgICAgICAgbWFya2VyXzJhMzc1MDFmMzEzOTRkMzQ5OTlmZmVmMmU5OTNiNGQyLmJpbmRUb29sdGlwKAogICAgICAgICAgICAgICAgYDxkaXY+CiAgICAgICAgICAgICAgICAgICAgIDIgcm9vbXM8YnI+ODUwMC4wIFVBSAogICAgICAgICAgICAgICAgIDwvZGl2PmAsCiAgICAgICAgICAgICAgICB7InN0aWNreSI6IHRydWV9CiAgICAgICAgICAgICk7CiAgICAgICAgCiAgICAKICAgICAgICAgICAgdmFyIG1hcmtlcl84ZDNmMWM1MmI5ZWQ0ZWU2YjkwMTk5YWMwMThmNzkxYiA9IEwubWFya2VyKAogICAgICAgICAgICAgICAgWzQ5Ljg1MjczOTE3OTcsIDI0LjAxOTI2NzE4NjUwN10sCiAgICAgICAgICAgICAgICB7fQogICAgICAgICAgICApLmFkZFRvKG1hcF9lMDcxYWEyNzM0MTM0NmZkYmFmZGU4MTdjZjA3MjY2Mik7CiAgICAgICAgCiAgICAKICAgICAgICAgICAgdmFyIGljb25fNmVkMTc4MmQ1MTEzNDJiZWI0YTdhYmVmYWFkODRiOTQgPSBMLkF3ZXNvbWVNYXJrZXJzLmljb24oCiAgICAgICAgICAgICAgICB7ImV4dHJhQ2xhc3NlcyI6ICJmYS1yb3RhdGUtMCIsICJpY29uIjogImluZm8tc2lnbiIsICJpY29uQ29sb3IiOiAid2hpdGUiLCAibWFya2VyQ29sb3IiOiAiYmx1ZSIsICJwcmVmaXgiOiAiZ2x5cGhpY29uIn0KICAgICAgICAgICAgKTsKICAgICAgICAgICAgbWFya2VyXzhkM2YxYzUyYjllZDRlZTZiOTAxOTlhYzAxOGY3OTFiLnNldEljb24oaWNvbl82ZWQxNzgyZDUxMTM0MmJlYjRhN2FiZWZhYWQ4NGI5NCk7CiAgICAgICAgCiAgICAKICAgICAgICB2YXIgcG9wdXBfZjlmMzhhYjcxNTIwNGVmNzlmY2JkYjhkNWY2MmJlM2EgPSBMLnBvcHVwKHsibWF4V2lkdGgiOiAiMTAwJSJ9KTsKCiAgICAgICAgCiAgICAgICAgICAgIHZhciBodG1sX2VhN2I1MjA0ODBmZjQ1OGI5M2I2M2YzMDYzMGU3ZDAxID0gJChgPGRpdiBpZD0iaHRtbF9lYTdiNTIwNDgwZmY0NThiOTNiNjNmMzA2MzBlN2QwMSIgc3R5bGU9IndpZHRoOiAxMDAuMCU7IGhlaWdodDogMTAwLjAlOyI+MTU5NDA4NTg3NjwvZGl2PmApWzBdOwogICAgICAgICAgICBwb3B1cF9mOWYzOGFiNzE1MjA0ZWY3OWZjYmRiOGQ1ZjYyYmUzYS5zZXRDb250ZW50KGh0bWxfZWE3YjUyMDQ4MGZmNDU4YjkzYjYzZjMwNjMwZTdkMDEpOwogICAgICAgIAoKICAgICAgICBtYXJrZXJfOGQzZjFjNTJiOWVkNGVlNmI5MDE5OWFjMDE4Zjc5MWIuYmluZFBvcHVwKHBvcHVwX2Y5ZjM4YWI3MTUyMDRlZjc5ZmNiZGI4ZDVmNjJiZTNhKQogICAgICAgIDsKCiAgICAgICAgCiAgICAKICAgIAogICAgICAgICAgICBtYXJrZXJfOGQzZjFjNTJiOWVkNGVlNmI5MDE5OWFjMDE4Zjc5MWIuYmluZFRvb2x0aXAoCiAgICAgICAgICAgICAgICBgPGRpdj4KICAgICAgICAgICAgICAgICAgICAgMiByb29tczxicj44NTAwLjAgVUFICiAgICAgICAgICAgICAgICAgPC9kaXY+YCwKICAgICAgICAgICAgICAgIHsic3RpY2t5IjogdHJ1ZX0KICAgICAgICAgICAgKTsKICAgICAgICAKICAgIAogICAgICAgICAgICB2YXIgbWFya2VyX2FjNGE0YzI1YzU5NTQ3ZjJiNTllMzYzMGIyYjNlMmE0ID0gTC5tYXJrZXIoCiAgICAgICAgICAgICAgICBbNDkuODI1MzQwNDQ4NzMxODUsIDIzLjk5MDY5ODk1MjA4NjU1XSwKICAgICAgICAgICAgICAgIHt9CiAgICAgICAgICAgICkuYWRkVG8obWFwX2UwNzFhYTI3MzQxMzQ2ZmRiYWZkZTgxN2NmMDcyNjYyKTsKICAgICAgICAKICAgIAogICAgICAgICAgICB2YXIgaWNvbl8zMjkwZDcxOTZhNmY0OGY5YTQ0MDQ5NTlhNTQwMDljNiA9IEwuQXdlc29tZU1hcmtlcnMuaWNvbigKICAgICAgICAgICAgICAgIHsiZXh0cmFDbGFzc2VzIjogImZhLXJvdGF0ZS0wIiwgImljb24iOiAiaW5mby1zaWduIiwgImljb25Db2xvciI6ICJ3aGl0ZSIsICJtYXJrZXJDb2xvciI6ICJibHVlIiwgInByZWZpeCI6ICJnbHlwaGljb24ifQogICAgICAgICAgICApOwogICAgICAgICAgICBtYXJrZXJfYWM0YTRjMjVjNTk1NDdmMmI1OWUzNjMwYjJiM2UyYTQuc2V0SWNvbihpY29uXzMyOTBkNzE5NmE2ZjQ4ZjlhNDQwNDk1OWE1NDAwOWM2KTsKICAgICAgICAKICAgIAogICAgICAgIHZhciBwb3B1cF8wMTEyODk1MDcwNWQ0MjM4OWMwZjAxY2Q3Y2I0NjYzZSA9IEwucG9wdXAoeyJtYXhXaWR0aCI6ICIxMDAlIn0pOwoKICAgICAgICAKICAgICAgICAgICAgdmFyIGh0bWxfNzQzODgxM2VjOWU5NDA2OTg1NWQ1OGJjZmM1NTk4ZGYgPSAkKGA8ZGl2IGlkPSJodG1sXzc0Mzg4MTNlYzllOTQwNjk4NTVkNThiY2ZjNTU5OGRmIiBzdHlsZT0id2lkdGg6IDEwMC4wJTsgaGVpZ2h0OiAxMDAuMCU7Ij4xNTk0MDg1ODc2PC9kaXY+YClbMF07CiAgICAgICAgICAgIHBvcHVwXzAxMTI4OTUwNzA1ZDQyMzg5YzBmMDFjZDdjYjQ2NjNlLnNldENvbnRlbnQoaHRtbF83NDM4ODEzZWM5ZTk0MDY5ODU1ZDU4YmNmYzU1OThkZik7CiAgICAgICAgCgogICAgICAgIG1hcmtlcl9hYzRhNGMyNWM1OTU0N2YyYjU5ZTM2MzBiMmIzZTJhNC5iaW5kUG9wdXAocG9wdXBfMDExMjg5NTA3MDVkNDIzODljMGYwMWNkN2NiNDY2M2UpCiAgICAgICAgOwoKICAgICAgICAKICAgIAogICAgCiAgICAgICAgICAgIG1hcmtlcl9hYzRhNGMyNWM1OTU0N2YyYjU5ZTM2MzBiMmIzZTJhNC5iaW5kVG9vbHRpcCgKICAgICAgICAgICAgICAgIGA8ZGl2PgogICAgICAgICAgICAgICAgICAgICAyIHJvb21zPGJyPjcwMDAuMCBVQUgKICAgICAgICAgICAgICAgICA8L2Rpdj5gLAogICAgICAgICAgICAgICAgeyJzdGlja3kiOiB0cnVlfQogICAgICAgICAgICApOwogICAgICAgIAogICAgCiAgICAgICAgICAgIHZhciBtYXJrZXJfMzUzMjgyYjA5MjY4NDRlZWJlOTNhZjkxNzUwNGIzYzQgPSBMLm1hcmtlcigKICAgICAgICAgICAgICAgIFs0OS44OTU1MjMzMzQ5NTcwNywgMjQuMDI4NzgzNzVdLAogICAgICAgICAgICAgICAge30KICAgICAgICAgICAgKS5hZGRUbyhtYXBfZTA3MWFhMjczNDEzNDZmZGJhZmRlODE3Y2YwNzI2NjIpOwogICAgICAgIAogICAgCiAgICAgICAgICAgIHZhciBpY29uX2I1MjA5OTFiMDdlMjRlYWFiNTdiNTAxMmZkMmMzYzA2ID0gTC5Bd2Vzb21lTWFya2Vycy5pY29uKAogICAgICAgICAgICAgICAgeyJleHRyYUNsYXNzZXMiOiAiZmEtcm90YXRlLTAiLCAiaWNvbiI6ICJpbmZvLXNpZ24iLCAiaWNvbkNvbG9yIjogIndoaXRlIiwgIm1hcmtlckNvbG9yIjogImdyZWVuIiwgInByZWZpeCI6ICJnbHlwaGljb24ifQogICAgICAgICAgICApOwogICAgICAgICAgICBtYXJrZXJfMzUzMjgyYjA5MjY4NDRlZWJlOTNhZjkxNzUwNGIzYzQuc2V0SWNvbihpY29uX2I1MjA5OTFiMDdlMjRlYWFiNTdiNTAxMmZkMmMzYzA2KTsKICAgICAgICAKICAgIAogICAgICAgIHZhciBwb3B1cF9jOTk1OGY4MjgzZGY0MDQ3ODMyNWI0NzRiNTU3MjliYSA9IEwucG9wdXAoeyJtYXhXaWR0aCI6ICIxMDAlIn0pOwoKICAgICAgICAKICAgICAgICAgICAgdmFyIGh0bWxfNzI1Nzg1Njk2ZjNmNDQzYTk4YTQ5NWNkNTVlODU5MWMgPSAkKGA8ZGl2IGlkPSJodG1sXzcyNTc4NTY5NmYzZjQ0M2E5OGE0OTVjZDU1ZTg1OTFjIiBzdHlsZT0id2lkdGg6IDEwMC4wJTsgaGVpZ2h0OiAxMDAuMCU7Ij4xNTk0MDg1ODc1PC9kaXY+YClbMF07CiAgICAgICAgICAgIHBvcHVwX2M5OTU4ZjgyODNkZjQwNDc4MzI1YjQ3NGI1NTcyOWJhLnNldENvbnRlbnQoaHRtbF83MjU3ODU2OTZmM2Y0NDNhOThhNDk1Y2Q1NWU4NTkxYyk7CiAgICAgICAgCgogICAgICAgIG1hcmtlcl8zNTMyODJiMDkyNjg0NGVlYmU5M2FmOTE3NTA0YjNjNC5iaW5kUG9wdXAocG9wdXBfYzk5NThmODI4M2RmNDA0NzgzMjViNDc0YjU1NzI5YmEpCiAgICAgICAgOwoKICAgICAgICAKICAgIAogICAgCiAgICAgICAgICAgIG1hcmtlcl8zNTMyODJiMDkyNjg0NGVlYmU5M2FmOTE3NTA0YjNjNC5iaW5kVG9vbHRpcCgKICAgICAgICAgICAgICAgIGA8ZGl2PgogICAgICAgICAgICAgICAgICAgICAxIHJvb21zPGJyPjY5MDAuMCBVQUgKICAgICAgICAgICAgICAgICA8L2Rpdj5gLAogICAgICAgICAgICAgICAgeyJzdGlja3kiOiB0cnVlfQogICAgICAgICAgICApOwogICAgICAgIAogICAgCiAgICAgICAgICAgIHZhciBtYXJrZXJfMDIyMTdmODUxMmZhNGE5YmE5ZDliNjYzY2U2Yjk4YzcgPSBMLm1hcmtlcigKICAgICAgICAgICAgICAgIFs0OS44MDE1NjQyNzc2NjY0MiwgMjQuMDU3NTc1NDM5NjcyODZdLAogICAgICAgICAgICAgICAge30KICAgICAgICAgICAgKS5hZGRUbyhtYXBfZTA3MWFhMjczNDEzNDZmZGJhZmRlODE3Y2YwNzI2NjIpOwogICAgICAgIAogICAgCiAgICAgICAgICAgIHZhciBpY29uXzY5ZGYxYjEwOWM3YTQ1NjBiZDk0NThhNDAwNmQxNTk0ID0gTC5Bd2Vzb21lTWFya2Vycy5pY29uKAogICAgICAgICAgICAgICAgeyJleHRyYUNsYXNzZXMiOiAiZmEtcm90YXRlLTAiLCAiaWNvbiI6ICJpbmZvLXNpZ24iLCAiaWNvbkNvbG9yIjogIndoaXRlIiwgIm1hcmtlckNvbG9yIjogImJsdWUiLCAicHJlZml4IjogImdseXBoaWNvbiJ9CiAgICAgICAgICAgICk7CiAgICAgICAgICAgIG1hcmtlcl8wMjIxN2Y4NTEyZmE0YTliYTlkOWI2NjNjZTZiOThjNy5zZXRJY29uKGljb25fNjlkZjFiMTA5YzdhNDU2MGJkOTQ1OGE0MDA2ZDE1OTQpOwogICAgICAgIAogICAgCiAgICAgICAgdmFyIHBvcHVwX2M1OGJmMWNlNzNmZjQ4M2NhNjU3YjAyOGQ5MzMxNDY3ID0gTC5wb3B1cCh7Im1heFdpZHRoIjogIjEwMCUifSk7CgogICAgICAgIAogICAgICAgICAgICB2YXIgaHRtbF8xYzcyY2YwZTI4OGM0Y2I3YmZhMTU0YWVhYmQyN2Y1YyA9ICQoYDxkaXYgaWQ9Imh0bWxfMWM3MmNmMGUyODhjNGNiN2JmYTE1NGFlYWJkMjdmNWMiIHN0eWxlPSJ3aWR0aDogMTAwLjAlOyBoZWlnaHQ6IDEwMC4wJTsiPjE1OTQwODU4NzU8L2Rpdj5gKVswXTsKICAgICAgICAgICAgcG9wdXBfYzU4YmYxY2U3M2ZmNDgzY2E2NTdiMDI4ZDkzMzE0Njcuc2V0Q29udGVudChodG1sXzFjNzJjZjBlMjg4YzRjYjdiZmExNTRhZWFiZDI3ZjVjKTsKICAgICAgICAKCiAgICAgICAgbWFya2VyXzAyMjE3Zjg1MTJmYTRhOWJhOWQ5YjY2M2NlNmI5OGM3LmJpbmRQb3B1cChwb3B1cF9jNThiZjFjZTczZmY0ODNjYTY1N2IwMjhkOTMzMTQ2NykKICAgICAgICA7CgogICAgICAgIAogICAgCiAgICAKICAgICAgICAgICAgbWFya2VyXzAyMjE3Zjg1MTJmYTRhOWJhOWQ5YjY2M2NlNmI5OGM3LmJpbmRUb29sdGlwKAogICAgICAgICAgICAgICAgYDxkaXY+CiAgICAgICAgICAgICAgICAgICAgIDIgcm9vbXM8YnI+ODAwMC4wIFVBSAogICAgICAgICAgICAgICAgIDwvZGl2PmAsCiAgICAgICAgICAgICAgICB7InN0aWNreSI6IHRydWV9CiAgICAgICAgICAgICk7CiAgICAgICAgCiAgICAKICAgICAgICAgICAgdmFyIG1hcmtlcl8xYzk1ZmU1N2ZhNzM0YjMwODZkMDg4ZjhmMzk2NjI3YSA9IEwubWFya2VyKAogICAgICAgICAgICAgICAgWzQ5Ljg1MDc2OTYzNzQwOCwgMjMuOTkyMjAwNzM5OTg3OTk3XSwKICAgICAgICAgICAgICAgIHt9CiAgICAgICAgICAgICkuYWRkVG8obWFwX2UwNzFhYTI3MzQxMzQ2ZmRiYWZkZTgxN2NmMDcyNjYyKTsKICAgICAgICAKICAgIAogICAgICAgICAgICB2YXIgaWNvbl9jMThmOTFiZmMwZmY0MjkwYWE2MWE2MmNiZmEyZjc2MCA9IEwuQXdlc29tZU1hcmtlcnMuaWNvbigKICAgICAgICAgICAgICAgIHsiZXh0cmFDbGFzc2VzIjogImZhLXJvdGF0ZS0wIiwgImljb24iOiAiaW5mby1zaWduIiwgImljb25Db2xvciI6ICJ3aGl0ZSIsICJtYXJrZXJDb2xvciI6ICJncmVlbiIsICJwcmVmaXgiOiAiZ2x5cGhpY29uIn0KICAgICAgICAgICAgKTsKICAgICAgICAgICAgbWFya2VyXzFjOTVmZTU3ZmE3MzRiMzA4NmQwODhmOGYzOTY2MjdhLnNldEljb24oaWNvbl9jMThmOTFiZmMwZmY0MjkwYWE2MWE2MmNiZmEyZjc2MCk7CiAgICAgICAgCiAgICAKICAgICAgICB2YXIgcG9wdXBfZmZhOGMzZjRiNTlhNDJjODhiY2Y0N2VlNTNjY2EyMWQgPSBMLnBvcHVwKHsibWF4V2lkdGgiOiAiMTAwJSJ9KTsKCiAgICAgICAgCiAgICAgICAgICAgIHZhciBodG1sXzY3YzM1NTM0ZWNiMzQ1OTI4NGEwMDBkMjliNDQxYjRiID0gJChgPGRpdiBpZD0iaHRtbF82N2MzNTUzNGVjYjM0NTkyODRhMDAwZDI5YjQ0MWI0YiIgc3R5bGU9IndpZHRoOiAxMDAuMCU7IGhlaWdodDogMTAwLjAlOyI+MTU5NDA4NTg3MzwvZGl2PmApWzBdOwogICAgICAgICAgICBwb3B1cF9mZmE4YzNmNGI1OWE0MmM4OGJjZjQ3ZWU1M2NjYTIxZC5zZXRDb250ZW50KGh0bWxfNjdjMzU1MzRlY2IzNDU5Mjg0YTAwMGQyOWI0NDFiNGIpOwogICAgICAgIAoKICAgICAgICBtYXJrZXJfMWM5NWZlNTdmYTczNGIzMDg2ZDA4OGY4ZjM5NjYyN2EuYmluZFBvcHVwKHBvcHVwX2ZmYThjM2Y0YjU5YTQyYzg4YmNmNDdlZTUzY2NhMjFkKQogICAgICAgIDsKCiAgICAgICAgCiAgICAKICAgIAogICAgICAgICAgICBtYXJrZXJfMWM5NWZlNTdmYTczNGIzMDg2ZDA4OGY4ZjM5NjYyN2EuYmluZFRvb2x0aXAoCiAgICAgICAgICAgICAgICBgPGRpdj4KICAgICAgICAgICAgICAgICAgICAgMSByb29tczxicj43MDAwLjAgVUFICiAgICAgICAgICAgICAgICAgPC9kaXY+YCwKICAgICAgICAgICAgICAgIHsic3RpY2t5IjogdHJ1ZX0KICAgICAgICAgICAgKTsKICAgICAgICAKICAgIAogICAgICAgICAgICB2YXIgbWFya2VyXzllZjYwMWVmMzExYTQ5ZDFiNGI4YzRiZDE1NmU0MTRjID0gTC5tYXJrZXIoCiAgICAgICAgICAgICAgICBbNDkuODMzOTYwMTQ4MDg1NDcsIDI0LjAxNjA5NDEwNzAzOTAzXSwKICAgICAgICAgICAgICAgIHt9CiAgICAgICAgICAgICkuYWRkVG8obWFwX2UwNzFhYTI3MzQxMzQ2ZmRiYWZkZTgxN2NmMDcyNjYyKTsKICAgICAgICAKICAgIAogICAgICAgICAgICB2YXIgaWNvbl81OThhMzE3YTEwMGQ0ZjlhOGYxYWJmNzg3OTdhYzhlYyA9IEwuQXdlc29tZU1hcmtlcnMuaWNvbigKICAgICAgICAgICAgICAgIHsiZXh0cmFDbGFzc2VzIjogImZhLXJvdGF0ZS0wIiwgImljb24iOiAiaW5mby1zaWduIiwgImljb25Db2xvciI6ICJ3aGl0ZSIsICJtYXJrZXJDb2xvciI6ICJncmVlbiIsICJwcmVmaXgiOiAiZ2x5cGhpY29uIn0KICAgICAgICAgICAgKTsKICAgICAgICAgICAgbWFya2VyXzllZjYwMWVmMzExYTQ5ZDFiNGI4YzRiZDE1NmU0MTRjLnNldEljb24oaWNvbl81OThhMzE3YTEwMGQ0ZjlhOGYxYWJmNzg3OTdhYzhlYyk7CiAgICAgICAgCiAgICAKICAgICAgICB2YXIgcG9wdXBfNWJhNGFmODA3ZWQyNDBiZWI2ZjEzMzNhNzVkNWVjYTAgPSBMLnBvcHVwKHsibWF4V2lkdGgiOiAiMTAwJSJ9KTsKCiAgICAgICAgCiAgICAgICAgICAgIHZhciBodG1sXzMyNDhjZDFmMDQ3ZTRiNzJiNDliM2VkZjk0M2EzMWQ0ID0gJChgPGRpdiBpZD0iaHRtbF8zMjQ4Y2QxZjA0N2U0YjcyYjQ5YjNlZGY5NDNhMzFkNCIgc3R5bGU9IndpZHRoOiAxMDAuMCU7IGhlaWdodDogMTAwLjAlOyI+MTU5NDA4NTg3MTwvZGl2PmApWzBdOwogICAgICAgICAgICBwb3B1cF81YmE0YWY4MDdlZDI0MGJlYjZmMTMzM2E3NWQ1ZWNhMC5zZXRDb250ZW50KGh0bWxfMzI0OGNkMWYwNDdlNGI3MmI0OWIzZWRmOTQzYTMxZDQpOwogICAgICAgIAoKICAgICAgICBtYXJrZXJfOWVmNjAxZWYzMTFhNDlkMWI0YjhjNGJkMTU2ZTQxNGMuYmluZFBvcHVwKHBvcHVwXzViYTRhZjgwN2VkMjQwYmViNmYxMzMzYTc1ZDVlY2EwKQogICAgICAgIDsKCiAgICAgICAgCiAgICAKICAgIAogICAgICAgICAgICBtYXJrZXJfOWVmNjAxZWYzMTFhNDlkMWI0YjhjNGJkMTU2ZTQxNGMuYmluZFRvb2x0aXAoCiAgICAgICAgICAgICAgICBgPGRpdj4KICAgICAgICAgICAgICAgICAgICAgMSByb29tczxicj42OTAwLjAgVUFICiAgICAgICAgICAgICAgICAgPC9kaXY+YCwKICAgICAgICAgICAgICAgIHsic3RpY2t5IjogdHJ1ZX0KICAgICAgICAgICAgKTsKICAgICAgICAKICAgIAogICAgICAgICAgICB2YXIgbWFya2VyX2ZjOTZhOTA1ZjhlYzQyZGFiYTFiNWQ1NTc0ODc3MjA5ID0gTC5tYXJrZXIoCiAgICAgICAgICAgICAgICBbNDkuODI3NTYxNDUyOTA5LCAyNC4wMTg4NzI4NzU1NzldLAogICAgICAgICAgICAgICAge30KICAgICAgICAgICAgKS5hZGRUbyhtYXBfZTA3MWFhMjczNDEzNDZmZGJhZmRlODE3Y2YwNzI2NjIpOwogICAgICAgIAogICAgCiAgICAgICAgICAgIHZhciBpY29uX2VmZDkyY2I5YzhhZjQ4Njc4NTAwMjczYWM4MjZhZGQxID0gTC5Bd2Vzb21lTWFya2Vycy5pY29uKAogICAgICAgICAgICAgICAgeyJleHRyYUNsYXNzZXMiOiAiZmEtcm90YXRlLTAiLCAiaWNvbiI6ICJpbmZvLXNpZ24iLCAiaWNvbkNvbG9yIjogIndoaXRlIiwgIm1hcmtlckNvbG9yIjogImJsdWUiLCAicHJlZml4IjogImdseXBoaWNvbiJ9CiAgICAgICAgICAgICk7CiAgICAgICAgICAgIG1hcmtlcl9mYzk2YTkwNWY4ZWM0MmRhYmExYjVkNTU3NDg3NzIwOS5zZXRJY29uKGljb25fZWZkOTJjYjljOGFmNDg2Nzg1MDAyNzNhYzgyNmFkZDEpOwogICAgICAgIAogICAgCiAgICAgICAgdmFyIHBvcHVwXzEyYTkzODMzNjU3NjQxZWJiYmUxOTQ5OGYxNDczM2Y0ID0gTC5wb3B1cCh7Im1heFdpZHRoIjogIjEwMCUifSk7CgogICAgICAgIAogICAgICAgICAgICB2YXIgaHRtbF85NjkyMDMwMzYxNjI0OTI5OGU3Y2I2ZTEyNDUwZGNjMSA9ICQoYDxkaXYgaWQ9Imh0bWxfOTY5MjAzMDM2MTYyNDkyOThlN2NiNmUxMjQ1MGRjYzEiIHN0eWxlPSJ3aWR0aDogMTAwLjAlOyBoZWlnaHQ6IDEwMC4wJTsiPjE1OTQwODU4NzA8L2Rpdj5gKVswXTsKICAgICAgICAgICAgcG9wdXBfMTJhOTM4MzM2NTc2NDFlYmJiZTE5NDk4ZjE0NzMzZjQuc2V0Q29udGVudChodG1sXzk2OTIwMzAzNjE2MjQ5Mjk4ZTdjYjZlMTI0NTBkY2MxKTsKICAgICAgICAKCiAgICAgICAgbWFya2VyX2ZjOTZhOTA1ZjhlYzQyZGFiYTFiNWQ1NTc0ODc3MjA5LmJpbmRQb3B1cChwb3B1cF8xMmE5MzgzMzY1NzY0MWViYmJlMTk0OThmMTQ3MzNmNCkKICAgICAgICA7CgogICAgICAgIAogICAgCiAgICAKICAgICAgICAgICAgbWFya2VyX2ZjOTZhOTA1ZjhlYzQyZGFiYTFiNWQ1NTc0ODc3MjA5LmJpbmRUb29sdGlwKAogICAgICAgICAgICAgICAgYDxkaXY+CiAgICAgICAgICAgICAgICAgICAgIDIgcm9vbXM8YnI+NzUwMC4wIFVBSAogICAgICAgICAgICAgICAgIDwvZGl2PmAsCiAgICAgICAgICAgICAgICB7InN0aWNreSI6IHRydWV9CiAgICAgICAgICAgICk7CiAgICAgICAgCiAgICAKICAgICAgICAgICAgdmFyIG1hcmtlcl9iODIwY2JhYjZkZDY0MzVmOWRjMmUyMWJkNmYxMWZhYyA9IEwubWFya2VyKAogICAgICAgICAgICAgICAgWzQ5LjgzMTc2NzE5ODYwMywgMjQuMDA5NzEwNDQ5NTg0XSwKICAgICAgICAgICAgICAgIHt9CiAgICAgICAgICAgICkuYWRkVG8obWFwX2UwNzFhYTI3MzQxMzQ2ZmRiYWZkZTgxN2NmMDcyNjYyKTsKICAgICAgICAKICAgIAogICAgICAgICAgICB2YXIgaWNvbl85ZTNkYjAzMzUzY2Y0M2NlYjEyZTc4NDk0MTI1NmRiYSA9IEwuQXdlc29tZU1hcmtlcnMuaWNvbigKICAgICAgICAgICAgICAgIHsiZXh0cmFDbGFzc2VzIjogImZhLXJvdGF0ZS0wIiwgImljb24iOiAiaW5mby1zaWduIiwgImljb25Db2xvciI6ICJ3aGl0ZSIsICJtYXJrZXJDb2xvciI6ICJ5ZWxsb3ciLCAicHJlZml4IjogImdseXBoaWNvbiJ9CiAgICAgICAgICAgICk7CiAgICAgICAgICAgIG1hcmtlcl9iODIwY2JhYjZkZDY0MzVmOWRjMmUyMWJkNmYxMWZhYy5zZXRJY29uKGljb25fOWUzZGIwMzM1M2NmNDNjZWIxMmU3ODQ5NDEyNTZkYmEpOwogICAgICAgIAogICAgCiAgICAgICAgdmFyIHBvcHVwX2Q0ZjUwZDNhMDg5YjQ0ZGNiNjkzNDlkY2U3MmM0N2JmID0gTC5wb3B1cCh7Im1heFdpZHRoIjogIjEwMCUifSk7CgogICAgICAgIAogICAgICAgICAgICB2YXIgaHRtbF83ZmQ4ZWRmZjBkZTU0MGI3OTdjNDFjZmQ5MDhiYzRkNCA9ICQoYDxkaXYgaWQ9Imh0bWxfN2ZkOGVkZmYwZGU1NDBiNzk3YzQxY2ZkOTA4YmM0ZDQiIHN0eWxlPSJ3aWR0aDogMTAwLjAlOyBoZWlnaHQ6IDEwMC4wJTsiPjE1OTQwODU4Njk8L2Rpdj5gKVswXTsKICAgICAgICAgICAgcG9wdXBfZDRmNTBkM2EwODliNDRkY2I2OTM0OWRjZTcyYzQ3YmYuc2V0Q29udGVudChodG1sXzdmZDhlZGZmMGRlNTQwYjc5N2M0MWNmZDkwOGJjNGQ0KTsKICAgICAgICAKCiAgICAgICAgbWFya2VyX2I4MjBjYmFiNmRkNjQzNWY5ZGMyZTIxYmQ2ZjExZmFjLmJpbmRQb3B1cChwb3B1cF9kNGY1MGQzYTA4OWI0NGRjYjY5MzQ5ZGNlNzJjNDdiZikKICAgICAgICA7CgogICAgICAgIAogICAgCiAgICAKICAgICAgICAgICAgbWFya2VyX2I4MjBjYmFiNmRkNjQzNWY5ZGMyZTIxYmQ2ZjExZmFjLmJpbmRUb29sdGlwKAogICAgICAgICAgICAgICAgYDxkaXY+CiAgICAgICAgICAgICAgICAgICAgIDMgcm9vbXM8YnI+OTAwMC4wIFVBSAogICAgICAgICAgICAgICAgIDwvZGl2PmAsCiAgICAgICAgICAgICAgICB7InN0aWNreSI6IHRydWV9CiAgICAgICAgICAgICk7CiAgICAgICAgCiAgICAKICAgICAgICAgICAgdmFyIG1hcmtlcl9lNTgzZTQyOTk2NDg0NjJjYWM4ZWNjMjI0OTIwODAwYyA9IEwubWFya2VyKAogICAgICAgICAgICAgICAgWzQ5LjgyOTAxNTM2NDc0MzMyLCAyNC4wNDQ5NjExMTM2MTM5NDddLAogICAgICAgICAgICAgICAge30KICAgICAgICAgICAgKS5hZGRUbyhtYXBfZTA3MWFhMjczNDEzNDZmZGJhZmRlODE3Y2YwNzI2NjIpOwogICAgICAgIAogICAgCiAgICAgICAgICAgIHZhciBpY29uXzJhM2M1OGNhYzgyMTQ5MmViOGY1MjY5MDFjOGZmNzZkID0gTC5Bd2Vzb21lTWFya2Vycy5pY29uKAogICAgICAgICAgICAgICAgeyJleHRyYUNsYXNzZXMiOiAiZmEtcm90YXRlLTAiLCAiaWNvbiI6ICJpbmZvLXNpZ24iLCAiaWNvbkNvbG9yIjogIndoaXRlIiwgIm1hcmtlckNvbG9yIjogImdyZWVuIiwgInByZWZpeCI6ICJnbHlwaGljb24ifQogICAgICAgICAgICApOwogICAgICAgICAgICBtYXJrZXJfZTU4M2U0Mjk5NjQ4NDYyY2FjOGVjYzIyNDkyMDgwMGMuc2V0SWNvbihpY29uXzJhM2M1OGNhYzgyMTQ5MmViOGY1MjY5MDFjOGZmNzZkKTsKICAgICAgICAKICAgIAogICAgICAgIHZhciBwb3B1cF8zYjY2MGUyZWEyODI0YTgzYjUwNTM0OTgzMjI3ZjEwOSA9IEwucG9wdXAoeyJtYXhXaWR0aCI6ICIxMDAlIn0pOwoKICAgICAgICAKICAgICAgICAgICAgdmFyIGh0bWxfM2VmMjA1MDVjZDU2NDgzZjlhMTgxZjRiNjZhMDMzZDUgPSAkKGA8ZGl2IGlkPSJodG1sXzNlZjIwNTA1Y2Q1NjQ4M2Y5YTE4MWY0YjY2YTAzM2Q1IiBzdHlsZT0id2lkdGg6IDEwMC4wJTsgaGVpZ2h0OiAxMDAuMCU7Ij4xNTk0MDg1ODY0PC9kaXY+YClbMF07CiAgICAgICAgICAgIHBvcHVwXzNiNjYwZTJlYTI4MjRhODNiNTA1MzQ5ODMyMjdmMTA5LnNldENvbnRlbnQoaHRtbF8zZWYyMDUwNWNkNTY0ODNmOWExODFmNGI2NmEwMzNkNSk7CiAgICAgICAgCgogICAgICAgIG1hcmtlcl9lNTgzZTQyOTk2NDg0NjJjYWM4ZWNjMjI0OTIwODAwYy5iaW5kUG9wdXAocG9wdXBfM2I2NjBlMmVhMjgyNGE4M2I1MDUzNDk4MzIyN2YxMDkpCiAgICAgICAgOwoKICAgICAgICAKICAgIAogICAgCiAgICAgICAgICAgIG1hcmtlcl9lNTgzZTQyOTk2NDg0NjJjYWM4ZWNjMjI0OTIwODAwYy5iaW5kVG9vbHRpcCgKICAgICAgICAgICAgICAgIGA8ZGl2PgogICAgICAgICAgICAgICAgICAgICAxIHJvb21zPGJyPjcyMDAuMCBVQUgKICAgICAgICAgICAgICAgICA8L2Rpdj5gLAogICAgICAgICAgICAgICAgeyJzdGlja3kiOiB0cnVlfQogICAgICAgICAgICApOwogICAgICAgIAogICAgCiAgICAgICAgICAgIHZhciBtYXJrZXJfMmM5NWQ4YThhMmM0NDhjNGFlZmI4YWI1YTkxOTdmZTUgPSBMLm1hcmtlcigKICAgICAgICAgICAgICAgIFs0OS44NjMyNTQ4NDczMjIyNSwgMjMuOTYzMjc1Nzk3OTY5NzA0XSwKICAgICAgICAgICAgICAgIHt9CiAgICAgICAgICAgICkuYWRkVG8obWFwX2UwNzFhYTI3MzQxMzQ2ZmRiYWZkZTgxN2NmMDcyNjYyKTsKICAgICAgICAKICAgIAogICAgICAgICAgICB2YXIgaWNvbl9hNDc2ZGU4NzZiYWI0MWM2OTI1ZGYwZmQ1NWVlMjAxMiA9IEwuQXdlc29tZU1hcmtlcnMuaWNvbigKICAgICAgICAgICAgICAgIHsiZXh0cmFDbGFzc2VzIjogImZhLXJvdGF0ZS0wIiwgImljb24iOiAiaW5mby1zaWduIiwgImljb25Db2xvciI6ICJ3aGl0ZSIsICJtYXJrZXJDb2xvciI6ICJibHVlIiwgInByZWZpeCI6ICJnbHlwaGljb24ifQogICAgICAgICAgICApOwogICAgICAgICAgICBtYXJrZXJfMmM5NWQ4YThhMmM0NDhjNGFlZmI4YWI1YTkxOTdmZTUuc2V0SWNvbihpY29uX2E0NzZkZTg3NmJhYjQxYzY5MjVkZjBmZDU1ZWUyMDEyKTsKICAgICAgICAKICAgIAogICAgICAgIHZhciBwb3B1cF8wYTZkNDdkNjc4Njc0YTc2ODcwMTgzMmYwYjNlNTZjMSA9IEwucG9wdXAoeyJtYXhXaWR0aCI6ICIxMDAlIn0pOwoKICAgICAgICAKICAgICAgICAgICAgdmFyIGh0bWxfYmNmNGE3MDQ5NzQwNDIwN2FlYjgxYWI0M2VjOTg4YjggPSAkKGA8ZGl2IGlkPSJodG1sX2JjZjRhNzA0OTc0MDQyMDdhZWI4MWFiNDNlYzk4OGI4IiBzdHlsZT0id2lkdGg6IDEwMC4wJTsgaGVpZ2h0OiAxMDAuMCU7Ij4xNTk0MDg1NTIwPC9kaXY+YClbMF07CiAgICAgICAgICAgIHBvcHVwXzBhNmQ0N2Q2Nzg2NzRhNzY4NzAxODMyZjBiM2U1NmMxLnNldENvbnRlbnQoaHRtbF9iY2Y0YTcwNDk3NDA0MjA3YWViODFhYjQzZWM5ODhiOCk7CiAgICAgICAgCgogICAgICAgIG1hcmtlcl8yYzk1ZDhhOGEyYzQ0OGM0YWVmYjhhYjVhOTE5N2ZlNS5iaW5kUG9wdXAocG9wdXBfMGE2ZDQ3ZDY3ODY3NGE3Njg3MDE4MzJmMGIzZTU2YzEpCiAgICAgICAgOwoKICAgICAgICAKICAgIAogICAgCiAgICAgICAgICAgIG1hcmtlcl8yYzk1ZDhhOGEyYzQ0OGM0YWVmYjhhYjVhOTE5N2ZlNS5iaW5kVG9vbHRpcCgKICAgICAgICAgICAgICAgIGA8ZGl2PgogICAgICAgICAgICAgICAgICAgICAyIHJvb21zPGJyPjcwMDAuMCBVQUgKICAgICAgICAgICAgICAgICA8L2Rpdj5gLAogICAgICAgICAgICAgICAgeyJzdGlja3kiOiB0cnVlfQogICAgICAgICAgICApOwogICAgICAgIAogICAgCiAgICAgICAgICAgIHZhciBtYXJrZXJfNWVkZDhkNGRkYTUzNDdlYWJmNWRkY2RmM2NjZTE2N2UgPSBMLm1hcmtlcigKICAgICAgICAgICAgICAgIFs0OS44MzY3MTgxMjYzMTkyOCwgMjQuMDAyMjA5NjYxNjE4MTZdLAogICAgICAgICAgICAgICAge30KICAgICAgICAgICAgKS5hZGRUbyhtYXBfZTA3MWFhMjczNDEzNDZmZGJhZmRlODE3Y2YwNzI2NjIpOwogICAgICAgIAogICAgCiAgICAgICAgICAgIHZhciBpY29uX2ExOTRjOGViM2I3YzQ3OTFiMmZjZTliMDFlYzhlYWNiID0gTC5Bd2Vzb21lTWFya2Vycy5pY29uKAogICAgICAgICAgICAgICAgeyJleHRyYUNsYXNzZXMiOiAiZmEtcm90YXRlLTAiLCAiaWNvbiI6ICJpbmZvLXNpZ24iLCAiaWNvbkNvbG9yIjogIndoaXRlIiwgIm1hcmtlckNvbG9yIjogImJsdWUiLCAicHJlZml4IjogImdseXBoaWNvbiJ9CiAgICAgICAgICAgICk7CiAgICAgICAgICAgIG1hcmtlcl81ZWRkOGQ0ZGRhNTM0N2VhYmY1ZGRjZGYzY2NlMTY3ZS5zZXRJY29uKGljb25fYTE5NGM4ZWIzYjdjNDc5MWIyZmNlOWIwMWVjOGVhY2IpOwogICAgICAgIAogICAgCiAgICAgICAgdmFyIHBvcHVwXzA5MzU2ZGY5YmUxNjQ4ODg4MmM1MDI3NDYzMTY4OWE4ID0gTC5wb3B1cCh7Im1heFdpZHRoIjogIjEwMCUifSk7CgogICAgICAgIAogICAgICAgICAgICB2YXIgaHRtbF83NTgyZWVlZTdhNzc0Y2ZjODZjNWJkZTg3NGMyZGMwMiA9ICQoYDxkaXYgaWQ9Imh0bWxfNzU4MmVlZWU3YTc3NGNmYzg2YzViZGU4NzRjMmRjMDIiIHN0eWxlPSJ3aWR0aDogMTAwLjAlOyBoZWlnaHQ6IDEwMC4wJTsiPjE1OTQwODU1MTY8L2Rpdj5gKVswXTsKICAgICAgICAgICAgcG9wdXBfMDkzNTZkZjliZTE2NDg4ODgyYzUwMjc0NjMxNjg5YTguc2V0Q29udGVudChodG1sXzc1ODJlZWVlN2E3NzRjZmM4NmM1YmRlODc0YzJkYzAyKTsKICAgICAgICAKCiAgICAgICAgbWFya2VyXzVlZGQ4ZDRkZGE1MzQ3ZWFiZjVkZGNkZjNjY2UxNjdlLmJpbmRQb3B1cChwb3B1cF8wOTM1NmRmOWJlMTY0ODg4ODJjNTAyNzQ2MzE2ODlhOCkKICAgICAgICA7CgogICAgICAgIAogICAgCiAgICAKICAgICAgICAgICAgbWFya2VyXzVlZGQ4ZDRkZGE1MzQ3ZWFiZjVkZGNkZjNjY2UxNjdlLmJpbmRUb29sdGlwKAogICAgICAgICAgICAgICAgYDxkaXY+CiAgICAgICAgICAgICAgICAgICAgIDIgcm9vbXM8YnI+NzcwMC4wIFVBSAogICAgICAgICAgICAgICAgIDwvZGl2PmAsCiAgICAgICAgICAgICAgICB7InN0aWNreSI6IHRydWV9CiAgICAgICAgICAgICk7CiAgICAgICAgCiAgICAKICAgICAgICAgICAgdmFyIG1hcmtlcl8yNzllOTdiN2UxMDI0YTA2YmJmMzM2ODVhMTdlNWY4NSA9IEwubWFya2VyKAogICAgICAgICAgICAgICAgWzQ5LjgwMTQ5MzYxMzA1ODAxLCAyNC4wMTc4MzcyMTk1NzM5OThdLAogICAgICAgICAgICAgICAge30KICAgICAgICAgICAgKS5hZGRUbyhtYXBfZTA3MWFhMjczNDEzNDZmZGJhZmRlODE3Y2YwNzI2NjIpOwogICAgICAgIAogICAgCiAgICAgICAgICAgIHZhciBpY29uXzU3M2Y1OGQ4Mjc2OTRmNzBhMTVjM2JkMmNmNDdhODAzID0gTC5Bd2Vzb21lTWFya2Vycy5pY29uKAogICAgICAgICAgICAgICAgeyJleHRyYUNsYXNzZXMiOiAiZmEtcm90YXRlLTAiLCAiaWNvbiI6ICJpbmZvLXNpZ24iLCAiaWNvbkNvbG9yIjogIndoaXRlIiwgIm1hcmtlckNvbG9yIjogImJsdWUiLCAicHJlZml4IjogImdseXBoaWNvbiJ9CiAgICAgICAgICAgICk7CiAgICAgICAgICAgIG1hcmtlcl8yNzllOTdiN2UxMDI0YTA2YmJmMzM2ODVhMTdlNWY4NS5zZXRJY29uKGljb25fNTczZjU4ZDgyNzY5NGY3MGExNWMzYmQyY2Y0N2E4MDMpOwogICAgICAgIAogICAgCiAgICAgICAgdmFyIHBvcHVwX2E4NTQ1YmRkOTJjZTRjYWE5OGVmN2UzNDljMmMzZTA0ID0gTC5wb3B1cCh7Im1heFdpZHRoIjogIjEwMCUifSk7CgogICAgICAgIAogICAgICAgICAgICB2YXIgaHRtbF9lNjI3Zjc5NmM3NjE0Y2UwOTBiZDRhZmU5MzBjZjQ1YyA9ICQoYDxkaXYgaWQ9Imh0bWxfZTYyN2Y3OTZjNzYxNGNlMDkwYmQ0YWZlOTMwY2Y0NWMiIHN0eWxlPSJ3aWR0aDogMTAwLjAlOyBoZWlnaHQ6IDEwMC4wJTsiPjE1OTQwODU1MTQ8L2Rpdj5gKVswXTsKICAgICAgICAgICAgcG9wdXBfYTg1NDViZGQ5MmNlNGNhYTk4ZWY3ZTM0OWMyYzNlMDQuc2V0Q29udGVudChodG1sX2U2MjdmNzk2Yzc2MTRjZTA5MGJkNGFmZTkzMGNmNDVjKTsKICAgICAgICAKCiAgICAgICAgbWFya2VyXzI3OWU5N2I3ZTEwMjRhMDZiYmYzMzY4NWExN2U1Zjg1LmJpbmRQb3B1cChwb3B1cF9hODU0NWJkZDkyY2U0Y2FhOThlZjdlMzQ5YzJjM2UwNCkKICAgICAgICA7CgogICAgICAgIAogICAgCiAgICAKICAgICAgICAgICAgbWFya2VyXzI3OWU5N2I3ZTEwMjRhMDZiYmYzMzY4NWExN2U1Zjg1LmJpbmRUb29sdGlwKAogICAgICAgICAgICAgICAgYDxkaXY+CiAgICAgICAgICAgICAgICAgICAgIDIgcm9vbXM8YnI+NzMwMC4wIFVBSAogICAgICAgICAgICAgICAgIDwvZGl2PmAsCiAgICAgICAgICAgICAgICB7InN0aWNreSI6IHRydWV9CiAgICAgICAgICAgICk7CiAgICAgICAgCiAgICAKICAgICAgICAgICAgdmFyIG1hcmtlcl8xNTc1Njg0ZDRmNDk0ZmIwYWU5Y2Y0YmFiNjAzNTc4YiA9IEwubWFya2VyKAogICAgICAgICAgICAgICAgWzQ5Ljc5NDU5OTIsIDI0LjA2MjQ1MzhdLAogICAgICAgICAgICAgICAge30KICAgICAgICAgICAgKS5hZGRUbyhtYXBfZTA3MWFhMjczNDEzNDZmZGJhZmRlODE3Y2YwNzI2NjIpOwogICAgICAgIAogICAgCiAgICAgICAgICAgIHZhciBpY29uXzFlYjZmMzA1NzUzYTQ1MDk5NmI5NGY0MGZlNDA1Mzg0ID0gTC5Bd2Vzb21lTWFya2Vycy5pY29uKAogICAgICAgICAgICAgICAgeyJleHRyYUNsYXNzZXMiOiAiZmEtcm90YXRlLTAiLCAiaWNvbiI6ICJpbmZvLXNpZ24iLCAiaWNvbkNvbG9yIjogIndoaXRlIiwgIm1hcmtlckNvbG9yIjogImJsdWUiLCAicHJlZml4IjogImdseXBoaWNvbiJ9CiAgICAgICAgICAgICk7CiAgICAgICAgICAgIG1hcmtlcl8xNTc1Njg0ZDRmNDk0ZmIwYWU5Y2Y0YmFiNjAzNTc4Yi5zZXRJY29uKGljb25fMWViNmYzMDU3NTNhNDUwOTk2Yjk0ZjQwZmU0MDUzODQpOwogICAgICAgIAogICAgCiAgICAgICAgdmFyIHBvcHVwX2RlOTFlY2Y3NWIzMTQ5ZTI5ZTYyMGYwNzFiNGFiOTAyID0gTC5wb3B1cCh7Im1heFdpZHRoIjogIjEwMCUifSk7CgogICAgICAgIAogICAgICAgICAgICB2YXIgaHRtbF85OTgwYzEwNzIyYjk0M2NhYWMyZmMxYzUzMmM0ZGZkOSA9ICQoYDxkaXYgaWQ9Imh0bWxfOTk4MGMxMDcyMmI5NDNjYWFjMmZjMWM1MzJjNGRmZDkiIHN0eWxlPSJ3aWR0aDogMTAwLjAlOyBoZWlnaHQ6IDEwMC4wJTsiPjE1OTQwNTY3MDg8L2Rpdj5gKVswXTsKICAgICAgICAgICAgcG9wdXBfZGU5MWVjZjc1YjMxNDllMjllNjIwZjA3MWI0YWI5MDIuc2V0Q29udGVudChodG1sXzk5ODBjMTA3MjJiOTQzY2FhYzJmYzFjNTMyYzRkZmQ5KTsKICAgICAgICAKCiAgICAgICAgbWFya2VyXzE1NzU2ODRkNGY0OTRmYjBhZTljZjRiYWI2MDM1NzhiLmJpbmRQb3B1cChwb3B1cF9kZTkxZWNmNzViMzE0OWUyOWU2MjBmMDcxYjRhYjkwMikKICAgICAgICA7CgogICAgICAgIAogICAgCiAgICAKICAgICAgICAgICAgbWFya2VyXzE1NzU2ODRkNGY0OTRmYjBhZTljZjRiYWI2MDM1NzhiLmJpbmRUb29sdGlwKAogICAgICAgICAgICAgICAgYDxkaXY+CiAgICAgICAgICAgICAgICAgICAgIDIgcm9vbXM8YnI+ODUwMC4wIFVBSAogICAgICAgICAgICAgICAgIDwvZGl2PmAsCiAgICAgICAgICAgICAgICB7InN0aWNreSI6IHRydWV9CiAgICAgICAgICAgICk7CiAgICAgICAgCiAgICAKICAgICAgICAgICAgdmFyIG1hcmtlcl81N2U0MzczZjMwYmE0OGU2YWI0NWU0M2Y1NDQ3ODliOSA9IEwubWFya2VyKAogICAgICAgICAgICAgICAgWzQ5LjgzOTcyMjUsIDI0LjAyODIxOTUwMDAwMDAwMl0sCiAgICAgICAgICAgICAgICB7fQogICAgICAgICAgICApLmFkZFRvKG1hcF9lMDcxYWEyNzM0MTM0NmZkYmFmZGU4MTdjZjA3MjY2Mik7CiAgICAgICAgCiAgICAKICAgICAgICAgICAgdmFyIGljb25fMTkxYWZjYjgxMGNjNDQzMDllYWExYjc2ZDhjODMzZjAgPSBMLkF3ZXNvbWVNYXJrZXJzLmljb24oCiAgICAgICAgICAgICAgICB7ImV4dHJhQ2xhc3NlcyI6ICJmYS1yb3RhdGUtMCIsICJpY29uIjogImluZm8tc2lnbiIsICJpY29uQ29sb3IiOiAid2hpdGUiLCAibWFya2VyQ29sb3IiOiAieWVsbG93IiwgInByZWZpeCI6ICJnbHlwaGljb24ifQogICAgICAgICAgICApOwogICAgICAgICAgICBtYXJrZXJfNTdlNDM3M2YzMGJhNDhlNmFiNDVlNDNmNTQ0Nzg5Yjkuc2V0SWNvbihpY29uXzE5MWFmY2I4MTBjYzQ0MzA5ZWFhMWI3NmQ4YzgzM2YwKTsKICAgICAgICAKICAgIAogICAgICAgIHZhciBwb3B1cF84NTdlMGFmZGZmZDQ0Y2RkODg0OWEzYjc5M2VhMjdjZiA9IEwucG9wdXAoeyJtYXhXaWR0aCI6ICIxMDAlIn0pOwoKICAgICAgICAKICAgICAgICAgICAgdmFyIGh0bWxfOTgxZDM4YTkyMDM4NDBhZTgzMjY0NDM3N2IzMTZmMmEgPSAkKGA8ZGl2IGlkPSJodG1sXzk4MWQzOGE5MjAzODQwYWU4MzI2NDQzNzdiMzE2ZjJhIiBzdHlsZT0id2lkdGg6IDEwMC4wJTsgaGVpZ2h0OiAxMDAuMCU7Ij4xNTk0MDUzNDcyPC9kaXY+YClbMF07CiAgICAgICAgICAgIHBvcHVwXzg1N2UwYWZkZmZkNDRjZGQ4ODQ5YTNiNzkzZWEyN2NmLnNldENvbnRlbnQoaHRtbF85ODFkMzhhOTIwMzg0MGFlODMyNjQ0Mzc3YjMxNmYyYSk7CiAgICAgICAgCgogICAgICAgIG1hcmtlcl81N2U0MzczZjMwYmE0OGU2YWI0NWU0M2Y1NDQ3ODliOS5iaW5kUG9wdXAocG9wdXBfODU3ZTBhZmRmZmQ0NGNkZDg4NDlhM2I3OTNlYTI3Y2YpCiAgICAgICAgOwoKICAgICAgICAKICAgIAogICAgCiAgICAgICAgICAgIG1hcmtlcl81N2U0MzczZjMwYmE0OGU2YWI0NWU0M2Y1NDQ3ODliOS5iaW5kVG9vbHRpcCgKICAgICAgICAgICAgICAgIGA8ZGl2PgogICAgICAgICAgICAgICAgICAgICAzIHJvb21zPGJyPjEwMDAwLjAgVUFICiAgICAgICAgICAgICAgICAgPC9kaXY+YCwKICAgICAgICAgICAgICAgIHsic3RpY2t5IjogdHJ1ZX0KICAgICAgICAgICAgKTsKICAgICAgICAKICAgIAogICAgICAgICAgICB2YXIgbWFya2VyXzM2MmJhMzA4MmQyNDQ5MjlhODIyNWYxODc3NWRjODRkID0gTC5tYXJrZXIoCiAgICAgICAgICAgICAgICBbNDkuODQ2NzA1MTQ4MjIsIDI0LjAyMDI1OTUyNjk4NF0sCiAgICAgICAgICAgICAgICB7fQogICAgICAgICAgICApLmFkZFRvKG1hcF9lMDcxYWEyNzM0MTM0NmZkYmFmZGU4MTdjZjA3MjY2Mik7CiAgICAgICAgCiAgICAKICAgICAgICAgICAgdmFyIGljb25fZWM1M2QyZDU2ZDg2NGM4Y2I1MjNiNmM0Njk3NDFmYjAgPSBMLkF3ZXNvbWVNYXJrZXJzLmljb24oCiAgICAgICAgICAgICAgICB7ImV4dHJhQ2xhc3NlcyI6ICJmYS1yb3RhdGUtMCIsICJpY29uIjogImluZm8tc2lnbiIsICJpY29uQ29sb3IiOiAid2hpdGUiLCAibWFya2VyQ29sb3IiOiAiZ3JlZW4iLCAicHJlZml4IjogImdseXBoaWNvbiJ9CiAgICAgICAgICAgICk7CiAgICAgICAgICAgIG1hcmtlcl8zNjJiYTMwODJkMjQ0OTI5YTgyMjVmMTg3NzVkYzg0ZC5zZXRJY29uKGljb25fZWM1M2QyZDU2ZDg2NGM4Y2I1MjNiNmM0Njk3NDFmYjApOwogICAgICAgIAogICAgCiAgICAgICAgdmFyIHBvcHVwXzA3NjFkNDllN2M3ZDRmZmY5Mjg2NjQwNWYyZDQwMzk5ID0gTC5wb3B1cCh7Im1heFdpZHRoIjogIjEwMCUifSk7CgogICAgICAgIAogICAgICAgICAgICB2YXIgaHRtbF8wNTI1N2EyNjRkMmU0OWFjOTEwZmEyNTdiYWIxMWJkMyA9ICQoYDxkaXYgaWQ9Imh0bWxfMDUyNTdhMjY0ZDJlNDlhYzkxMGZhMjU3YmFiMTFiZDMiIHN0eWxlPSJ3aWR0aDogMTAwLjAlOyBoZWlnaHQ6IDEwMC4wJTsiPjE1OTQwMjQ5MzU8L2Rpdj5gKVswXTsKICAgICAgICAgICAgcG9wdXBfMDc2MWQ0OWU3YzdkNGZmZjkyODY2NDA1ZjJkNDAzOTkuc2V0Q29udGVudChodG1sXzA1MjU3YTI2NGQyZTQ5YWM5MTBmYTI1N2JhYjExYmQzKTsKICAgICAgICAKCiAgICAgICAgbWFya2VyXzM2MmJhMzA4MmQyNDQ5MjlhODIyNWYxODc3NWRjODRkLmJpbmRQb3B1cChwb3B1cF8wNzYxZDQ5ZTdjN2Q0ZmZmOTI4NjY0MDVmMmQ0MDM5OSkKICAgICAgICA7CgogICAgICAgIAogICAgCiAgICAKICAgICAgICAgICAgbWFya2VyXzM2MmJhMzA4MmQyNDQ5MjlhODIyNWYxODc3NWRjODRkLmJpbmRUb29sdGlwKAogICAgICAgICAgICAgICAgYDxkaXY+CiAgICAgICAgICAgICAgICAgICAgIDEgcm9vbXM8YnI+NzUwMC4wIFVBSAogICAgICAgICAgICAgICAgIDwvZGl2PmAsCiAgICAgICAgICAgICAgICB7InN0aWNreSI6IHRydWV9CiAgICAgICAgICAgICk7CiAgICAgICAgCiAgICAKICAgICAgICAgICAgdmFyIG1hcmtlcl8xNTdmNTdmZDlhODU0ZWU1OGE4MjgxMzhiMjc5OTM2MCA9IEwubWFya2VyKAogICAgICAgICAgICAgICAgWzQ5Ljg2Njk4Mjc5OTk5OTk5NSwgMjQuMDQxNTMyM10sCiAgICAgICAgICAgICAgICB7fQogICAgICAgICAgICApLmFkZFRvKG1hcF9lMDcxYWEyNzM0MTM0NmZkYmFmZGU4MTdjZjA3MjY2Mik7CiAgICAgICAgCiAgICAKICAgICAgICAgICAgdmFyIGljb25fMzExMGFiOTAxNGMyNDIwYmE4ZTdjMzVhMDBiYTVjMGQgPSBMLkF3ZXNvbWVNYXJrZXJzLmljb24oCiAgICAgICAgICAgICAgICB7ImV4dHJhQ2xhc3NlcyI6ICJmYS1yb3RhdGUtMCIsICJpY29uIjogImluZm8tc2lnbiIsICJpY29uQ29sb3IiOiAid2hpdGUiLCAibWFya2VyQ29sb3IiOiAiYmx1ZSIsICJwcmVmaXgiOiAiZ2x5cGhpY29uIn0KICAgICAgICAgICAgKTsKICAgICAgICAgICAgbWFya2VyXzE1N2Y1N2ZkOWE4NTRlZTU4YTgyODEzOGIyNzk5MzYwLnNldEljb24oaWNvbl8zMTEwYWI5MDE0YzI0MjBiYThlN2MzNWEwMGJhNWMwZCk7CiAgICAgICAgCiAgICAKICAgICAgICB2YXIgcG9wdXBfODBjNWRmNWZmMjUxNDg2ZTkxM2Y4NjUzNzFhMjc4MTAgPSBMLnBvcHVwKHsibWF4V2lkdGgiOiAiMTAwJSJ9KTsKCiAgICAgICAgCiAgICAgICAgICAgIHZhciBodG1sX2U1MWUyZDM3M2FkZTQ0M2JhZTMxMTk4MTZmOWZjYmYyID0gJChgPGRpdiBpZD0iaHRtbF9lNTFlMmQzNzNhZGU0NDNiYWUzMTE5ODE2ZjlmY2JmMiIgc3R5bGU9IndpZHRoOiAxMDAuMCU7IGhlaWdodDogMTAwLjAlOyI+MTU5NDAyMjUxMDwvZGl2PmApWzBdOwogICAgICAgICAgICBwb3B1cF84MGM1ZGY1ZmYyNTE0ODZlOTEzZjg2NTM3MWEyNzgxMC5zZXRDb250ZW50KGh0bWxfZTUxZTJkMzczYWRlNDQzYmFlMzExOTgxNmY5ZmNiZjIpOwogICAgICAgIAoKICAgICAgICBtYXJrZXJfMTU3ZjU3ZmQ5YTg1NGVlNThhODI4MTM4YjI3OTkzNjAuYmluZFBvcHVwKHBvcHVwXzgwYzVkZjVmZjI1MTQ4NmU5MTNmODY1MzcxYTI3ODEwKQogICAgICAgIDsKCiAgICAgICAgCiAgICAKICAgIAogICAgICAgICAgICBtYXJrZXJfMTU3ZjU3ZmQ5YTg1NGVlNThhODI4MTM4YjI3OTkzNjAuYmluZFRvb2x0aXAoCiAgICAgICAgICAgICAgICBgPGRpdj4KICAgICAgICAgICAgICAgICAgICAgMiByb29tczxicj41OTk5LjAgVUFICiAgICAgICAgICAgICAgICAgPC9kaXY+YCwKICAgICAgICAgICAgICAgIHsic3RpY2t5IjogdHJ1ZX0KICAgICAgICAgICAgKTsKICAgICAgICAKICAgIAogICAgICAgICAgICB2YXIgbWFya2VyX2VmMTBjOTcwYTI2MTQyMzg4ZmU3NjY0NTdhMTFmMzM2ID0gTC5tYXJrZXIoCiAgICAgICAgICAgICAgICBbNDkuODQzNDI5NiwgMjQuMDI1NzczM10sCiAgICAgICAgICAgICAgICB7fQogICAgICAgICAgICApLmFkZFRvKG1hcF9lMDcxYWEyNzM0MTM0NmZkYmFmZGU4MTdjZjA3MjY2Mik7CiAgICAgICAgCiAgICAKICAgICAgICAgICAgdmFyIGljb25fNjFkOWMwMzM1NDE1NDNjNTk0NTUzZjg2NWFjOTYwNzIgPSBMLkF3ZXNvbWVNYXJrZXJzLmljb24oCiAgICAgICAgICAgICAgICB7ImV4dHJhQ2xhc3NlcyI6ICJmYS1yb3RhdGUtMCIsICJpY29uIjogImluZm8tc2lnbiIsICJpY29uQ29sb3IiOiAid2hpdGUiLCAibWFya2VyQ29sb3IiOiAiZ3JlZW4iLCAicHJlZml4IjogImdseXBoaWNvbiJ9CiAgICAgICAgICAgICk7CiAgICAgICAgICAgIG1hcmtlcl9lZjEwYzk3MGEyNjE0MjM4OGZlNzY2NDU3YTExZjMzNi5zZXRJY29uKGljb25fNjFkOWMwMzM1NDE1NDNjNTk0NTUzZjg2NWFjOTYwNzIpOwogICAgICAgIAogICAgCiAgICAgICAgdmFyIHBvcHVwXzUwZDYzNGI2ZDFhZTQ0YWY5M2E3ZmY1NWJiMjYzNDMxID0gTC5wb3B1cCh7Im1heFdpZHRoIjogIjEwMCUifSk7CgogICAgICAgIAogICAgICAgICAgICB2YXIgaHRtbF9jOWJjMWZhNzlkNzc0Mjc3ODcyODMwNDA0NTBiZmE2ZiA9ICQoYDxkaXYgaWQ9Imh0bWxfYzliYzFmYTc5ZDc3NDI3Nzg3MjgzMDQwNDUwYmZhNmYiIHN0eWxlPSJ3aWR0aDogMTAwLjAlOyBoZWlnaHQ6IDEwMC4wJTsiPjE1OTM5OTk3MTU8L2Rpdj5gKVswXTsKICAgICAgICAgICAgcG9wdXBfNTBkNjM0YjZkMWFlNDRhZjkzYTdmZjU1YmIyNjM0MzEuc2V0Q29udGVudChodG1sX2M5YmMxZmE3OWQ3NzQyNzc4NzI4MzA0MDQ1MGJmYTZmKTsKICAgICAgICAKCiAgICAgICAgbWFya2VyX2VmMTBjOTcwYTI2MTQyMzg4ZmU3NjY0NTdhMTFmMzM2LmJpbmRQb3B1cChwb3B1cF81MGQ2MzRiNmQxYWU0NGFmOTNhN2ZmNTViYjI2MzQzMSkKICAgICAgICA7CgogICAgICAgIAogICAgCiAgICAKICAgICAgICAgICAgbWFya2VyX2VmMTBjOTcwYTI2MTQyMzg4ZmU3NjY0NTdhMTFmMzM2LmJpbmRUb29sdGlwKAogICAgICAgICAgICAgICAgYDxkaXY+CiAgICAgICAgICAgICAgICAgICAgIDEgcm9vbXM8YnI+MTIyNjIuMCBVQUgKICAgICAgICAgICAgICAgICA8L2Rpdj5gLAogICAgICAgICAgICAgICAgeyJzdGlja3kiOiB0cnVlfQogICAgICAgICAgICApOwogICAgICAgIAogICAgCiAgICAgICAgICAgIHZhciBtYXJrZXJfNGE1NTRjNjNhNTVhNGQ5Y2E2ZDZlODNhYjFkM2RmMGEgPSBMLm1hcmtlcigKICAgICAgICAgICAgICAgIFs0OS44NDE0MDg5LCAyNC4wMzI1MDY3XSwKICAgICAgICAgICAgICAgIHt9CiAgICAgICAgICAgICkuYWRkVG8obWFwX2UwNzFhYTI3MzQxMzQ2ZmRiYWZkZTgxN2NmMDcyNjYyKTsKICAgICAgICAKICAgIAogICAgICAgICAgICB2YXIgaWNvbl9iYzRjZWE2M2EzMWE0ZmNlYjhiNGI5YTE2ZTlhZWNjYyA9IEwuQXdlc29tZU1hcmtlcnMuaWNvbigKICAgICAgICAgICAgICAgIHsiZXh0cmFDbGFzc2VzIjogImZhLXJvdGF0ZS0wIiwgImljb24iOiAiaW5mby1zaWduIiwgImljb25Db2xvciI6ICJ3aGl0ZSIsICJtYXJrZXJDb2xvciI6ICJibHVlIiwgInByZWZpeCI6ICJnbHlwaGljb24ifQogICAgICAgICAgICApOwogICAgICAgICAgICBtYXJrZXJfNGE1NTRjNjNhNTVhNGQ5Y2E2ZDZlODNhYjFkM2RmMGEuc2V0SWNvbihpY29uX2JjNGNlYTYzYTMxYTRmY2ViOGI0YjlhMTZlOWFlY2NjKTsKICAgICAgICAKICAgIAogICAgICAgIHZhciBwb3B1cF9lYWQ0MmU2NDJiY2Y0YzFhOWE1MGVhZDkzNWIyYjNjZSA9IEwucG9wdXAoeyJtYXhXaWR0aCI6ICIxMDAlIn0pOwoKICAgICAgICAKICAgICAgICAgICAgdmFyIGh0bWxfODBlNTM5NDRjZDM2NGE5NWJiNmZhNWRkM2NjZmMxZDYgPSAkKGA8ZGl2IGlkPSJodG1sXzgwZTUzOTQ0Y2QzNjRhOTViYjZmYTVkZDNjY2ZjMWQ2IiBzdHlsZT0id2lkdGg6IDEwMC4wJTsgaGVpZ2h0OiAxMDAuMCU7Ij4xNTkzOTk5NzEyPC9kaXY+YClbMF07CiAgICAgICAgICAgIHBvcHVwX2VhZDQyZTY0MmJjZjRjMWE5YTUwZWFkOTM1YjJiM2NlLnNldENvbnRlbnQoaHRtbF84MGU1Mzk0NGNkMzY0YTk1YmI2ZmE1ZGQzY2NmYzFkNik7CiAgICAgICAgCgogICAgICAgIG1hcmtlcl80YTU1NGM2M2E1NWE0ZDljYTZkNmU4M2FiMWQzZGYwYS5iaW5kUG9wdXAocG9wdXBfZWFkNDJlNjQyYmNmNGMxYTlhNTBlYWQ5MzViMmIzY2UpCiAgICAgICAgOwoKICAgICAgICAKICAgIAogICAgCiAgICAgICAgICAgIG1hcmtlcl80YTU1NGM2M2E1NWE0ZDljYTZkNmU4M2FiMWQzZGYwYS5iaW5kVG9vbHRpcCgKICAgICAgICAgICAgICAgIGA8ZGl2PgogICAgICAgICAgICAgICAgICAgICAyIHJvb21zPGJyPjE0OTg2LjAgVUFICiAgICAgICAgICAgICAgICAgPC9kaXY+YCwKICAgICAgICAgICAgICAgIHsic3RpY2t5IjogdHJ1ZX0KICAgICAgICAgICAgKTsKICAgICAgICAKICAgIAogICAgICAgICAgICB2YXIgbWFya2VyXzQzOGU0YmQzZWVlODQzZTdiMWE3YTQ2MTdlNzNlZThiID0gTC5tYXJrZXIoCiAgICAgICAgICAgICAgICBbNDkuODgwNTU3NDgxMzcwNjEsIDI0LjAzOTcyOTczMjg3NjIxXSwKICAgICAgICAgICAgICAgIHt9CiAgICAgICAgICAgICkuYWRkVG8obWFwX2UwNzFhYTI3MzQxMzQ2ZmRiYWZkZTgxN2NmMDcyNjYyKTsKICAgICAgICAKICAgIAogICAgICAgICAgICB2YXIgaWNvbl83ODQ4ZWQ5Y2RiM2M0NzFmODliNDE4YTA0ZWI5ZDZiYiA9IEwuQXdlc29tZU1hcmtlcnMuaWNvbigKICAgICAgICAgICAgICAgIHsiZXh0cmFDbGFzc2VzIjogImZhLXJvdGF0ZS0wIiwgImljb24iOiAiaW5mby1zaWduIiwgImljb25Db2xvciI6ICJ3aGl0ZSIsICJtYXJrZXJDb2xvciI6ICJibHVlIiwgInByZWZpeCI6ICJnbHlwaGljb24ifQogICAgICAgICAgICApOwogICAgICAgICAgICBtYXJrZXJfNDM4ZTRiZDNlZWU4NDNlN2IxYTdhNDYxN2U3M2VlOGIuc2V0SWNvbihpY29uXzc4NDhlZDljZGIzYzQ3MWY4OWI0MThhMDRlYjlkNmJiKTsKICAgICAgICAKICAgIAogICAgICAgIHZhciBwb3B1cF84YzhlYTk2ZWM1ZWE0NDMwYjBmNGIyYmQ5NGRiNTlhYiA9IEwucG9wdXAoeyJtYXhXaWR0aCI6ICIxMDAlIn0pOwoKICAgICAgICAKICAgICAgICAgICAgdmFyIGh0bWxfMTY2NzA2MWU5MmE5NDQ3NzliN2VjNDZjYTI2NjdhMTAgPSAkKGA8ZGl2IGlkPSJodG1sXzE2NjcwNjFlOTJhOTQ0Nzc5YjdlYzQ2Y2EyNjY3YTEwIiBzdHlsZT0id2lkdGg6IDEwMC4wJTsgaGVpZ2h0OiAxMDAuMCU7Ij4xNTkzOTk5MjUxPC9kaXY+YClbMF07CiAgICAgICAgICAgIHBvcHVwXzhjOGVhOTZlYzVlYTQ0MzBiMGY0YjJiZDk0ZGI1OWFiLnNldENvbnRlbnQoaHRtbF8xNjY3MDYxZTkyYTk0NDc3OWI3ZWM0NmNhMjY2N2ExMCk7CiAgICAgICAgCgogICAgICAgIG1hcmtlcl80MzhlNGJkM2VlZTg0M2U3YjFhN2E0NjE3ZTczZWU4Yi5iaW5kUG9wdXAocG9wdXBfOGM4ZWE5NmVjNWVhNDQzMGIwZjRiMmJkOTRkYjU5YWIpCiAgICAgICAgOwoKICAgICAgICAKICAgIAogICAgCiAgICAgICAgICAgIG1hcmtlcl80MzhlNGJkM2VlZTg0M2U3YjFhN2E0NjE3ZTczZWU4Yi5iaW5kVG9vbHRpcCgKICAgICAgICAgICAgICAgIGA8ZGl2PgogICAgICAgICAgICAgICAgICAgICAyIHJvb21zPGJyPjcwMDAuMCBVQUgKICAgICAgICAgICAgICAgICA8L2Rpdj5gLAogICAgICAgICAgICAgICAgeyJzdGlja3kiOiB0cnVlfQogICAgICAgICAgICApOwogICAgICAgIAogICAgCiAgICAgICAgICAgIHZhciBtYXJrZXJfMjg3ZWZlOTQ0ZGIzNDk1MGE5MmViMTI3NjM1NTY1NjYgPSBMLm1hcmtlcigKICAgICAgICAgICAgICAgIFs0OS44NDAxMjIwNzcyNzkxNTUsIDIzLjk3Nzc4MTQzMzQ3MDg3XSwKICAgICAgICAgICAgICAgIHt9CiAgICAgICAgICAgICkuYWRkVG8obWFwX2UwNzFhYTI3MzQxMzQ2ZmRiYWZkZTgxN2NmMDcyNjYyKTsKICAgICAgICAKICAgIAogICAgICAgICAgICB2YXIgaWNvbl81N2MxY2QwZGIzOWE0Y2YzOWNiY2U0ZTFlZmU0M2Y4OSA9IEwuQXdlc29tZU1hcmtlcnMuaWNvbigKICAgICAgICAgICAgICAgIHsiZXh0cmFDbGFzc2VzIjogImZhLXJvdGF0ZS0wIiwgImljb24iOiAiaW5mby1zaWduIiwgImljb25Db2xvciI6ICJ3aGl0ZSIsICJtYXJrZXJDb2xvciI6ICJ5ZWxsb3ciLCAicHJlZml4IjogImdseXBoaWNvbiJ9CiAgICAgICAgICAgICk7CiAgICAgICAgICAgIG1hcmtlcl8yODdlZmU5NDRkYjM0OTUwYTkyZWIxMjc2MzU1NjU2Ni5zZXRJY29uKGljb25fNTdjMWNkMGRiMzlhNGNmMzljYmNlNGUxZWZlNDNmODkpOwogICAgICAgIAogICAgCiAgICAgICAgdmFyIHBvcHVwXzBiZWJiYmJjY2MxODQ5YzY5ZmE5MjI4Y2QzNDEyNDgxID0gTC5wb3B1cCh7Im1heFdpZHRoIjogIjEwMCUifSk7CgogICAgICAgIAogICAgICAgICAgICB2YXIgaHRtbF83MTNlNzMxZmZiZmY0ZjRkOTZjNTM1MTZjYmJkNDk0ZCA9ICQoYDxkaXYgaWQ9Imh0bWxfNzEzZTczMWZmYmZmNGY0ZDk2YzUzNTE2Y2JiZDQ5NGQiIHN0eWxlPSJ3aWR0aDogMTAwLjAlOyBoZWlnaHQ6IDEwMC4wJTsiPjE1OTM5OTkyNDg8L2Rpdj5gKVswXTsKICAgICAgICAgICAgcG9wdXBfMGJlYmJiYmNjYzE4NDljNjlmYTkyMjhjZDM0MTI0ODEuc2V0Q29udGVudChodG1sXzcxM2U3MzFmZmJmZjRmNGQ5NmM1MzUxNmNiYmQ0OTRkKTsKICAgICAgICAKCiAgICAgICAgbWFya2VyXzI4N2VmZTk0NGRiMzQ5NTBhOTJlYjEyNzYzNTU2NTY2LmJpbmRQb3B1cChwb3B1cF8wYmViYmJiY2NjMTg0OWM2OWZhOTIyOGNkMzQxMjQ4MSkKICAgICAgICA7CgogICAgICAgIAogICAgCiAgICAKICAgICAgICAgICAgbWFya2VyXzI4N2VmZTk0NGRiMzQ5NTBhOTJlYjEyNzYzNTU2NTY2LmJpbmRUb29sdGlwKAogICAgICAgICAgICAgICAgYDxkaXY+CiAgICAgICAgICAgICAgICAgICAgIDMgcm9vbXM8YnI+ODAwMC4wIFVBSAogICAgICAgICAgICAgICAgIDwvZGl2PmAsCiAgICAgICAgICAgICAgICB7InN0aWNreSI6IHRydWV9CiAgICAgICAgICAgICk7CiAgICAgICAgCiAgICAKICAgICAgICAgICAgdmFyIG1hcmtlcl8xNzcyNjU2N2FhNTk0OGYxYWU5MmFkNzhhZTBlZGM4MyA9IEwubWFya2VyKAogICAgICAgICAgICAgICAgWzQ5Ljg1OTQ5ODgxNjU1NCwgMjQuMDE4OTIyMTIxNjg5MDAyXSwKICAgICAgICAgICAgICAgIHt9CiAgICAgICAgICAgICkuYWRkVG8obWFwX2UwNzFhYTI3MzQxMzQ2ZmRiYWZkZTgxN2NmMDcyNjYyKTsKICAgICAgICAKICAgIAogICAgICAgICAgICB2YXIgaWNvbl9lZjliNTA4MDY1M2Y0ZDk1OGQyZmExNTc0NTc1N2IyZSA9IEwuQXdlc29tZU1hcmtlcnMuaWNvbigKICAgICAgICAgICAgICAgIHsiZXh0cmFDbGFzc2VzIjogImZhLXJvdGF0ZS0wIiwgImljb24iOiAiaW5mby1zaWduIiwgImljb25Db2xvciI6ICJ3aGl0ZSIsICJtYXJrZXJDb2xvciI6ICJncmVlbiIsICJwcmVmaXgiOiAiZ2x5cGhpY29uIn0KICAgICAgICAgICAgKTsKICAgICAgICAgICAgbWFya2VyXzE3NzI2NTY3YWE1OTQ4ZjFhZTkyYWQ3OGFlMGVkYzgzLnNldEljb24oaWNvbl9lZjliNTA4MDY1M2Y0ZDk1OGQyZmExNTc0NTc1N2IyZSk7CiAgICAgICAgCiAgICAKICAgICAgICB2YXIgcG9wdXBfMDc0ZjAzMzdlZWY0NGUwMGExY2MyZjJjMjhiNDFkN2YgPSBMLnBvcHVwKHsibWF4V2lkdGgiOiAiMTAwJSJ9KTsKCiAgICAgICAgCiAgICAgICAgICAgIHZhciBodG1sXzJiMjczNzVhNDgyYjQ5M2U5MWY5NTA3OTZlNDU1YjljID0gJChgPGRpdiBpZD0iaHRtbF8yYjI3Mzc1YTQ4MmI0OTNlOTFmOTUwNzk2ZTQ1NWI5YyIgc3R5bGU9IndpZHRoOiAxMDAuMCU7IGhlaWdodDogMTAwLjAlOyI+MTU5Mzk5Njk0NTwvZGl2PmApWzBdOwogICAgICAgICAgICBwb3B1cF8wNzRmMDMzN2VlZjQ0ZTAwYTFjYzJmMmMyOGI0MWQ3Zi5zZXRDb250ZW50KGh0bWxfMmIyNzM3NWE0ODJiNDkzZTkxZjk1MDc5NmU0NTViOWMpOwogICAgICAgIAoKICAgICAgICBtYXJrZXJfMTc3MjY1NjdhYTU5NDhmMWFlOTJhZDc4YWUwZWRjODMuYmluZFBvcHVwKHBvcHVwXzA3NGYwMzM3ZWVmNDRlMDBhMWNjMmYyYzI4YjQxZDdmKQogICAgICAgIDsKCiAgICAgICAgCiAgICAKICAgIAogICAgICAgICAgICBtYXJrZXJfMTc3MjY1NjdhYTU5NDhmMWFlOTJhZDc4YWUwZWRjODMuYmluZFRvb2x0aXAoCiAgICAgICAgICAgICAgICBgPGRpdj4KICAgICAgICAgICAgICAgICAgICAgMSByb29tczxicj4xMTAwMC4wIFVBSAogICAgICAgICAgICAgICAgIDwvZGl2PmAsCiAgICAgICAgICAgICAgICB7InN0aWNreSI6IHRydWV9CiAgICAgICAgICAgICk7CiAgICAgICAgCiAgICAKICAgICAgICAgICAgdmFyIG1hcmtlcl8xNmUwYmU2YmM0OGM0NTk5YWQzMmYxZjk4N2M1YmQ0NCA9IEwubWFya2VyKAogICAgICAgICAgICAgICAgWzQ5LjgyMTA4OCwgMjQuMDU3MTAzXSwKICAgICAgICAgICAgICAgIHt9CiAgICAgICAgICAgICkuYWRkVG8obWFwX2UwNzFhYTI3MzQxMzQ2ZmRiYWZkZTgxN2NmMDcyNjYyKTsKICAgICAgICAKICAgIAogICAgICAgICAgICB2YXIgaWNvbl84YTcxNGJiNTQ2N2Q0NzI1YmU0YWFmOTU1MWUyNWJhYiA9IEwuQXdlc29tZU1hcmtlcnMuaWNvbigKICAgICAgICAgICAgICAgIHsiZXh0cmFDbGFzc2VzIjogImZhLXJvdGF0ZS0wIiwgImljb24iOiAiaW5mby1zaWduIiwgImljb25Db2xvciI6ICJ3aGl0ZSIsICJtYXJrZXJDb2xvciI6ICJncmVlbiIsICJwcmVmaXgiOiAiZ2x5cGhpY29uIn0KICAgICAgICAgICAgKTsKICAgICAgICAgICAgbWFya2VyXzE2ZTBiZTZiYzQ4YzQ1OTlhZDMyZjFmOTg3YzViZDQ0LnNldEljb24oaWNvbl84YTcxNGJiNTQ2N2Q0NzI1YmU0YWFmOTU1MWUyNWJhYik7CiAgICAgICAgCiAgICAKICAgICAgICB2YXIgcG9wdXBfZDMxOWRjNTQxMTJkNDNiMGEwODBjZmUwZTZlYjNiMTMgPSBMLnBvcHVwKHsibWF4V2lkdGgiOiAiMTAwJSJ9KTsKCiAgICAgICAgCiAgICAgICAgICAgIHZhciBodG1sXzAzZTk5MjgyZmRiYTRiNzA5YzhkOWQ3ZWFlY2ViMTExID0gJChgPGRpdiBpZD0iaHRtbF8wM2U5OTI4MmZkYmE0YjcwOWM4ZDlkN2VhZWNlYjExMSIgc3R5bGU9IndpZHRoOiAxMDAuMCU7IGhlaWdodDogMTAwLjAlOyI+MTU5Mzk2ODAzOTwvZGl2PmApWzBdOwogICAgICAgICAgICBwb3B1cF9kMzE5ZGM1NDExMmQ0M2IwYTA4MGNmZTBlNmViM2IxMy5zZXRDb250ZW50KGh0bWxfMDNlOTkyODJmZGJhNGI3MDljOGQ5ZDdlYWVjZWIxMTEpOwogICAgICAgIAoKICAgICAgICBtYXJrZXJfMTZlMGJlNmJjNDhjNDU5OWFkMzJmMWY5ODdjNWJkNDQuYmluZFBvcHVwKHBvcHVwX2QzMTlkYzU0MTEyZDQzYjBhMDgwY2ZlMGU2ZWIzYjEzKQogICAgICAgIDsKCiAgICAgICAgCiAgICAKICAgIAogICAgICAgICAgICBtYXJrZXJfMTZlMGJlNmJjNDhjNDU5OWFkMzJmMWY5ODdjNWJkNDQuYmluZFRvb2x0aXAoCiAgICAgICAgICAgICAgICBgPGRpdj4KICAgICAgICAgICAgICAgICAgICAgMSByb29tczxicj45MDAwLjAgVUFICiAgICAgICAgICAgICAgICAgPC9kaXY+YCwKICAgICAgICAgICAgICAgIHsic3RpY2t5IjogdHJ1ZX0KICAgICAgICAgICAgKTsKICAgICAgICAKICAgIAogICAgICAgICAgICB2YXIgbWFya2VyXzE3ODk3OTIxODQzYjQwMjdhNGEyOTU0NGZlNTgyZmViID0gTC5tYXJrZXIoCiAgICAgICAgICAgICAgICBbNDkuODExMjQ1NCwgMjQuMDQzODA2NjAwMDAwMDAzXSwKICAgICAgICAgICAgICAgIHt9CiAgICAgICAgICAgICkuYWRkVG8obWFwX2UwNzFhYTI3MzQxMzQ2ZmRiYWZkZTgxN2NmMDcyNjYyKTsKICAgICAgICAKICAgIAogICAgICAgICAgICB2YXIgaWNvbl82ZDBiNDgwNDQxNTc0NDVhODMyNjc2ODQ4NzM1ZWE0NSA9IEwuQXdlc29tZU1hcmtlcnMuaWNvbigKICAgICAgICAgICAgICAgIHsiZXh0cmFDbGFzc2VzIjogImZhLXJvdGF0ZS0wIiwgImljb24iOiAiaW5mby1zaWduIiwgImljb25Db2xvciI6ICJ3aGl0ZSIsICJtYXJrZXJDb2xvciI6ICJ5ZWxsb3ciLCAicHJlZml4IjogImdseXBoaWNvbiJ9CiAgICAgICAgICAgICk7CiAgICAgICAgICAgIG1hcmtlcl8xNzg5NzkyMTg0M2I0MDI3YTRhMjk1NDRmZTU4MmZlYi5zZXRJY29uKGljb25fNmQwYjQ4MDQ0MTU3NDQ1YTgzMjY3Njg0ODczNWVhNDUpOwogICAgICAgIAogICAgCiAgICAgICAgdmFyIHBvcHVwX2FiNmYzZDVhZmJjNjRjNTg4ZWQ3MjVlZWJiM2NlMjg3ID0gTC5wb3B1cCh7Im1heFdpZHRoIjogIjEwMCUifSk7CgogICAgICAgIAogICAgICAgICAgICB2YXIgaHRtbF9iZDI3MTVmY2Y1ZDk0ZTU2ODI0MzMxZTQ2YWI5YWZmZiA9ICQoYDxkaXYgaWQ9Imh0bWxfYmQyNzE1ZmNmNWQ5NGU1NjgyNDMzMWU0NmFiOWFmZmYiIHN0eWxlPSJ3aWR0aDogMTAwLjAlOyBoZWlnaHQ6IDEwMC4wJTsiPjE1OTM5NTUzODc8L2Rpdj5gKVswXTsKICAgICAgICAgICAgcG9wdXBfYWI2ZjNkNWFmYmM2NGM1ODhlZDcyNWVlYmIzY2UyODcuc2V0Q29udGVudChodG1sX2JkMjcxNWZjZjVkOTRlNTY4MjQzMzFlNDZhYjlhZmZmKTsKICAgICAgICAKCiAgICAgICAgbWFya2VyXzE3ODk3OTIxODQzYjQwMjdhNGEyOTU0NGZlNTgyZmViLmJpbmRQb3B1cChwb3B1cF9hYjZmM2Q1YWZiYzY0YzU4OGVkNzI1ZWViYjNjZTI4NykKICAgICAgICA7CgogICAgICAgIAogICAgCiAgICAKICAgICAgICAgICAgbWFya2VyXzE3ODk3OTIxODQzYjQwMjdhNGEyOTU0NGZlNTgyZmViLmJpbmRUb29sdGlwKAogICAgICAgICAgICAgICAgYDxkaXY+CiAgICAgICAgICAgICAgICAgICAgIDMgcm9vbXM8YnI+MTM2MjQuMCBVQUgKICAgICAgICAgICAgICAgICA8L2Rpdj5gLAogICAgICAgICAgICAgICAgeyJzdGlja3kiOiB0cnVlfQogICAgICAgICAgICApOwogICAgICAgIAogICAgCiAgICAgICAgICAgIHZhciBmZWF0dXJlX2dyb3VwX2IzMThjNTg3NzVjNjQ2MTc4MWY4OTBmYTIzMDkwYmJkID0gTC5mZWF0dXJlR3JvdXAoCiAgICAgICAgICAgICAgICB7fQogICAgICAgICAgICApLmFkZFRvKG1hcF9lMDcxYWEyNzM0MTM0NmZkYmFmZGU4MTdjZjA3MjY2Mik7CiAgICAgICAgCjwvc2NyaXB0Pg== onload=\"this.contentDocument.open();this.contentDocument.write(atob(this.getAttribute('data-html')));this.contentDocument.close();\" allowfullscreen webkitallowfullscreen mozallowfullscreen></iframe></div></div>"
      ],
      "text/plain": [
       "<folium.folium.Map at 0x2391899b808>"
      ]
     },
     "execution_count": 604,
     "metadata": {},
     "output_type": "execute_result"
    }
   ],
   "source": [
    "p = df[['rangeFactorNew', 'longitude', 'latitude', 'rooms_count', 'price_uah']].query('longitude != \"NaN\" & latitude != \"NaN\"')\n",
    "\n",
    "# create a Stamen Toner map of the world centered around Lviv, UA\n",
    "lviv_map = folium.Map(location=[ 49.83, 24.05 ], zoom_start=12, tiles='Stamen Terrain')\n",
    "\n",
    "# instantiate a feature group for the incidents in the dataframe\n",
    "incidents = folium.map.FeatureGroup()\n",
    "\n",
    "# loop through the 100 crimes and add each to the incidents feature group\n",
    "for lat, lng, id, num, price in zip(p.latitude, p.longitude, p.rangeFactorNew, p.rooms_count, p.price_uah):\n",
    "    folium.Marker(\n",
    "        location = [lat, lng],\n",
    "        popup = id, \n",
    "        tooltip = str(num) + \" rooms<br>\" + str(price) + \" UAH\",\n",
    "        icon = folium.Icon(color=get_color(num))\n",
    "    ).add_to(lviv_map)\n",
    "\n",
    "# add incidents to map\n",
    "lviv_map.add_child(incidents)"
   ]
  },
  {
   "cell_type": "markdown",
   "metadata": {},
   "source": [
    "### Uncovering insights"
   ]
  },
  {
   "cell_type": "code",
   "execution_count": 605,
   "metadata": {},
   "outputs": [
    {
     "name": "stderr",
     "output_type": "stream",
     "text": [
      "C:\\ProgramData\\Anaconda3\\lib\\site-packages\\ipykernel_launcher.py:2: SettingWithCopyWarning: \n",
      "A value is trying to be set on a copy of a slice from a DataFrame.\n",
      "Try using .loc[row_indexer,col_indexer] = value instead\n",
      "\n",
      "See the caveats in the documentation: https://pandas.pydata.org/pandas-docs/stable/user_guide/indexing.html#returning-a-view-versus-a-copy\n",
      "  \n"
     ]
    }
   ],
   "source": [
    "ds = df[['total_square_meters','rooms_count', 'price_usd']]\n",
    "ds['roi'] = 100 * ds['total_square_meters']/ds['price_usd']"
   ]
  },
  {
   "cell_type": "code",
   "execution_count": 606,
   "metadata": {},
   "outputs": [
    {
     "data": {
      "text/html": [
       "<div>\n",
       "<style scoped>\n",
       "    .dataframe tbody tr th:only-of-type {\n",
       "        vertical-align: middle;\n",
       "    }\n",
       "\n",
       "    .dataframe tbody tr th {\n",
       "        vertical-align: top;\n",
       "    }\n",
       "\n",
       "    .dataframe thead th {\n",
       "        text-align: right;\n",
       "    }\n",
       "</style>\n",
       "<table border=\"1\" class=\"dataframe\">\n",
       "  <thead>\n",
       "    <tr style=\"text-align: right;\">\n",
       "      <th></th>\n",
       "      <th>total_square_meters</th>\n",
       "      <th>price_usd</th>\n",
       "      <th>roi</th>\n",
       "    </tr>\n",
       "    <tr>\n",
       "      <th>rooms_count</th>\n",
       "      <th></th>\n",
       "      <th></th>\n",
       "      <th></th>\n",
       "    </tr>\n",
       "  </thead>\n",
       "  <tbody>\n",
       "    <tr>\n",
       "      <th>1</th>\n",
       "      <td>21.0</td>\n",
       "      <td>110.0</td>\n",
       "      <td>5.333333</td>\n",
       "    </tr>\n",
       "    <tr>\n",
       "      <th>2</th>\n",
       "      <td>34.0</td>\n",
       "      <td>110.0</td>\n",
       "      <td>6.500000</td>\n",
       "    </tr>\n",
       "    <tr>\n",
       "      <th>3</th>\n",
       "      <td>50.0</td>\n",
       "      <td>200.0</td>\n",
       "      <td>5.461538</td>\n",
       "    </tr>\n",
       "    <tr>\n",
       "      <th>4</th>\n",
       "      <td>71.0</td>\n",
       "      <td>294.0</td>\n",
       "      <td>7.400000</td>\n",
       "    </tr>\n",
       "    <tr>\n",
       "      <th>5</th>\n",
       "      <td>130.0</td>\n",
       "      <td>440.0</td>\n",
       "      <td>13.250000</td>\n",
       "    </tr>\n",
       "    <tr>\n",
       "      <th>6</th>\n",
       "      <td>170.0</td>\n",
       "      <td>1500.0</td>\n",
       "      <td>11.333333</td>\n",
       "    </tr>\n",
       "  </tbody>\n",
       "</table>\n",
       "</div>"
      ],
      "text/plain": [
       "             total_square_meters  price_usd        roi\n",
       "rooms_count                                           \n",
       "1                           21.0      110.0   5.333333\n",
       "2                           34.0      110.0   6.500000\n",
       "3                           50.0      200.0   5.461538\n",
       "4                           71.0      294.0   7.400000\n",
       "5                          130.0      440.0  13.250000\n",
       "6                          170.0     1500.0  11.333333"
      ]
     },
     "execution_count": 606,
     "metadata": {},
     "output_type": "execute_result"
    }
   ],
   "source": [
    "ds.groupby('rooms_count').min()"
   ]
  },
  {
   "cell_type": "code",
   "execution_count": 607,
   "metadata": {},
   "outputs": [
    {
     "data": {
      "text/html": [
       "<div>\n",
       "<style scoped>\n",
       "    .dataframe tbody tr th:only-of-type {\n",
       "        vertical-align: middle;\n",
       "    }\n",
       "\n",
       "    .dataframe tbody tr th {\n",
       "        vertical-align: top;\n",
       "    }\n",
       "\n",
       "    .dataframe thead th {\n",
       "        text-align: right;\n",
       "    }\n",
       "</style>\n",
       "<table border=\"1\" class=\"dataframe\">\n",
       "  <thead>\n",
       "    <tr style=\"text-align: right;\">\n",
       "      <th></th>\n",
       "      <th>total_square_meters</th>\n",
       "      <th>price_usd</th>\n",
       "      <th>roi</th>\n",
       "    </tr>\n",
       "    <tr>\n",
       "      <th>rooms_count</th>\n",
       "      <th></th>\n",
       "      <th></th>\n",
       "      <th></th>\n",
       "    </tr>\n",
       "  </thead>\n",
       "  <tbody>\n",
       "    <tr>\n",
       "      <th>1</th>\n",
       "      <td>39.960750</td>\n",
       "      <td>301.934837</td>\n",
       "      <td>13.730130</td>\n",
       "    </tr>\n",
       "    <tr>\n",
       "      <th>2</th>\n",
       "      <td>56.858389</td>\n",
       "      <td>347.185682</td>\n",
       "      <td>17.277219</td>\n",
       "    </tr>\n",
       "    <tr>\n",
       "      <th>3</th>\n",
       "      <td>80.511628</td>\n",
       "      <td>474.054264</td>\n",
       "      <td>19.062194</td>\n",
       "    </tr>\n",
       "    <tr>\n",
       "      <th>4</th>\n",
       "      <td>113.263158</td>\n",
       "      <td>928.368421</td>\n",
       "      <td>14.977352</td>\n",
       "    </tr>\n",
       "    <tr>\n",
       "      <th>5</th>\n",
       "      <td>163.000000</td>\n",
       "      <td>813.333333</td>\n",
       "      <td>22.598485</td>\n",
       "    </tr>\n",
       "    <tr>\n",
       "      <th>6</th>\n",
       "      <td>170.000000</td>\n",
       "      <td>1500.000000</td>\n",
       "      <td>11.333333</td>\n",
       "    </tr>\n",
       "  </tbody>\n",
       "</table>\n",
       "</div>"
      ],
      "text/plain": [
       "             total_square_meters    price_usd        roi\n",
       "rooms_count                                             \n",
       "1                      39.960750   301.934837  13.730130\n",
       "2                      56.858389   347.185682  17.277219\n",
       "3                      80.511628   474.054264  19.062194\n",
       "4                     113.263158   928.368421  14.977352\n",
       "5                     163.000000   813.333333  22.598485\n",
       "6                     170.000000  1500.000000  11.333333"
      ]
     },
     "execution_count": 607,
     "metadata": {},
     "output_type": "execute_result"
    }
   ],
   "source": [
    "ds.groupby('rooms_count').mean()"
   ]
  },
  {
   "cell_type": "code",
   "execution_count": 608,
   "metadata": {},
   "outputs": [
    {
     "data": {
      "text/html": [
       "<div>\n",
       "<style scoped>\n",
       "    .dataframe tbody tr th:only-of-type {\n",
       "        vertical-align: middle;\n",
       "    }\n",
       "\n",
       "    .dataframe tbody tr th {\n",
       "        vertical-align: top;\n",
       "    }\n",
       "\n",
       "    .dataframe thead th {\n",
       "        text-align: right;\n",
       "    }\n",
       "</style>\n",
       "<table border=\"1\" class=\"dataframe\">\n",
       "  <thead>\n",
       "    <tr style=\"text-align: right;\">\n",
       "      <th></th>\n",
       "      <th>total_square_meters</th>\n",
       "      <th>price_usd</th>\n",
       "      <th>roi</th>\n",
       "    </tr>\n",
       "    <tr>\n",
       "      <th>rooms_count</th>\n",
       "      <th></th>\n",
       "      <th></th>\n",
       "      <th></th>\n",
       "    </tr>\n",
       "  </thead>\n",
       "  <tbody>\n",
       "    <tr>\n",
       "      <th>1</th>\n",
       "      <td>150.0</td>\n",
       "      <td>1200.0</td>\n",
       "      <td>36.363636</td>\n",
       "    </tr>\n",
       "    <tr>\n",
       "      <th>2</th>\n",
       "      <td>125.0</td>\n",
       "      <td>1000.0</td>\n",
       "      <td>30.909091</td>\n",
       "    </tr>\n",
       "    <tr>\n",
       "      <th>3</th>\n",
       "      <td>154.0</td>\n",
       "      <td>1500.0</td>\n",
       "      <td>30.000000</td>\n",
       "    </tr>\n",
       "    <tr>\n",
       "      <th>4</th>\n",
       "      <td>187.0</td>\n",
       "      <td>1800.0</td>\n",
       "      <td>25.688073</td>\n",
       "    </tr>\n",
       "    <tr>\n",
       "      <th>5</th>\n",
       "      <td>200.0</td>\n",
       "      <td>1200.0</td>\n",
       "      <td>29.545455</td>\n",
       "    </tr>\n",
       "    <tr>\n",
       "      <th>6</th>\n",
       "      <td>170.0</td>\n",
       "      <td>1500.0</td>\n",
       "      <td>11.333333</td>\n",
       "    </tr>\n",
       "  </tbody>\n",
       "</table>\n",
       "</div>"
      ],
      "text/plain": [
       "             total_square_meters  price_usd        roi\n",
       "rooms_count                                           \n",
       "1                          150.0     1200.0  36.363636\n",
       "2                          125.0     1000.0  30.909091\n",
       "3                          154.0     1500.0  30.000000\n",
       "4                          187.0     1800.0  25.688073\n",
       "5                          200.0     1200.0  29.545455\n",
       "6                          170.0     1500.0  11.333333"
      ]
     },
     "execution_count": 608,
     "metadata": {},
     "output_type": "execute_result"
    }
   ],
   "source": [
    "ds.groupby('rooms_count').max()"
   ]
  },
  {
   "cell_type": "markdown",
   "metadata": {},
   "source": [
    "### Take away"
   ]
  },
  {
   "cell_type": "markdown",
   "metadata": {},
   "source": [
    "* Vast majority of data (3/4) belongs to single agency\n",
    "* Vast majority of data - private sector, only a handful of records - commercial\n",
    "* Four-room appartments are on the verge of statistical error\n"
   ]
  },
  {
   "cell_type": "code",
   "execution_count": null,
   "metadata": {},
   "outputs": [],
   "source": []
  },
  {
   "cell_type": "code",
   "execution_count": null,
   "metadata": {},
   "outputs": [],
   "source": []
  }
 ],
 "metadata": {
  "kernelspec": {
   "display_name": "Python 3",
   "language": "python",
   "name": "python3"
  },
  "language_info": {
   "codemirror_mode": {
    "name": "ipython",
    "version": 3
   },
   "file_extension": ".py",
   "mimetype": "text/x-python",
   "name": "python",
   "nbconvert_exporter": "python",
   "pygments_lexer": "ipython3",
   "version": "3.7.6"
  }
 },
 "nbformat": 4,
 "nbformat_minor": 4
}
